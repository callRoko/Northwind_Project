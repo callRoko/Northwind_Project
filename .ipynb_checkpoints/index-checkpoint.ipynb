{
 "cells": [
  {
   "cell_type": "markdown",
   "metadata": {},
   "source": [
    "# Northwind Database Project"
   ]
  },
  {
   "cell_type": "markdown",
   "metadata": {},
   "source": [
    "Northwind Co. Sales Analysis <br>\n",
    "Name: Hazel Donaldson <br>\n",
    "Due Date: 8/26/2019 <br>"
   ]
  },
  {
   "cell_type": "markdown",
   "metadata": {},
   "source": [
    "# Project Overview:"
   ]
  },
  {
   "cell_type": "markdown",
   "metadata": {},
   "source": [
    "For this project, I will be exploring data provided by my client, Northwind, containing company wide sales data on a range of projects. The goal is to derive a significance of discounts on overall sales as well as additional business recommendations based on the results of EDA."
   ]
  },
  {
   "cell_type": "markdown",
   "metadata": {},
   "source": [
    "## Obtain Data/Import Libraries"
   ]
  },
  {
   "cell_type": "code",
   "execution_count": 1,
   "metadata": {},
   "outputs": [],
   "source": [
    "#import libraries here\n",
    "import sqlite3\n",
    "import sqlalchemy\n",
    "from sqlalchemy import create_engine\n",
    "from sqlalchemy.orm import Session, sessionmaker\n",
    "import pandas as pd\n",
    "import numpy as np\n",
    "import matplotlib.pyplot as plt\n",
    "import seaborn as sns\n",
    "import scipy.stats as stats\n",
    "import statsmodels.api as sm\n",
    "from statsmodels.formula.api import ols\n",
    "from statsmodels.stats.multicomp import pairwise_tukeyhsd\n",
    "from statsmodels.stats.multicomp import MultiComparison\n",
    "from collections import Counter\n",
    "import itertools\n"
   ]
  },
  {
   "cell_type": "code",
   "execution_count": 2,
   "metadata": {},
   "outputs": [],
   "source": [
    "#define functions\n",
    "\n",
    "#population mean\n",
    "def calculate_mu(x):\n",
    "    mu = float(sum(x.values)/len(x))\n",
    "    return mu\n",
    "# Create tables from database\n",
    "def get_column_info(table):\n",
    "    cols_list = inspector.get_columns(table)\n",
    "    print('')\n",
    "    print('-----------------------------------------------------------------------')\n",
    "    print(f'Table Name: {table}, Primary Key: {inspector.get_primary_keys(table)}')\n",
    "    print('------------------------------------------------------------------------')\n",
    "    print('')\n",
    "    for column in cols_list:\n",
    "         print(f\"Column Name: {column['name']}, Column Type: {column['type']}\")\n",
    "\n",
    "#Cohen's d\n",
    "def cohen_d(group1, group2):\n",
    "               \n",
    "    diff = group1.mean() - group2.mean()\n",
    "    n1, n2 = len(group1), len(group2)\n",
    "    var1 = group1.var()\n",
    "    var2 = group2.var()\n",
    "    # Calculate the pooled threshold as shown earlier\n",
    "    pooled_var = (n1 * var1 + n2 * var2) / (n1 + n2)\n",
    "    # Calculate Cohen's d statistic\n",
    "    d = diff / np.sqrt(pooled_var)\n",
    "    return abs(d)"
   ]
  },
  {
   "cell_type": "code",
   "execution_count": 3,
   "metadata": {},
   "outputs": [],
   "source": [
    "#alternative\n",
    "engine = create_engine('sqlite:///Northwind_small.sqlite', echo = True)\n",
    "Session = sessionmaker(bind=engine)\n",
    "session = Session()"
   ]
  },
  {
   "cell_type": "code",
   "execution_count": 4,
   "metadata": {},
   "outputs": [
    {
     "name": "stdout",
     "output_type": "stream",
     "text": [
      "2019-08-19 09:03:29,422 INFO sqlalchemy.engine.base.Engine SELECT CAST('test plain returns' AS VARCHAR(60)) AS anon_1\n",
      "2019-08-19 09:03:29,427 INFO sqlalchemy.engine.base.Engine ()\n",
      "2019-08-19 09:03:29,430 INFO sqlalchemy.engine.base.Engine SELECT CAST('test unicode returns' AS VARCHAR(60)) AS anon_1\n",
      "2019-08-19 09:03:29,430 INFO sqlalchemy.engine.base.Engine ()\n",
      "2019-08-19 09:03:29,435 INFO sqlalchemy.engine.base.Engine SELECT name FROM sqlite_master WHERE type='table' ORDER BY name\n",
      "2019-08-19 09:03:29,436 INFO sqlalchemy.engine.base.Engine ()\n",
      "['Category', 'Customer', 'CustomerCustomerDemo', 'CustomerDemographic', 'Employee', 'EmployeeTerritory', 'Order', 'OrderDetail', 'Product', 'Region', 'Shipper', 'Supplier', 'Territory']\n"
     ]
    }
   ],
   "source": [
    "from sqlalchemy import inspect\n",
    "inspector = inspect(engine)\n",
    "\n",
    "print(inspector.get_table_names())"
   ]
  },
  {
   "cell_type": "code",
   "execution_count": 5,
   "metadata": {
    "scrolled": true
   },
   "outputs": [
    {
     "name": "stdout",
     "output_type": "stream",
     "text": [
      "2019-08-19 09:03:35,753 INFO sqlalchemy.engine.base.Engine PRAGMA table_info(\"Category\")\n",
      "2019-08-19 09:03:35,754 INFO sqlalchemy.engine.base.Engine ()\n",
      "\n",
      "-----------------------------------------------------------------------\n",
      "2019-08-19 09:03:35,776 INFO sqlalchemy.engine.base.Engine SELECT sql FROM  (SELECT * FROM sqlite_master UNION ALL   SELECT * FROM sqlite_temp_master) WHERE name = 'Category' AND type = 'table'\n",
      "2019-08-19 09:03:35,777 INFO sqlalchemy.engine.base.Engine ()\n",
      "Table Name: Category, Primary Key: ['Id']\n",
      "------------------------------------------------------------------------\n",
      "\n",
      "Column Name: Id, Column Type: INTEGER\n",
      "Column Name: CategoryName, Column Type: VARCHAR(8000)\n",
      "Column Name: Description, Column Type: VARCHAR(8000)\n",
      "None\n",
      "2019-08-19 09:03:35,782 INFO sqlalchemy.engine.base.Engine PRAGMA table_info(\"Customer\")\n",
      "2019-08-19 09:03:35,784 INFO sqlalchemy.engine.base.Engine ()\n",
      "\n",
      "-----------------------------------------------------------------------\n",
      "2019-08-19 09:03:35,788 INFO sqlalchemy.engine.base.Engine SELECT sql FROM  (SELECT * FROM sqlite_master UNION ALL   SELECT * FROM sqlite_temp_master) WHERE name = 'Customer' AND type = 'table'\n",
      "2019-08-19 09:03:35,789 INFO sqlalchemy.engine.base.Engine ()\n",
      "Table Name: Customer, Primary Key: ['Id']\n",
      "------------------------------------------------------------------------\n",
      "\n",
      "Column Name: Id, Column Type: VARCHAR(8000)\n",
      "Column Name: CompanyName, Column Type: VARCHAR(8000)\n",
      "Column Name: ContactName, Column Type: VARCHAR(8000)\n",
      "Column Name: ContactTitle, Column Type: VARCHAR(8000)\n",
      "Column Name: Address, Column Type: VARCHAR(8000)\n",
      "Column Name: City, Column Type: VARCHAR(8000)\n",
      "Column Name: Region, Column Type: VARCHAR(8000)\n",
      "Column Name: PostalCode, Column Type: VARCHAR(8000)\n",
      "Column Name: Country, Column Type: VARCHAR(8000)\n",
      "Column Name: Phone, Column Type: VARCHAR(8000)\n",
      "Column Name: Fax, Column Type: VARCHAR(8000)\n",
      "None\n",
      "2019-08-19 09:03:35,797 INFO sqlalchemy.engine.base.Engine PRAGMA table_info(\"CustomerCustomerDemo\")\n",
      "2019-08-19 09:03:35,798 INFO sqlalchemy.engine.base.Engine ()\n",
      "\n",
      "-----------------------------------------------------------------------\n",
      "2019-08-19 09:03:35,802 INFO sqlalchemy.engine.base.Engine SELECT sql FROM  (SELECT * FROM sqlite_master UNION ALL   SELECT * FROM sqlite_temp_master) WHERE name = 'CustomerCustomerDemo' AND type = 'table'\n",
      "2019-08-19 09:03:35,804 INFO sqlalchemy.engine.base.Engine ()\n",
      "Table Name: CustomerCustomerDemo, Primary Key: ['Id']\n",
      "------------------------------------------------------------------------\n",
      "\n",
      "Column Name: Id, Column Type: VARCHAR(8000)\n",
      "Column Name: CustomerTypeId, Column Type: VARCHAR(8000)\n",
      "None\n",
      "2019-08-19 09:03:35,807 INFO sqlalchemy.engine.base.Engine PRAGMA table_info(\"CustomerDemographic\")\n",
      "2019-08-19 09:03:35,808 INFO sqlalchemy.engine.base.Engine ()\n",
      "\n",
      "-----------------------------------------------------------------------\n",
      "2019-08-19 09:03:35,812 INFO sqlalchemy.engine.base.Engine SELECT sql FROM  (SELECT * FROM sqlite_master UNION ALL   SELECT * FROM sqlite_temp_master) WHERE name = 'CustomerDemographic' AND type = 'table'\n",
      "2019-08-19 09:03:35,813 INFO sqlalchemy.engine.base.Engine ()\n",
      "Table Name: CustomerDemographic, Primary Key: ['Id']\n",
      "------------------------------------------------------------------------\n",
      "\n",
      "Column Name: Id, Column Type: VARCHAR(8000)\n",
      "Column Name: CustomerDesc, Column Type: VARCHAR(8000)\n",
      "None\n",
      "2019-08-19 09:03:35,818 INFO sqlalchemy.engine.base.Engine PRAGMA table_info(\"Employee\")\n",
      "2019-08-19 09:03:35,820 INFO sqlalchemy.engine.base.Engine ()\n",
      "\n",
      "-----------------------------------------------------------------------\n",
      "2019-08-19 09:03:35,824 INFO sqlalchemy.engine.base.Engine SELECT sql FROM  (SELECT * FROM sqlite_master UNION ALL   SELECT * FROM sqlite_temp_master) WHERE name = 'Employee' AND type = 'table'\n",
      "2019-08-19 09:03:35,825 INFO sqlalchemy.engine.base.Engine ()\n",
      "Table Name: Employee, Primary Key: ['Id']\n",
      "------------------------------------------------------------------------\n",
      "\n",
      "Column Name: Id, Column Type: INTEGER\n",
      "Column Name: LastName, Column Type: VARCHAR(8000)\n",
      "Column Name: FirstName, Column Type: VARCHAR(8000)\n",
      "Column Name: Title, Column Type: VARCHAR(8000)\n",
      "Column Name: TitleOfCourtesy, Column Type: VARCHAR(8000)\n",
      "Column Name: BirthDate, Column Type: VARCHAR(8000)\n",
      "Column Name: HireDate, Column Type: VARCHAR(8000)\n",
      "Column Name: Address, Column Type: VARCHAR(8000)\n",
      "Column Name: City, Column Type: VARCHAR(8000)\n",
      "Column Name: Region, Column Type: VARCHAR(8000)\n",
      "Column Name: PostalCode, Column Type: VARCHAR(8000)\n",
      "Column Name: Country, Column Type: VARCHAR(8000)\n",
      "Column Name: HomePhone, Column Type: VARCHAR(8000)\n",
      "Column Name: Extension, Column Type: VARCHAR(8000)\n",
      "Column Name: Photo, Column Type: BLOB\n",
      "Column Name: Notes, Column Type: VARCHAR(8000)\n",
      "Column Name: ReportsTo, Column Type: INTEGER\n",
      "Column Name: PhotoPath, Column Type: VARCHAR(8000)\n",
      "None\n",
      "2019-08-19 09:03:35,830 INFO sqlalchemy.engine.base.Engine PRAGMA table_info(\"EmployeeTerritory\")\n",
      "2019-08-19 09:03:35,831 INFO sqlalchemy.engine.base.Engine ()\n",
      "\n",
      "-----------------------------------------------------------------------\n",
      "2019-08-19 09:03:35,841 INFO sqlalchemy.engine.base.Engine SELECT sql FROM  (SELECT * FROM sqlite_master UNION ALL   SELECT * FROM sqlite_temp_master) WHERE name = 'EmployeeTerritory' AND type = 'table'\n",
      "2019-08-19 09:03:35,843 INFO sqlalchemy.engine.base.Engine ()\n",
      "Table Name: EmployeeTerritory, Primary Key: ['Id']\n",
      "------------------------------------------------------------------------\n",
      "\n",
      "Column Name: Id, Column Type: VARCHAR(8000)\n",
      "Column Name: EmployeeId, Column Type: INTEGER\n",
      "Column Name: TerritoryId, Column Type: VARCHAR(8000)\n",
      "None\n",
      "2019-08-19 09:03:35,849 INFO sqlalchemy.engine.base.Engine PRAGMA table_info(\"Order\")\n",
      "2019-08-19 09:03:35,850 INFO sqlalchemy.engine.base.Engine ()\n",
      "\n",
      "-----------------------------------------------------------------------\n",
      "2019-08-19 09:03:35,854 INFO sqlalchemy.engine.base.Engine SELECT sql FROM  (SELECT * FROM sqlite_master UNION ALL   SELECT * FROM sqlite_temp_master) WHERE name = 'Order' AND type = 'table'\n",
      "2019-08-19 09:03:35,857 INFO sqlalchemy.engine.base.Engine ()\n",
      "Table Name: Order, Primary Key: ['Id']\n",
      "------------------------------------------------------------------------\n",
      "\n",
      "Column Name: Id, Column Type: INTEGER\n",
      "Column Name: CustomerId, Column Type: VARCHAR(8000)\n",
      "Column Name: EmployeeId, Column Type: INTEGER\n",
      "Column Name: OrderDate, Column Type: VARCHAR(8000)\n",
      "Column Name: RequiredDate, Column Type: VARCHAR(8000)\n",
      "Column Name: ShippedDate, Column Type: VARCHAR(8000)\n",
      "Column Name: ShipVia, Column Type: INTEGER\n",
      "Column Name: Freight, Column Type: DECIMAL\n",
      "Column Name: ShipName, Column Type: VARCHAR(8000)\n",
      "Column Name: ShipAddress, Column Type: VARCHAR(8000)\n",
      "Column Name: ShipCity, Column Type: VARCHAR(8000)\n",
      "Column Name: ShipRegion, Column Type: VARCHAR(8000)\n",
      "Column Name: ShipPostalCode, Column Type: VARCHAR(8000)\n",
      "Column Name: ShipCountry, Column Type: VARCHAR(8000)\n",
      "None\n",
      "2019-08-19 09:03:35,864 INFO sqlalchemy.engine.base.Engine PRAGMA table_info(\"OrderDetail\")\n",
      "2019-08-19 09:03:35,865 INFO sqlalchemy.engine.base.Engine ()\n",
      "\n",
      "-----------------------------------------------------------------------\n",
      "2019-08-19 09:03:35,870 INFO sqlalchemy.engine.base.Engine SELECT sql FROM  (SELECT * FROM sqlite_master UNION ALL   SELECT * FROM sqlite_temp_master) WHERE name = 'OrderDetail' AND type = 'table'\n",
      "2019-08-19 09:03:35,872 INFO sqlalchemy.engine.base.Engine ()\n",
      "Table Name: OrderDetail, Primary Key: ['Id']\n",
      "------------------------------------------------------------------------\n",
      "\n",
      "Column Name: Id, Column Type: VARCHAR(8000)\n",
      "Column Name: OrderId, Column Type: INTEGER\n",
      "Column Name: ProductId, Column Type: INTEGER\n",
      "Column Name: UnitPrice, Column Type: DECIMAL\n",
      "Column Name: Quantity, Column Type: INTEGER\n",
      "Column Name: Discount, Column Type: FLOAT\n",
      "None\n",
      "2019-08-19 09:03:35,876 INFO sqlalchemy.engine.base.Engine PRAGMA table_info(\"Product\")\n",
      "2019-08-19 09:03:35,876 INFO sqlalchemy.engine.base.Engine ()\n",
      "\n",
      "-----------------------------------------------------------------------\n",
      "2019-08-19 09:03:35,881 INFO sqlalchemy.engine.base.Engine SELECT sql FROM  (SELECT * FROM sqlite_master UNION ALL   SELECT * FROM sqlite_temp_master) WHERE name = 'Product' AND type = 'table'\n",
      "2019-08-19 09:03:35,883 INFO sqlalchemy.engine.base.Engine ()\n"
     ]
    },
    {
     "name": "stdout",
     "output_type": "stream",
     "text": [
      "Table Name: Product, Primary Key: ['Id']\n",
      "------------------------------------------------------------------------\n",
      "\n",
      "Column Name: Id, Column Type: INTEGER\n",
      "Column Name: ProductName, Column Type: VARCHAR(8000)\n",
      "Column Name: SupplierId, Column Type: INTEGER\n",
      "Column Name: CategoryId, Column Type: INTEGER\n",
      "Column Name: QuantityPerUnit, Column Type: VARCHAR(8000)\n",
      "Column Name: UnitPrice, Column Type: DECIMAL\n",
      "Column Name: UnitsInStock, Column Type: INTEGER\n",
      "Column Name: UnitsOnOrder, Column Type: INTEGER\n",
      "Column Name: ReorderLevel, Column Type: INTEGER\n",
      "Column Name: Discontinued, Column Type: INTEGER\n",
      "None\n",
      "2019-08-19 09:03:35,889 INFO sqlalchemy.engine.base.Engine PRAGMA table_info(\"Region\")\n",
      "2019-08-19 09:03:35,890 INFO sqlalchemy.engine.base.Engine ()\n",
      "\n",
      "-----------------------------------------------------------------------\n",
      "2019-08-19 09:03:35,895 INFO sqlalchemy.engine.base.Engine SELECT sql FROM  (SELECT * FROM sqlite_master UNION ALL   SELECT * FROM sqlite_temp_master) WHERE name = 'Region' AND type = 'table'\n",
      "2019-08-19 09:03:35,896 INFO sqlalchemy.engine.base.Engine ()\n",
      "Table Name: Region, Primary Key: ['Id']\n",
      "------------------------------------------------------------------------\n",
      "\n",
      "Column Name: Id, Column Type: INTEGER\n",
      "Column Name: RegionDescription, Column Type: VARCHAR(8000)\n",
      "None\n",
      "2019-08-19 09:03:35,901 INFO sqlalchemy.engine.base.Engine PRAGMA table_info(\"Shipper\")\n",
      "2019-08-19 09:03:35,902 INFO sqlalchemy.engine.base.Engine ()\n",
      "\n",
      "-----------------------------------------------------------------------\n",
      "2019-08-19 09:03:35,906 INFO sqlalchemy.engine.base.Engine SELECT sql FROM  (SELECT * FROM sqlite_master UNION ALL   SELECT * FROM sqlite_temp_master) WHERE name = 'Shipper' AND type = 'table'\n",
      "2019-08-19 09:03:35,907 INFO sqlalchemy.engine.base.Engine ()\n",
      "Table Name: Shipper, Primary Key: ['Id']\n",
      "------------------------------------------------------------------------\n",
      "\n",
      "Column Name: Id, Column Type: INTEGER\n",
      "Column Name: CompanyName, Column Type: VARCHAR(8000)\n",
      "Column Name: Phone, Column Type: VARCHAR(8000)\n",
      "None\n",
      "2019-08-19 09:03:35,914 INFO sqlalchemy.engine.base.Engine PRAGMA table_info(\"Supplier\")\n",
      "2019-08-19 09:03:35,916 INFO sqlalchemy.engine.base.Engine ()\n",
      "\n",
      "-----------------------------------------------------------------------\n",
      "2019-08-19 09:03:35,922 INFO sqlalchemy.engine.base.Engine SELECT sql FROM  (SELECT * FROM sqlite_master UNION ALL   SELECT * FROM sqlite_temp_master) WHERE name = 'Supplier' AND type = 'table'\n",
      "2019-08-19 09:03:35,923 INFO sqlalchemy.engine.base.Engine ()\n",
      "Table Name: Supplier, Primary Key: ['Id']\n",
      "------------------------------------------------------------------------\n",
      "\n",
      "Column Name: Id, Column Type: INTEGER\n",
      "Column Name: CompanyName, Column Type: VARCHAR(8000)\n",
      "Column Name: ContactName, Column Type: VARCHAR(8000)\n",
      "Column Name: ContactTitle, Column Type: VARCHAR(8000)\n",
      "Column Name: Address, Column Type: VARCHAR(8000)\n",
      "Column Name: City, Column Type: VARCHAR(8000)\n",
      "Column Name: Region, Column Type: VARCHAR(8000)\n",
      "Column Name: PostalCode, Column Type: VARCHAR(8000)\n",
      "Column Name: Country, Column Type: VARCHAR(8000)\n",
      "Column Name: Phone, Column Type: VARCHAR(8000)\n",
      "Column Name: Fax, Column Type: VARCHAR(8000)\n",
      "Column Name: HomePage, Column Type: VARCHAR(8000)\n",
      "None\n",
      "2019-08-19 09:03:35,927 INFO sqlalchemy.engine.base.Engine PRAGMA table_info(\"Territory\")\n",
      "2019-08-19 09:03:35,928 INFO sqlalchemy.engine.base.Engine ()\n",
      "\n",
      "-----------------------------------------------------------------------\n",
      "2019-08-19 09:03:35,934 INFO sqlalchemy.engine.base.Engine SELECT sql FROM  (SELECT * FROM sqlite_master UNION ALL   SELECT * FROM sqlite_temp_master) WHERE name = 'Territory' AND type = 'table'\n",
      "2019-08-19 09:03:35,935 INFO sqlalchemy.engine.base.Engine ()\n",
      "Table Name: Territory, Primary Key: ['Id']\n",
      "------------------------------------------------------------------------\n",
      "\n",
      "Column Name: Id, Column Type: VARCHAR(8000)\n",
      "Column Name: TerritoryDescription, Column Type: VARCHAR(8000)\n",
      "Column Name: RegionId, Column Type: INTEGER\n",
      "None\n"
     ]
    },
    {
     "name": "stderr",
     "output_type": "stream",
     "text": [
      "C:\\Users\\Hazel\\Anaconda3\\lib\\site-packages\\ipykernel_launcher.py:12: SADeprecationWarning: The Inspector.get_primary_keys() method is deprecated and will be removed in a future release.  Please refer to the Inspector.get_pk_constraint() method.\n",
      "  if sys.path[0] == '':\n"
     ]
    }
   ],
   "source": [
    "tables = inspector.get_table_names()\n",
    "for table in tables:\n",
    "    print(get_column_info(table))"
   ]
  },
  {
   "cell_type": "code",
   "execution_count": null,
   "metadata": {},
   "outputs": [],
   "source": [
    "#connect to database\n",
    "conn = sqlite3.connect('Northwind_small.sqlite')\n",
    "cur = conn.cursor()"
   ]
  },
  {
   "cell_type": "code",
   "execution_count": null,
   "metadata": {},
   "outputs": [],
   "source": [
    "#list of all tables\n",
    "data = cur.execute(\"SELECT name FROM sqlite_master WHERE type = 'table';\").fetchall()\n",
    "data = [i[0] for i in data]"
   ]
  },
  {
   "cell_type": "code",
   "execution_count": null,
   "metadata": {},
   "outputs": [],
   "source": [
    "#loop list of data into pandas dataframe\n",
    "dfs = []\n",
    "for i in tables:\n",
    "    table = cur.execute('select * from \"'+ i +'\"').fetchall()\n",
    "    columns = cur.execute('PRAGMA table_info(\"'+ i +'\")').fetchall()\n",
    "    #df = pd.DataFrame(table, columns = [i[1] for i in columns])\n",
    "    foo = i +'_df'\n",
    "    exec(foo + \"=df\")\n",
    "    dfs.append(foo)"
   ]
  },
  {
   "cell_type": "code",
   "execution_count": null,
   "metadata": {},
   "outputs": [],
   "source": [
    "dfs"
   ]
  },
  {
   "cell_type": "code",
   "execution_count": 6,
   "metadata": {},
   "outputs": [
    {
     "name": "stdout",
     "output_type": "stream",
     "text": [
      "2019-08-19 09:03:42,543 INFO sqlalchemy.engine.base.Engine SELECT * FROM Category\n",
      "2019-08-19 09:03:42,545 INFO sqlalchemy.engine.base.Engine ()\n",
      "2019-08-19 09:03:42,562 INFO sqlalchemy.engine.base.Engine SELECT * FROM Customer\n",
      "2019-08-19 09:03:42,564 INFO sqlalchemy.engine.base.Engine ()\n",
      "2019-08-19 09:03:42,577 INFO sqlalchemy.engine.base.Engine SELECT * FROM CustomerDemographic\n",
      "2019-08-19 09:03:42,578 INFO sqlalchemy.engine.base.Engine ()\n",
      "2019-08-19 09:03:42,588 INFO sqlalchemy.engine.base.Engine SELECT * FROM Employee\n",
      "2019-08-19 09:03:42,589 INFO sqlalchemy.engine.base.Engine ()\n",
      "2019-08-19 09:03:42,598 INFO sqlalchemy.engine.base.Engine SELECT * FROM EmployeeTerritory\n",
      "2019-08-19 09:03:42,601 INFO sqlalchemy.engine.base.Engine ()\n",
      "2019-08-19 09:03:42,608 INFO sqlalchemy.engine.base.Engine SELECT * FROM 'Order'\n",
      "2019-08-19 09:03:42,609 INFO sqlalchemy.engine.base.Engine ()\n",
      "2019-08-19 09:03:42,628 INFO sqlalchemy.engine.base.Engine SELECT * FROM Product\n",
      "2019-08-19 09:03:42,629 INFO sqlalchemy.engine.base.Engine ()\n",
      "2019-08-19 09:03:42,637 INFO sqlalchemy.engine.base.Engine SELECT * FROM Region\n",
      "2019-08-19 09:03:42,638 INFO sqlalchemy.engine.base.Engine ()\n",
      "2019-08-19 09:03:42,643 INFO sqlalchemy.engine.base.Engine SELECT * FROM Supplier\n",
      "2019-08-19 09:03:42,645 INFO sqlalchemy.engine.base.Engine ()\n",
      "2019-08-19 09:03:42,655 INFO sqlalchemy.engine.base.Engine SELECT * FROM Territory\n",
      "2019-08-19 09:03:42,656 INFO sqlalchemy.engine.base.Engine ()\n",
      "2019-08-19 09:03:42,661 INFO sqlalchemy.engine.base.Engine SELECT * FROM OrderDetail\n",
      "2019-08-19 09:03:42,663 INFO sqlalchemy.engine.base.Engine ()\n",
      "2019-08-19 09:03:42,685 INFO sqlalchemy.engine.base.Engine SELECT * FROM Shipper\n",
      "2019-08-19 09:03:42,687 INFO sqlalchemy.engine.base.Engine ()\n",
      "2019-08-19 09:03:42,692 INFO sqlalchemy.engine.base.Engine SELECT * FROM CustomerCustomerDemo\n",
      "2019-08-19 09:03:42,693 INFO sqlalchemy.engine.base.Engine ()\n"
     ]
    }
   ],
   "source": [
    "#Converting the database tables into Pandas dataframes\n",
    "df_Category = pd.read_sql_query(\"SELECT * FROM Category\", engine)\n",
    "df_Customer = pd.read_sql_query(\"SELECT * FROM Customer\", engine)\n",
    "df_CustomerDemographic = pd.read_sql_query(\"SELECT * FROM CustomerDemographic\", engine)\n",
    "df_Employee = pd.read_sql_query(\"SELECT * FROM Employee\", engine)\n",
    "df_EmployeeTerritory = pd.read_sql_query(\"SELECT * FROM EmployeeTerritory\", engine)\n",
    "df_order = pd.read_sql_query(\"SELECT * FROM 'Order'\", engine)\n",
    "df_Product = pd.read_sql_query(\"SELECT * FROM Product\", engine)\n",
    "df_region = pd.read_sql_query(\"SELECT * FROM Region\", engine)\n",
    "df_Supplier = pd.read_sql_query(\"SELECT * FROM Supplier\", engine)\n",
    "df_Territory = pd.read_sql_query(\"SELECT * FROM Territory\", engine)\n",
    "df_OrderDetail = pd.read_sql_query(\"SELECT * FROM OrderDetail\", engine)\n",
    "df_Shipper = pd.read_sql_query(\"SELECT * FROM Shipper\", engine)\n",
    "df_customercustomerdemo = pd.read_sql_query(\"SELECT * FROM CustomerCustomerDemo\", engine)"
   ]
  },
  {
   "cell_type": "markdown",
   "metadata": {},
   "source": [
    "## Pre-process data"
   ]
  },
  {
   "cell_type": "markdown",
   "metadata": {},
   "source": [
    "Now, I will familiarize myself with the contents of each table. For each table, I will preview the contents, check for null values, and make sure the data is in the proper format for hypothesis testing."
   ]
  },
  {
   "cell_type": "markdown",
   "metadata": {},
   "source": [
    "### Category Table:"
   ]
  },
  {
   "cell_type": "code",
   "execution_count": 7,
   "metadata": {},
   "outputs": [
    {
     "data": {
      "text/html": [
       "<div>\n",
       "<style scoped>\n",
       "    .dataframe tbody tr th:only-of-type {\n",
       "        vertical-align: middle;\n",
       "    }\n",
       "\n",
       "    .dataframe tbody tr th {\n",
       "        vertical-align: top;\n",
       "    }\n",
       "\n",
       "    .dataframe thead th {\n",
       "        text-align: right;\n",
       "    }\n",
       "</style>\n",
       "<table border=\"1\" class=\"dataframe\">\n",
       "  <thead>\n",
       "    <tr style=\"text-align: right;\">\n",
       "      <th></th>\n",
       "      <th>Id</th>\n",
       "      <th>CategoryName</th>\n",
       "      <th>Description</th>\n",
       "    </tr>\n",
       "  </thead>\n",
       "  <tbody>\n",
       "    <tr>\n",
       "      <th>0</th>\n",
       "      <td>1</td>\n",
       "      <td>Beverages</td>\n",
       "      <td>Soft drinks, coffees, teas, beers, and ales</td>\n",
       "    </tr>\n",
       "    <tr>\n",
       "      <th>1</th>\n",
       "      <td>2</td>\n",
       "      <td>Condiments</td>\n",
       "      <td>Sweet and savory sauces, relishes, spreads, an...</td>\n",
       "    </tr>\n",
       "    <tr>\n",
       "      <th>2</th>\n",
       "      <td>3</td>\n",
       "      <td>Confections</td>\n",
       "      <td>Desserts, candies, and sweet breads</td>\n",
       "    </tr>\n",
       "    <tr>\n",
       "      <th>3</th>\n",
       "      <td>4</td>\n",
       "      <td>Dairy Products</td>\n",
       "      <td>Cheeses</td>\n",
       "    </tr>\n",
       "    <tr>\n",
       "      <th>4</th>\n",
       "      <td>5</td>\n",
       "      <td>Grains/Cereals</td>\n",
       "      <td>Breads, crackers, pasta, and cereal</td>\n",
       "    </tr>\n",
       "  </tbody>\n",
       "</table>\n",
       "</div>"
      ],
      "text/plain": [
       "   Id    CategoryName                                        Description\n",
       "0   1       Beverages        Soft drinks, coffees, teas, beers, and ales\n",
       "1   2      Condiments  Sweet and savory sauces, relishes, spreads, an...\n",
       "2   3     Confections                Desserts, candies, and sweet breads\n",
       "3   4  Dairy Products                                            Cheeses\n",
       "4   5  Grains/Cereals                Breads, crackers, pasta, and cereal"
      ]
     },
     "execution_count": 7,
     "metadata": {},
     "output_type": "execute_result"
    }
   ],
   "source": [
    "df_Category.head()"
   ]
  },
  {
   "cell_type": "code",
   "execution_count": 8,
   "metadata": {},
   "outputs": [
    {
     "name": "stdout",
     "output_type": "stream",
     "text": [
      "<class 'pandas.core.frame.DataFrame'>\n",
      "RangeIndex: 8 entries, 0 to 7\n",
      "Data columns (total 3 columns):\n",
      "Id              8 non-null int64\n",
      "CategoryName    8 non-null object\n",
      "Description     8 non-null object\n",
      "dtypes: int64(1), object(2)\n",
      "memory usage: 272.0+ bytes\n",
      "None\n"
     ]
    }
   ],
   "source": [
    "print(df_Category.info())"
   ]
  },
  {
   "cell_type": "code",
   "execution_count": 9,
   "metadata": {},
   "outputs": [
    {
     "data": {
      "text/html": [
       "<div>\n",
       "<style scoped>\n",
       "    .dataframe tbody tr th:only-of-type {\n",
       "        vertical-align: middle;\n",
       "    }\n",
       "\n",
       "    .dataframe tbody tr th {\n",
       "        vertical-align: top;\n",
       "    }\n",
       "\n",
       "    .dataframe thead th {\n",
       "        text-align: right;\n",
       "    }\n",
       "</style>\n",
       "<table border=\"1\" class=\"dataframe\">\n",
       "  <thead>\n",
       "    <tr style=\"text-align: right;\">\n",
       "      <th></th>\n",
       "      <th>Id</th>\n",
       "      <th>CategoryName</th>\n",
       "      <th>Description</th>\n",
       "    </tr>\n",
       "  </thead>\n",
       "  <tbody>\n",
       "    <tr>\n",
       "      <th>0</th>\n",
       "      <td>1</td>\n",
       "      <td>Beverages</td>\n",
       "      <td>Soft drinks, coffees, teas, beers, and ales</td>\n",
       "    </tr>\n",
       "    <tr>\n",
       "      <th>1</th>\n",
       "      <td>2</td>\n",
       "      <td>Condiments</td>\n",
       "      <td>Sweet and savory sauces, relishes, spreads, an...</td>\n",
       "    </tr>\n",
       "    <tr>\n",
       "      <th>2</th>\n",
       "      <td>3</td>\n",
       "      <td>Confections</td>\n",
       "      <td>Desserts, candies, and sweet breads</td>\n",
       "    </tr>\n",
       "    <tr>\n",
       "      <th>3</th>\n",
       "      <td>4</td>\n",
       "      <td>Dairy Products</td>\n",
       "      <td>Cheeses</td>\n",
       "    </tr>\n",
       "    <tr>\n",
       "      <th>4</th>\n",
       "      <td>5</td>\n",
       "      <td>Grains/Cereals</td>\n",
       "      <td>Breads, crackers, pasta, and cereal</td>\n",
       "    </tr>\n",
       "    <tr>\n",
       "      <th>5</th>\n",
       "      <td>6</td>\n",
       "      <td>Meat/Poultry</td>\n",
       "      <td>Prepared meats</td>\n",
       "    </tr>\n",
       "    <tr>\n",
       "      <th>6</th>\n",
       "      <td>7</td>\n",
       "      <td>Produce</td>\n",
       "      <td>Dried fruit and bean curd</td>\n",
       "    </tr>\n",
       "    <tr>\n",
       "      <th>7</th>\n",
       "      <td>8</td>\n",
       "      <td>Seafood</td>\n",
       "      <td>Seaweed and fish</td>\n",
       "    </tr>\n",
       "  </tbody>\n",
       "</table>\n",
       "</div>"
      ],
      "text/plain": [
       "   Id    CategoryName                                        Description\n",
       "0   1       Beverages        Soft drinks, coffees, teas, beers, and ales\n",
       "1   2      Condiments  Sweet and savory sauces, relishes, spreads, an...\n",
       "2   3     Confections                Desserts, candies, and sweet breads\n",
       "3   4  Dairy Products                                            Cheeses\n",
       "4   5  Grains/Cereals                Breads, crackers, pasta, and cereal\n",
       "5   6    Meat/Poultry                                     Prepared meats\n",
       "6   7         Produce                          Dried fruit and bean curd\n",
       "7   8         Seafood                                   Seaweed and fish"
      ]
     },
     "execution_count": 9,
     "metadata": {},
     "output_type": "execute_result"
    }
   ],
   "source": [
    "df_Category.groupby(['CategoryName']).head(10)"
   ]
  },
  {
   "cell_type": "markdown",
   "metadata": {},
   "source": [
    "Based on this exploration, it looks like Nortwind is a food and beverage distribution. I may explore which categrory is doing the best in terms of sales. Now, we should get a better picture of the the products sold by Northwind."
   ]
  },
  {
   "cell_type": "markdown",
   "metadata": {},
   "source": [
    "## Product Table"
   ]
  },
  {
   "cell_type": "code",
   "execution_count": 10,
   "metadata": {},
   "outputs": [
    {
     "data": {
      "text/html": [
       "<div>\n",
       "<style scoped>\n",
       "    .dataframe tbody tr th:only-of-type {\n",
       "        vertical-align: middle;\n",
       "    }\n",
       "\n",
       "    .dataframe tbody tr th {\n",
       "        vertical-align: top;\n",
       "    }\n",
       "\n",
       "    .dataframe thead th {\n",
       "        text-align: right;\n",
       "    }\n",
       "</style>\n",
       "<table border=\"1\" class=\"dataframe\">\n",
       "  <thead>\n",
       "    <tr style=\"text-align: right;\">\n",
       "      <th></th>\n",
       "      <th>Id</th>\n",
       "      <th>ProductName</th>\n",
       "      <th>SupplierId</th>\n",
       "      <th>CategoryId</th>\n",
       "      <th>QuantityPerUnit</th>\n",
       "      <th>UnitPrice</th>\n",
       "      <th>UnitsInStock</th>\n",
       "      <th>UnitsOnOrder</th>\n",
       "      <th>ReorderLevel</th>\n",
       "      <th>Discontinued</th>\n",
       "    </tr>\n",
       "  </thead>\n",
       "  <tbody>\n",
       "    <tr>\n",
       "      <th>0</th>\n",
       "      <td>1</td>\n",
       "      <td>Chai</td>\n",
       "      <td>1</td>\n",
       "      <td>1</td>\n",
       "      <td>10 boxes x 20 bags</td>\n",
       "      <td>18.00</td>\n",
       "      <td>39</td>\n",
       "      <td>0</td>\n",
       "      <td>10</td>\n",
       "      <td>0</td>\n",
       "    </tr>\n",
       "    <tr>\n",
       "      <th>1</th>\n",
       "      <td>2</td>\n",
       "      <td>Chang</td>\n",
       "      <td>1</td>\n",
       "      <td>1</td>\n",
       "      <td>24 - 12 oz bottles</td>\n",
       "      <td>19.00</td>\n",
       "      <td>17</td>\n",
       "      <td>40</td>\n",
       "      <td>25</td>\n",
       "      <td>0</td>\n",
       "    </tr>\n",
       "    <tr>\n",
       "      <th>2</th>\n",
       "      <td>3</td>\n",
       "      <td>Aniseed Syrup</td>\n",
       "      <td>1</td>\n",
       "      <td>2</td>\n",
       "      <td>12 - 550 ml bottles</td>\n",
       "      <td>10.00</td>\n",
       "      <td>13</td>\n",
       "      <td>70</td>\n",
       "      <td>25</td>\n",
       "      <td>0</td>\n",
       "    </tr>\n",
       "    <tr>\n",
       "      <th>3</th>\n",
       "      <td>4</td>\n",
       "      <td>Chef Anton's Cajun Seasoning</td>\n",
       "      <td>2</td>\n",
       "      <td>2</td>\n",
       "      <td>48 - 6 oz jars</td>\n",
       "      <td>22.00</td>\n",
       "      <td>53</td>\n",
       "      <td>0</td>\n",
       "      <td>0</td>\n",
       "      <td>0</td>\n",
       "    </tr>\n",
       "    <tr>\n",
       "      <th>4</th>\n",
       "      <td>5</td>\n",
       "      <td>Chef Anton's Gumbo Mix</td>\n",
       "      <td>2</td>\n",
       "      <td>2</td>\n",
       "      <td>36 boxes</td>\n",
       "      <td>21.35</td>\n",
       "      <td>0</td>\n",
       "      <td>0</td>\n",
       "      <td>0</td>\n",
       "      <td>1</td>\n",
       "    </tr>\n",
       "  </tbody>\n",
       "</table>\n",
       "</div>"
      ],
      "text/plain": [
       "   Id                   ProductName  SupplierId  CategoryId  \\\n",
       "0   1                          Chai           1           1   \n",
       "1   2                         Chang           1           1   \n",
       "2   3                 Aniseed Syrup           1           2   \n",
       "3   4  Chef Anton's Cajun Seasoning           2           2   \n",
       "4   5        Chef Anton's Gumbo Mix           2           2   \n",
       "\n",
       "       QuantityPerUnit  UnitPrice  UnitsInStock  UnitsOnOrder  ReorderLevel  \\\n",
       "0   10 boxes x 20 bags      18.00            39             0            10   \n",
       "1   24 - 12 oz bottles      19.00            17            40            25   \n",
       "2  12 - 550 ml bottles      10.00            13            70            25   \n",
       "3       48 - 6 oz jars      22.00            53             0             0   \n",
       "4             36 boxes      21.35             0             0             0   \n",
       "\n",
       "   Discontinued  \n",
       "0             0  \n",
       "1             0  \n",
       "2             0  \n",
       "3             0  \n",
       "4             1  "
      ]
     },
     "execution_count": 10,
     "metadata": {},
     "output_type": "execute_result"
    }
   ],
   "source": [
    "df_Product.head()"
   ]
  },
  {
   "cell_type": "code",
   "execution_count": 11,
   "metadata": {},
   "outputs": [
    {
     "name": "stdout",
     "output_type": "stream",
     "text": [
      "<class 'pandas.core.frame.DataFrame'>\n",
      "RangeIndex: 77 entries, 0 to 76\n",
      "Data columns (total 10 columns):\n",
      "Id                 77 non-null int64\n",
      "ProductName        77 non-null object\n",
      "SupplierId         77 non-null int64\n",
      "CategoryId         77 non-null int64\n",
      "QuantityPerUnit    77 non-null object\n",
      "UnitPrice          77 non-null float64\n",
      "UnitsInStock       77 non-null int64\n",
      "UnitsOnOrder       77 non-null int64\n",
      "ReorderLevel       77 non-null int64\n",
      "Discontinued       77 non-null int64\n",
      "dtypes: float64(1), int64(7), object(2)\n",
      "memory usage: 6.1+ KB\n",
      "None\n"
     ]
    }
   ],
   "source": [
    "print(df_Product.info())"
   ]
  },
  {
   "cell_type": "code",
   "execution_count": 12,
   "metadata": {},
   "outputs": [
    {
     "data": {
      "text/plain": [
       "array(['Chai', 'Chang', 'Aniseed Syrup', \"Chef Anton's Cajun Seasoning\",\n",
       "       \"Chef Anton's Gumbo Mix\", \"Grandma's Boysenberry Spread\",\n",
       "       \"Uncle Bob's Organic Dried Pears\", 'Northwoods Cranberry Sauce',\n",
       "       'Mishi Kobe Niku', 'Ikura', 'Queso Cabrales',\n",
       "       'Queso Manchego La Pastora', 'Konbu', 'Tofu', 'Genen Shouyu',\n",
       "       'Pavlova', 'Alice Mutton', 'Carnarvon Tigers',\n",
       "       'Teatime Chocolate Biscuits', \"Sir Rodney's Marmalade\",\n",
       "       \"Sir Rodney's Scones\", \"Gustaf's Knäckebröd\", 'Tunnbröd',\n",
       "       'Guaraná Fantástica', 'NuNuCa Nuß-Nougat-Creme',\n",
       "       'Gumbär Gummibärchen', 'Schoggi Schokolade', 'Rössle Sauerkraut',\n",
       "       'Thüringer Rostbratwurst', 'Nord-Ost Matjeshering',\n",
       "       'Gorgonzola Telino', 'Mascarpone Fabioli', 'Geitost',\n",
       "       'Sasquatch Ale', 'Steeleye Stout', 'Inlagd Sill', 'Gravad lax',\n",
       "       'Côte de Blaye', 'Chartreuse verte', 'Boston Crab Meat',\n",
       "       \"Jack's New England Clam Chowder\", 'Singaporean Hokkien Fried Mee',\n",
       "       'Ipoh Coffee', 'Gula Malacca', 'Rogede sild', 'Spegesild',\n",
       "       'Zaanse koeken', 'Chocolade', 'Maxilaku', 'Valkoinen suklaa',\n",
       "       'Manjimup Dried Apples', 'Filo Mix', 'Perth Pasties', 'Tourtière',\n",
       "       'Pâté chinois', 'Gnocchi di nonna Alice', 'Ravioli Angelo',\n",
       "       'Escargots de Bourgogne', 'Raclette Courdavault',\n",
       "       'Camembert Pierrot', \"Sirop d'érable\", 'Tarte au sucre',\n",
       "       'Vegie-spread', 'Wimmers gute Semmelknödel',\n",
       "       'Louisiana Fiery Hot Pepper Sauce', 'Louisiana Hot Spiced Okra',\n",
       "       'Laughing Lumberjack Lager', 'Scottish Longbreads',\n",
       "       'Gudbrandsdalsost', 'Outback Lager', 'Flotemysost',\n",
       "       'Mozzarella di Giovanni', 'Röd Kaviar', 'Longlife Tofu',\n",
       "       'Rhönbräu Klosterbier', 'Lakkalikööri',\n",
       "       'Original Frankfurter grüne Soße'], dtype=object)"
      ]
     },
     "execution_count": 12,
     "metadata": {},
     "output_type": "execute_result"
    }
   ],
   "source": [
    "#Identifying the types of products sold by Northwind\n",
    "df_Product.ProductName.unique()"
   ]
  },
  {
   "cell_type": "code",
   "execution_count": 13,
   "metadata": {},
   "outputs": [
    {
     "data": {
      "text/plain": [
       "0    69\n",
       "1     8\n",
       "Name: Discontinued, dtype: int64"
      ]
     },
     "execution_count": 13,
     "metadata": {},
     "output_type": "execute_result"
    }
   ],
   "source": [
    "# Finding the products that are discontinued\n",
    "df_Product.Discontinued.value_counts()"
   ]
  },
  {
   "cell_type": "markdown",
   "metadata": {},
   "source": [
    "As we can see above, Northwind distributed 77 products, some of which are discontinued. For now, I will ignore the presence of the discontinued products but include them in the analysis. If it is found that those products have a positive effect on sales, I will recommend that those products be restocked."
   ]
  },
  {
   "cell_type": "markdown",
   "metadata": {},
   "source": [
    "## Customer Table"
   ]
  },
  {
   "cell_type": "code",
   "execution_count": 14,
   "metadata": {},
   "outputs": [
    {
     "data": {
      "text/html": [
       "<div>\n",
       "<style scoped>\n",
       "    .dataframe tbody tr th:only-of-type {\n",
       "        vertical-align: middle;\n",
       "    }\n",
       "\n",
       "    .dataframe tbody tr th {\n",
       "        vertical-align: top;\n",
       "    }\n",
       "\n",
       "    .dataframe thead th {\n",
       "        text-align: right;\n",
       "    }\n",
       "</style>\n",
       "<table border=\"1\" class=\"dataframe\">\n",
       "  <thead>\n",
       "    <tr style=\"text-align: right;\">\n",
       "      <th></th>\n",
       "      <th>Id</th>\n",
       "      <th>CompanyName</th>\n",
       "      <th>ContactName</th>\n",
       "      <th>ContactTitle</th>\n",
       "      <th>Address</th>\n",
       "      <th>City</th>\n",
       "      <th>Region</th>\n",
       "      <th>PostalCode</th>\n",
       "      <th>Country</th>\n",
       "      <th>Phone</th>\n",
       "      <th>Fax</th>\n",
       "    </tr>\n",
       "  </thead>\n",
       "  <tbody>\n",
       "    <tr>\n",
       "      <th>0</th>\n",
       "      <td>ALFKI</td>\n",
       "      <td>Alfreds Futterkiste</td>\n",
       "      <td>Maria Anders</td>\n",
       "      <td>Sales Representative</td>\n",
       "      <td>Obere Str. 57</td>\n",
       "      <td>Berlin</td>\n",
       "      <td>Western Europe</td>\n",
       "      <td>12209</td>\n",
       "      <td>Germany</td>\n",
       "      <td>030-0074321</td>\n",
       "      <td>030-0076545</td>\n",
       "    </tr>\n",
       "    <tr>\n",
       "      <th>1</th>\n",
       "      <td>ANATR</td>\n",
       "      <td>Ana Trujillo Emparedados y helados</td>\n",
       "      <td>Ana Trujillo</td>\n",
       "      <td>Owner</td>\n",
       "      <td>Avda. de la Constitución 2222</td>\n",
       "      <td>México D.F.</td>\n",
       "      <td>Central America</td>\n",
       "      <td>05021</td>\n",
       "      <td>Mexico</td>\n",
       "      <td>(5) 555-4729</td>\n",
       "      <td>(5) 555-3745</td>\n",
       "    </tr>\n",
       "    <tr>\n",
       "      <th>2</th>\n",
       "      <td>ANTON</td>\n",
       "      <td>Antonio Moreno Taquería</td>\n",
       "      <td>Antonio Moreno</td>\n",
       "      <td>Owner</td>\n",
       "      <td>Mataderos  2312</td>\n",
       "      <td>México D.F.</td>\n",
       "      <td>Central America</td>\n",
       "      <td>05023</td>\n",
       "      <td>Mexico</td>\n",
       "      <td>(5) 555-3932</td>\n",
       "      <td>None</td>\n",
       "    </tr>\n",
       "    <tr>\n",
       "      <th>3</th>\n",
       "      <td>AROUT</td>\n",
       "      <td>Around the Horn</td>\n",
       "      <td>Thomas Hardy</td>\n",
       "      <td>Sales Representative</td>\n",
       "      <td>120 Hanover Sq.</td>\n",
       "      <td>London</td>\n",
       "      <td>British Isles</td>\n",
       "      <td>WA1 1DP</td>\n",
       "      <td>UK</td>\n",
       "      <td>(171) 555-7788</td>\n",
       "      <td>(171) 555-6750</td>\n",
       "    </tr>\n",
       "    <tr>\n",
       "      <th>4</th>\n",
       "      <td>BERGS</td>\n",
       "      <td>Berglunds snabbköp</td>\n",
       "      <td>Christina Berglund</td>\n",
       "      <td>Order Administrator</td>\n",
       "      <td>Berguvsvägen  8</td>\n",
       "      <td>Luleå</td>\n",
       "      <td>Northern Europe</td>\n",
       "      <td>S-958 22</td>\n",
       "      <td>Sweden</td>\n",
       "      <td>0921-12 34 65</td>\n",
       "      <td>0921-12 34 67</td>\n",
       "    </tr>\n",
       "  </tbody>\n",
       "</table>\n",
       "</div>"
      ],
      "text/plain": [
       "      Id                         CompanyName         ContactName  \\\n",
       "0  ALFKI                 Alfreds Futterkiste        Maria Anders   \n",
       "1  ANATR  Ana Trujillo Emparedados y helados        Ana Trujillo   \n",
       "2  ANTON             Antonio Moreno Taquería      Antonio Moreno   \n",
       "3  AROUT                     Around the Horn        Thomas Hardy   \n",
       "4  BERGS                  Berglunds snabbköp  Christina Berglund   \n",
       "\n",
       "           ContactTitle                        Address         City  \\\n",
       "0  Sales Representative                  Obere Str. 57       Berlin   \n",
       "1                 Owner  Avda. de la Constitución 2222  México D.F.   \n",
       "2                 Owner                Mataderos  2312  México D.F.   \n",
       "3  Sales Representative                120 Hanover Sq.       London   \n",
       "4   Order Administrator                Berguvsvägen  8        Luleå   \n",
       "\n",
       "            Region PostalCode  Country           Phone             Fax  \n",
       "0   Western Europe      12209  Germany     030-0074321     030-0076545  \n",
       "1  Central America      05021   Mexico    (5) 555-4729    (5) 555-3745  \n",
       "2  Central America      05023   Mexico    (5) 555-3932            None  \n",
       "3    British Isles    WA1 1DP       UK  (171) 555-7788  (171) 555-6750  \n",
       "4  Northern Europe   S-958 22   Sweden   0921-12 34 65   0921-12 34 67  "
      ]
     },
     "execution_count": 14,
     "metadata": {},
     "output_type": "execute_result"
    }
   ],
   "source": [
    "df_Customer.head()"
   ]
  },
  {
   "cell_type": "code",
   "execution_count": 15,
   "metadata": {},
   "outputs": [
    {
     "name": "stdout",
     "output_type": "stream",
     "text": [
      "<class 'pandas.core.frame.DataFrame'>\n",
      "RangeIndex: 91 entries, 0 to 90\n",
      "Data columns (total 11 columns):\n",
      "Id              91 non-null object\n",
      "CompanyName     91 non-null object\n",
      "ContactName     91 non-null object\n",
      "ContactTitle    91 non-null object\n",
      "Address         91 non-null object\n",
      "City            91 non-null object\n",
      "Region          91 non-null object\n",
      "PostalCode      90 non-null object\n",
      "Country         91 non-null object\n",
      "Phone           91 non-null object\n",
      "Fax             69 non-null object\n",
      "dtypes: object(11)\n",
      "memory usage: 7.9+ KB\n",
      "None\n"
     ]
    }
   ],
   "source": [
    "print(df_Customer.info())"
   ]
  },
  {
   "cell_type": "code",
   "execution_count": 16,
   "metadata": {},
   "outputs": [
    {
     "data": {
      "text/plain": [
       "array(['Alfreds Futterkiste', 'Ana Trujillo Emparedados y helados',\n",
       "       'Antonio Moreno Taquería', 'Around the Horn', 'Berglunds snabbköp',\n",
       "       'Blauer See Delikatessen', 'Blondesddsl père et fils',\n",
       "       'Bólido Comidas preparadas', 'Bon app', 'Bottom-Dollar Markets',\n",
       "       \"B's Beverages\", 'Cactus Comidas para llevar',\n",
       "       'Centro comercial Moctezuma', 'Chop-suey Chinese',\n",
       "       'Comércio Mineiro', 'Consolidated Holdings',\n",
       "       'Drachenblut Delikatessen', 'Du monde entier',\n",
       "       'Eastern Connection', 'Ernst Handel', 'Familia Arquibaldo',\n",
       "       'FISSA Fabrica Inter. Salchichas S.A.', 'Folies gourmandes',\n",
       "       'Folk och fä HB', 'Frankenversand', 'France restauration',\n",
       "       'Franchi S.p.A.', 'Furia Bacalhau e Frutos do Mar',\n",
       "       'Galería del gastrónomo', 'Godos Cocina Típica',\n",
       "       'Gourmet Lanchonetes', 'Great Lakes Food Market',\n",
       "       'GROSELLA-Restaurante', 'Hanari Carnes', 'HILARION-Abastos',\n",
       "       'Hungry Coyote Import Store', 'Hungry Owl All-Night Grocers',\n",
       "       'Island Trading', 'Königlich Essen', \"La corne d'abondance\",\n",
       "       \"La maison d'Asie\", 'Laughing Bacchus Wine Cellars',\n",
       "       'Lazy K Kountry Store', 'Lehmanns Marktstand', \"Let's Stop N Shop\",\n",
       "       'LILA-Supermercado', 'LINO-Delicateses',\n",
       "       'Lonesome Pine Restaurant', 'Magazzini Alimentari Riuniti',\n",
       "       'Maison Dewey', 'Mère Paillarde', 'Morgenstern Gesundkost',\n",
       "       'North/South', 'Océano Atlántico Ltda.', 'Old World Delicatessen',\n",
       "       'Ottilies Käseladen', 'Paris spécialités',\n",
       "       'Pericles Comidas clásicas', 'Piccolo und mehr',\n",
       "       'Princesa Isabel Vinhos', 'Que Delícia', 'Queen Cozinha',\n",
       "       'QUICK-Stop', 'Rancho grande', 'Rattlesnake Canyon Grocery',\n",
       "       'Reggiani Caseifici', 'Ricardo Adocicados', 'Richter Supermarkt',\n",
       "       'Romero y tomillo', 'Santé Gourmet', 'Save-a-lot Markets',\n",
       "       'Seven Seas Imports', 'Simons bistro', 'Spécialités du monde',\n",
       "       'Split Rail Beer & Ale', 'Suprêmes délices', 'The Big Cheese',\n",
       "       'The Cracker Box', 'Toms Spezialitäten', 'Tortuga Restaurante',\n",
       "       'Tradição Hipermercados', \"Trail's Head Gourmet Provisioners\",\n",
       "       'Vaffeljernet', 'Victuailles en stock',\n",
       "       'Vins et alcools Chevalier', 'Die Wandernde Kuh', 'Wartian Herkku',\n",
       "       'Wellington Importadora', 'White Clover Markets', 'Wilman Kala',\n",
       "       'Wolski  Zajazd'], dtype=object)"
      ]
     },
     "execution_count": 16,
     "metadata": {},
     "output_type": "execute_result"
    }
   ],
   "source": [
    "#Indentifying the names of Northwind's customers:\n",
    "df_Customer.CompanyName.unique()"
   ]
  },
  {
   "cell_type": "code",
   "execution_count": 17,
   "metadata": {},
   "outputs": [
    {
     "data": {
      "text/plain": [
       "Region\n",
       "British Isles       8\n",
       "Central America     5\n",
       "Eastern Europe      1\n",
       "North America      16\n",
       "Northern Europe     4\n",
       "Scandinavia         3\n",
       "South America      16\n",
       "Southern Europe    10\n",
       "Western Europe     28\n",
       "Name: CompanyName, dtype: int64"
      ]
     },
     "execution_count": 17,
     "metadata": {},
     "output_type": "execute_result"
    }
   ],
   "source": [
    "df_customer_demo = df_Customer.groupby(['Region'])['CompanyName'].count()\n",
    "df_customer_demo"
   ]
  },
  {
   "cell_type": "code",
   "execution_count": 18,
   "metadata": {},
   "outputs": [
    {
     "name": "stdout",
     "output_type": "stream",
     "text": [
      "21\n"
     ]
    },
    {
     "data": {
      "text/plain": [
       "Country\n",
       "Argentina       3\n",
       "Austria         2\n",
       "Belgium         2\n",
       "Brazil          9\n",
       "Canada          3\n",
       "Denmark         2\n",
       "Finland         2\n",
       "France         11\n",
       "Germany        11\n",
       "Ireland         1\n",
       "Italy           3\n",
       "Mexico          5\n",
       "Norway          1\n",
       "Poland          1\n",
       "Portugal        2\n",
       "Spain           5\n",
       "Sweden          2\n",
       "Switzerland     2\n",
       "UK              7\n",
       "USA            13\n",
       "Venezuela       4\n",
       "Name: CompanyName, dtype: int64"
      ]
     },
     "execution_count": 18,
     "metadata": {},
     "output_type": "execute_result"
    }
   ],
   "source": [
    "df_customer_demo_country = df_Customer.groupby(['Country'])['CompanyName'].count()\n",
    "print(len(df_customer_demo_country))\n",
    "df_customer_demo_country"
   ]
  },
  {
   "cell_type": "markdown",
   "metadata": {},
   "source": [
    "Based on customer demographics, Northwind operates internationally with customers in 21 different countries. The USA, France, Germany and the UK being their biggest customers with 13, 11, 11, and 7 respectively. Regionally, Western Europe and North America are their biggest customers with 28 and 16 respectively. "
   ]
  },
  {
   "cell_type": "code",
   "execution_count": 19,
   "metadata": {},
   "outputs": [],
   "source": [
    "#dropping the Fax column:\n",
    "df_Customer.drop(['Fax'], axis = 1, inplace = True)"
   ]
  },
  {
   "cell_type": "code",
   "execution_count": 20,
   "metadata": {},
   "outputs": [],
   "source": [
    "#Filling null values in the Postal Code column:\n",
    "df_Customer.PostalCode.fillna('0', inplace = True)"
   ]
  },
  {
   "cell_type": "code",
   "execution_count": 21,
   "metadata": {},
   "outputs": [
    {
     "name": "stdout",
     "output_type": "stream",
     "text": [
      "<class 'pandas.core.frame.DataFrame'>\n",
      "RangeIndex: 91 entries, 0 to 90\n",
      "Data columns (total 10 columns):\n",
      "Id              91 non-null object\n",
      "CompanyName     91 non-null object\n",
      "ContactName     91 non-null object\n",
      "ContactTitle    91 non-null object\n",
      "Address         91 non-null object\n",
      "City            91 non-null object\n",
      "Region          91 non-null object\n",
      "PostalCode      91 non-null object\n",
      "Country         91 non-null object\n",
      "Phone           91 non-null object\n",
      "dtypes: object(10)\n",
      "memory usage: 7.2+ KB\n"
     ]
    }
   ],
   "source": [
    "#Reviewing Customer Table:\n",
    "df_Customer.info()"
   ]
  },
  {
   "cell_type": "code",
   "execution_count": 22,
   "metadata": {},
   "outputs": [
    {
     "data": {
      "text/plain": [
       "array(['Sales Representative', 'Owner', 'Order Administrator',\n",
       "       'Marketing Manager', 'Accounting Manager', 'Sales Agent',\n",
       "       'Sales Associate', 'Sales Manager', 'Marketing Assistant',\n",
       "       'Assistant Sales Agent', 'Assistant Sales Representative',\n",
       "       'Owner/Marketing Assistant'], dtype=object)"
      ]
     },
     "execution_count": 22,
     "metadata": {},
     "output_type": "execute_result"
    }
   ],
   "source": [
    "df_Customer.ContactTitle.unique() #will employees of certain titles have more effect on sales?"
   ]
  },
  {
   "cell_type": "markdown",
   "metadata": {},
   "source": [
    "## CustomerCustomer Demo Table:"
   ]
  },
  {
   "cell_type": "code",
   "execution_count": 23,
   "metadata": {},
   "outputs": [
    {
     "name": "stdout",
     "output_type": "stream",
     "text": [
      "<class 'pandas.core.frame.DataFrame'>\n",
      "Index: 0 entries\n",
      "Data columns (total 2 columns):\n",
      "Id                0 non-null object\n",
      "CustomerTypeId    0 non-null object\n",
      "dtypes: object(2)\n",
      "memory usage: 0.0+ bytes\n"
     ]
    }
   ],
   "source": [
    "df_customercustomerdemo.info()"
   ]
  },
  {
   "cell_type": "markdown",
   "metadata": {},
   "source": [
    "## Employee Table:"
   ]
  },
  {
   "cell_type": "code",
   "execution_count": 24,
   "metadata": {},
   "outputs": [
    {
     "data": {
      "text/html": [
       "<div>\n",
       "<style scoped>\n",
       "    .dataframe tbody tr th:only-of-type {\n",
       "        vertical-align: middle;\n",
       "    }\n",
       "\n",
       "    .dataframe tbody tr th {\n",
       "        vertical-align: top;\n",
       "    }\n",
       "\n",
       "    .dataframe thead th {\n",
       "        text-align: right;\n",
       "    }\n",
       "</style>\n",
       "<table border=\"1\" class=\"dataframe\">\n",
       "  <thead>\n",
       "    <tr style=\"text-align: right;\">\n",
       "      <th></th>\n",
       "      <th>Id</th>\n",
       "      <th>LastName</th>\n",
       "      <th>FirstName</th>\n",
       "      <th>Title</th>\n",
       "      <th>TitleOfCourtesy</th>\n",
       "      <th>BirthDate</th>\n",
       "      <th>HireDate</th>\n",
       "      <th>Address</th>\n",
       "      <th>City</th>\n",
       "      <th>Region</th>\n",
       "      <th>PostalCode</th>\n",
       "      <th>Country</th>\n",
       "      <th>HomePhone</th>\n",
       "      <th>Extension</th>\n",
       "      <th>Photo</th>\n",
       "      <th>Notes</th>\n",
       "      <th>ReportsTo</th>\n",
       "      <th>PhotoPath</th>\n",
       "    </tr>\n",
       "  </thead>\n",
       "  <tbody>\n",
       "    <tr>\n",
       "      <th>0</th>\n",
       "      <td>1</td>\n",
       "      <td>Davolio</td>\n",
       "      <td>Nancy</td>\n",
       "      <td>Sales Representative</td>\n",
       "      <td>Ms.</td>\n",
       "      <td>1980-12-08</td>\n",
       "      <td>2024-05-01</td>\n",
       "      <td>507 - 20th Ave. E. Apt. 2A</td>\n",
       "      <td>Seattle</td>\n",
       "      <td>North America</td>\n",
       "      <td>98122</td>\n",
       "      <td>USA</td>\n",
       "      <td>(206) 555-9857</td>\n",
       "      <td>5467</td>\n",
       "      <td>None</td>\n",
       "      <td>Education includes a BA in psychology from Col...</td>\n",
       "      <td>2.0</td>\n",
       "      <td>http://accweb/emmployees/davolio.bmp</td>\n",
       "    </tr>\n",
       "    <tr>\n",
       "      <th>1</th>\n",
       "      <td>2</td>\n",
       "      <td>Fuller</td>\n",
       "      <td>Andrew</td>\n",
       "      <td>Vice President, Sales</td>\n",
       "      <td>Dr.</td>\n",
       "      <td>1984-02-19</td>\n",
       "      <td>2024-08-14</td>\n",
       "      <td>908 W. Capital Way</td>\n",
       "      <td>Tacoma</td>\n",
       "      <td>North America</td>\n",
       "      <td>98401</td>\n",
       "      <td>USA</td>\n",
       "      <td>(206) 555-9482</td>\n",
       "      <td>3457</td>\n",
       "      <td>None</td>\n",
       "      <td>Andrew received his BTS commercial in 1974 and...</td>\n",
       "      <td>NaN</td>\n",
       "      <td>http://accweb/emmployees/fuller.bmp</td>\n",
       "    </tr>\n",
       "    <tr>\n",
       "      <th>2</th>\n",
       "      <td>3</td>\n",
       "      <td>Leverling</td>\n",
       "      <td>Janet</td>\n",
       "      <td>Sales Representative</td>\n",
       "      <td>Ms.</td>\n",
       "      <td>1995-08-30</td>\n",
       "      <td>2024-04-01</td>\n",
       "      <td>722 Moss Bay Blvd.</td>\n",
       "      <td>Kirkland</td>\n",
       "      <td>North America</td>\n",
       "      <td>98033</td>\n",
       "      <td>USA</td>\n",
       "      <td>(206) 555-3412</td>\n",
       "      <td>3355</td>\n",
       "      <td>None</td>\n",
       "      <td>Janet has a BS degree in chemistry from Boston...</td>\n",
       "      <td>2.0</td>\n",
       "      <td>http://accweb/emmployees/leverling.bmp</td>\n",
       "    </tr>\n",
       "    <tr>\n",
       "      <th>3</th>\n",
       "      <td>4</td>\n",
       "      <td>Peacock</td>\n",
       "      <td>Margaret</td>\n",
       "      <td>Sales Representative</td>\n",
       "      <td>Mrs.</td>\n",
       "      <td>1969-09-19</td>\n",
       "      <td>2025-05-03</td>\n",
       "      <td>4110 Old Redmond Rd.</td>\n",
       "      <td>Redmond</td>\n",
       "      <td>North America</td>\n",
       "      <td>98052</td>\n",
       "      <td>USA</td>\n",
       "      <td>(206) 555-8122</td>\n",
       "      <td>5176</td>\n",
       "      <td>None</td>\n",
       "      <td>Margaret holds a BA in English literature from...</td>\n",
       "      <td>2.0</td>\n",
       "      <td>http://accweb/emmployees/peacock.bmp</td>\n",
       "    </tr>\n",
       "    <tr>\n",
       "      <th>4</th>\n",
       "      <td>5</td>\n",
       "      <td>Buchanan</td>\n",
       "      <td>Steven</td>\n",
       "      <td>Sales Manager</td>\n",
       "      <td>Mr.</td>\n",
       "      <td>1987-03-04</td>\n",
       "      <td>2025-10-17</td>\n",
       "      <td>14 Garrett Hill</td>\n",
       "      <td>London</td>\n",
       "      <td>British Isles</td>\n",
       "      <td>SW1 8JR</td>\n",
       "      <td>UK</td>\n",
       "      <td>(71) 555-4848</td>\n",
       "      <td>3453</td>\n",
       "      <td>None</td>\n",
       "      <td>Steven Buchanan graduated from St. Andrews Uni...</td>\n",
       "      <td>2.0</td>\n",
       "      <td>http://accweb/emmployees/buchanan.bmp</td>\n",
       "    </tr>\n",
       "  </tbody>\n",
       "</table>\n",
       "</div>"
      ],
      "text/plain": [
       "   Id   LastName FirstName                  Title TitleOfCourtesy   BirthDate  \\\n",
       "0   1    Davolio     Nancy   Sales Representative             Ms.  1980-12-08   \n",
       "1   2     Fuller    Andrew  Vice President, Sales             Dr.  1984-02-19   \n",
       "2   3  Leverling     Janet   Sales Representative             Ms.  1995-08-30   \n",
       "3   4    Peacock  Margaret   Sales Representative            Mrs.  1969-09-19   \n",
       "4   5   Buchanan    Steven          Sales Manager             Mr.  1987-03-04   \n",
       "\n",
       "     HireDate                     Address      City         Region PostalCode  \\\n",
       "0  2024-05-01  507 - 20th Ave. E. Apt. 2A   Seattle  North America      98122   \n",
       "1  2024-08-14          908 W. Capital Way    Tacoma  North America      98401   \n",
       "2  2024-04-01          722 Moss Bay Blvd.  Kirkland  North America      98033   \n",
       "3  2025-05-03        4110 Old Redmond Rd.   Redmond  North America      98052   \n",
       "4  2025-10-17             14 Garrett Hill    London  British Isles    SW1 8JR   \n",
       "\n",
       "  Country       HomePhone Extension Photo  \\\n",
       "0     USA  (206) 555-9857      5467  None   \n",
       "1     USA  (206) 555-9482      3457  None   \n",
       "2     USA  (206) 555-3412      3355  None   \n",
       "3     USA  (206) 555-8122      5176  None   \n",
       "4      UK   (71) 555-4848      3453  None   \n",
       "\n",
       "                                               Notes  ReportsTo  \\\n",
       "0  Education includes a BA in psychology from Col...        2.0   \n",
       "1  Andrew received his BTS commercial in 1974 and...        NaN   \n",
       "2  Janet has a BS degree in chemistry from Boston...        2.0   \n",
       "3  Margaret holds a BA in English literature from...        2.0   \n",
       "4  Steven Buchanan graduated from St. Andrews Uni...        2.0   \n",
       "\n",
       "                                PhotoPath  \n",
       "0    http://accweb/emmployees/davolio.bmp  \n",
       "1     http://accweb/emmployees/fuller.bmp  \n",
       "2  http://accweb/emmployees/leverling.bmp  \n",
       "3    http://accweb/emmployees/peacock.bmp  \n",
       "4   http://accweb/emmployees/buchanan.bmp  "
      ]
     },
     "execution_count": 24,
     "metadata": {},
     "output_type": "execute_result"
    }
   ],
   "source": [
    "df_Employee.head()"
   ]
  },
  {
   "cell_type": "code",
   "execution_count": 25,
   "metadata": {},
   "outputs": [
    {
     "name": "stdout",
     "output_type": "stream",
     "text": [
      "<class 'pandas.core.frame.DataFrame'>\n",
      "RangeIndex: 9 entries, 0 to 8\n",
      "Data columns (total 18 columns):\n",
      "Id                 9 non-null int64\n",
      "LastName           9 non-null object\n",
      "FirstName          9 non-null object\n",
      "Title              9 non-null object\n",
      "TitleOfCourtesy    9 non-null object\n",
      "BirthDate          9 non-null object\n",
      "HireDate           9 non-null object\n",
      "Address            9 non-null object\n",
      "City               9 non-null object\n",
      "Region             9 non-null object\n",
      "PostalCode         9 non-null object\n",
      "Country            9 non-null object\n",
      "HomePhone          9 non-null object\n",
      "Extension          9 non-null object\n",
      "Photo              0 non-null object\n",
      "Notes              9 non-null object\n",
      "ReportsTo          8 non-null float64\n",
      "PhotoPath          9 non-null object\n",
      "dtypes: float64(1), int64(1), object(16)\n",
      "memory usage: 1.3+ KB\n",
      "None\n"
     ]
    }
   ],
   "source": [
    "print(df_Employee.info())"
   ]
  },
  {
   "cell_type": "code",
   "execution_count": 26,
   "metadata": {},
   "outputs": [
    {
     "data": {
      "text/html": [
       "<div>\n",
       "<style scoped>\n",
       "    .dataframe tbody tr th:only-of-type {\n",
       "        vertical-align: middle;\n",
       "    }\n",
       "\n",
       "    .dataframe tbody tr th {\n",
       "        vertical-align: top;\n",
       "    }\n",
       "\n",
       "    .dataframe thead th {\n",
       "        text-align: right;\n",
       "    }\n",
       "</style>\n",
       "<table border=\"1\" class=\"dataframe\">\n",
       "  <thead>\n",
       "    <tr style=\"text-align: right;\">\n",
       "      <th></th>\n",
       "      <th>FirstName</th>\n",
       "      <th>LastName</th>\n",
       "      <th>Region</th>\n",
       "      <th>Country</th>\n",
       "      <th>City</th>\n",
       "      <th>HireDate</th>\n",
       "    </tr>\n",
       "  </thead>\n",
       "  <tbody>\n",
       "    <tr>\n",
       "      <th>0</th>\n",
       "      <td>Nancy</td>\n",
       "      <td>Davolio</td>\n",
       "      <td>North America</td>\n",
       "      <td>USA</td>\n",
       "      <td>Seattle</td>\n",
       "      <td>2024-05-01</td>\n",
       "    </tr>\n",
       "    <tr>\n",
       "      <th>1</th>\n",
       "      <td>Andrew</td>\n",
       "      <td>Fuller</td>\n",
       "      <td>North America</td>\n",
       "      <td>USA</td>\n",
       "      <td>Tacoma</td>\n",
       "      <td>2024-08-14</td>\n",
       "    </tr>\n",
       "    <tr>\n",
       "      <th>2</th>\n",
       "      <td>Janet</td>\n",
       "      <td>Leverling</td>\n",
       "      <td>North America</td>\n",
       "      <td>USA</td>\n",
       "      <td>Kirkland</td>\n",
       "      <td>2024-04-01</td>\n",
       "    </tr>\n",
       "    <tr>\n",
       "      <th>3</th>\n",
       "      <td>Margaret</td>\n",
       "      <td>Peacock</td>\n",
       "      <td>North America</td>\n",
       "      <td>USA</td>\n",
       "      <td>Redmond</td>\n",
       "      <td>2025-05-03</td>\n",
       "    </tr>\n",
       "    <tr>\n",
       "      <th>4</th>\n",
       "      <td>Steven</td>\n",
       "      <td>Buchanan</td>\n",
       "      <td>British Isles</td>\n",
       "      <td>UK</td>\n",
       "      <td>London</td>\n",
       "      <td>2025-10-17</td>\n",
       "    </tr>\n",
       "    <tr>\n",
       "      <th>5</th>\n",
       "      <td>Michael</td>\n",
       "      <td>Suyama</td>\n",
       "      <td>British Isles</td>\n",
       "      <td>UK</td>\n",
       "      <td>London</td>\n",
       "      <td>2025-10-17</td>\n",
       "    </tr>\n",
       "    <tr>\n",
       "      <th>6</th>\n",
       "      <td>Robert</td>\n",
       "      <td>King</td>\n",
       "      <td>British Isles</td>\n",
       "      <td>UK</td>\n",
       "      <td>London</td>\n",
       "      <td>2026-01-02</td>\n",
       "    </tr>\n",
       "    <tr>\n",
       "      <th>7</th>\n",
       "      <td>Laura</td>\n",
       "      <td>Callahan</td>\n",
       "      <td>North America</td>\n",
       "      <td>USA</td>\n",
       "      <td>Seattle</td>\n",
       "      <td>2026-03-05</td>\n",
       "    </tr>\n",
       "    <tr>\n",
       "      <th>8</th>\n",
       "      <td>Anne</td>\n",
       "      <td>Dodsworth</td>\n",
       "      <td>British Isles</td>\n",
       "      <td>UK</td>\n",
       "      <td>London</td>\n",
       "      <td>2026-11-15</td>\n",
       "    </tr>\n",
       "  </tbody>\n",
       "</table>\n",
       "</div>"
      ],
      "text/plain": [
       "  FirstName   LastName         Region Country      City    HireDate\n",
       "0     Nancy    Davolio  North America     USA   Seattle  2024-05-01\n",
       "1    Andrew     Fuller  North America     USA    Tacoma  2024-08-14\n",
       "2     Janet  Leverling  North America     USA  Kirkland  2024-04-01\n",
       "3  Margaret    Peacock  North America     USA   Redmond  2025-05-03\n",
       "4    Steven   Buchanan  British Isles      UK    London  2025-10-17\n",
       "5   Michael     Suyama  British Isles      UK    London  2025-10-17\n",
       "6    Robert       King  British Isles      UK    London  2026-01-02\n",
       "7     Laura   Callahan  North America     USA   Seattle  2026-03-05\n",
       "8      Anne  Dodsworth  British Isles      UK    London  2026-11-15"
      ]
     },
     "execution_count": 26,
     "metadata": {},
     "output_type": "execute_result"
    }
   ],
   "source": [
    "df_employee_names = df_Employee.groupby(['FirstName', 'LastName'])['FirstName', 'LastName', 'Region', 'Country', 'City', 'HireDate']\n",
    "df_employee_names.head(10)"
   ]
  },
  {
   "cell_type": "markdown",
   "metadata": {},
   "source": [
    "Northwind had a total of nine employees who work mainly in the USA and offices in Seattle and London areas. In our EDA, we may choose to compare sales between the Seattle and London offices."
   ]
  },
  {
   "cell_type": "code",
   "execution_count": 27,
   "metadata": {},
   "outputs": [],
   "source": [
    "#filling the missing value in the ReportsTo column:\n",
    "df_Employee.ReportsTo.fillna(2.0, inplace = True)"
   ]
  },
  {
   "cell_type": "code",
   "execution_count": 28,
   "metadata": {},
   "outputs": [
    {
     "name": "stdout",
     "output_type": "stream",
     "text": [
      "<class 'pandas.core.frame.DataFrame'>\n",
      "RangeIndex: 9 entries, 0 to 8\n",
      "Data columns (total 18 columns):\n",
      "Id                 9 non-null int64\n",
      "LastName           9 non-null object\n",
      "FirstName          9 non-null object\n",
      "Title              9 non-null object\n",
      "TitleOfCourtesy    9 non-null object\n",
      "BirthDate          9 non-null object\n",
      "HireDate           9 non-null object\n",
      "Address            9 non-null object\n",
      "City               9 non-null object\n",
      "Region             9 non-null object\n",
      "PostalCode         9 non-null object\n",
      "Country            9 non-null object\n",
      "HomePhone          9 non-null object\n",
      "Extension          9 non-null object\n",
      "Photo              0 non-null object\n",
      "Notes              9 non-null object\n",
      "ReportsTo          9 non-null float64\n",
      "PhotoPath          9 non-null object\n",
      "dtypes: float64(1), int64(1), object(16)\n",
      "memory usage: 1.3+ KB\n"
     ]
    }
   ],
   "source": [
    "df_Employee.info()"
   ]
  },
  {
   "cell_type": "code",
   "execution_count": 29,
   "metadata": {},
   "outputs": [
    {
     "data": {
      "text/html": [
       "<div>\n",
       "<style scoped>\n",
       "    .dataframe tbody tr th:only-of-type {\n",
       "        vertical-align: middle;\n",
       "    }\n",
       "\n",
       "    .dataframe tbody tr th {\n",
       "        vertical-align: top;\n",
       "    }\n",
       "\n",
       "    .dataframe thead th {\n",
       "        text-align: right;\n",
       "    }\n",
       "</style>\n",
       "<table border=\"1\" class=\"dataframe\">\n",
       "  <thead>\n",
       "    <tr style=\"text-align: right;\">\n",
       "      <th></th>\n",
       "      <th>Id</th>\n",
       "      <th>EmployeeId</th>\n",
       "      <th>TerritoryId</th>\n",
       "    </tr>\n",
       "  </thead>\n",
       "  <tbody>\n",
       "    <tr>\n",
       "      <th>0</th>\n",
       "      <td>1/06897</td>\n",
       "      <td>1</td>\n",
       "      <td>06897</td>\n",
       "    </tr>\n",
       "    <tr>\n",
       "      <th>1</th>\n",
       "      <td>1/19713</td>\n",
       "      <td>1</td>\n",
       "      <td>19713</td>\n",
       "    </tr>\n",
       "    <tr>\n",
       "      <th>2</th>\n",
       "      <td>2/01581</td>\n",
       "      <td>2</td>\n",
       "      <td>01581</td>\n",
       "    </tr>\n",
       "    <tr>\n",
       "      <th>3</th>\n",
       "      <td>2/01730</td>\n",
       "      <td>2</td>\n",
       "      <td>01730</td>\n",
       "    </tr>\n",
       "    <tr>\n",
       "      <th>4</th>\n",
       "      <td>2/01833</td>\n",
       "      <td>2</td>\n",
       "      <td>01833</td>\n",
       "    </tr>\n",
       "  </tbody>\n",
       "</table>\n",
       "</div>"
      ],
      "text/plain": [
       "        Id  EmployeeId TerritoryId\n",
       "0  1/06897           1       06897\n",
       "1  1/19713           1       19713\n",
       "2  2/01581           2       01581\n",
       "3  2/01730           2       01730\n",
       "4  2/01833           2       01833"
      ]
     },
     "execution_count": 29,
     "metadata": {},
     "output_type": "execute_result"
    }
   ],
   "source": [
    "df_EmployeeTerritory.head()"
   ]
  },
  {
   "cell_type": "code",
   "execution_count": 30,
   "metadata": {},
   "outputs": [
    {
     "name": "stdout",
     "output_type": "stream",
     "text": [
      "<class 'pandas.core.frame.DataFrame'>\n",
      "RangeIndex: 49 entries, 0 to 48\n",
      "Data columns (total 3 columns):\n",
      "Id             49 non-null object\n",
      "EmployeeId     49 non-null int64\n",
      "TerritoryId    49 non-null object\n",
      "dtypes: int64(1), object(2)\n",
      "memory usage: 1.2+ KB\n"
     ]
    }
   ],
   "source": [
    "df_EmployeeTerritory.info()"
   ]
  },
  {
   "cell_type": "code",
   "execution_count": 31,
   "metadata": {},
   "outputs": [
    {
     "name": "stdout",
     "output_type": "stream",
     "text": [
      "<class 'pandas.core.frame.DataFrame'>\n",
      "RangeIndex: 4 entries, 0 to 3\n",
      "Data columns (total 2 columns):\n",
      "Id                   4 non-null int64\n",
      "RegionDescription    4 non-null object\n",
      "dtypes: int64(1), object(1)\n",
      "memory usage: 144.0+ bytes\n",
      "None\n"
     ]
    },
    {
     "data": {
      "text/html": [
       "<div>\n",
       "<style scoped>\n",
       "    .dataframe tbody tr th:only-of-type {\n",
       "        vertical-align: middle;\n",
       "    }\n",
       "\n",
       "    .dataframe tbody tr th {\n",
       "        vertical-align: top;\n",
       "    }\n",
       "\n",
       "    .dataframe thead th {\n",
       "        text-align: right;\n",
       "    }\n",
       "</style>\n",
       "<table border=\"1\" class=\"dataframe\">\n",
       "  <thead>\n",
       "    <tr style=\"text-align: right;\">\n",
       "      <th></th>\n",
       "      <th>Id</th>\n",
       "      <th>RegionDescription</th>\n",
       "    </tr>\n",
       "  </thead>\n",
       "  <tbody>\n",
       "    <tr>\n",
       "      <th>0</th>\n",
       "      <td>1</td>\n",
       "      <td>Eastern</td>\n",
       "    </tr>\n",
       "    <tr>\n",
       "      <th>1</th>\n",
       "      <td>2</td>\n",
       "      <td>Western</td>\n",
       "    </tr>\n",
       "    <tr>\n",
       "      <th>2</th>\n",
       "      <td>3</td>\n",
       "      <td>Northern</td>\n",
       "    </tr>\n",
       "    <tr>\n",
       "      <th>3</th>\n",
       "      <td>4</td>\n",
       "      <td>Southern</td>\n",
       "    </tr>\n",
       "  </tbody>\n",
       "</table>\n",
       "</div>"
      ],
      "text/plain": [
       "   Id RegionDescription\n",
       "0   1           Eastern\n",
       "1   2           Western\n",
       "2   3          Northern\n",
       "3   4          Southern"
      ]
     },
     "execution_count": 31,
     "metadata": {},
     "output_type": "execute_result"
    }
   ],
   "source": [
    "print(df_region.info())\n",
    "df_region.head()"
   ]
  },
  {
   "cell_type": "code",
   "execution_count": 32,
   "metadata": {},
   "outputs": [
    {
     "name": "stdout",
     "output_type": "stream",
     "text": [
      "2019-08-19 09:04:56,633 INFO sqlalchemy.engine.base.Engine SELECT e.LastName, t.TerritoryDescription, r.RegionDescription             FROM [Employee] e             INNER JOIN [EmployeeTerritory] et on et.EmployeeId = e.Id             INNER JOIN [Territory] t on t.Id = et.TerritoryId             INNER JOIN [Region] r on r.Id = t.RegionId\n",
      "            GROUP BY e.LastName\n",
      "            ORDER BY r.RegionDescription ASC;\n",
      "2019-08-19 09:04:56,635 INFO sqlalchemy.engine.base.Engine ()\n"
     ]
    },
    {
     "data": {
      "text/html": [
       "<div>\n",
       "<style scoped>\n",
       "    .dataframe tbody tr th:only-of-type {\n",
       "        vertical-align: middle;\n",
       "    }\n",
       "\n",
       "    .dataframe tbody tr th {\n",
       "        vertical-align: top;\n",
       "    }\n",
       "\n",
       "    .dataframe thead th {\n",
       "        text-align: right;\n",
       "    }\n",
       "</style>\n",
       "<table border=\"1\" class=\"dataframe\">\n",
       "  <thead>\n",
       "    <tr style=\"text-align: right;\">\n",
       "      <th></th>\n",
       "      <th>LastName</th>\n",
       "      <th>TerritoryDescription</th>\n",
       "      <th>RegionDescription</th>\n",
       "    </tr>\n",
       "  </thead>\n",
       "  <tbody>\n",
       "    <tr>\n",
       "      <th>0</th>\n",
       "      <td>Buchanan</td>\n",
       "      <td>Providence</td>\n",
       "      <td>Eastern</td>\n",
       "    </tr>\n",
       "    <tr>\n",
       "      <th>1</th>\n",
       "      <td>Davolio</td>\n",
       "      <td>Wilton</td>\n",
       "      <td>Eastern</td>\n",
       "    </tr>\n",
       "    <tr>\n",
       "      <th>2</th>\n",
       "      <td>Fuller</td>\n",
       "      <td>Westboro</td>\n",
       "      <td>Eastern</td>\n",
       "    </tr>\n",
       "    <tr>\n",
       "      <th>3</th>\n",
       "      <td>Peacock</td>\n",
       "      <td>Rockville</td>\n",
       "      <td>Eastern</td>\n",
       "    </tr>\n",
       "    <tr>\n",
       "      <th>4</th>\n",
       "      <td>Callahan</td>\n",
       "      <td>Philadelphia</td>\n",
       "      <td>Northern</td>\n",
       "    </tr>\n",
       "    <tr>\n",
       "      <th>5</th>\n",
       "      <td>Dodsworth</td>\n",
       "      <td>Hollis</td>\n",
       "      <td>Northern</td>\n",
       "    </tr>\n",
       "    <tr>\n",
       "      <th>6</th>\n",
       "      <td>Leverling</td>\n",
       "      <td>Atlanta</td>\n",
       "      <td>Southern</td>\n",
       "    </tr>\n",
       "    <tr>\n",
       "      <th>7</th>\n",
       "      <td>King</td>\n",
       "      <td>Hoffman Estates</td>\n",
       "      <td>Western</td>\n",
       "    </tr>\n",
       "    <tr>\n",
       "      <th>8</th>\n",
       "      <td>Suyama</td>\n",
       "      <td>Phoenix</td>\n",
       "      <td>Western</td>\n",
       "    </tr>\n",
       "  </tbody>\n",
       "</table>\n",
       "</div>"
      ],
      "text/plain": [
       "    LastName TerritoryDescription RegionDescription\n",
       "0   Buchanan           Providence           Eastern\n",
       "1    Davolio               Wilton           Eastern\n",
       "2     Fuller             Westboro           Eastern\n",
       "3    Peacock            Rockville           Eastern\n",
       "4   Callahan         Philadelphia          Northern\n",
       "5  Dodsworth               Hollis          Northern\n",
       "6  Leverling              Atlanta          Southern\n",
       "7       King      Hoffman Estates           Western\n",
       "8     Suyama              Phoenix           Western"
      ]
     },
     "execution_count": 32,
     "metadata": {},
     "output_type": "execute_result"
    }
   ],
   "source": [
    "# Can we indentify employee territories? Where they make their sales?\n",
    "df_employee_terr_pairs = pd.read_sql_query(\"\"\"SELECT e.LastName, t.TerritoryDescription, r.RegionDescription \\\n",
    "            FROM [Employee] e \\\n",
    "            INNER JOIN [EmployeeTerritory] et on et.EmployeeId = e.Id \\\n",
    "            INNER JOIN [Territory] t on t.Id = et.TerritoryId \\\n",
    "            INNER JOIN [Region] r on r.Id = t.RegionId\n",
    "            GROUP BY e.LastName\n",
    "            ORDER BY r.RegionDescription ASC;\"\"\", engine)\n",
    "df_employee_terr_pairs.head(10)"
   ]
  },
  {
   "cell_type": "markdown",
   "metadata": {},
   "source": [
    "Looks like most of Northwind's employees is assigned to the Eastern region. In our EDA, we may investigate if there are some high performing regions where Northwind could do future business."
   ]
  },
  {
   "cell_type": "markdown",
   "metadata": {},
   "source": [
    "## Order, Order Detail Table"
   ]
  },
  {
   "cell_type": "code",
   "execution_count": 33,
   "metadata": {},
   "outputs": [
    {
     "data": {
      "text/html": [
       "<div>\n",
       "<style scoped>\n",
       "    .dataframe tbody tr th:only-of-type {\n",
       "        vertical-align: middle;\n",
       "    }\n",
       "\n",
       "    .dataframe tbody tr th {\n",
       "        vertical-align: top;\n",
       "    }\n",
       "\n",
       "    .dataframe thead th {\n",
       "        text-align: right;\n",
       "    }\n",
       "</style>\n",
       "<table border=\"1\" class=\"dataframe\">\n",
       "  <thead>\n",
       "    <tr style=\"text-align: right;\">\n",
       "      <th></th>\n",
       "      <th>Id</th>\n",
       "      <th>CustomerId</th>\n",
       "      <th>EmployeeId</th>\n",
       "      <th>OrderDate</th>\n",
       "      <th>RequiredDate</th>\n",
       "      <th>ShippedDate</th>\n",
       "      <th>ShipVia</th>\n",
       "      <th>Freight</th>\n",
       "      <th>ShipName</th>\n",
       "      <th>ShipAddress</th>\n",
       "      <th>ShipCity</th>\n",
       "      <th>ShipRegion</th>\n",
       "      <th>ShipPostalCode</th>\n",
       "      <th>ShipCountry</th>\n",
       "    </tr>\n",
       "  </thead>\n",
       "  <tbody>\n",
       "    <tr>\n",
       "      <th>0</th>\n",
       "      <td>10248</td>\n",
       "      <td>VINET</td>\n",
       "      <td>5</td>\n",
       "      <td>2012-07-04</td>\n",
       "      <td>2012-08-01</td>\n",
       "      <td>2012-07-16</td>\n",
       "      <td>3</td>\n",
       "      <td>32.38</td>\n",
       "      <td>Vins et alcools Chevalier</td>\n",
       "      <td>59 rue de l'Abbaye</td>\n",
       "      <td>Reims</td>\n",
       "      <td>Western Europe</td>\n",
       "      <td>51100</td>\n",
       "      <td>France</td>\n",
       "    </tr>\n",
       "    <tr>\n",
       "      <th>1</th>\n",
       "      <td>10249</td>\n",
       "      <td>TOMSP</td>\n",
       "      <td>6</td>\n",
       "      <td>2012-07-05</td>\n",
       "      <td>2012-08-16</td>\n",
       "      <td>2012-07-10</td>\n",
       "      <td>1</td>\n",
       "      <td>11.61</td>\n",
       "      <td>Toms Spezialitäten</td>\n",
       "      <td>Luisenstr. 48</td>\n",
       "      <td>Münster</td>\n",
       "      <td>Western Europe</td>\n",
       "      <td>44087</td>\n",
       "      <td>Germany</td>\n",
       "    </tr>\n",
       "    <tr>\n",
       "      <th>2</th>\n",
       "      <td>10250</td>\n",
       "      <td>HANAR</td>\n",
       "      <td>4</td>\n",
       "      <td>2012-07-08</td>\n",
       "      <td>2012-08-05</td>\n",
       "      <td>2012-07-12</td>\n",
       "      <td>2</td>\n",
       "      <td>65.83</td>\n",
       "      <td>Hanari Carnes</td>\n",
       "      <td>Rua do Paço, 67</td>\n",
       "      <td>Rio de Janeiro</td>\n",
       "      <td>South America</td>\n",
       "      <td>05454-876</td>\n",
       "      <td>Brazil</td>\n",
       "    </tr>\n",
       "    <tr>\n",
       "      <th>3</th>\n",
       "      <td>10251</td>\n",
       "      <td>VICTE</td>\n",
       "      <td>3</td>\n",
       "      <td>2012-07-08</td>\n",
       "      <td>2012-08-05</td>\n",
       "      <td>2012-07-15</td>\n",
       "      <td>1</td>\n",
       "      <td>41.34</td>\n",
       "      <td>Victuailles en stock</td>\n",
       "      <td>2, rue du Commerce</td>\n",
       "      <td>Lyon</td>\n",
       "      <td>Western Europe</td>\n",
       "      <td>69004</td>\n",
       "      <td>France</td>\n",
       "    </tr>\n",
       "    <tr>\n",
       "      <th>4</th>\n",
       "      <td>10252</td>\n",
       "      <td>SUPRD</td>\n",
       "      <td>4</td>\n",
       "      <td>2012-07-09</td>\n",
       "      <td>2012-08-06</td>\n",
       "      <td>2012-07-11</td>\n",
       "      <td>2</td>\n",
       "      <td>51.30</td>\n",
       "      <td>Suprêmes délices</td>\n",
       "      <td>Boulevard Tirou, 255</td>\n",
       "      <td>Charleroi</td>\n",
       "      <td>Western Europe</td>\n",
       "      <td>B-6000</td>\n",
       "      <td>Belgium</td>\n",
       "    </tr>\n",
       "  </tbody>\n",
       "</table>\n",
       "</div>"
      ],
      "text/plain": [
       "      Id CustomerId  EmployeeId   OrderDate RequiredDate ShippedDate  ShipVia  \\\n",
       "0  10248      VINET           5  2012-07-04   2012-08-01  2012-07-16        3   \n",
       "1  10249      TOMSP           6  2012-07-05   2012-08-16  2012-07-10        1   \n",
       "2  10250      HANAR           4  2012-07-08   2012-08-05  2012-07-12        2   \n",
       "3  10251      VICTE           3  2012-07-08   2012-08-05  2012-07-15        1   \n",
       "4  10252      SUPRD           4  2012-07-09   2012-08-06  2012-07-11        2   \n",
       "\n",
       "   Freight                   ShipName           ShipAddress        ShipCity  \\\n",
       "0    32.38  Vins et alcools Chevalier    59 rue de l'Abbaye           Reims   \n",
       "1    11.61         Toms Spezialitäten         Luisenstr. 48         Münster   \n",
       "2    65.83              Hanari Carnes       Rua do Paço, 67  Rio de Janeiro   \n",
       "3    41.34       Victuailles en stock    2, rue du Commerce            Lyon   \n",
       "4    51.30           Suprêmes délices  Boulevard Tirou, 255       Charleroi   \n",
       "\n",
       "       ShipRegion ShipPostalCode ShipCountry  \n",
       "0  Western Europe          51100      France  \n",
       "1  Western Europe          44087     Germany  \n",
       "2   South America      05454-876      Brazil  \n",
       "3  Western Europe          69004      France  \n",
       "4  Western Europe         B-6000     Belgium  "
      ]
     },
     "execution_count": 33,
     "metadata": {},
     "output_type": "execute_result"
    }
   ],
   "source": [
    "df_order.head()"
   ]
  },
  {
   "cell_type": "code",
   "execution_count": 34,
   "metadata": {},
   "outputs": [
    {
     "name": "stdout",
     "output_type": "stream",
     "text": [
      "<class 'pandas.core.frame.DataFrame'>\n",
      "RangeIndex: 830 entries, 0 to 829\n",
      "Data columns (total 14 columns):\n",
      "Id                830 non-null int64\n",
      "CustomerId        830 non-null object\n",
      "EmployeeId        830 non-null int64\n",
      "OrderDate         830 non-null object\n",
      "RequiredDate      830 non-null object\n",
      "ShippedDate       809 non-null object\n",
      "ShipVia           830 non-null int64\n",
      "Freight           830 non-null float64\n",
      "ShipName          830 non-null object\n",
      "ShipAddress       830 non-null object\n",
      "ShipCity          830 non-null object\n",
      "ShipRegion        830 non-null object\n",
      "ShipPostalCode    811 non-null object\n",
      "ShipCountry       830 non-null object\n",
      "dtypes: float64(1), int64(3), object(10)\n",
      "memory usage: 90.9+ KB\n",
      "None\n"
     ]
    }
   ],
   "source": [
    "print(df_order.info())"
   ]
  },
  {
   "cell_type": "code",
   "execution_count": 35,
   "metadata": {},
   "outputs": [
    {
     "data": {
      "text/plain": [
       "array(['Western Europe', 'South America', 'Central America',\n",
       "       'North America', 'Northern Europe', 'Scandinavia',\n",
       "       'Southern Europe', 'British Isles', 'Eastern Europe'], dtype=object)"
      ]
     },
     "execution_count": 35,
     "metadata": {},
     "output_type": "execute_result"
    }
   ],
   "source": [
    "df_order.ShipRegion.unique()"
   ]
  },
  {
   "cell_type": "code",
   "execution_count": 36,
   "metadata": {},
   "outputs": [
    {
     "data": {
      "text/html": [
       "<div>\n",
       "<style scoped>\n",
       "    .dataframe tbody tr th:only-of-type {\n",
       "        vertical-align: middle;\n",
       "    }\n",
       "\n",
       "    .dataframe tbody tr th {\n",
       "        vertical-align: top;\n",
       "    }\n",
       "\n",
       "    .dataframe thead th {\n",
       "        text-align: right;\n",
       "    }\n",
       "</style>\n",
       "<table border=\"1\" class=\"dataframe\">\n",
       "  <thead>\n",
       "    <tr style=\"text-align: right;\">\n",
       "      <th></th>\n",
       "      <th>Id</th>\n",
       "      <th>OrderId</th>\n",
       "      <th>ProductId</th>\n",
       "      <th>UnitPrice</th>\n",
       "      <th>Quantity</th>\n",
       "      <th>Discount</th>\n",
       "    </tr>\n",
       "  </thead>\n",
       "  <tbody>\n",
       "    <tr>\n",
       "      <th>0</th>\n",
       "      <td>10248/11</td>\n",
       "      <td>10248</td>\n",
       "      <td>11</td>\n",
       "      <td>14.0</td>\n",
       "      <td>12</td>\n",
       "      <td>0.0</td>\n",
       "    </tr>\n",
       "    <tr>\n",
       "      <th>1</th>\n",
       "      <td>10248/42</td>\n",
       "      <td>10248</td>\n",
       "      <td>42</td>\n",
       "      <td>9.8</td>\n",
       "      <td>10</td>\n",
       "      <td>0.0</td>\n",
       "    </tr>\n",
       "    <tr>\n",
       "      <th>2</th>\n",
       "      <td>10248/72</td>\n",
       "      <td>10248</td>\n",
       "      <td>72</td>\n",
       "      <td>34.8</td>\n",
       "      <td>5</td>\n",
       "      <td>0.0</td>\n",
       "    </tr>\n",
       "    <tr>\n",
       "      <th>3</th>\n",
       "      <td>10249/14</td>\n",
       "      <td>10249</td>\n",
       "      <td>14</td>\n",
       "      <td>18.6</td>\n",
       "      <td>9</td>\n",
       "      <td>0.0</td>\n",
       "    </tr>\n",
       "    <tr>\n",
       "      <th>4</th>\n",
       "      <td>10249/51</td>\n",
       "      <td>10249</td>\n",
       "      <td>51</td>\n",
       "      <td>42.4</td>\n",
       "      <td>40</td>\n",
       "      <td>0.0</td>\n",
       "    </tr>\n",
       "  </tbody>\n",
       "</table>\n",
       "</div>"
      ],
      "text/plain": [
       "         Id  OrderId  ProductId  UnitPrice  Quantity  Discount\n",
       "0  10248/11    10248         11       14.0        12       0.0\n",
       "1  10248/42    10248         42        9.8        10       0.0\n",
       "2  10248/72    10248         72       34.8         5       0.0\n",
       "3  10249/14    10249         14       18.6         9       0.0\n",
       "4  10249/51    10249         51       42.4        40       0.0"
      ]
     },
     "execution_count": 36,
     "metadata": {},
     "output_type": "execute_result"
    }
   ],
   "source": [
    "df_OrderDetail.head()"
   ]
  },
  {
   "cell_type": "code",
   "execution_count": 37,
   "metadata": {},
   "outputs": [
    {
     "name": "stdout",
     "output_type": "stream",
     "text": [
      "<class 'pandas.core.frame.DataFrame'>\n",
      "RangeIndex: 2155 entries, 0 to 2154\n",
      "Data columns (total 6 columns):\n",
      "Id           2155 non-null object\n",
      "OrderId      2155 non-null int64\n",
      "ProductId    2155 non-null int64\n",
      "UnitPrice    2155 non-null float64\n",
      "Quantity     2155 non-null int64\n",
      "Discount     2155 non-null float64\n",
      "dtypes: float64(2), int64(3), object(1)\n",
      "memory usage: 101.1+ KB\n"
     ]
    }
   ],
   "source": [
    "df_OrderDetail.info()"
   ]
  },
  {
   "cell_type": "code",
   "execution_count": 38,
   "metadata": {},
   "outputs": [
    {
     "name": "stdout",
     "output_type": "stream",
     "text": [
      "2019-08-19 09:05:13,612 INFO sqlalchemy.engine.base.Engine SELECT o.ShipRegion,             SUM(od.Quantity * od.UnitPrice * (1-od.Discount)) TotalRev             FROM [OrderDetail] od             INNER JOIN [Order] o on o.Id = od.OrderId             GROUP BY o.ShipRegion             ORDER BY TotalRev DESC\n",
      "2019-08-19 09:05:13,613 INFO sqlalchemy.engine.base.Engine ()\n"
     ]
    },
    {
     "data": {
      "text/html": [
       "<div>\n",
       "<style scoped>\n",
       "    .dataframe tbody tr th:only-of-type {\n",
       "        vertical-align: middle;\n",
       "    }\n",
       "\n",
       "    .dataframe tbody tr th {\n",
       "        vertical-align: top;\n",
       "    }\n",
       "\n",
       "    .dataframe thead th {\n",
       "        text-align: right;\n",
       "    }\n",
       "</style>\n",
       "<table border=\"1\" class=\"dataframe\">\n",
       "  <thead>\n",
       "    <tr style=\"text-align: right;\">\n",
       "      <th></th>\n",
       "      <th>ShipRegion</th>\n",
       "      <th>TotalRev</th>\n",
       "    </tr>\n",
       "  </thead>\n",
       "  <tbody>\n",
       "    <tr>\n",
       "      <th>0</th>\n",
       "      <td>Western Europe</td>\n",
       "      <td>505164.3085</td>\n",
       "    </tr>\n",
       "    <tr>\n",
       "      <th>1</th>\n",
       "      <td>North America</td>\n",
       "      <td>295780.9005</td>\n",
       "    </tr>\n",
       "    <tr>\n",
       "      <th>2</th>\n",
       "      <td>South America</td>\n",
       "      <td>171855.5055</td>\n",
       "    </tr>\n",
       "    <tr>\n",
       "      <th>3</th>\n",
       "      <td>British Isles</td>\n",
       "      <td>108951.2150</td>\n",
       "    </tr>\n",
       "    <tr>\n",
       "      <th>4</th>\n",
       "      <td>Northern Europe</td>\n",
       "      <td>87156.1625</td>\n",
       "    </tr>\n",
       "    <tr>\n",
       "      <th>5</th>\n",
       "      <td>Southern Europe</td>\n",
       "      <td>45225.7175</td>\n",
       "    </tr>\n",
       "    <tr>\n",
       "      <th>6</th>\n",
       "      <td>Scandinavia</td>\n",
       "      <td>24545.2025</td>\n",
       "    </tr>\n",
       "    <tr>\n",
       "      <th>7</th>\n",
       "      <td>Central America</td>\n",
       "      <td>23582.0775</td>\n",
       "    </tr>\n",
       "    <tr>\n",
       "      <th>8</th>\n",
       "      <td>Eastern Europe</td>\n",
       "      <td>3531.9500</td>\n",
       "    </tr>\n",
       "  </tbody>\n",
       "</table>\n",
       "</div>"
      ],
      "text/plain": [
       "        ShipRegion     TotalRev\n",
       "0   Western Europe  505164.3085\n",
       "1    North America  295780.9005\n",
       "2    South America  171855.5055\n",
       "3    British Isles  108951.2150\n",
       "4  Northern Europe   87156.1625\n",
       "5  Southern Europe   45225.7175\n",
       "6      Scandinavia   24545.2025\n",
       "7  Central America   23582.0775\n",
       "8   Eastern Europe    3531.9500"
      ]
     },
     "execution_count": 38,
     "metadata": {},
     "output_type": "execute_result"
    }
   ],
   "source": [
    "\n",
    "df_region_review = pd.read_sql_query(\"\"\"SELECT o.ShipRegion, \\\n",
    "            SUM(od.Quantity * od.UnitPrice * (1-od.Discount)) TotalRev \\\n",
    "            FROM [OrderDetail] od \\\n",
    "            INNER JOIN [Order] o on o.Id = od.OrderId \\\n",
    "            GROUP BY o.ShipRegion \\\n",
    "            ORDER BY TotalRev DESC\"\"\", engine)\n",
    "df_region_review.head(10)"
   ]
  },
  {
   "cell_type": "code",
   "execution_count": 39,
   "metadata": {},
   "outputs": [],
   "source": [
    "#dropping ShippingPostalCode column:\n",
    "df_order.drop(['ShipPostalCode'], axis = 1, inplace = True)"
   ]
  },
  {
   "cell_type": "code",
   "execution_count": 40,
   "metadata": {},
   "outputs": [],
   "source": [
    "#fill ShippedDate column:\n",
    "df_order.ShippedDate.fillna('0', inplace = True)"
   ]
  },
  {
   "cell_type": "markdown",
   "metadata": {},
   "source": [
    "## Shipper, Supplier table"
   ]
  },
  {
   "cell_type": "code",
   "execution_count": 41,
   "metadata": {},
   "outputs": [
    {
     "data": {
      "text/html": [
       "<div>\n",
       "<style scoped>\n",
       "    .dataframe tbody tr th:only-of-type {\n",
       "        vertical-align: middle;\n",
       "    }\n",
       "\n",
       "    .dataframe tbody tr th {\n",
       "        vertical-align: top;\n",
       "    }\n",
       "\n",
       "    .dataframe thead th {\n",
       "        text-align: right;\n",
       "    }\n",
       "</style>\n",
       "<table border=\"1\" class=\"dataframe\">\n",
       "  <thead>\n",
       "    <tr style=\"text-align: right;\">\n",
       "      <th></th>\n",
       "      <th>Id</th>\n",
       "      <th>CompanyName</th>\n",
       "      <th>Phone</th>\n",
       "    </tr>\n",
       "  </thead>\n",
       "  <tbody>\n",
       "    <tr>\n",
       "      <th>0</th>\n",
       "      <td>1</td>\n",
       "      <td>Speedy Express</td>\n",
       "      <td>(503) 555-9831</td>\n",
       "    </tr>\n",
       "    <tr>\n",
       "      <th>1</th>\n",
       "      <td>2</td>\n",
       "      <td>United Package</td>\n",
       "      <td>(503) 555-3199</td>\n",
       "    </tr>\n",
       "    <tr>\n",
       "      <th>2</th>\n",
       "      <td>3</td>\n",
       "      <td>Federal Shipping</td>\n",
       "      <td>(503) 555-9931</td>\n",
       "    </tr>\n",
       "  </tbody>\n",
       "</table>\n",
       "</div>"
      ],
      "text/plain": [
       "   Id       CompanyName           Phone\n",
       "0   1    Speedy Express  (503) 555-9831\n",
       "1   2    United Package  (503) 555-3199\n",
       "2   3  Federal Shipping  (503) 555-9931"
      ]
     },
     "execution_count": 41,
     "metadata": {},
     "output_type": "execute_result"
    }
   ],
   "source": [
    "df_Shipper.head()"
   ]
  },
  {
   "cell_type": "code",
   "execution_count": 42,
   "metadata": {},
   "outputs": [
    {
     "name": "stdout",
     "output_type": "stream",
     "text": [
      "<class 'pandas.core.frame.DataFrame'>\n",
      "RangeIndex: 3 entries, 0 to 2\n",
      "Data columns (total 3 columns):\n",
      "Id             3 non-null int64\n",
      "CompanyName    3 non-null object\n",
      "Phone          3 non-null object\n",
      "dtypes: int64(1), object(2)\n",
      "memory usage: 152.0+ bytes\n"
     ]
    }
   ],
   "source": [
    "df_Shipper.info()"
   ]
  },
  {
   "cell_type": "code",
   "execution_count": 43,
   "metadata": {},
   "outputs": [
    {
     "data": {
      "text/html": [
       "<div>\n",
       "<style scoped>\n",
       "    .dataframe tbody tr th:only-of-type {\n",
       "        vertical-align: middle;\n",
       "    }\n",
       "\n",
       "    .dataframe tbody tr th {\n",
       "        vertical-align: top;\n",
       "    }\n",
       "\n",
       "    .dataframe thead th {\n",
       "        text-align: right;\n",
       "    }\n",
       "</style>\n",
       "<table border=\"1\" class=\"dataframe\">\n",
       "  <thead>\n",
       "    <tr style=\"text-align: right;\">\n",
       "      <th></th>\n",
       "      <th>Id</th>\n",
       "      <th>CompanyName</th>\n",
       "      <th>ContactName</th>\n",
       "      <th>ContactTitle</th>\n",
       "      <th>Address</th>\n",
       "      <th>City</th>\n",
       "      <th>Region</th>\n",
       "      <th>PostalCode</th>\n",
       "      <th>Country</th>\n",
       "      <th>Phone</th>\n",
       "      <th>Fax</th>\n",
       "      <th>HomePage</th>\n",
       "    </tr>\n",
       "  </thead>\n",
       "  <tbody>\n",
       "    <tr>\n",
       "      <th>0</th>\n",
       "      <td>1</td>\n",
       "      <td>Exotic Liquids</td>\n",
       "      <td>Charlotte Cooper</td>\n",
       "      <td>Purchasing Manager</td>\n",
       "      <td>49 Gilbert St.</td>\n",
       "      <td>London</td>\n",
       "      <td>British Isles</td>\n",
       "      <td>EC1 4SD</td>\n",
       "      <td>UK</td>\n",
       "      <td>(171) 555-2222</td>\n",
       "      <td>None</td>\n",
       "      <td>None</td>\n",
       "    </tr>\n",
       "    <tr>\n",
       "      <th>1</th>\n",
       "      <td>2</td>\n",
       "      <td>New Orleans Cajun Delights</td>\n",
       "      <td>Shelley Burke</td>\n",
       "      <td>Order Administrator</td>\n",
       "      <td>P.O. Box 78934</td>\n",
       "      <td>New Orleans</td>\n",
       "      <td>North America</td>\n",
       "      <td>70117</td>\n",
       "      <td>USA</td>\n",
       "      <td>(100) 555-4822</td>\n",
       "      <td>None</td>\n",
       "      <td>#CAJUN.HTM#</td>\n",
       "    </tr>\n",
       "    <tr>\n",
       "      <th>2</th>\n",
       "      <td>3</td>\n",
       "      <td>Grandma Kelly's Homestead</td>\n",
       "      <td>Regina Murphy</td>\n",
       "      <td>Sales Representative</td>\n",
       "      <td>707 Oxford Rd.</td>\n",
       "      <td>Ann Arbor</td>\n",
       "      <td>North America</td>\n",
       "      <td>48104</td>\n",
       "      <td>USA</td>\n",
       "      <td>(313) 555-5735</td>\n",
       "      <td>(313) 555-3349</td>\n",
       "      <td>None</td>\n",
       "    </tr>\n",
       "    <tr>\n",
       "      <th>3</th>\n",
       "      <td>4</td>\n",
       "      <td>Tokyo Traders</td>\n",
       "      <td>Yoshi Nagase</td>\n",
       "      <td>Marketing Manager</td>\n",
       "      <td>9-8 Sekimai Musashino-shi</td>\n",
       "      <td>Tokyo</td>\n",
       "      <td>Eastern Asia</td>\n",
       "      <td>100</td>\n",
       "      <td>Japan</td>\n",
       "      <td>(03) 3555-5011</td>\n",
       "      <td>None</td>\n",
       "      <td>None</td>\n",
       "    </tr>\n",
       "    <tr>\n",
       "      <th>4</th>\n",
       "      <td>5</td>\n",
       "      <td>Cooperativa de Quesos 'Las Cabras'</td>\n",
       "      <td>Antonio del Valle Saavedra</td>\n",
       "      <td>Export Administrator</td>\n",
       "      <td>Calle del Rosal 4</td>\n",
       "      <td>Oviedo</td>\n",
       "      <td>Southern Europe</td>\n",
       "      <td>33007</td>\n",
       "      <td>Spain</td>\n",
       "      <td>(98) 598 76 54</td>\n",
       "      <td>None</td>\n",
       "      <td>None</td>\n",
       "    </tr>\n",
       "  </tbody>\n",
       "</table>\n",
       "</div>"
      ],
      "text/plain": [
       "   Id                         CompanyName                 ContactName  \\\n",
       "0   1                      Exotic Liquids            Charlotte Cooper   \n",
       "1   2          New Orleans Cajun Delights               Shelley Burke   \n",
       "2   3           Grandma Kelly's Homestead               Regina Murphy   \n",
       "3   4                       Tokyo Traders                Yoshi Nagase   \n",
       "4   5  Cooperativa de Quesos 'Las Cabras'  Antonio del Valle Saavedra   \n",
       "\n",
       "           ContactTitle                    Address         City  \\\n",
       "0    Purchasing Manager             49 Gilbert St.       London   \n",
       "1   Order Administrator             P.O. Box 78934  New Orleans   \n",
       "2  Sales Representative             707 Oxford Rd.    Ann Arbor   \n",
       "3     Marketing Manager  9-8 Sekimai Musashino-shi        Tokyo   \n",
       "4  Export Administrator          Calle del Rosal 4       Oviedo   \n",
       "\n",
       "            Region PostalCode Country           Phone             Fax  \\\n",
       "0    British Isles    EC1 4SD      UK  (171) 555-2222            None   \n",
       "1    North America      70117     USA  (100) 555-4822            None   \n",
       "2    North America      48104     USA  (313) 555-5735  (313) 555-3349   \n",
       "3     Eastern Asia        100   Japan  (03) 3555-5011            None   \n",
       "4  Southern Europe      33007   Spain  (98) 598 76 54            None   \n",
       "\n",
       "      HomePage  \n",
       "0         None  \n",
       "1  #CAJUN.HTM#  \n",
       "2         None  \n",
       "3         None  \n",
       "4         None  "
      ]
     },
     "execution_count": 43,
     "metadata": {},
     "output_type": "execute_result"
    }
   ],
   "source": [
    "df_Supplier.head()"
   ]
  },
  {
   "cell_type": "code",
   "execution_count": 44,
   "metadata": {},
   "outputs": [
    {
     "name": "stdout",
     "output_type": "stream",
     "text": [
      "<class 'pandas.core.frame.DataFrame'>\n",
      "RangeIndex: 29 entries, 0 to 28\n",
      "Data columns (total 12 columns):\n",
      "Id              29 non-null int64\n",
      "CompanyName     29 non-null object\n",
      "ContactName     29 non-null object\n",
      "ContactTitle    29 non-null object\n",
      "Address         29 non-null object\n",
      "City            29 non-null object\n",
      "Region          29 non-null object\n",
      "PostalCode      29 non-null object\n",
      "Country         29 non-null object\n",
      "Phone           29 non-null object\n",
      "Fax             13 non-null object\n",
      "HomePage        5 non-null object\n",
      "dtypes: int64(1), object(11)\n",
      "memory usage: 2.8+ KB\n",
      "None\n"
     ]
    }
   ],
   "source": [
    "print(df_Supplier.info())"
   ]
  },
  {
   "cell_type": "markdown",
   "metadata": {},
   "source": [
    "# Exploratory Data Analysis"
   ]
  },
  {
   "cell_type": "markdown",
   "metadata": {},
   "source": [
    "## 1) Do discounts have a statistically significant effect on the number of products customers order? If so, at what level(s) of discount?"
   ]
  },
  {
   "cell_type": "markdown",
   "metadata": {},
   "source": [
    "#### 1a) Do discounts have a statistically significant effect on the number of products customers order?"
   ]
  },
  {
   "cell_type": "markdown",
   "metadata": {},
   "source": [
    "$H_0$: Discounts have no effect on the number of products customers order <br>\n",
    "$H_a$: Discounts have an effect on the number of products customers order <br>\n",
    "$alpha$ : 0.05"
   ]
  },
  {
   "cell_type": "code",
   "execution_count": 45,
   "metadata": {},
   "outputs": [
    {
     "name": "stdout",
     "output_type": "stream",
     "text": [
      "2019-08-19 09:05:36,123 INFO sqlalchemy.engine.base.Engine SELECT ProductId, UnitPrice, Quantity, Discount FROM \n",
      "                                OrderDetail\n",
      "2019-08-19 09:05:36,124 INFO sqlalchemy.engine.base.Engine ()\n"
     ]
    },
    {
     "data": {
      "text/html": [
       "<div>\n",
       "<style scoped>\n",
       "    .dataframe tbody tr th:only-of-type {\n",
       "        vertical-align: middle;\n",
       "    }\n",
       "\n",
       "    .dataframe tbody tr th {\n",
       "        vertical-align: top;\n",
       "    }\n",
       "\n",
       "    .dataframe thead th {\n",
       "        text-align: right;\n",
       "    }\n",
       "</style>\n",
       "<table border=\"1\" class=\"dataframe\">\n",
       "  <thead>\n",
       "    <tr style=\"text-align: right;\">\n",
       "      <th></th>\n",
       "      <th>ProductId</th>\n",
       "      <th>UnitPrice</th>\n",
       "      <th>Quantity</th>\n",
       "      <th>Discount</th>\n",
       "    </tr>\n",
       "  </thead>\n",
       "  <tbody>\n",
       "    <tr>\n",
       "      <th>0</th>\n",
       "      <td>11</td>\n",
       "      <td>14.0</td>\n",
       "      <td>12</td>\n",
       "      <td>0.0</td>\n",
       "    </tr>\n",
       "    <tr>\n",
       "      <th>1</th>\n",
       "      <td>42</td>\n",
       "      <td>9.8</td>\n",
       "      <td>10</td>\n",
       "      <td>0.0</td>\n",
       "    </tr>\n",
       "    <tr>\n",
       "      <th>2</th>\n",
       "      <td>72</td>\n",
       "      <td>34.8</td>\n",
       "      <td>5</td>\n",
       "      <td>0.0</td>\n",
       "    </tr>\n",
       "    <tr>\n",
       "      <th>3</th>\n",
       "      <td>14</td>\n",
       "      <td>18.6</td>\n",
       "      <td>9</td>\n",
       "      <td>0.0</td>\n",
       "    </tr>\n",
       "    <tr>\n",
       "      <th>4</th>\n",
       "      <td>51</td>\n",
       "      <td>42.4</td>\n",
       "      <td>40</td>\n",
       "      <td>0.0</td>\n",
       "    </tr>\n",
       "  </tbody>\n",
       "</table>\n",
       "</div>"
      ],
      "text/plain": [
       "   ProductId  UnitPrice  Quantity  Discount\n",
       "0         11       14.0        12       0.0\n",
       "1         42        9.8        10       0.0\n",
       "2         72       34.8         5       0.0\n",
       "3         14       18.6         9       0.0\n",
       "4         51       42.4        40       0.0"
      ]
     },
     "execution_count": 45,
     "metadata": {},
     "output_type": "execute_result"
    }
   ],
   "source": [
    "# need to separate discounts from no discounts, make a new dataframe for it\n",
    "df_discount_find = pd.read_sql_query(\"\"\"SELECT ProductId, UnitPrice, Quantity, Discount FROM \n",
    "                                OrderDetail\"\"\", engine)\n",
    "df_discount_find.head()"
   ]
  },
  {
   "cell_type": "code",
   "execution_count": 46,
   "metadata": {},
   "outputs": [
    {
     "data": {
      "text/html": [
       "<div>\n",
       "<style scoped>\n",
       "    .dataframe tbody tr th:only-of-type {\n",
       "        vertical-align: middle;\n",
       "    }\n",
       "\n",
       "    .dataframe tbody tr th {\n",
       "        vertical-align: top;\n",
       "    }\n",
       "\n",
       "    .dataframe thead th {\n",
       "        text-align: right;\n",
       "    }\n",
       "</style>\n",
       "<table border=\"1\" class=\"dataframe\">\n",
       "  <thead>\n",
       "    <tr style=\"text-align: right;\">\n",
       "      <th></th>\n",
       "      <th>ProductId</th>\n",
       "      <th>UnitPrice</th>\n",
       "      <th>Quantity</th>\n",
       "      <th>Discount</th>\n",
       "      <th>DisBool</th>\n",
       "    </tr>\n",
       "  </thead>\n",
       "  <tbody>\n",
       "    <tr>\n",
       "      <th>0</th>\n",
       "      <td>11</td>\n",
       "      <td>14.0</td>\n",
       "      <td>12</td>\n",
       "      <td>0.00</td>\n",
       "      <td>0</td>\n",
       "    </tr>\n",
       "    <tr>\n",
       "      <th>1</th>\n",
       "      <td>42</td>\n",
       "      <td>9.8</td>\n",
       "      <td>10</td>\n",
       "      <td>0.00</td>\n",
       "      <td>0</td>\n",
       "    </tr>\n",
       "    <tr>\n",
       "      <th>2</th>\n",
       "      <td>72</td>\n",
       "      <td>34.8</td>\n",
       "      <td>5</td>\n",
       "      <td>0.00</td>\n",
       "      <td>0</td>\n",
       "    </tr>\n",
       "    <tr>\n",
       "      <th>3</th>\n",
       "      <td>14</td>\n",
       "      <td>18.6</td>\n",
       "      <td>9</td>\n",
       "      <td>0.00</td>\n",
       "      <td>0</td>\n",
       "    </tr>\n",
       "    <tr>\n",
       "      <th>4</th>\n",
       "      <td>51</td>\n",
       "      <td>42.4</td>\n",
       "      <td>40</td>\n",
       "      <td>0.00</td>\n",
       "      <td>0</td>\n",
       "    </tr>\n",
       "    <tr>\n",
       "      <th>5</th>\n",
       "      <td>41</td>\n",
       "      <td>7.7</td>\n",
       "      <td>10</td>\n",
       "      <td>0.00</td>\n",
       "      <td>0</td>\n",
       "    </tr>\n",
       "    <tr>\n",
       "      <th>6</th>\n",
       "      <td>51</td>\n",
       "      <td>42.4</td>\n",
       "      <td>35</td>\n",
       "      <td>0.15</td>\n",
       "      <td>1</td>\n",
       "    </tr>\n",
       "    <tr>\n",
       "      <th>7</th>\n",
       "      <td>65</td>\n",
       "      <td>16.8</td>\n",
       "      <td>15</td>\n",
       "      <td>0.15</td>\n",
       "      <td>1</td>\n",
       "    </tr>\n",
       "    <tr>\n",
       "      <th>8</th>\n",
       "      <td>22</td>\n",
       "      <td>16.8</td>\n",
       "      <td>6</td>\n",
       "      <td>0.05</td>\n",
       "      <td>1</td>\n",
       "    </tr>\n",
       "    <tr>\n",
       "      <th>9</th>\n",
       "      <td>57</td>\n",
       "      <td>15.6</td>\n",
       "      <td>15</td>\n",
       "      <td>0.05</td>\n",
       "      <td>1</td>\n",
       "    </tr>\n",
       "  </tbody>\n",
       "</table>\n",
       "</div>"
      ],
      "text/plain": [
       "   ProductId  UnitPrice  Quantity  Discount  DisBool\n",
       "0         11       14.0        12      0.00        0\n",
       "1         42        9.8        10      0.00        0\n",
       "2         72       34.8         5      0.00        0\n",
       "3         14       18.6         9      0.00        0\n",
       "4         51       42.4        40      0.00        0\n",
       "5         41        7.7        10      0.00        0\n",
       "6         51       42.4        35      0.15        1\n",
       "7         65       16.8        15      0.15        1\n",
       "8         22       16.8         6      0.05        1\n",
       "9         57       15.6        15      0.05        1"
      ]
     },
     "execution_count": 46,
     "metadata": {},
     "output_type": "execute_result"
    }
   ],
   "source": [
    "#new column to indentify if there is a discount or not\n",
    "df_discount_find['DisBool'] = df_discount_find.Discount.apply(lambda x : 0 if x == 0  else 1)\n",
    "df_discount_find.head(10)"
   ]
  },
  {
   "cell_type": "code",
   "execution_count": 47,
   "metadata": {},
   "outputs": [
    {
     "data": {
      "text/plain": [
       "0.00    1317\n",
       "0.05     185\n",
       "0.10     173\n",
       "0.20     161\n",
       "0.15     157\n",
       "0.25     154\n",
       "0.03       3\n",
       "0.02       2\n",
       "0.01       1\n",
       "0.04       1\n",
       "0.06       1\n",
       "Name: Discount, dtype: int64"
      ]
     },
     "execution_count": 47,
     "metadata": {},
     "output_type": "execute_result"
    }
   ],
   "source": [
    "# getting feel for the types of discounts\n",
    "df_discount_find.Discount.value_counts()"
   ]
  },
  {
   "cell_type": "markdown",
   "metadata": {},
   "source": [
    "Above we can see there are some small discounts of 1% to 4%, which are possibly problematic for our conclusion. Also the quanties customers ordered for those discounts are so small, it looks like it made a negative impact. These discounts will be removed from the analysis."
   ]
  },
  {
   "cell_type": "code",
   "execution_count": 48,
   "metadata": {},
   "outputs": [
    {
     "data": {
      "text/html": [
       "<div>\n",
       "<style scoped>\n",
       "    .dataframe tbody tr th:only-of-type {\n",
       "        vertical-align: middle;\n",
       "    }\n",
       "\n",
       "    .dataframe tbody tr th {\n",
       "        vertical-align: top;\n",
       "    }\n",
       "\n",
       "    .dataframe thead th {\n",
       "        text-align: right;\n",
       "    }\n",
       "</style>\n",
       "<table border=\"1\" class=\"dataframe\">\n",
       "  <thead>\n",
       "    <tr style=\"text-align: right;\">\n",
       "      <th></th>\n",
       "      <th>ProductId</th>\n",
       "      <th>UnitPrice</th>\n",
       "      <th>Quantity</th>\n",
       "      <th>Discount</th>\n",
       "      <th>DisBool</th>\n",
       "    </tr>\n",
       "  </thead>\n",
       "  <tbody>\n",
       "    <tr>\n",
       "      <th>count</th>\n",
       "      <td>2147.000000</td>\n",
       "      <td>2147.000000</td>\n",
       "      <td>2147.000000</td>\n",
       "      <td>2147.000000</td>\n",
       "      <td>2147.000000</td>\n",
       "    </tr>\n",
       "    <tr>\n",
       "      <th>mean</th>\n",
       "      <td>40.805776</td>\n",
       "      <td>26.203987</td>\n",
       "      <td>23.895203</td>\n",
       "      <td>0.056265</td>\n",
       "      <td>0.386586</td>\n",
       "    </tr>\n",
       "    <tr>\n",
       "      <th>std</th>\n",
       "      <td>22.148297</td>\n",
       "      <td>29.855453</td>\n",
       "      <td>19.009580</td>\n",
       "      <td>0.083586</td>\n",
       "      <td>0.487081</td>\n",
       "    </tr>\n",
       "    <tr>\n",
       "      <th>min</th>\n",
       "      <td>1.000000</td>\n",
       "      <td>2.000000</td>\n",
       "      <td>1.000000</td>\n",
       "      <td>0.000000</td>\n",
       "      <td>0.000000</td>\n",
       "    </tr>\n",
       "    <tr>\n",
       "      <th>25%</th>\n",
       "      <td>22.000000</td>\n",
       "      <td>12.000000</td>\n",
       "      <td>10.000000</td>\n",
       "      <td>0.000000</td>\n",
       "      <td>0.000000</td>\n",
       "    </tr>\n",
       "    <tr>\n",
       "      <th>50%</th>\n",
       "      <td>41.000000</td>\n",
       "      <td>18.400000</td>\n",
       "      <td>20.000000</td>\n",
       "      <td>0.000000</td>\n",
       "      <td>0.000000</td>\n",
       "    </tr>\n",
       "    <tr>\n",
       "      <th>75%</th>\n",
       "      <td>60.000000</td>\n",
       "      <td>32.000000</td>\n",
       "      <td>30.000000</td>\n",
       "      <td>0.100000</td>\n",
       "      <td>1.000000</td>\n",
       "    </tr>\n",
       "    <tr>\n",
       "      <th>max</th>\n",
       "      <td>77.000000</td>\n",
       "      <td>263.500000</td>\n",
       "      <td>130.000000</td>\n",
       "      <td>0.250000</td>\n",
       "      <td>1.000000</td>\n",
       "    </tr>\n",
       "  </tbody>\n",
       "</table>\n",
       "</div>"
      ],
      "text/plain": [
       "         ProductId    UnitPrice     Quantity     Discount      DisBool\n",
       "count  2147.000000  2147.000000  2147.000000  2147.000000  2147.000000\n",
       "mean     40.805776    26.203987    23.895203     0.056265     0.386586\n",
       "std      22.148297    29.855453    19.009580     0.083586     0.487081\n",
       "min       1.000000     2.000000     1.000000     0.000000     0.000000\n",
       "25%      22.000000    12.000000    10.000000     0.000000     0.000000\n",
       "50%      41.000000    18.400000    20.000000     0.000000     0.000000\n",
       "75%      60.000000    32.000000    30.000000     0.100000     1.000000\n",
       "max      77.000000   263.500000   130.000000     0.250000     1.000000"
      ]
     },
     "execution_count": 48,
     "metadata": {},
     "output_type": "execute_result"
    }
   ],
   "source": [
    "#create a new dataframe for discounts larger than 0.04?\n",
    "df_discount_find = df_discount_find[df_discount_find.Discount.isin(['0.00', '0.05', '0.10', '0.15', '0.20', '0.25'])]\n",
    "df_discount_find.describe()"
   ]
  },
  {
   "cell_type": "code",
   "execution_count": 49,
   "metadata": {},
   "outputs": [
    {
     "data": {
      "image/png": "[encoded data removed]",
      "text/plain": [
       "<Figure size 864x360 with 2 Axes>"
      ]
     },
     "metadata": {
      "needs_background": "light"
     },
     "output_type": "display_data"
    }
   ],
   "source": [
    "# Comparing the Number of Orders and Average Order Size to DisBool\n",
    "fig, axes = plt.subplots(2, 1, figsize = (12, 5))\n",
    "sns.set_style('whitegrid')\n",
    "\n",
    "#Grouping DataFrame for visualization\n",
    "df_discount_find.groupby(['DisBool'])['Quantity'].count().plot(kind = 'barh', ax = axes[0])\n",
    "df_discount_find.groupby(['DisBool'])['Quantity'].mean().plot(kind = 'barh', ax = axes[1])\n",
    "# First plot labels\n",
    "axes[0].set_title('Number of Orders', fontsize = 13)\n",
    "axes[0].set_xlabel('Orders')\n",
    "axes[0].set_ylabel('')\n",
    "axes[0].set_yticklabels(['Discount', 'No Discount'])\n",
    "#Second plot labels\n",
    "axes[1].set_title('Average Order Size', fontsize = 13)\n",
    "axes[1].set_xlabel('Order Size')\n",
    "axes[1].set_ylabel('')\n",
    "axes[1].set_yticklabels(['Discount', 'No Discount'])\n",
    "fig.subplots_adjust(hspace = .75)\n",
    "plt.show()"
   ]
  },
  {
   "cell_type": "markdown",
   "metadata": {},
   "source": [
    "As we can see above, the number of orders for discounted items is low but the average order size is large compared to non-discounted items. In order to determine the size of the effect, we will test whether this difference is statistically significant."
   ]
  },
  {
   "cell_type": "code",
   "execution_count": 50,
   "metadata": {},
   "outputs": [],
   "source": [
    "#Separating discounted items from non-discounted items\n",
    "query1 = 'DisBool > 0'\n",
    "df_discount_bool = df_discount_find.query(query1)\n",
    "query2 ='DisBool == 0'\n",
    "df_nodiscount_bool = df_discount_find.query(query2)"
   ]
  },
  {
   "cell_type": "code",
   "execution_count": 51,
   "metadata": {},
   "outputs": [
    {
     "data": {
      "text/html": [
       "<div>\n",
       "<style scoped>\n",
       "    .dataframe tbody tr th:only-of-type {\n",
       "        vertical-align: middle;\n",
       "    }\n",
       "\n",
       "    .dataframe tbody tr th {\n",
       "        vertical-align: top;\n",
       "    }\n",
       "\n",
       "    .dataframe thead th {\n",
       "        text-align: right;\n",
       "    }\n",
       "</style>\n",
       "<table border=\"1\" class=\"dataframe\">\n",
       "  <thead>\n",
       "    <tr style=\"text-align: right;\">\n",
       "      <th></th>\n",
       "      <th>ProductId</th>\n",
       "      <th>UnitPrice</th>\n",
       "      <th>Quantity</th>\n",
       "      <th>Discount</th>\n",
       "      <th>DisBool</th>\n",
       "    </tr>\n",
       "  </thead>\n",
       "  <tbody>\n",
       "    <tr>\n",
       "      <th>count</th>\n",
       "      <td>830.000000</td>\n",
       "      <td>830.000000</td>\n",
       "      <td>830.000000</td>\n",
       "      <td>830.000000</td>\n",
       "      <td>830.0</td>\n",
       "    </tr>\n",
       "    <tr>\n",
       "      <th>mean</th>\n",
       "      <td>39.868675</td>\n",
       "      <td>26.255482</td>\n",
       "      <td>27.354217</td>\n",
       "      <td>0.145542</td>\n",
       "      <td>1.0</td>\n",
       "    </tr>\n",
       "    <tr>\n",
       "      <th>std</th>\n",
       "      <td>22.019037</td>\n",
       "      <td>30.091176</td>\n",
       "      <td>20.720667</td>\n",
       "      <td>0.071250</td>\n",
       "      <td>0.0</td>\n",
       "    </tr>\n",
       "    <tr>\n",
       "      <th>min</th>\n",
       "      <td>1.000000</td>\n",
       "      <td>2.000000</td>\n",
       "      <td>1.000000</td>\n",
       "      <td>0.050000</td>\n",
       "      <td>1.0</td>\n",
       "    </tr>\n",
       "    <tr>\n",
       "      <th>25%</th>\n",
       "      <td>21.000000</td>\n",
       "      <td>12.125000</td>\n",
       "      <td>12.250000</td>\n",
       "      <td>0.100000</td>\n",
       "      <td>1.0</td>\n",
       "    </tr>\n",
       "    <tr>\n",
       "      <th>50%</th>\n",
       "      <td>40.000000</td>\n",
       "      <td>18.000000</td>\n",
       "      <td>20.000000</td>\n",
       "      <td>0.150000</td>\n",
       "      <td>1.0</td>\n",
       "    </tr>\n",
       "    <tr>\n",
       "      <th>75%</th>\n",
       "      <td>59.000000</td>\n",
       "      <td>31.230000</td>\n",
       "      <td>36.000000</td>\n",
       "      <td>0.200000</td>\n",
       "      <td>1.0</td>\n",
       "    </tr>\n",
       "    <tr>\n",
       "      <th>max</th>\n",
       "      <td>77.000000</td>\n",
       "      <td>263.500000</td>\n",
       "      <td>130.000000</td>\n",
       "      <td>0.250000</td>\n",
       "      <td>1.0</td>\n",
       "    </tr>\n",
       "  </tbody>\n",
       "</table>\n",
       "</div>"
      ],
      "text/plain": [
       "        ProductId   UnitPrice    Quantity    Discount  DisBool\n",
       "count  830.000000  830.000000  830.000000  830.000000    830.0\n",
       "mean    39.868675   26.255482   27.354217    0.145542      1.0\n",
       "std     22.019037   30.091176   20.720667    0.071250      0.0\n",
       "min      1.000000    2.000000    1.000000    0.050000      1.0\n",
       "25%     21.000000   12.125000   12.250000    0.100000      1.0\n",
       "50%     40.000000   18.000000   20.000000    0.150000      1.0\n",
       "75%     59.000000   31.230000   36.000000    0.200000      1.0\n",
       "max     77.000000  263.500000  130.000000    0.250000      1.0"
      ]
     },
     "execution_count": 51,
     "metadata": {},
     "output_type": "execute_result"
    }
   ],
   "source": [
    "df_discount_bool.describe()"
   ]
  },
  {
   "cell_type": "code",
   "execution_count": 52,
   "metadata": {},
   "outputs": [
    {
     "data": {
      "text/html": [
       "<div>\n",
       "<style scoped>\n",
       "    .dataframe tbody tr th:only-of-type {\n",
       "        vertical-align: middle;\n",
       "    }\n",
       "\n",
       "    .dataframe tbody tr th {\n",
       "        vertical-align: top;\n",
       "    }\n",
       "\n",
       "    .dataframe thead th {\n",
       "        text-align: right;\n",
       "    }\n",
       "</style>\n",
       "<table border=\"1\" class=\"dataframe\">\n",
       "  <thead>\n",
       "    <tr style=\"text-align: right;\">\n",
       "      <th></th>\n",
       "      <th>ProductId</th>\n",
       "      <th>UnitPrice</th>\n",
       "      <th>Quantity</th>\n",
       "      <th>Discount</th>\n",
       "      <th>DisBool</th>\n",
       "    </tr>\n",
       "  </thead>\n",
       "  <tbody>\n",
       "    <tr>\n",
       "      <th>count</th>\n",
       "      <td>1317.000000</td>\n",
       "      <td>1317.000000</td>\n",
       "      <td>1317.000000</td>\n",
       "      <td>1317.0</td>\n",
       "      <td>1317.0</td>\n",
       "    </tr>\n",
       "    <tr>\n",
       "      <th>mean</th>\n",
       "      <td>41.396355</td>\n",
       "      <td>26.171534</td>\n",
       "      <td>21.715262</td>\n",
       "      <td>0.0</td>\n",
       "      <td>0.0</td>\n",
       "    </tr>\n",
       "    <tr>\n",
       "      <th>std</th>\n",
       "      <td>22.217410</td>\n",
       "      <td>29.717354</td>\n",
       "      <td>17.507493</td>\n",
       "      <td>0.0</td>\n",
       "      <td>0.0</td>\n",
       "    </tr>\n",
       "    <tr>\n",
       "      <th>min</th>\n",
       "      <td>1.000000</td>\n",
       "      <td>2.000000</td>\n",
       "      <td>1.000000</td>\n",
       "      <td>0.0</td>\n",
       "      <td>0.0</td>\n",
       "    </tr>\n",
       "    <tr>\n",
       "      <th>25%</th>\n",
       "      <td>23.000000</td>\n",
       "      <td>12.000000</td>\n",
       "      <td>10.000000</td>\n",
       "      <td>0.0</td>\n",
       "      <td>0.0</td>\n",
       "    </tr>\n",
       "    <tr>\n",
       "      <th>50%</th>\n",
       "      <td>41.000000</td>\n",
       "      <td>18.400000</td>\n",
       "      <td>18.000000</td>\n",
       "      <td>0.0</td>\n",
       "      <td>0.0</td>\n",
       "    </tr>\n",
       "    <tr>\n",
       "      <th>75%</th>\n",
       "      <td>60.000000</td>\n",
       "      <td>32.800000</td>\n",
       "      <td>30.000000</td>\n",
       "      <td>0.0</td>\n",
       "      <td>0.0</td>\n",
       "    </tr>\n",
       "    <tr>\n",
       "      <th>max</th>\n",
       "      <td>77.000000</td>\n",
       "      <td>263.500000</td>\n",
       "      <td>130.000000</td>\n",
       "      <td>0.0</td>\n",
       "      <td>0.0</td>\n",
       "    </tr>\n",
       "  </tbody>\n",
       "</table>\n",
       "</div>"
      ],
      "text/plain": [
       "         ProductId    UnitPrice     Quantity  Discount  DisBool\n",
       "count  1317.000000  1317.000000  1317.000000    1317.0   1317.0\n",
       "mean     41.396355    26.171534    21.715262       0.0      0.0\n",
       "std      22.217410    29.717354    17.507493       0.0      0.0\n",
       "min       1.000000     2.000000     1.000000       0.0      0.0\n",
       "25%      23.000000    12.000000    10.000000       0.0      0.0\n",
       "50%      41.000000    18.400000    18.000000       0.0      0.0\n",
       "75%      60.000000    32.800000    30.000000       0.0      0.0\n",
       "max      77.000000   263.500000   130.000000       0.0      0.0"
      ]
     },
     "execution_count": 52,
     "metadata": {},
     "output_type": "execute_result"
    }
   ],
   "source": [
    "df_nodiscount_bool.describe()"
   ]
  },
  {
   "cell_type": "code",
   "execution_count": 53,
   "metadata": {},
   "outputs": [],
   "source": [
    "#Generate values to create a normal distribution\n",
    "discount_mu, discount_sigma, n_discount = 27.35, 20.72, 830\n",
    "nodiscount_mu, nodiscount_sigma, n_nodiscount = 21.72, 17.51, 1317\n",
    "gen_discount = np.random.normal(discount_mu, discount_sigma, n_discount)\n",
    "gen_nodiscount = np.random.normal(nodiscount_mu, nodiscount_sigma, n_nodiscount)"
   ]
  },
  {
   "cell_type": "code",
   "execution_count": 54,
   "metadata": {},
   "outputs": [
    {
     "data": {
      "text/plain": [
       "<matplotlib.legend.Legend at 0x17476107ef0>"
      ]
     },
     "execution_count": 54,
     "metadata": {},
     "output_type": "execute_result"
    },
    {
     "data": {
      "image/png": "[encoded data removed]",
      "text/plain": [
       "<Figure size 720x360 with 1 Axes>"
      ]
     },
     "metadata": {},
     "output_type": "display_data"
    }
   ],
   "source": [
    "sns.set(rc={'figure.figsize':(10, 5)})\n",
    "sns.set_style('whitegrid')\n",
    "\n",
    "ax = sns.distplot(df_discount_bool.Quantity, label = 'Discount')\n",
    "ax = sns.distplot(df_nodiscount_bool.Quantity, label = 'No Discount')\n",
    "ax = sns.kdeplot(gen_discount, label = 'Discount KDE')\n",
    "ax = sns.kdeplot(gen_nodiscount, label = 'No Discount KDE')\n",
    "ax.set_xlim(-15, 145)\n",
    "ax.set_title('Distribution of Order Size', fontsize = 13)\n",
    "ax.legend()"
   ]
  },
  {
   "cell_type": "markdown",
   "metadata": {},
   "source": [
    "The KDE plot shows us the while there is some postive skew present in the Order distribution size. However because of the sample size we can assume that the distribution is normal.\n",
    "Because our variables are independent, distributed normally and don't show homogeneity in variance, we will use the Welch's t-test to test test our hypothesis."
   ]
  },
  {
   "cell_type": "code",
   "execution_count": null,
   "metadata": {},
   "outputs": [],
   "source": [
    "a = df_discount_bool.Quantity.mean()\n",
    "b = df_nodiscount_bool.Quantity.mean()\n",
    "print(a, b)"
   ]
  },
  {
   "cell_type": "code",
   "execution_count": 55,
   "metadata": {},
   "outputs": [
    {
     "name": "stdout",
     "output_type": "stream",
     "text": [
      "6.7627297036707565 1.7401995278127614e-11\n",
      "Reject Null Hypothesis\n",
      "Cohen's d:  0.2997078720940889\n"
     ]
    }
   ],
   "source": [
    "#welch's t-test and Cohen's d\n",
    "t_stat, p = stats.ttest_ind(df_discount_bool.Quantity, df_nodiscount_bool.Quantity) \n",
    "d = cohen_d(df_discount_bool.Quantity, df_nodiscount_bool.Quantity)\n",
    "print(t_stat, p)\n",
    "print(\"Reject Null Hypothesis\") if p < 0.025 else print(\"Failed to reject the null hypothesis\")\n",
    "print(\"Cohen's d: \", d)"
   ]
  },
  {
   "cell_type": "code",
   "execution_count": 56,
   "metadata": {},
   "outputs": [],
   "source": [
    "discounts_significance_df = pd.DataFrame(columns = ['Discount %', 'Null Hypothesis', \"Cohen's d\"], index = None)\n",
    "discounts = [0.05, 0.10, 0.15, 0.20, 0.25]\n",
    "for i in discounts:\n",
    "    t_stat, p = stats.ttest_ind(df_discount_bool.Quantity, df_nodiscount_bool.Quantity) \n",
    "    d = cohen_d(df_discount_bool.Quantity, df_nodiscount_bool.Quantity)\n",
    "    discounts_significance_df = discounts_significance_df.append({'Discount %': str(i*100), 'Null Hypothesis': 'Reject' \n",
    "                            if p < 0.025 else 'Failed', \"Cohen's d\": d }, ignore_index = True)"
   ]
  },
  {
   "cell_type": "code",
   "execution_count": 57,
   "metadata": {},
   "outputs": [
    {
     "data": {
      "text/html": [
       "<div>\n",
       "<style scoped>\n",
       "    .dataframe tbody tr th:only-of-type {\n",
       "        vertical-align: middle;\n",
       "    }\n",
       "\n",
       "    .dataframe tbody tr th {\n",
       "        vertical-align: top;\n",
       "    }\n",
       "\n",
       "    .dataframe thead th {\n",
       "        text-align: right;\n",
       "    }\n",
       "</style>\n",
       "<table border=\"1\" class=\"dataframe\">\n",
       "  <thead>\n",
       "    <tr style=\"text-align: right;\">\n",
       "      <th></th>\n",
       "      <th>Discount %</th>\n",
       "      <th>Null Hypothesis</th>\n",
       "      <th>Cohen's d</th>\n",
       "    </tr>\n",
       "  </thead>\n",
       "  <tbody>\n",
       "    <tr>\n",
       "      <th>0</th>\n",
       "      <td>5.0</td>\n",
       "      <td>Reject</td>\n",
       "      <td>0.299708</td>\n",
       "    </tr>\n",
       "    <tr>\n",
       "      <th>1</th>\n",
       "      <td>10.0</td>\n",
       "      <td>Reject</td>\n",
       "      <td>0.299708</td>\n",
       "    </tr>\n",
       "    <tr>\n",
       "      <th>2</th>\n",
       "      <td>15.0</td>\n",
       "      <td>Reject</td>\n",
       "      <td>0.299708</td>\n",
       "    </tr>\n",
       "    <tr>\n",
       "      <th>3</th>\n",
       "      <td>20.0</td>\n",
       "      <td>Reject</td>\n",
       "      <td>0.299708</td>\n",
       "    </tr>\n",
       "    <tr>\n",
       "      <th>4</th>\n",
       "      <td>25.0</td>\n",
       "      <td>Reject</td>\n",
       "      <td>0.299708</td>\n",
       "    </tr>\n",
       "  </tbody>\n",
       "</table>\n",
       "</div>"
      ],
      "text/plain": [
       "  Discount % Null Hypothesis  Cohen's d\n",
       "0        5.0          Reject   0.299708\n",
       "1       10.0          Reject   0.299708\n",
       "2       15.0          Reject   0.299708\n",
       "3       20.0          Reject   0.299708\n",
       "4       25.0          Reject   0.299708"
      ]
     },
     "execution_count": 57,
     "metadata": {},
     "output_type": "execute_result"
    }
   ],
   "source": [
    "discounts_significance_df"
   ]
  },
  {
   "cell_type": "markdown",
   "metadata": {},
   "source": [
    "As we can see above, we have a p-value of 1.70 * 10^11 which is much smaller than 0.05 which means there is a statistical significance between number of orders between discounted and non discounted items. Therefore we can reject the null hypothesis.\n",
    "Because there is a significance between discounted and non discounted items, we can investigate which discount level has the highest significance."
   ]
  },
  {
   "cell_type": "markdown",
   "metadata": {},
   "source": [
    "### 1b) At what discount level(s) is there a statistical significance?"
   ]
  },
  {
   "cell_type": "markdown",
   "metadata": {},
   "source": [
    "$H_0$ : The average number of orders is the same regardless of discount level <br>\n",
    "$H_a$ : The average number of orders is not the same the level of discount changes <br>\n",
    "$alpha$ : 0.05"
   ]
  },
  {
   "cell_type": "code",
   "execution_count": 58,
   "metadata": {},
   "outputs": [
    {
     "data": {
      "image/png": "[encoded data removed]",
      "text/plain": [
       "<Figure size 864x360 with 2 Axes>"
      ]
     },
     "metadata": {},
     "output_type": "display_data"
    }
   ],
   "source": [
    "#Viewing difference between discount levels against number of orders and average order size visually\n",
    "#fig, axes = plt.subplot(1, 2, figsize = (12,5))\n",
    "fig, axes = plt.subplots(2, 1, figsize=(12,5))\n",
    "sns.set_style('whitegrid')\n",
    "#Grouping dataframe\n",
    "df_discount_find.groupby(['Discount'])['Quantity'].count().plot(kind = 'barh', ax = axes[0])\n",
    "df_discount_find.groupby(['Discount'])['Quantity'].mean().plot(kind = 'barh', ax = axes[1])\n",
    "#Plot 1 labels\n",
    "axes[0].set_title('Number of Orders per Discount Level', fontweight = 'bold', fontsize = 13)\n",
    "axes[0].set_xlabel('Order Size', fontweight = 'semibold')\n",
    "axes[0].set_ylabel('')\n",
    "axes[0].set_yticklabels(['No Discount', '0.05', '0.10', '0.15', '0.20', '0.25'])\n",
    "\n",
    "#Plot 2 labels\n",
    "axes[1].set_title('Average Order Size by Discount Level', fontweight = 'bold', fontsize = 13)\n",
    "axes[1].set_xlabel('Average Order Size', fontweight = 'semibold')\n",
    "axes[1].set_ylabel('')\n",
    "axes[1].set_yticklabels(['No Discount', '0.05', '0.10', '0.15', '0.20', '0.25'])\n",
    "fig.subplots_adjust(hspace = .75);"
   ]
  },
  {
   "cell_type": "markdown",
   "metadata": {},
   "source": [
    "In constrast to 1a., when order quantity is visualization by discount level we observe a larger difference in the number of orders and smaller difference in average order size at each individual discount level."
   ]
  },
  {
   "cell_type": "code",
   "execution_count": 59,
   "metadata": {},
   "outputs": [
    {
     "data": {
      "text/html": [
       "<table class=\"simpletable\">\n",
       "<caption>OLS Regression Results</caption>\n",
       "<tr>\n",
       "  <th>Dep. Variable:</th>        <td>Quantity</td>     <th>  R-squared:         </th> <td>   0.003</td>\n",
       "</tr>\n",
       "<tr>\n",
       "  <th>Model:</th>                   <td>OLS</td>       <th>  Adj. R-squared:    </th> <td>  -0.002</td>\n",
       "</tr>\n",
       "<tr>\n",
       "  <th>Method:</th>             <td>Least Squares</td>  <th>  F-statistic:       </th> <td>  0.6741</td>\n",
       "</tr>\n",
       "<tr>\n",
       "  <th>Date:</th>             <td>Mon, 19 Aug 2019</td> <th>  Prob (F-statistic):</th>  <td> 0.610</td> \n",
       "</tr>\n",
       "<tr>\n",
       "  <th>Time:</th>                 <td>09:06:36</td>     <th>  Log-Likelihood:    </th> <td> -3691.7</td>\n",
       "</tr>\n",
       "<tr>\n",
       "  <th>No. Observations:</th>      <td>   830</td>      <th>  AIC:               </th> <td>   7393.</td>\n",
       "</tr>\n",
       "<tr>\n",
       "  <th>Df Residuals:</th>          <td>   825</td>      <th>  BIC:               </th> <td>   7417.</td>\n",
       "</tr>\n",
       "<tr>\n",
       "  <th>Df Model:</th>              <td>     4</td>      <th>                     </th>     <td> </td>   \n",
       "</tr>\n",
       "<tr>\n",
       "  <th>Covariance Type:</th>      <td>nonrobust</td>    <th>                     </th>     <td> </td>   \n",
       "</tr>\n",
       "</table>\n",
       "<table class=\"simpletable\">\n",
       "<tr>\n",
       "           <td></td>              <th>coef</th>     <th>std err</th>      <th>t</th>      <th>P>|t|</th>  <th>[0.025</th>    <th>0.975]</th>  \n",
       "</tr>\n",
       "<tr>\n",
       "  <th>Intercept</th>           <td>   28.0108</td> <td>    1.525</td> <td>   18.372</td> <td> 0.000</td> <td>   25.018</td> <td>   31.003</td>\n",
       "</tr>\n",
       "<tr>\n",
       "  <th>C(Discount)[T.0.1]</th>  <td>   -2.7738</td> <td>    2.193</td> <td>   -1.265</td> <td> 0.206</td> <td>   -7.079</td> <td>    1.531</td>\n",
       "</tr>\n",
       "<tr>\n",
       "  <th>C(Discount)[T.0.15]</th> <td>    0.3714</td> <td>    2.250</td> <td>    0.165</td> <td> 0.869</td> <td>   -4.045</td> <td>    4.788</td>\n",
       "</tr>\n",
       "<tr>\n",
       "  <th>C(Discount)[T.0.2]</th>  <td>   -0.9860</td> <td>    2.235</td> <td>   -0.441</td> <td> 0.659</td> <td>   -5.373</td> <td>    3.401</td>\n",
       "</tr>\n",
       "<tr>\n",
       "  <th>C(Discount)[T.0.25]</th> <td>    0.2294</td> <td>    2.262</td> <td>    0.101</td> <td> 0.919</td> <td>   -4.211</td> <td>    4.669</td>\n",
       "</tr>\n",
       "</table>\n",
       "<table class=\"simpletable\">\n",
       "<tr>\n",
       "  <th>Omnibus:</th>       <td>263.705</td> <th>  Durbin-Watson:     </th> <td>   1.667</td> \n",
       "</tr>\n",
       "<tr>\n",
       "  <th>Prob(Omnibus):</th> <td> 0.000</td>  <th>  Jarque-Bera (JB):  </th> <td> 751.622</td> \n",
       "</tr>\n",
       "<tr>\n",
       "  <th>Skew:</th>          <td> 1.598</td>  <th>  Prob(JB):          </th> <td>6.13e-164</td>\n",
       "</tr>\n",
       "<tr>\n",
       "  <th>Kurtosis:</th>      <td> 6.394</td>  <th>  Cond. No.          </th> <td>    5.56</td> \n",
       "</tr>\n",
       "</table><br/><br/>Warnings:<br/>[1] Standard Errors assume that the covariance matrix of the errors is correctly specified."
      ],
      "text/plain": [
       "<class 'statsmodels.iolib.summary.Summary'>\n",
       "\"\"\"\n",
       "                            OLS Regression Results                            \n",
       "==============================================================================\n",
       "Dep. Variable:               Quantity   R-squared:                       0.003\n",
       "Model:                            OLS   Adj. R-squared:                 -0.002\n",
       "Method:                 Least Squares   F-statistic:                    0.6741\n",
       "Date:                Mon, 19 Aug 2019   Prob (F-statistic):              0.610\n",
       "Time:                        09:06:36   Log-Likelihood:                -3691.7\n",
       "No. Observations:                 830   AIC:                             7393.\n",
       "Df Residuals:                     825   BIC:                             7417.\n",
       "Df Model:                           4                                         \n",
       "Covariance Type:            nonrobust                                         \n",
       "=======================================================================================\n",
       "                          coef    std err          t      P>|t|      [0.025      0.975]\n",
       "---------------------------------------------------------------------------------------\n",
       "Intercept              28.0108      1.525     18.372      0.000      25.018      31.003\n",
       "C(Discount)[T.0.1]     -2.7738      2.193     -1.265      0.206      -7.079       1.531\n",
       "C(Discount)[T.0.15]     0.3714      2.250      0.165      0.869      -4.045       4.788\n",
       "C(Discount)[T.0.2]     -0.9860      2.235     -0.441      0.659      -5.373       3.401\n",
       "C(Discount)[T.0.25]     0.2294      2.262      0.101      0.919      -4.211       4.669\n",
       "==============================================================================\n",
       "Omnibus:                      263.705   Durbin-Watson:                   1.667\n",
       "Prob(Omnibus):                  0.000   Jarque-Bera (JB):              751.622\n",
       "Skew:                           1.598   Prob(JB):                    6.13e-164\n",
       "Kurtosis:                       6.394   Cond. No.                         5.56\n",
       "==============================================================================\n",
       "\n",
       "Warnings:\n",
       "[1] Standard Errors assume that the covariance matrix of the errors is correctly specified.\n",
       "\"\"\""
      ]
     },
     "execution_count": 59,
     "metadata": {},
     "output_type": "execute_result"
    }
   ],
   "source": [
    "#fitting using statsmodels ols\n",
    "lm = ols('Quantity ~ C(Discount)', df_discount_bool).fit()\n",
    "lm.summary()"
   ]
  },
  {
   "cell_type": "code",
   "execution_count": 60,
   "metadata": {},
   "outputs": [
    {
     "data": {
      "text/html": [
       "<div>\n",
       "<style scoped>\n",
       "    .dataframe tbody tr th:only-of-type {\n",
       "        vertical-align: middle;\n",
       "    }\n",
       "\n",
       "    .dataframe tbody tr th {\n",
       "        vertical-align: top;\n",
       "    }\n",
       "\n",
       "    .dataframe thead th {\n",
       "        text-align: right;\n",
       "    }\n",
       "</style>\n",
       "<table border=\"1\" class=\"dataframe\">\n",
       "  <thead>\n",
       "    <tr style=\"text-align: right;\">\n",
       "      <th></th>\n",
       "      <th>sum_sq</th>\n",
       "      <th>df</th>\n",
       "      <th>F</th>\n",
       "      <th>PR(&gt;F)</th>\n",
       "    </tr>\n",
       "  </thead>\n",
       "  <tbody>\n",
       "    <tr>\n",
       "      <th>C(Discount)</th>\n",
       "      <td>1159.517551</td>\n",
       "      <td>4.0</td>\n",
       "      <td>0.674103</td>\n",
       "      <td>0.610041</td>\n",
       "    </tr>\n",
       "    <tr>\n",
       "      <th>Residual</th>\n",
       "      <td>354768.342690</td>\n",
       "      <td>825.0</td>\n",
       "      <td>NaN</td>\n",
       "      <td>NaN</td>\n",
       "    </tr>\n",
       "  </tbody>\n",
       "</table>\n",
       "</div>"
      ],
      "text/plain": [
       "                    sum_sq     df         F    PR(>F)\n",
       "C(Discount)    1159.517551    4.0  0.674103  0.610041\n",
       "Residual     354768.342690  825.0       NaN       NaN"
      ]
     },
     "execution_count": 60,
     "metadata": {},
     "output_type": "execute_result"
    }
   ],
   "source": [
    "#ANOVA analysis\n",
    "sm.stats.anova_lm(lm, typ = 2)"
   ]
  },
  {
   "cell_type": "code",
   "execution_count": 61,
   "metadata": {},
   "outputs": [
    {
     "data": {
      "text/html": [
       "<div>\n",
       "<style scoped>\n",
       "    .dataframe tbody tr th:only-of-type {\n",
       "        vertical-align: middle;\n",
       "    }\n",
       "\n",
       "    .dataframe tbody tr th {\n",
       "        vertical-align: top;\n",
       "    }\n",
       "\n",
       "    .dataframe thead th {\n",
       "        text-align: right;\n",
       "    }\n",
       "</style>\n",
       "<table border=\"1\" class=\"dataframe\">\n",
       "  <thead>\n",
       "    <tr style=\"text-align: right;\">\n",
       "      <th></th>\n",
       "      <th>ProductId</th>\n",
       "      <th>UnitPrice</th>\n",
       "      <th>Quantity</th>\n",
       "      <th>Discount</th>\n",
       "      <th>DisBool</th>\n",
       "    </tr>\n",
       "  </thead>\n",
       "  <tbody>\n",
       "    <tr>\n",
       "      <th>0</th>\n",
       "      <td>11</td>\n",
       "      <td>14.0</td>\n",
       "      <td>12</td>\n",
       "      <td>0.0</td>\n",
       "      <td>0</td>\n",
       "    </tr>\n",
       "    <tr>\n",
       "      <th>1</th>\n",
       "      <td>42</td>\n",
       "      <td>9.8</td>\n",
       "      <td>10</td>\n",
       "      <td>0.0</td>\n",
       "      <td>0</td>\n",
       "    </tr>\n",
       "    <tr>\n",
       "      <th>2</th>\n",
       "      <td>72</td>\n",
       "      <td>34.8</td>\n",
       "      <td>5</td>\n",
       "      <td>0.0</td>\n",
       "      <td>0</td>\n",
       "    </tr>\n",
       "    <tr>\n",
       "      <th>3</th>\n",
       "      <td>14</td>\n",
       "      <td>18.6</td>\n",
       "      <td>9</td>\n",
       "      <td>0.0</td>\n",
       "      <td>0</td>\n",
       "    </tr>\n",
       "    <tr>\n",
       "      <th>4</th>\n",
       "      <td>51</td>\n",
       "      <td>42.4</td>\n",
       "      <td>40</td>\n",
       "      <td>0.0</td>\n",
       "      <td>0</td>\n",
       "    </tr>\n",
       "  </tbody>\n",
       "</table>\n",
       "</div>"
      ],
      "text/plain": [
       "   ProductId  UnitPrice  Quantity  Discount  DisBool\n",
       "0         11       14.0        12       0.0        0\n",
       "1         42        9.8        10       0.0        0\n",
       "2         72       34.8         5       0.0        0\n",
       "3         14       18.6         9       0.0        0\n",
       "4         51       42.4        40       0.0        0"
      ]
     },
     "execution_count": 61,
     "metadata": {},
     "output_type": "execute_result"
    }
   ],
   "source": [
    "#Prepping for tukey test:\n",
    "df_discount_tukey = df_discount_find[df_discount_find.Discount.isin(['0.00', '0.05', '0.10', '0.15', '0.20', '0.25'])]\n",
    "df_discount_tukey.head()"
   ]
  },
  {
   "cell_type": "code",
   "execution_count": 62,
   "metadata": {},
   "outputs": [
    {
     "name": "stdout",
     "output_type": "stream",
     "text": [
      "Multiple Comparison of Means - Tukey HSD,FWER=0.05\n",
      "=============================================\n",
      "group1 group2 meandiff  lower   upper  reject\n",
      "---------------------------------------------\n",
      " 0.0    0.05   6.2955   2.0814 10.5097  True \n",
      " 0.0    0.1    3.5217  -0.8187  7.8622 False \n",
      " 0.0    0.15   6.6669   2.1352 11.1986  True \n",
      " 0.0    0.2    5.3096   0.8285  9.7907  True \n",
      " 0.0    0.25   6.525    1.954   11.096  True \n",
      " 0.05   0.1   -2.7738  -8.4504  2.9028 False \n",
      " 0.05   0.15   0.3714  -5.4528  6.1955 False \n",
      " 0.05   0.2    -0.986  -6.7708  4.7989 False \n",
      " 0.05   0.25   0.2294  -5.6253  6.0842 False \n",
      " 0.1    0.15   3.1452   -2.771  9.0613 False \n",
      " 0.1    0.2    1.7879  -4.0896  7.6653 False \n",
      " 0.1    0.25   3.0033   -2.943  8.9496 False \n",
      " 0.15   0.2   -1.3573  -7.3775  4.6628 False \n",
      " 0.15   0.25  -0.1419  -6.2292  5.9454 False \n",
      " 0.2    0.25   1.2154  -4.8343  7.2652 False \n",
      "---------------------------------------------\n"
     ]
    }
   ],
   "source": [
    "#Tukey test\n",
    "tk = pairwise_tukeyhsd(df_discount_tukey.Quantity, df_discount_tukey.Discount, .05)\n",
    "print(tk)"
   ]
  },
  {
   "cell_type": "markdown",
   "metadata": {},
   "source": [
    "Reviewing the Tukey test, we fail to reject the null hypothesis for the non-discounted items (control) and 0.10 discounted items (experimental) items. However, we reject the null hypothesis for non-discounted items and discounted items at 0.05, 0.15, 0.20 and 0.25. \n",
    "There is no statistically significant difference between the number of products ordered between the non-zero discounted level.\n",
    "\n",
    "So, in summary there is a statistically significant difference in order quantity based on the presence of a discount at any level, but there is no statistically significant difference between order quantity and at discount level 0.10. We can advise Northwind that customers will order more products when there is a discount, this is not a complete picture. We need to know whether discounts will have a positive effect on revenues. \n",
    "Essentially, we need to know whether customers spend more on products that are discounted and this level of spending will offset potential revenue losses from applying discounts. "
   ]
  },
  {
   "cell_type": "markdown",
   "metadata": {},
   "source": [
    "## Do discounts have a statistically significant effect on customer spending per order? Is so, at what discount level(s)?"
   ]
  },
  {
   "cell_type": "markdown",
   "metadata": {},
   "source": [
    "$H_0$: There is no statistical difference on customer spending per order <br>\n",
    "$H_a$: There is a statistical difference on customer spending per order <br>\n",
    "$alpha$ = 0.05 <br>"
   ]
  },
  {
   "cell_type": "code",
   "execution_count": 63,
   "metadata": {},
   "outputs": [
    {
     "name": "stdout",
     "output_type": "stream",
     "text": [
      "2019-08-19 09:06:49,713 INFO sqlalchemy.engine.base.Engine SELECT od.OrderId, od.UnitPrice, od.Discount, od.Quantity,                     od.Quantity * od.UnitPrice * (1-od.Discount) OrderPrice                     FROM [OrderDetail] od                     INNER JOIN Product p on od.ProductId = p.ID\n",
      "                    GROUP BY od.OrderId;\n",
      "2019-08-19 09:06:49,714 INFO sqlalchemy.engine.base.Engine ()\n",
      "830\n"
     ]
    },
    {
     "data": {
      "text/html": [
       "<div>\n",
       "<style scoped>\n",
       "    .dataframe tbody tr th:only-of-type {\n",
       "        vertical-align: middle;\n",
       "    }\n",
       "\n",
       "    .dataframe tbody tr th {\n",
       "        vertical-align: top;\n",
       "    }\n",
       "\n",
       "    .dataframe thead th {\n",
       "        text-align: right;\n",
       "    }\n",
       "</style>\n",
       "<table border=\"1\" class=\"dataframe\">\n",
       "  <thead>\n",
       "    <tr style=\"text-align: right;\">\n",
       "      <th></th>\n",
       "      <th>OrderId</th>\n",
       "      <th>UnitPrice</th>\n",
       "      <th>Discount</th>\n",
       "      <th>Quantity</th>\n",
       "      <th>OrderPrice</th>\n",
       "    </tr>\n",
       "  </thead>\n",
       "  <tbody>\n",
       "    <tr>\n",
       "      <th>0</th>\n",
       "      <td>10248</td>\n",
       "      <td>14.0</td>\n",
       "      <td>0.0</td>\n",
       "      <td>12</td>\n",
       "      <td>168.0</td>\n",
       "    </tr>\n",
       "    <tr>\n",
       "      <th>1</th>\n",
       "      <td>10249</td>\n",
       "      <td>18.6</td>\n",
       "      <td>0.0</td>\n",
       "      <td>9</td>\n",
       "      <td>167.4</td>\n",
       "    </tr>\n",
       "    <tr>\n",
       "      <th>2</th>\n",
       "      <td>10250</td>\n",
       "      <td>7.7</td>\n",
       "      <td>0.0</td>\n",
       "      <td>10</td>\n",
       "      <td>77.0</td>\n",
       "    </tr>\n",
       "  </tbody>\n",
       "</table>\n",
       "</div>"
      ],
      "text/plain": [
       "   OrderId  UnitPrice  Discount  Quantity  OrderPrice\n",
       "0    10248       14.0       0.0        12       168.0\n",
       "1    10249       18.6       0.0         9       167.4\n",
       "2    10250        7.7       0.0        10        77.0"
      ]
     },
     "execution_count": 63,
     "metadata": {},
     "output_type": "execute_result"
    }
   ],
   "source": [
    "df_discount_spending = pd.read_sql_query(\"\"\"SELECT od.OrderId, od.UnitPrice, od.Discount, od.Quantity, \\\n",
    "                    od.Quantity * od.UnitPrice * (1-od.Discount) OrderPrice \\\n",
    "                    FROM [OrderDetail] od \\\n",
    "                    INNER JOIN Product p on od.ProductId = p.ID\n",
    "                    GROUP BY od.OrderId;\"\"\", engine)\n",
    "print(len(df_discount_spending))\n",
    "df_discount_spending.head(3)"
   ]
  },
  {
   "cell_type": "code",
   "execution_count": 64,
   "metadata": {},
   "outputs": [
    {
     "data": {
      "text/html": [
       "<div>\n",
       "<style scoped>\n",
       "    .dataframe tbody tr th:only-of-type {\n",
       "        vertical-align: middle;\n",
       "    }\n",
       "\n",
       "    .dataframe tbody tr th {\n",
       "        vertical-align: top;\n",
       "    }\n",
       "\n",
       "    .dataframe thead th {\n",
       "        text-align: right;\n",
       "    }\n",
       "</style>\n",
       "<table border=\"1\" class=\"dataframe\">\n",
       "  <thead>\n",
       "    <tr style=\"text-align: right;\">\n",
       "      <th></th>\n",
       "      <th>OrderId</th>\n",
       "      <th>UnitPrice</th>\n",
       "      <th>Discount</th>\n",
       "      <th>Quantity</th>\n",
       "      <th>OrderPrice</th>\n",
       "      <th>DisBool</th>\n",
       "    </tr>\n",
       "  </thead>\n",
       "  <tbody>\n",
       "    <tr>\n",
       "      <th>0</th>\n",
       "      <td>10248</td>\n",
       "      <td>14.0</td>\n",
       "      <td>0.00</td>\n",
       "      <td>12</td>\n",
       "      <td>168.00</td>\n",
       "      <td>0</td>\n",
       "    </tr>\n",
       "    <tr>\n",
       "      <th>1</th>\n",
       "      <td>10249</td>\n",
       "      <td>18.6</td>\n",
       "      <td>0.00</td>\n",
       "      <td>9</td>\n",
       "      <td>167.40</td>\n",
       "      <td>0</td>\n",
       "    </tr>\n",
       "    <tr>\n",
       "      <th>2</th>\n",
       "      <td>10250</td>\n",
       "      <td>7.7</td>\n",
       "      <td>0.00</td>\n",
       "      <td>10</td>\n",
       "      <td>77.00</td>\n",
       "      <td>0</td>\n",
       "    </tr>\n",
       "    <tr>\n",
       "      <th>3</th>\n",
       "      <td>10251</td>\n",
       "      <td>16.8</td>\n",
       "      <td>0.05</td>\n",
       "      <td>6</td>\n",
       "      <td>95.76</td>\n",
       "      <td>1</td>\n",
       "    </tr>\n",
       "    <tr>\n",
       "      <th>4</th>\n",
       "      <td>10252</td>\n",
       "      <td>64.8</td>\n",
       "      <td>0.05</td>\n",
       "      <td>40</td>\n",
       "      <td>2462.40</td>\n",
       "      <td>1</td>\n",
       "    </tr>\n",
       "  </tbody>\n",
       "</table>\n",
       "</div>"
      ],
      "text/plain": [
       "   OrderId  UnitPrice  Discount  Quantity  OrderPrice  DisBool\n",
       "0    10248       14.0      0.00        12      168.00        0\n",
       "1    10249       18.6      0.00         9      167.40        0\n",
       "2    10250        7.7      0.00        10       77.00        0\n",
       "3    10251       16.8      0.05         6       95.76        1\n",
       "4    10252       64.8      0.05        40     2462.40        1"
      ]
     },
     "execution_count": 64,
     "metadata": {},
     "output_type": "execute_result"
    }
   ],
   "source": [
    "df_discount_spending['DisBool'] = df_discount_spending['Discount'].apply(lambda x: 0 if x == 0 else 1)\n",
    "df_discount_spending.head()"
   ]
  },
  {
   "cell_type": "code",
   "execution_count": 65,
   "metadata": {},
   "outputs": [
    {
     "data": {
      "image/png": "[encoded data removed]",
      "text/plain": [
       "<Figure size 864x360 with 2 Axes>"
      ]
     },
     "metadata": {},
     "output_type": "display_data"
    }
   ],
   "source": [
    "sns.set_style('whitegrid')\n",
    "fig, axes = plt.subplots(2,1, figsize =(12, 5))\n",
    "\n",
    "#Separating dataframe for visualizations:\n",
    "df_discount_spending.groupby(['DisBool'])['OrderPrice'].sum().plot(kind = 'barh', ax = axes[0])\n",
    "df_discount_spending.groupby(['DisBool'])['OrderPrice'].mean().plot(kind = 'barh', ax= axes[1])\n",
    "\n",
    "#For plot 1\n",
    "axes[0].set_title(\"Total Order Revenue\", fontweight =  'bold', fontsize = 13)\n",
    "axes[0].set_xlabel('Revenue ($)')\n",
    "axes[0].set_ylabel('')\n",
    "axes[0].set_yticklabels(['No Discount', 'Discount'])\n",
    "\n",
    "#For plot 2\n",
    "axes[1].set_title(\"Avg. Order Size\", fontweight = 'bold', fontsize = 13)\n",
    "axes[1].set_xlabel('Revenue ($)')\n",
    "axes[1].set_ylabel('')\n",
    "axes[1].set_yticklabels(['No Discount', 'Discount'])\n",
    "\n",
    "fig.subplots_adjust(hspace = .75)"
   ]
  },
  {
   "cell_type": "markdown",
   "metadata": {},
   "source": [
    "Based on the graphs below, Northwind generates more revenue on non-discounted items but discounted items have higher average order cost than non-discounted items. To determine whether this is statistically significant, we should investigate the distribution of Order Price for orders with and without discounts."
   ]
  },
  {
   "cell_type": "code",
   "execution_count": 66,
   "metadata": {},
   "outputs": [],
   "source": [
    "#separating dataframe between no discounts and discounts\n",
    "query3 = 'DisBool == 0'\n",
    "df_discount_spending_nodisc = df_discount_spending.query(query3)\n",
    "query4 = 'DisBool > 0'\n",
    "df_discount_spending_disc = df_discount_spending.query(query4)"
   ]
  },
  {
   "cell_type": "code",
   "execution_count": 67,
   "metadata": {},
   "outputs": [
    {
     "name": "stdout",
     "output_type": "stream",
     "text": [
      "514\n"
     ]
    },
    {
     "data": {
      "text/html": [
       "<div>\n",
       "<style scoped>\n",
       "    .dataframe tbody tr th:only-of-type {\n",
       "        vertical-align: middle;\n",
       "    }\n",
       "\n",
       "    .dataframe tbody tr th {\n",
       "        vertical-align: top;\n",
       "    }\n",
       "\n",
       "    .dataframe thead th {\n",
       "        text-align: right;\n",
       "    }\n",
       "</style>\n",
       "<table border=\"1\" class=\"dataframe\">\n",
       "  <thead>\n",
       "    <tr style=\"text-align: right;\">\n",
       "      <th></th>\n",
       "      <th>OrderId</th>\n",
       "      <th>UnitPrice</th>\n",
       "      <th>Discount</th>\n",
       "      <th>Quantity</th>\n",
       "      <th>OrderPrice</th>\n",
       "      <th>DisBool</th>\n",
       "    </tr>\n",
       "  </thead>\n",
       "  <tbody>\n",
       "    <tr>\n",
       "      <th>0</th>\n",
       "      <td>10248</td>\n",
       "      <td>14.0</td>\n",
       "      <td>0.0</td>\n",
       "      <td>12</td>\n",
       "      <td>168.0</td>\n",
       "      <td>0</td>\n",
       "    </tr>\n",
       "    <tr>\n",
       "      <th>1</th>\n",
       "      <td>10249</td>\n",
       "      <td>18.6</td>\n",
       "      <td>0.0</td>\n",
       "      <td>9</td>\n",
       "      <td>167.4</td>\n",
       "      <td>0</td>\n",
       "    </tr>\n",
       "    <tr>\n",
       "      <th>2</th>\n",
       "      <td>10250</td>\n",
       "      <td>7.7</td>\n",
       "      <td>0.0</td>\n",
       "      <td>10</td>\n",
       "      <td>77.0</td>\n",
       "      <td>0</td>\n",
       "    </tr>\n",
       "    <tr>\n",
       "      <th>5</th>\n",
       "      <td>10253</td>\n",
       "      <td>10.0</td>\n",
       "      <td>0.0</td>\n",
       "      <td>20</td>\n",
       "      <td>200.0</td>\n",
       "      <td>0</td>\n",
       "    </tr>\n",
       "    <tr>\n",
       "      <th>7</th>\n",
       "      <td>10255</td>\n",
       "      <td>15.2</td>\n",
       "      <td>0.0</td>\n",
       "      <td>20</td>\n",
       "      <td>304.0</td>\n",
       "      <td>0</td>\n",
       "    </tr>\n",
       "  </tbody>\n",
       "</table>\n",
       "</div>"
      ],
      "text/plain": [
       "   OrderId  UnitPrice  Discount  Quantity  OrderPrice  DisBool\n",
       "0    10248       14.0       0.0        12       168.0        0\n",
       "1    10249       18.6       0.0         9       167.4        0\n",
       "2    10250        7.7       0.0        10        77.0        0\n",
       "5    10253       10.0       0.0        20       200.0        0\n",
       "7    10255       15.2       0.0        20       304.0        0"
      ]
     },
     "execution_count": 67,
     "metadata": {},
     "output_type": "execute_result"
    }
   ],
   "source": [
    "print(len(df_discount_spending_nodisc))\n",
    "df_discount_spending_nodisc.head()"
   ]
  },
  {
   "cell_type": "code",
   "execution_count": 68,
   "metadata": {},
   "outputs": [
    {
     "name": "stdout",
     "output_type": "stream",
     "text": [
      "316\n"
     ]
    },
    {
     "data": {
      "text/html": [
       "<div>\n",
       "<style scoped>\n",
       "    .dataframe tbody tr th:only-of-type {\n",
       "        vertical-align: middle;\n",
       "    }\n",
       "\n",
       "    .dataframe tbody tr th {\n",
       "        vertical-align: top;\n",
       "    }\n",
       "\n",
       "    .dataframe thead th {\n",
       "        text-align: right;\n",
       "    }\n",
       "</style>\n",
       "<table border=\"1\" class=\"dataframe\">\n",
       "  <thead>\n",
       "    <tr style=\"text-align: right;\">\n",
       "      <th></th>\n",
       "      <th>OrderId</th>\n",
       "      <th>UnitPrice</th>\n",
       "      <th>Discount</th>\n",
       "      <th>Quantity</th>\n",
       "      <th>OrderPrice</th>\n",
       "      <th>DisBool</th>\n",
       "    </tr>\n",
       "  </thead>\n",
       "  <tbody>\n",
       "    <tr>\n",
       "      <th>3</th>\n",
       "      <td>10251</td>\n",
       "      <td>16.8</td>\n",
       "      <td>0.05</td>\n",
       "      <td>6</td>\n",
       "      <td>95.76</td>\n",
       "      <td>1</td>\n",
       "    </tr>\n",
       "    <tr>\n",
       "      <th>4</th>\n",
       "      <td>10252</td>\n",
       "      <td>64.8</td>\n",
       "      <td>0.05</td>\n",
       "      <td>40</td>\n",
       "      <td>2462.40</td>\n",
       "      <td>1</td>\n",
       "    </tr>\n",
       "    <tr>\n",
       "      <th>6</th>\n",
       "      <td>10254</td>\n",
       "      <td>3.6</td>\n",
       "      <td>0.15</td>\n",
       "      <td>15</td>\n",
       "      <td>45.90</td>\n",
       "      <td>1</td>\n",
       "    </tr>\n",
       "    <tr>\n",
       "      <th>10</th>\n",
       "      <td>10258</td>\n",
       "      <td>15.2</td>\n",
       "      <td>0.20</td>\n",
       "      <td>50</td>\n",
       "      <td>608.00</td>\n",
       "      <td>1</td>\n",
       "    </tr>\n",
       "    <tr>\n",
       "      <th>12</th>\n",
       "      <td>10260</td>\n",
       "      <td>7.7</td>\n",
       "      <td>0.25</td>\n",
       "      <td>16</td>\n",
       "      <td>92.40</td>\n",
       "      <td>1</td>\n",
       "    </tr>\n",
       "  </tbody>\n",
       "</table>\n",
       "</div>"
      ],
      "text/plain": [
       "    OrderId  UnitPrice  Discount  Quantity  OrderPrice  DisBool\n",
       "3     10251       16.8      0.05         6       95.76        1\n",
       "4     10252       64.8      0.05        40     2462.40        1\n",
       "6     10254        3.6      0.15        15       45.90        1\n",
       "10    10258       15.2      0.20        50      608.00        1\n",
       "12    10260        7.7      0.25        16       92.40        1"
      ]
     },
     "execution_count": 68,
     "metadata": {},
     "output_type": "execute_result"
    }
   ],
   "source": [
    "print(len(df_discount_spending_disc))\n",
    "df_discount_spending_disc.head()"
   ]
  },
  {
   "cell_type": "code",
   "execution_count": 69,
   "metadata": {},
   "outputs": [
    {
     "data": {
      "text/html": [
       "<div>\n",
       "<style scoped>\n",
       "    .dataframe tbody tr th:only-of-type {\n",
       "        vertical-align: middle;\n",
       "    }\n",
       "\n",
       "    .dataframe tbody tr th {\n",
       "        vertical-align: top;\n",
       "    }\n",
       "\n",
       "    .dataframe thead th {\n",
       "        text-align: right;\n",
       "    }\n",
       "</style>\n",
       "<table border=\"1\" class=\"dataframe\">\n",
       "  <thead>\n",
       "    <tr style=\"text-align: right;\">\n",
       "      <th></th>\n",
       "      <th>OrderId</th>\n",
       "      <th>UnitPrice</th>\n",
       "      <th>Discount</th>\n",
       "      <th>Quantity</th>\n",
       "      <th>OrderPrice</th>\n",
       "      <th>DisBool</th>\n",
       "    </tr>\n",
       "  </thead>\n",
       "  <tbody>\n",
       "    <tr>\n",
       "      <th>count</th>\n",
       "      <td>514.000000</td>\n",
       "      <td>514.000000</td>\n",
       "      <td>514.0</td>\n",
       "      <td>514.000000</td>\n",
       "      <td>514.000000</td>\n",
       "      <td>514.0</td>\n",
       "    </tr>\n",
       "    <tr>\n",
       "      <th>mean</th>\n",
       "      <td>10660.875486</td>\n",
       "      <td>25.035195</td>\n",
       "      <td>0.0</td>\n",
       "      <td>20.548638</td>\n",
       "      <td>550.434494</td>\n",
       "      <td>0.0</td>\n",
       "    </tr>\n",
       "    <tr>\n",
       "      <th>std</th>\n",
       "      <td>242.920791</td>\n",
       "      <td>25.119688</td>\n",
       "      <td>0.0</td>\n",
       "      <td>16.689650</td>\n",
       "      <td>1098.279105</td>\n",
       "      <td>0.0</td>\n",
       "    </tr>\n",
       "    <tr>\n",
       "      <th>min</th>\n",
       "      <td>10248.000000</td>\n",
       "      <td>2.000000</td>\n",
       "      <td>0.0</td>\n",
       "      <td>1.000000</td>\n",
       "      <td>4.800000</td>\n",
       "      <td>0.0</td>\n",
       "    </tr>\n",
       "    <tr>\n",
       "      <th>25%</th>\n",
       "      <td>10444.250000</td>\n",
       "      <td>10.300000</td>\n",
       "      <td>0.0</td>\n",
       "      <td>10.000000</td>\n",
       "      <td>120.400000</td>\n",
       "      <td>0.0</td>\n",
       "    </tr>\n",
       "    <tr>\n",
       "      <th>50%</th>\n",
       "      <td>10670.500000</td>\n",
       "      <td>18.600000</td>\n",
       "      <td>0.0</td>\n",
       "      <td>15.000000</td>\n",
       "      <td>311.000000</td>\n",
       "      <td>0.0</td>\n",
       "    </tr>\n",
       "    <tr>\n",
       "      <th>75%</th>\n",
       "      <td>10874.750000</td>\n",
       "      <td>31.000000</td>\n",
       "      <td>0.0</td>\n",
       "      <td>30.000000</td>\n",
       "      <td>600.000000</td>\n",
       "      <td>0.0</td>\n",
       "    </tr>\n",
       "    <tr>\n",
       "      <th>max</th>\n",
       "      <td>11073.000000</td>\n",
       "      <td>263.500000</td>\n",
       "      <td>0.0</td>\n",
       "      <td>110.000000</td>\n",
       "      <td>15810.000000</td>\n",
       "      <td>0.0</td>\n",
       "    </tr>\n",
       "  </tbody>\n",
       "</table>\n",
       "</div>"
      ],
      "text/plain": [
       "            OrderId   UnitPrice  Discount    Quantity    OrderPrice  DisBool\n",
       "count    514.000000  514.000000     514.0  514.000000    514.000000    514.0\n",
       "mean   10660.875486   25.035195       0.0   20.548638    550.434494      0.0\n",
       "std      242.920791   25.119688       0.0   16.689650   1098.279105      0.0\n",
       "min    10248.000000    2.000000       0.0    1.000000      4.800000      0.0\n",
       "25%    10444.250000   10.300000       0.0   10.000000    120.400000      0.0\n",
       "50%    10670.500000   18.600000       0.0   15.000000    311.000000      0.0\n",
       "75%    10874.750000   31.000000       0.0   30.000000    600.000000      0.0\n",
       "max    11073.000000  263.500000       0.0  110.000000  15810.000000      0.0"
      ]
     },
     "execution_count": 69,
     "metadata": {},
     "output_type": "execute_result"
    }
   ],
   "source": [
    "df_discount_spending_nodisc.describe()"
   ]
  },
  {
   "cell_type": "code",
   "execution_count": 70,
   "metadata": {},
   "outputs": [
    {
     "data": {
      "text/html": [
       "<div>\n",
       "<style scoped>\n",
       "    .dataframe tbody tr th:only-of-type {\n",
       "        vertical-align: middle;\n",
       "    }\n",
       "\n",
       "    .dataframe tbody tr th {\n",
       "        vertical-align: top;\n",
       "    }\n",
       "\n",
       "    .dataframe thead th {\n",
       "        text-align: right;\n",
       "    }\n",
       "</style>\n",
       "<table border=\"1\" class=\"dataframe\">\n",
       "  <thead>\n",
       "    <tr style=\"text-align: right;\">\n",
       "      <th></th>\n",
       "      <th>OrderId</th>\n",
       "      <th>UnitPrice</th>\n",
       "      <th>Discount</th>\n",
       "      <th>Quantity</th>\n",
       "      <th>OrderPrice</th>\n",
       "      <th>DisBool</th>\n",
       "    </tr>\n",
       "  </thead>\n",
       "  <tbody>\n",
       "    <tr>\n",
       "      <th>count</th>\n",
       "      <td>316.000000</td>\n",
       "      <td>316.000000</td>\n",
       "      <td>316.000000</td>\n",
       "      <td>316.000000</td>\n",
       "      <td>316.000000</td>\n",
       "      <td>316.0</td>\n",
       "    </tr>\n",
       "    <tr>\n",
       "      <th>mean</th>\n",
       "      <td>10665.142405</td>\n",
       "      <td>26.478639</td>\n",
       "      <td>0.144304</td>\n",
       "      <td>26.212025</td>\n",
       "      <td>607.559364</td>\n",
       "      <td>1.0</td>\n",
       "    </tr>\n",
       "    <tr>\n",
       "      <th>std</th>\n",
       "      <td>234.844715</td>\n",
       "      <td>34.334195</td>\n",
       "      <td>0.072369</td>\n",
       "      <td>18.768666</td>\n",
       "      <td>1125.691729</td>\n",
       "      <td>0.0</td>\n",
       "    </tr>\n",
       "    <tr>\n",
       "      <th>min</th>\n",
       "      <td>10251.000000</td>\n",
       "      <td>2.000000</td>\n",
       "      <td>0.050000</td>\n",
       "      <td>2.000000</td>\n",
       "      <td>14.400000</td>\n",
       "      <td>1.0</td>\n",
       "    </tr>\n",
       "    <tr>\n",
       "      <th>25%</th>\n",
       "      <td>10471.250000</td>\n",
       "      <td>12.500000</td>\n",
       "      <td>0.100000</td>\n",
       "      <td>12.000000</td>\n",
       "      <td>160.860000</td>\n",
       "      <td>1.0</td>\n",
       "    </tr>\n",
       "    <tr>\n",
       "      <th>50%</th>\n",
       "      <td>10654.500000</td>\n",
       "      <td>18.000000</td>\n",
       "      <td>0.150000</td>\n",
       "      <td>20.000000</td>\n",
       "      <td>337.392000</td>\n",
       "      <td>1.0</td>\n",
       "    </tr>\n",
       "    <tr>\n",
       "      <th>75%</th>\n",
       "      <td>10860.000000</td>\n",
       "      <td>30.000000</td>\n",
       "      <td>0.200000</td>\n",
       "      <td>35.250000</td>\n",
       "      <td>613.700000</td>\n",
       "      <td>1.0</td>\n",
       "    </tr>\n",
       "    <tr>\n",
       "      <th>max</th>\n",
       "      <td>11077.000000</td>\n",
       "      <td>263.500000</td>\n",
       "      <td>0.250000</td>\n",
       "      <td>120.000000</td>\n",
       "      <td>15019.500000</td>\n",
       "      <td>1.0</td>\n",
       "    </tr>\n",
       "  </tbody>\n",
       "</table>\n",
       "</div>"
      ],
      "text/plain": [
       "            OrderId   UnitPrice    Discount    Quantity    OrderPrice  DisBool\n",
       "count    316.000000  316.000000  316.000000  316.000000    316.000000    316.0\n",
       "mean   10665.142405   26.478639    0.144304   26.212025    607.559364      1.0\n",
       "std      234.844715   34.334195    0.072369   18.768666   1125.691729      0.0\n",
       "min    10251.000000    2.000000    0.050000    2.000000     14.400000      1.0\n",
       "25%    10471.250000   12.500000    0.100000   12.000000    160.860000      1.0\n",
       "50%    10654.500000   18.000000    0.150000   20.000000    337.392000      1.0\n",
       "75%    10860.000000   30.000000    0.200000   35.250000    613.700000      1.0\n",
       "max    11077.000000  263.500000    0.250000  120.000000  15019.500000      1.0"
      ]
     },
     "execution_count": 70,
     "metadata": {},
     "output_type": "execute_result"
    }
   ],
   "source": [
    "df_discount_spending_disc.describe()"
   ]
  },
  {
   "cell_type": "code",
   "execution_count": 71,
   "metadata": {},
   "outputs": [
    {
     "data": {
      "text/plain": [
       "<matplotlib.legend.Legend at 0x17477063940>"
      ]
     },
     "execution_count": 71,
     "metadata": {},
     "output_type": "execute_result"
    },
    {
     "data": {
      "image/png": "[encoded data removed]",
      "text/plain": [
       "<Figure size 720x576 with 2 Axes>"
      ]
     },
     "metadata": {},
     "output_type": "display_data"
    }
   ],
   "source": [
    "#Visualizing distribution of order price with and without discount\n",
    "fig, ax = plt.subplots(2,1, figsize=(10, 8))\n",
    "sns.set_style('whitegrid')\n",
    "\n",
    "ax = sns.distplot(df_discount_spending_disc.OrderPrice, label = 'Discount', bins = 100, \n",
    "                  hist_kws={'linewidth': 2, 'alpha': .6})\n",
    "ax = sns.distplot(df_discount_spending_nodisc.OrderPrice, label = 'No Discount', bins = 100, \n",
    "                 hist_kws={'linewidth': 2, 'alpha': .3})\n",
    "\n",
    "plt.axvline(np.mean(df_discount_spending_disc.OrderPrice), label = 'Discount mean')\n",
    "plt.axvline(np.mean(df_discount_spending_nodisc.OrderPrice), label = 'No Discount mean')\n",
    "\n",
    "ax.set_xlim(-2, 4500)\n",
    "ax.set_title(\"Distribution of Order Revenue\", fontweight = 'bold', fontsize = 13)\n",
    "ax.set_xlabel('Order Revenue')\n",
    "ax.legend()"
   ]
  },
  {
   "cell_type": "markdown",
   "metadata": {},
   "source": [
    "The distribution of order revenue is positively skewed, so we will need to investigate the order revenues with or without discounts. "
   ]
  },
  {
   "cell_type": "code",
   "execution_count": 72,
   "metadata": {},
   "outputs": [
    {
     "data": {
      "image/png": "[encoded data removed]",
      "text/plain": [
       "<Figure size 864x360 with 2 Axes>"
      ]
     },
     "metadata": {},
     "output_type": "display_data"
    }
   ],
   "source": [
    "fig, axes = plt.subplots(1, 2, figsize =(12, 5))\n",
    "sns.set_style('whitegrid')\n",
    "sns.distplot(df_discount_spending_disc.OrderPrice, label = 'Discount', bins = 120, ax = axes[0],\n",
    "            hist_kws= {'linewidth': 2, 'alpha': .3})\n",
    "sns.distplot(df_discount_spending_nodisc.OrderPrice, label = 'No Discount', bins = 120, ax = axes[1],\n",
    "           hist_kws = {'linewidth': 2, 'alpha': .6})\n",
    "#Plot 1\n",
    "axes[0].set_title(\"Order Revenue with Discount\", fontweight = 'bold', fontsize = 13)\n",
    "axes[0].set_xlabel(\"Revenue ($)\")\n",
    "axes[0].set_ylabel('')\n",
    "axes[0].set_xlim(-2, 3500)\n",
    "#Plot 2\n",
    "axes[1].set_title(\"Order Revenue with No Discount\", fontweight = 'bold', fontsize = 13)\n",
    "axes[1].set_xlabel(\"Revenue ($)\")\n",
    "#axes[1]set_ylabel('')\n",
    "axes[1].set_xlim(-2, 3500)\n",
    "\n",
    "fig.subplots_adjust(wspace = .22)\n",
    "plt.show()"
   ]
  },
  {
   "cell_type": "code",
   "execution_count": 73,
   "metadata": {},
   "outputs": [
    {
     "data": {
      "image/png": "[encoded data removed]",
      "text/plain": [
       "<Figure size 720x360 with 1 Axes>"
      ]
     },
     "metadata": {},
     "output_type": "display_data"
    }
   ],
   "source": [
    "#Q-Q plots:\n",
    "stats.probplot(df_discount_spending_disc.OrderPrice, plot = plt),\n",
    "stats.probplot(df_discount_spending_nodisc.OrderPrice, plot = plt), \n",
    "ax.set_title(\"QQ Plot- Distribution of Order Revenue\", fontweight = 'semibold', fontsize = 13)\n",
    "plt.show()"
   ]
  },
  {
   "cell_type": "markdown",
   "metadata": {},
   "source": [
    "The QQ Plot shows that there is a possiblity that we need to log-transform the data before we could perform a hypothesis test."
   ]
  },
  {
   "cell_type": "code",
   "execution_count": 74,
   "metadata": {},
   "outputs": [
    {
     "data": {
      "text/html": [
       "<div>\n",
       "<style scoped>\n",
       "    .dataframe tbody tr th:only-of-type {\n",
       "        vertical-align: middle;\n",
       "    }\n",
       "\n",
       "    .dataframe tbody tr th {\n",
       "        vertical-align: top;\n",
       "    }\n",
       "\n",
       "    .dataframe thead th {\n",
       "        text-align: right;\n",
       "    }\n",
       "</style>\n",
       "<table border=\"1\" class=\"dataframe\">\n",
       "  <thead>\n",
       "    <tr style=\"text-align: right;\">\n",
       "      <th></th>\n",
       "      <th>OrderId</th>\n",
       "      <th>UnitPrice</th>\n",
       "      <th>Discount</th>\n",
       "      <th>Quantity</th>\n",
       "      <th>OrderPrice</th>\n",
       "      <th>DisBool</th>\n",
       "    </tr>\n",
       "  </thead>\n",
       "  <tbody>\n",
       "    <tr>\n",
       "      <th>0</th>\n",
       "      <td>10248</td>\n",
       "      <td>14.0</td>\n",
       "      <td>0.00</td>\n",
       "      <td>12</td>\n",
       "      <td>168.00</td>\n",
       "      <td>0</td>\n",
       "    </tr>\n",
       "    <tr>\n",
       "      <th>1</th>\n",
       "      <td>10249</td>\n",
       "      <td>18.6</td>\n",
       "      <td>0.00</td>\n",
       "      <td>9</td>\n",
       "      <td>167.40</td>\n",
       "      <td>0</td>\n",
       "    </tr>\n",
       "    <tr>\n",
       "      <th>2</th>\n",
       "      <td>10250</td>\n",
       "      <td>7.7</td>\n",
       "      <td>0.00</td>\n",
       "      <td>10</td>\n",
       "      <td>77.00</td>\n",
       "      <td>0</td>\n",
       "    </tr>\n",
       "    <tr>\n",
       "      <th>3</th>\n",
       "      <td>10251</td>\n",
       "      <td>16.8</td>\n",
       "      <td>0.05</td>\n",
       "      <td>6</td>\n",
       "      <td>95.76</td>\n",
       "      <td>1</td>\n",
       "    </tr>\n",
       "    <tr>\n",
       "      <th>4</th>\n",
       "      <td>10252</td>\n",
       "      <td>64.8</td>\n",
       "      <td>0.05</td>\n",
       "      <td>40</td>\n",
       "      <td>2462.40</td>\n",
       "      <td>1</td>\n",
       "    </tr>\n",
       "  </tbody>\n",
       "</table>\n",
       "</div>"
      ],
      "text/plain": [
       "   OrderId  UnitPrice  Discount  Quantity  OrderPrice  DisBool\n",
       "0    10248       14.0      0.00        12      168.00        0\n",
       "1    10249       18.6      0.00         9      167.40        0\n",
       "2    10250        7.7      0.00        10       77.00        0\n",
       "3    10251       16.8      0.05         6       95.76        1\n",
       "4    10252       64.8      0.05        40     2462.40        1"
      ]
     },
     "execution_count": 74,
     "metadata": {},
     "output_type": "execute_result"
    }
   ],
   "source": [
    "df_log_discount = df_discount_spending.copy()\n",
    "df_log_discount.head()"
   ]
  },
  {
   "cell_type": "code",
   "execution_count": 80,
   "metadata": {},
   "outputs": [
    {
     "data": {
      "text/html": [
       "<div>\n",
       "<style scoped>\n",
       "    .dataframe tbody tr th:only-of-type {\n",
       "        vertical-align: middle;\n",
       "    }\n",
       "\n",
       "    .dataframe tbody tr th {\n",
       "        vertical-align: top;\n",
       "    }\n",
       "\n",
       "    .dataframe thead th {\n",
       "        text-align: right;\n",
       "    }\n",
       "</style>\n",
       "<table border=\"1\" class=\"dataframe\">\n",
       "  <thead>\n",
       "    <tr style=\"text-align: right;\">\n",
       "      <th></th>\n",
       "      <th>OrderId</th>\n",
       "      <th>UnitPrice</th>\n",
       "      <th>Discount</th>\n",
       "      <th>Quantity</th>\n",
       "      <th>OrderPrice</th>\n",
       "      <th>DisBool</th>\n",
       "      <th>Log Price</th>\n",
       "      <th>LogPrice</th>\n",
       "    </tr>\n",
       "  </thead>\n",
       "  <tbody>\n",
       "    <tr>\n",
       "      <th>0</th>\n",
       "      <td>10248</td>\n",
       "      <td>14.0</td>\n",
       "      <td>0.00</td>\n",
       "      <td>12</td>\n",
       "      <td>168.00</td>\n",
       "      <td>0</td>\n",
       "      <td>5.123964</td>\n",
       "      <td>5.123964</td>\n",
       "    </tr>\n",
       "    <tr>\n",
       "      <th>1</th>\n",
       "      <td>10249</td>\n",
       "      <td>18.6</td>\n",
       "      <td>0.00</td>\n",
       "      <td>9</td>\n",
       "      <td>167.40</td>\n",
       "      <td>0</td>\n",
       "      <td>5.120386</td>\n",
       "      <td>5.120386</td>\n",
       "    </tr>\n",
       "    <tr>\n",
       "      <th>2</th>\n",
       "      <td>10250</td>\n",
       "      <td>7.7</td>\n",
       "      <td>0.00</td>\n",
       "      <td>10</td>\n",
       "      <td>77.00</td>\n",
       "      <td>0</td>\n",
       "      <td>4.343805</td>\n",
       "      <td>4.343805</td>\n",
       "    </tr>\n",
       "    <tr>\n",
       "      <th>3</th>\n",
       "      <td>10251</td>\n",
       "      <td>16.8</td>\n",
       "      <td>0.05</td>\n",
       "      <td>6</td>\n",
       "      <td>95.76</td>\n",
       "      <td>1</td>\n",
       "      <td>4.561845</td>\n",
       "      <td>4.561845</td>\n",
       "    </tr>\n",
       "    <tr>\n",
       "      <th>4</th>\n",
       "      <td>10252</td>\n",
       "      <td>64.8</td>\n",
       "      <td>0.05</td>\n",
       "      <td>40</td>\n",
       "      <td>2462.40</td>\n",
       "      <td>1</td>\n",
       "      <td>7.808892</td>\n",
       "      <td>7.808892</td>\n",
       "    </tr>\n",
       "  </tbody>\n",
       "</table>\n",
       "</div>"
      ],
      "text/plain": [
       "   OrderId  UnitPrice  Discount  Quantity  OrderPrice  DisBool  Log Price  \\\n",
       "0    10248       14.0      0.00        12      168.00        0   5.123964   \n",
       "1    10249       18.6      0.00         9      167.40        0   5.120386   \n",
       "2    10250        7.7      0.00        10       77.00        0   4.343805   \n",
       "3    10251       16.8      0.05         6       95.76        1   4.561845   \n",
       "4    10252       64.8      0.05        40     2462.40        1   7.808892   \n",
       "\n",
       "   LogPrice  \n",
       "0  5.123964  \n",
       "1  5.120386  \n",
       "2  4.343805  \n",
       "3  4.561845  \n",
       "4  7.808892  "
      ]
     },
     "execution_count": 80,
     "metadata": {},
     "output_type": "execute_result"
    }
   ],
   "source": [
    "log_price = np.log(df_discount_spending.OrderPrice)\n",
    "df_log_discount['LogPrice'] = log_price\n",
    "df_log_discount.head()"
   ]
  },
  {
   "cell_type": "code",
   "execution_count": 81,
   "metadata": {},
   "outputs": [],
   "source": [
    "#take new log dataframe separate between discount and no discount\n",
    "query_4 = 'Discount == 0'\n",
    "df_log_price_disc = df_log_discount.query(query_4)\n",
    "query_5 = 'Discount > 0'\n",
    "df_log_price_nodisc = df_log_discount.query(query_5)"
   ]
  },
  {
   "cell_type": "code",
   "execution_count": 82,
   "metadata": {},
   "outputs": [
    {
     "data": {
      "text/html": [
       "<div>\n",
       "<style scoped>\n",
       "    .dataframe tbody tr th:only-of-type {\n",
       "        vertical-align: middle;\n",
       "    }\n",
       "\n",
       "    .dataframe tbody tr th {\n",
       "        vertical-align: top;\n",
       "    }\n",
       "\n",
       "    .dataframe thead th {\n",
       "        text-align: right;\n",
       "    }\n",
       "</style>\n",
       "<table border=\"1\" class=\"dataframe\">\n",
       "  <thead>\n",
       "    <tr style=\"text-align: right;\">\n",
       "      <th></th>\n",
       "      <th>OrderId</th>\n",
       "      <th>UnitPrice</th>\n",
       "      <th>Discount</th>\n",
       "      <th>Quantity</th>\n",
       "      <th>OrderPrice</th>\n",
       "      <th>DisBool</th>\n",
       "      <th>Log Price</th>\n",
       "      <th>LogPrice</th>\n",
       "    </tr>\n",
       "  </thead>\n",
       "  <tbody>\n",
       "    <tr>\n",
       "      <th>0</th>\n",
       "      <td>10248</td>\n",
       "      <td>14.0</td>\n",
       "      <td>0.0</td>\n",
       "      <td>12</td>\n",
       "      <td>168.0</td>\n",
       "      <td>0</td>\n",
       "      <td>5.123964</td>\n",
       "      <td>5.123964</td>\n",
       "    </tr>\n",
       "    <tr>\n",
       "      <th>1</th>\n",
       "      <td>10249</td>\n",
       "      <td>18.6</td>\n",
       "      <td>0.0</td>\n",
       "      <td>9</td>\n",
       "      <td>167.4</td>\n",
       "      <td>0</td>\n",
       "      <td>5.120386</td>\n",
       "      <td>5.120386</td>\n",
       "    </tr>\n",
       "    <tr>\n",
       "      <th>2</th>\n",
       "      <td>10250</td>\n",
       "      <td>7.7</td>\n",
       "      <td>0.0</td>\n",
       "      <td>10</td>\n",
       "      <td>77.0</td>\n",
       "      <td>0</td>\n",
       "      <td>4.343805</td>\n",
       "      <td>4.343805</td>\n",
       "    </tr>\n",
       "    <tr>\n",
       "      <th>5</th>\n",
       "      <td>10253</td>\n",
       "      <td>10.0</td>\n",
       "      <td>0.0</td>\n",
       "      <td>20</td>\n",
       "      <td>200.0</td>\n",
       "      <td>0</td>\n",
       "      <td>5.298317</td>\n",
       "      <td>5.298317</td>\n",
       "    </tr>\n",
       "    <tr>\n",
       "      <th>7</th>\n",
       "      <td>10255</td>\n",
       "      <td>15.2</td>\n",
       "      <td>0.0</td>\n",
       "      <td>20</td>\n",
       "      <td>304.0</td>\n",
       "      <td>0</td>\n",
       "      <td>5.717028</td>\n",
       "      <td>5.717028</td>\n",
       "    </tr>\n",
       "  </tbody>\n",
       "</table>\n",
       "</div>"
      ],
      "text/plain": [
       "   OrderId  UnitPrice  Discount  Quantity  OrderPrice  DisBool  Log Price  \\\n",
       "0    10248       14.0       0.0        12       168.0        0   5.123964   \n",
       "1    10249       18.6       0.0         9       167.4        0   5.120386   \n",
       "2    10250        7.7       0.0        10        77.0        0   4.343805   \n",
       "5    10253       10.0       0.0        20       200.0        0   5.298317   \n",
       "7    10255       15.2       0.0        20       304.0        0   5.717028   \n",
       "\n",
       "   LogPrice  \n",
       "0  5.123964  \n",
       "1  5.120386  \n",
       "2  4.343805  \n",
       "5  5.298317  \n",
       "7  5.717028  "
      ]
     },
     "execution_count": 82,
     "metadata": {},
     "output_type": "execute_result"
    }
   ],
   "source": [
    "df_log_price_disc.head()"
   ]
  },
  {
   "cell_type": "code",
   "execution_count": 83,
   "metadata": {},
   "outputs": [
    {
     "data": {
      "text/html": [
       "<div>\n",
       "<style scoped>\n",
       "    .dataframe tbody tr th:only-of-type {\n",
       "        vertical-align: middle;\n",
       "    }\n",
       "\n",
       "    .dataframe tbody tr th {\n",
       "        vertical-align: top;\n",
       "    }\n",
       "\n",
       "    .dataframe thead th {\n",
       "        text-align: right;\n",
       "    }\n",
       "</style>\n",
       "<table border=\"1\" class=\"dataframe\">\n",
       "  <thead>\n",
       "    <tr style=\"text-align: right;\">\n",
       "      <th></th>\n",
       "      <th>OrderId</th>\n",
       "      <th>UnitPrice</th>\n",
       "      <th>Discount</th>\n",
       "      <th>Quantity</th>\n",
       "      <th>OrderPrice</th>\n",
       "      <th>DisBool</th>\n",
       "      <th>Log Price</th>\n",
       "      <th>LogPrice</th>\n",
       "    </tr>\n",
       "  </thead>\n",
       "  <tbody>\n",
       "    <tr>\n",
       "      <th>3</th>\n",
       "      <td>10251</td>\n",
       "      <td>16.8</td>\n",
       "      <td>0.05</td>\n",
       "      <td>6</td>\n",
       "      <td>95.76</td>\n",
       "      <td>1</td>\n",
       "      <td>4.561845</td>\n",
       "      <td>4.561845</td>\n",
       "    </tr>\n",
       "    <tr>\n",
       "      <th>4</th>\n",
       "      <td>10252</td>\n",
       "      <td>64.8</td>\n",
       "      <td>0.05</td>\n",
       "      <td>40</td>\n",
       "      <td>2462.40</td>\n",
       "      <td>1</td>\n",
       "      <td>7.808892</td>\n",
       "      <td>7.808892</td>\n",
       "    </tr>\n",
       "    <tr>\n",
       "      <th>6</th>\n",
       "      <td>10254</td>\n",
       "      <td>3.6</td>\n",
       "      <td>0.15</td>\n",
       "      <td>15</td>\n",
       "      <td>45.90</td>\n",
       "      <td>1</td>\n",
       "      <td>3.826465</td>\n",
       "      <td>3.826465</td>\n",
       "    </tr>\n",
       "    <tr>\n",
       "      <th>10</th>\n",
       "      <td>10258</td>\n",
       "      <td>15.2</td>\n",
       "      <td>0.20</td>\n",
       "      <td>50</td>\n",
       "      <td>608.00</td>\n",
       "      <td>1</td>\n",
       "      <td>6.410175</td>\n",
       "      <td>6.410175</td>\n",
       "    </tr>\n",
       "    <tr>\n",
       "      <th>12</th>\n",
       "      <td>10260</td>\n",
       "      <td>7.7</td>\n",
       "      <td>0.25</td>\n",
       "      <td>16</td>\n",
       "      <td>92.40</td>\n",
       "      <td>1</td>\n",
       "      <td>4.526127</td>\n",
       "      <td>4.526127</td>\n",
       "    </tr>\n",
       "  </tbody>\n",
       "</table>\n",
       "</div>"
      ],
      "text/plain": [
       "    OrderId  UnitPrice  Discount  Quantity  OrderPrice  DisBool  Log Price  \\\n",
       "3     10251       16.8      0.05         6       95.76        1   4.561845   \n",
       "4     10252       64.8      0.05        40     2462.40        1   7.808892   \n",
       "6     10254        3.6      0.15        15       45.90        1   3.826465   \n",
       "10    10258       15.2      0.20        50      608.00        1   6.410175   \n",
       "12    10260        7.7      0.25        16       92.40        1   4.526127   \n",
       "\n",
       "    LogPrice  \n",
       "3   4.561845  \n",
       "4   7.808892  \n",
       "6   3.826465  \n",
       "10  6.410175  \n",
       "12  4.526127  "
      ]
     },
     "execution_count": 83,
     "metadata": {},
     "output_type": "execute_result"
    }
   ],
   "source": [
    "df_log_price_nodisc.head()"
   ]
  },
  {
   "cell_type": "code",
   "execution_count": 86,
   "metadata": {},
   "outputs": [
    {
     "data": {
      "image/png": "[encoded data removed]",
      "text/plain": [
       "<Figure size 864x360 with 2 Axes>"
      ]
     },
     "metadata": {},
     "output_type": "display_data"
    }
   ],
   "source": [
    "#new visualization for log order price\n",
    "sns.set_style('whitegrid')\n",
    "fig, axes = plt.subplots(1,2, figsize=(12,5))\n",
    "sns.distplot(df_log_price_disc.LogPrice, label = 'Discount', bins = 120, ax = axes[0],\n",
    "            hist_kws={'linewidth': 2, 'alpha': .3})\n",
    "sns.distplot(df_log_price_nodisc.LogPrice, label = 'No Discount', bins = 120, ax = axes[1],\n",
    "            hist_kws={'linewidth': 2, 'alpha': .6})\n",
    "#Plot 1 labels\n",
    "axes[0].set_title('Order Revenue with Discounts', fontweight = 'bold', fontsize = 13)\n",
    "axes[0].set_xlabel('Log Revenue')\n",
    "axes[0].set_ylabel('')\n",
    "#PLot 2 labels\n",
    "axes[1].set_title('Order Revenue without Discounts', fontweight = 'bold', fontsize = 13)\n",
    "axes[1].set_xlabel('Log Revenue')\n",
    "axes[1].set_ylabel('')\n",
    "\n",
    "fig.subplots_adjust(wspace = .2)"
   ]
  },
  {
   "cell_type": "code",
   "execution_count": 87,
   "metadata": {},
   "outputs": [
    {
     "data": {
      "image/png": "[encoded data removed]",
      "text/plain": [
       "<Figure size 720x360 with 1 Axes>"
      ]
     },
     "metadata": {},
     "output_type": "display_data"
    }
   ],
   "source": [
    "# new QQ plot\n",
    "stats.probplot(df_log_price_disc.LogPrice, plot = plt),\n",
    "stats.probplot(df_log_price_nodisc.LogPrice, plot = plt),\n",
    "ax.set_title(\"QQ Plot- Distribution of Order Revenue\", fontweight = 'semibold', fontsize = 13)\n",
    "plt.show()"
   ]
  },
  {
   "cell_type": "markdown",
   "metadata": {},
   "source": [
    "Now, it looks like the Order Price's distribution is a normal distribution and we can move on to hypothesis testing."
   ]
  },
  {
   "cell_type": "code",
   "execution_count": 89,
   "metadata": {},
   "outputs": [
    {
     "data": {
      "text/plain": [
       "Ttest_indResult(statistic=-1.7953601400952701, pvalue=0.07296089513749296)"
      ]
     },
     "execution_count": 89,
     "metadata": {},
     "output_type": "execute_result"
    }
   ],
   "source": [
    "stats.ttest_ind(df_log_price_disc.LogPrice, df_log_price_nodisc.LogPrice)"
   ]
  },
  {
   "cell_type": "markdown",
   "metadata": {},
   "source": [
    "Because the p-value > 0.05, we can fail to reject the null hypothesis that states that discounts do not have a statistically signifcant effect on how Northwind's customers spend. "
   ]
  },
  {
   "cell_type": "markdown",
   "metadata": {},
   "source": [
    "### What level of discount is there statistically significant effect on customer spending?"
   ]
  },
  {
   "cell_type": "markdown",
   "metadata": {},
   "source": [
    "$H_0$: There is no difference in the way customers spend as the discount level changes <br>\n",
    "$H_a$: There is a change in the way customers spend as the discount level changes <br>\n",
    "$alpha$ = 0.05"
   ]
  },
  {
   "cell_type": "code",
   "execution_count": 90,
   "metadata": {},
   "outputs": [
    {
     "data": {
      "text/html": [
       "<div>\n",
       "<style scoped>\n",
       "    .dataframe tbody tr th:only-of-type {\n",
       "        vertical-align: middle;\n",
       "    }\n",
       "\n",
       "    .dataframe tbody tr th {\n",
       "        vertical-align: top;\n",
       "    }\n",
       "\n",
       "    .dataframe thead th {\n",
       "        text-align: right;\n",
       "    }\n",
       "</style>\n",
       "<table border=\"1\" class=\"dataframe\">\n",
       "  <thead>\n",
       "    <tr style=\"text-align: right;\">\n",
       "      <th></th>\n",
       "      <th>OrderId</th>\n",
       "      <th>UnitPrice</th>\n",
       "      <th>Discount</th>\n",
       "      <th>Quantity</th>\n",
       "      <th>OrderPrice</th>\n",
       "      <th>DisBool</th>\n",
       "      <th>Log Price</th>\n",
       "      <th>LogPrice</th>\n",
       "    </tr>\n",
       "  </thead>\n",
       "  <tbody>\n",
       "    <tr>\n",
       "      <th>0</th>\n",
       "      <td>10248</td>\n",
       "      <td>14.0</td>\n",
       "      <td>0.0</td>\n",
       "      <td>12</td>\n",
       "      <td>168.0</td>\n",
       "      <td>0</td>\n",
       "      <td>5.123964</td>\n",
       "      <td>5.123964</td>\n",
       "    </tr>\n",
       "    <tr>\n",
       "      <th>1</th>\n",
       "      <td>10249</td>\n",
       "      <td>18.6</td>\n",
       "      <td>0.0</td>\n",
       "      <td>9</td>\n",
       "      <td>167.4</td>\n",
       "      <td>0</td>\n",
       "      <td>5.120386</td>\n",
       "      <td>5.120386</td>\n",
       "    </tr>\n",
       "    <tr>\n",
       "      <th>2</th>\n",
       "      <td>10250</td>\n",
       "      <td>7.7</td>\n",
       "      <td>0.0</td>\n",
       "      <td>10</td>\n",
       "      <td>77.0</td>\n",
       "      <td>0</td>\n",
       "      <td>4.343805</td>\n",
       "      <td>4.343805</td>\n",
       "    </tr>\n",
       "    <tr>\n",
       "      <th>5</th>\n",
       "      <td>10253</td>\n",
       "      <td>10.0</td>\n",
       "      <td>0.0</td>\n",
       "      <td>20</td>\n",
       "      <td>200.0</td>\n",
       "      <td>0</td>\n",
       "      <td>5.298317</td>\n",
       "      <td>5.298317</td>\n",
       "    </tr>\n",
       "    <tr>\n",
       "      <th>7</th>\n",
       "      <td>10255</td>\n",
       "      <td>15.2</td>\n",
       "      <td>0.0</td>\n",
       "      <td>20</td>\n",
       "      <td>304.0</td>\n",
       "      <td>0</td>\n",
       "      <td>5.717028</td>\n",
       "      <td>5.717028</td>\n",
       "    </tr>\n",
       "  </tbody>\n",
       "</table>\n",
       "</div>"
      ],
      "text/plain": [
       "   OrderId  UnitPrice  Discount  Quantity  OrderPrice  DisBool  Log Price  \\\n",
       "0    10248       14.0       0.0        12       168.0        0   5.123964   \n",
       "1    10249       18.6       0.0         9       167.4        0   5.120386   \n",
       "2    10250        7.7       0.0        10        77.0        0   4.343805   \n",
       "5    10253       10.0       0.0        20       200.0        0   5.298317   \n",
       "7    10255       15.2       0.0        20       304.0        0   5.717028   \n",
       "\n",
       "   LogPrice  \n",
       "0  5.123964  \n",
       "1  5.120386  \n",
       "2  4.343805  \n",
       "5  5.298317  \n",
       "7  5.717028  "
      ]
     },
     "execution_count": 90,
     "metadata": {},
     "output_type": "execute_result"
    }
   ],
   "source": [
    "df_log_price_disc.head()"
   ]
  },
  {
   "cell_type": "code",
   "execution_count": 98,
   "metadata": {},
   "outputs": [
    {
     "data": {
      "text/plain": [
       "<matplotlib.legend.Legend at 0x174787a0cc0>"
      ]
     },
     "execution_count": 98,
     "metadata": {},
     "output_type": "execute_result"
    },
    {
     "data": {
      "image/png": "[encoded data removed]",
      "text/plain": [
       "<Figure size 720x432 with 1 Axes>"
      ]
     },
     "metadata": {},
     "output_type": "display_data"
    }
   ],
   "source": [
    "sns.set_style('whitegrid')\n",
    "fig, ax = plt.subplots(figsize=(10,6))\n",
    "ax = sns.boxenplot(data = df_discount_spending_disc, x = df_discount_spending_disc.Discount, y = df_discount_spending_disc.OrderPrice, \n",
    "                 palette = 'Set2')\n",
    "ax = sns.swarmplot(data = df_discount_spending_disc, x = df_discount_spending_disc.Discount, y = df_discount_spending_disc.OrderPrice, \n",
    "                   hue = df_log_price_disc.Discount, palette = 'Set2', alpha = 0.75)\n",
    "ax.set_title('Discount Level vs. Order Revenue', fontweight = 'bold', fontsize = 13)\n",
    "ax.set_ylabel('Order Price')\n",
    "ax.set_ylim(0, 6250)\n",
    "ax.set_xlabel('Discount Level')\n",
    "ax.set_xticklabels(['No Discount', '0.05', '0.10','0.15', '0.20', '0.25'])\n",
    "ax.legend(loc = 1)"
   ]
  },
  {
   "cell_type": "code",
   "execution_count": 116,
   "metadata": {},
   "outputs": [],
   "source": [
    "df_log_dis_nodisc = df_log_discount[df_log_discount.Discount.isin([0])]\n",
    "df_log_dis_5p = df_log_discount[df_log_discount.Discount.isin([0.05])]\n",
    "df_log_dis_10p = df_log_discount[df_log_discount.Discount.isin([0.10])]\n",
    "df_log_dis_15p = df_log_discount[df_log_discount.Discount.isin([0.15])]\n",
    "df_log_dis_20p = df_log_discount[df_log_discount.Discount.isin([0.20])]\n",
    "df_log_dis_25p = df_log_discount[df_log_discount.Discount.isin([0.25])]"
   ]
  },
  {
   "cell_type": "code",
   "execution_count": 117,
   "metadata": {},
   "outputs": [
    {
     "data": {
      "text/plain": [
       "<matplotlib.legend.Legend at 0x174775ea780>"
      ]
     },
     "execution_count": 117,
     "metadata": {},
     "output_type": "execute_result"
    },
    {
     "data": {
      "image/png": "[encoded data removed]",
      "text/plain": [
       "<Figure size 720x360 with 1 Axes>"
      ]
     },
     "metadata": {},
     "output_type": "display_data"
    }
   ],
   "source": [
    "sns.set_style('whitegrid')\n",
    "fig, ax = plt.subplots(figsize=(10, 5))\n",
    "ax = sns.distplot(df_log_dis_nodisc.LogPrice, label = 'No Discount', bins = 30, hist_kws ={'linewidth': 2, 'alpha': .4})\n",
    "ax = sns.distplot(df_log_dis_5p.LogPrice, label = '5% Discount', bins = 30, hist_kws={'linewidth': 2, 'alpha': .4})\n",
    "ax = sns.distplot(df_log_dis_10p.LogPrice, label = '10% Discount', bins = 30, hist_kws={'linewidth': 2, 'alpha': .4})\n",
    "ax = sns.distplot(df_log_dis_15p.LogPrice, label = '15% Discount', bins = 30, hist_kws={'linewidth': 2, 'alpha':.4})\n",
    "ax = sns.distplot(df_log_dis_20p.LogPrice, label = '20% Discount', bins = 30, hist_kws={'linewidth': 2, 'alpha':.4})\n",
    "ax = sns.distplot(df_log_dis_25p.LogPrice, label = '25% Discount', bins = 30, hist_kws={'linewidth': 2, 'alpha':.4})\n",
    "\n",
    "ax.set_title('Distribution of Order Price by Discount Level', fontweight = 'bold', fontsize = 13)\n",
    "ax.set_xlabel('Log Order Price')\n",
    "fig.subplots_adjust(top = .85, bottom = .15)\n",
    "ax.legend()"
   ]
  },
  {
   "cell_type": "code",
   "execution_count": 120,
   "metadata": {},
   "outputs": [
    {
     "data": {
      "image/png": "[encoded data removed]",
      "text/plain": [
       "<Figure size 720x360 with 1 Axes>"
      ]
     },
     "metadata": {},
     "output_type": "display_data"
    }
   ],
   "source": [
    "stats.probplot(df_log_dis_nodisc.LogPrice, plot = plt),\n",
    "stats.probplot(df_log_dis_5p.LogPrice, plot = plt),\n",
    "stats.probplot(df_log_dis_10p.LogPrice, plot = plt),\n",
    "stats.probplot(df_log_dis_15p.LogPrice, plot = plt),\n",
    "stats.probplot(df_log_dis_20p.LogPrice, plot = plt),\n",
    "stats.probplot(df_log_dis_25p.LogPrice, plot = plt),\n",
    "plt.show()"
   ]
  },
  {
   "cell_type": "markdown",
   "metadata": {},
   "source": [
    "As we can see above, the distribution of the order price is a normal distribution and now can move forward with the ANOVA and Tukey tests."
   ]
  },
  {
   "cell_type": "code",
   "execution_count": 121,
   "metadata": {},
   "outputs": [
    {
     "data": {
      "text/html": [
       "<table class=\"simpletable\">\n",
       "<caption>OLS Regression Results</caption>\n",
       "<tr>\n",
       "  <th>Dep. Variable:</th>        <td>LogPrice</td>     <th>  R-squared:         </th> <td>   0.012</td>\n",
       "</tr>\n",
       "<tr>\n",
       "  <th>Model:</th>                   <td>OLS</td>       <th>  Adj. R-squared:    </th> <td>   0.006</td>\n",
       "</tr>\n",
       "<tr>\n",
       "  <th>Method:</th>             <td>Least Squares</td>  <th>  F-statistic:       </th> <td>   2.058</td>\n",
       "</tr>\n",
       "<tr>\n",
       "  <th>Date:</th>             <td>Mon, 19 Aug 2019</td> <th>  Prob (F-statistic):</th>  <td>0.0686</td> \n",
       "</tr>\n",
       "<tr>\n",
       "  <th>Time:</th>                 <td>10:41:01</td>     <th>  Log-Likelihood:    </th> <td> -1297.8</td>\n",
       "</tr>\n",
       "<tr>\n",
       "  <th>No. Observations:</th>      <td>   830</td>      <th>  AIC:               </th> <td>   2608.</td>\n",
       "</tr>\n",
       "<tr>\n",
       "  <th>Df Residuals:</th>          <td>   824</td>      <th>  BIC:               </th> <td>   2636.</td>\n",
       "</tr>\n",
       "<tr>\n",
       "  <th>Df Model:</th>              <td>     5</td>      <th>                     </th>     <td> </td>   \n",
       "</tr>\n",
       "<tr>\n",
       "  <th>Covariance Type:</th>      <td>nonrobust</td>    <th>                     </th>     <td> </td>   \n",
       "</tr>\n",
       "</table>\n",
       "<table class=\"simpletable\">\n",
       "<tr>\n",
       "           <td></td>              <th>coef</th>     <th>std err</th>      <th>t</th>      <th>P>|t|</th>  <th>[0.025</th>    <th>0.975]</th>  \n",
       "</tr>\n",
       "<tr>\n",
       "  <th>Intercept</th>           <td>    5.6065</td> <td>    0.051</td> <td>  109.593</td> <td> 0.000</td> <td>    5.506</td> <td>    5.707</td>\n",
       "</tr>\n",
       "<tr>\n",
       "  <th>C(Discount)[T.0.05]</th> <td>    0.4185</td> <td>    0.142</td> <td>    2.953</td> <td> 0.003</td> <td>    0.140</td> <td>    0.697</td>\n",
       "</tr>\n",
       "<tr>\n",
       "  <th>C(Discount)[T.0.1]</th>  <td>    0.1519</td> <td>    0.156</td> <td>    0.974</td> <td> 0.330</td> <td>   -0.154</td> <td>    0.458</td>\n",
       "</tr>\n",
       "<tr>\n",
       "  <th>C(Discount)[T.0.15]</th> <td>    0.1604</td> <td>    0.166</td> <td>    0.967</td> <td> 0.334</td> <td>   -0.165</td> <td>    0.486</td>\n",
       "</tr>\n",
       "<tr>\n",
       "  <th>C(Discount)[T.0.2]</th>  <td>    0.0038</td> <td>    0.152</td> <td>    0.025</td> <td> 0.980</td> <td>   -0.294</td> <td>    0.301</td>\n",
       "</tr>\n",
       "<tr>\n",
       "  <th>C(Discount)[T.0.25]</th> <td>   -0.0602</td> <td>    0.162</td> <td>   -0.372</td> <td> 0.710</td> <td>   -0.378</td> <td>    0.258</td>\n",
       "</tr>\n",
       "</table>\n",
       "<table class=\"simpletable\">\n",
       "<tr>\n",
       "  <th>Omnibus:</th>       <td> 1.865</td> <th>  Durbin-Watson:     </th> <td>   1.926</td>\n",
       "</tr>\n",
       "<tr>\n",
       "  <th>Prob(Omnibus):</th> <td> 0.394</td> <th>  Jarque-Bera (JB):  </th> <td>   1.722</td>\n",
       "</tr>\n",
       "<tr>\n",
       "  <th>Skew:</th>          <td>-0.076</td> <th>  Prob(JB):          </th> <td>   0.423</td>\n",
       "</tr>\n",
       "<tr>\n",
       "  <th>Kurtosis:</th>      <td> 3.163</td> <th>  Cond. No.          </th> <td>    4.80</td>\n",
       "</tr>\n",
       "</table><br/><br/>Warnings:<br/>[1] Standard Errors assume that the covariance matrix of the errors is correctly specified."
      ],
      "text/plain": [
       "<class 'statsmodels.iolib.summary.Summary'>\n",
       "\"\"\"\n",
       "                            OLS Regression Results                            \n",
       "==============================================================================\n",
       "Dep. Variable:               LogPrice   R-squared:                       0.012\n",
       "Model:                            OLS   Adj. R-squared:                  0.006\n",
       "Method:                 Least Squares   F-statistic:                     2.058\n",
       "Date:                Mon, 19 Aug 2019   Prob (F-statistic):             0.0686\n",
       "Time:                        10:41:01   Log-Likelihood:                -1297.8\n",
       "No. Observations:                 830   AIC:                             2608.\n",
       "Df Residuals:                     824   BIC:                             2636.\n",
       "Df Model:                           5                                         \n",
       "Covariance Type:            nonrobust                                         \n",
       "=======================================================================================\n",
       "                          coef    std err          t      P>|t|      [0.025      0.975]\n",
       "---------------------------------------------------------------------------------------\n",
       "Intercept               5.6065      0.051    109.593      0.000       5.506       5.707\n",
       "C(Discount)[T.0.05]     0.4185      0.142      2.953      0.003       0.140       0.697\n",
       "C(Discount)[T.0.1]      0.1519      0.156      0.974      0.330      -0.154       0.458\n",
       "C(Discount)[T.0.15]     0.1604      0.166      0.967      0.334      -0.165       0.486\n",
       "C(Discount)[T.0.2]      0.0038      0.152      0.025      0.980      -0.294       0.301\n",
       "C(Discount)[T.0.25]    -0.0602      0.162     -0.372      0.710      -0.378       0.258\n",
       "==============================================================================\n",
       "Omnibus:                        1.865   Durbin-Watson:                   1.926\n",
       "Prob(Omnibus):                  0.394   Jarque-Bera (JB):                1.722\n",
       "Skew:                          -0.076   Prob(JB):                        0.423\n",
       "Kurtosis:                       3.163   Cond. No.                         4.80\n",
       "==============================================================================\n",
       "\n",
       "Warnings:\n",
       "[1] Standard Errors assume that the covariance matrix of the errors is correctly specified.\n",
       "\"\"\""
      ]
     },
     "execution_count": 121,
     "metadata": {},
     "output_type": "execute_result"
    }
   ],
   "source": [
    "#fit the model\n",
    "lm = ols('LogPrice ~ C(Discount)', df_log_discount).fit()\n",
    "lm.summary()"
   ]
  },
  {
   "cell_type": "code",
   "execution_count": 124,
   "metadata": {},
   "outputs": [
    {
     "data": {
      "text/html": [
       "<div>\n",
       "<style scoped>\n",
       "    .dataframe tbody tr th:only-of-type {\n",
       "        vertical-align: middle;\n",
       "    }\n",
       "\n",
       "    .dataframe tbody tr th {\n",
       "        vertical-align: top;\n",
       "    }\n",
       "\n",
       "    .dataframe thead th {\n",
       "        text-align: right;\n",
       "    }\n",
       "</style>\n",
       "<table border=\"1\" class=\"dataframe\">\n",
       "  <thead>\n",
       "    <tr style=\"text-align: right;\">\n",
       "      <th></th>\n",
       "      <th>sum_sq</th>\n",
       "      <th>df</th>\n",
       "      <th>F</th>\n",
       "      <th>PR(&gt;F)</th>\n",
       "    </tr>\n",
       "  </thead>\n",
       "  <tbody>\n",
       "    <tr>\n",
       "      <th>C(Discount)</th>\n",
       "      <td>13.839226</td>\n",
       "      <td>5.0</td>\n",
       "      <td>2.057624</td>\n",
       "      <td>0.068635</td>\n",
       "    </tr>\n",
       "    <tr>\n",
       "      <th>Residual</th>\n",
       "      <td>1108.416417</td>\n",
       "      <td>824.0</td>\n",
       "      <td>NaN</td>\n",
       "      <td>NaN</td>\n",
       "    </tr>\n",
       "  </tbody>\n",
       "</table>\n",
       "</div>"
      ],
      "text/plain": [
       "                  sum_sq     df         F    PR(>F)\n",
       "C(Discount)    13.839226    5.0  2.057624  0.068635\n",
       "Residual     1108.416417  824.0       NaN       NaN"
      ]
     },
     "execution_count": 124,
     "metadata": {},
     "output_type": "execute_result"
    }
   ],
   "source": [
    "sm.stats.anova_lm(lm, typ = 2)"
   ]
  },
  {
   "cell_type": "code",
   "execution_count": 125,
   "metadata": {},
   "outputs": [
    {
     "name": "stdout",
     "output_type": "stream",
     "text": [
      "Multiple Comparison of Means - Tukey HSD,FWER=0.05\n",
      "============================================\n",
      "group1 group2 meandiff  lower  upper  reject\n",
      "--------------------------------------------\n",
      " 0.0    0.05   0.4185   0.0137 0.8234  True \n",
      " 0.0    0.1    0.1519  -0.2935 0.5973 False \n",
      " 0.0    0.15   0.1604  -0.3135 0.6343 False \n",
      " 0.0    0.2    0.0038  -0.4294 0.437  False \n",
      " 0.0    0.25  -0.0602  -0.5227 0.4023 False \n",
      " 0.05   0.1   -0.2666  -0.8319 0.2987 False \n",
      " 0.05   0.15  -0.2581  -0.8461 0.3299 False \n",
      " 0.05   0.2   -0.4147  -0.9704 0.141  False \n",
      " 0.05   0.25  -0.4788  -1.0576 0.1001 False \n",
      " 0.1    0.15   0.0085  -0.6081 0.6252 False \n",
      " 0.1    0.2   -0.1481   -0.734 0.4379 False \n",
      " 0.1    0.25  -0.2121   -0.82  0.3958 False \n",
      " 0.15   0.2   -0.1566  -0.7645 0.4513 False \n",
      " 0.15   0.25  -0.2206  -0.8498 0.4085 False \n",
      " 0.2    0.25   -0.064  -0.6631 0.535  False \n",
      "--------------------------------------------\n"
     ]
    }
   ],
   "source": [
    "tk2 = pairwise_tukeyhsd(df_log_discount.LogPrice, df_log_discount.Discount, .05)\n",
    "print(tk2)"
   ]
  },
  {
   "cell_type": "markdown",
   "metadata": {},
   "source": [
    "The Tukey test shows us that there is a statistically significance between 0.00 and 0.05 discount levels."
   ]
  },
  {
   "cell_type": "markdown",
   "metadata": {},
   "source": [
    "## Is there a statistically significance in customer spending by category? If so, at what discount level(s)?"
   ]
  },
  {
   "cell_type": "markdown",
   "metadata": {},
   "source": [
    "$H_0$: There is no difference in number of orders customers make based on category <br>\n",
    "$H_a$: There is a statistical difference in the number of orders customers make based on category <br>\n",
    "$alpha$ = 0.05"
   ]
  },
  {
   "cell_type": "code",
   "execution_count": 134,
   "metadata": {},
   "outputs": [
    {
     "name": "stdout",
     "output_type": "stream",
     "text": [
      "2019-08-19 11:21:08,434 INFO sqlalchemy.engine.base.Engine SELECT p.Id, c.CategoryName, p.ProductName, od.Discount, \n",
      "od.Quantity              FROM [Product] p              INNER JOIN [OrderDetail] od on od.ProductId = p.Id \n",
      "             INNER JOIN [Category] c on p.CategoryId = c.Id\n"
     ]
    },
    {
     "name": "stderr",
     "output_type": "stream",
     "text": [
      "INFO:sqlalchemy.engine.base.Engine:SELECT p.Id, c.CategoryName, p.ProductName, od.Discount, \n",
      "od.Quantity              FROM [Product] p              INNER JOIN [OrderDetail] od on od.ProductId = p.Id \n",
      "             INNER JOIN [Category] c on p.CategoryId = c.Id\n"
     ]
    },
    {
     "name": "stdout",
     "output_type": "stream",
     "text": [
      "2019-08-19 11:21:08,438 INFO sqlalchemy.engine.base.Engine ()\n"
     ]
    },
    {
     "name": "stderr",
     "output_type": "stream",
     "text": [
      "INFO:sqlalchemy.engine.base.Engine:()\n"
     ]
    },
    {
     "data": {
      "text/html": [
       "<div>\n",
       "<style scoped>\n",
       "    .dataframe tbody tr th:only-of-type {\n",
       "        vertical-align: middle;\n",
       "    }\n",
       "\n",
       "    .dataframe tbody tr th {\n",
       "        vertical-align: top;\n",
       "    }\n",
       "\n",
       "    .dataframe thead th {\n",
       "        text-align: right;\n",
       "    }\n",
       "</style>\n",
       "<table border=\"1\" class=\"dataframe\">\n",
       "  <thead>\n",
       "    <tr style=\"text-align: right;\">\n",
       "      <th></th>\n",
       "      <th>Id</th>\n",
       "      <th>CategoryName</th>\n",
       "      <th>ProductName</th>\n",
       "      <th>Discount</th>\n",
       "      <th>Quantity</th>\n",
       "    </tr>\n",
       "  </thead>\n",
       "  <tbody>\n",
       "    <tr>\n",
       "      <th>0</th>\n",
       "      <td>11</td>\n",
       "      <td>Dairy Products</td>\n",
       "      <td>Queso Cabrales</td>\n",
       "      <td>0.0</td>\n",
       "      <td>12</td>\n",
       "    </tr>\n",
       "    <tr>\n",
       "      <th>1</th>\n",
       "      <td>42</td>\n",
       "      <td>Grains/Cereals</td>\n",
       "      <td>Singaporean Hokkien Fried Mee</td>\n",
       "      <td>0.0</td>\n",
       "      <td>10</td>\n",
       "    </tr>\n",
       "    <tr>\n",
       "      <th>2</th>\n",
       "      <td>72</td>\n",
       "      <td>Dairy Products</td>\n",
       "      <td>Mozzarella di Giovanni</td>\n",
       "      <td>0.0</td>\n",
       "      <td>5</td>\n",
       "    </tr>\n",
       "    <tr>\n",
       "      <th>3</th>\n",
       "      <td>14</td>\n",
       "      <td>Produce</td>\n",
       "      <td>Tofu</td>\n",
       "      <td>0.0</td>\n",
       "      <td>9</td>\n",
       "    </tr>\n",
       "    <tr>\n",
       "      <th>4</th>\n",
       "      <td>51</td>\n",
       "      <td>Produce</td>\n",
       "      <td>Manjimup Dried Apples</td>\n",
       "      <td>0.0</td>\n",
       "      <td>40</td>\n",
       "    </tr>\n",
       "  </tbody>\n",
       "</table>\n",
       "</div>"
      ],
      "text/plain": [
       "   Id    CategoryName                    ProductName  Discount  Quantity\n",
       "0  11  Dairy Products                 Queso Cabrales       0.0        12\n",
       "1  42  Grains/Cereals  Singaporean Hokkien Fried Mee       0.0        10\n",
       "2  72  Dairy Products         Mozzarella di Giovanni       0.0         5\n",
       "3  14         Produce                           Tofu       0.0         9\n",
       "4  51         Produce          Manjimup Dried Apples       0.0        40"
      ]
     },
     "execution_count": 134,
     "metadata": {},
     "output_type": "execute_result"
    }
   ],
   "source": [
    "df_category_spend = pd.read_sql_query(\"\"\"SELECT p.Id, c.CategoryName, p.ProductName, od.Discount, \n",
    "od.Quantity \\\n",
    "             FROM [Product] p \\\n",
    "             INNER JOIN [OrderDetail] od on od.ProductId = p.Id \n",
    "             INNER JOIN [Category] c on p.CategoryId = c.Id\"\"\", engine)\n",
    "df_category_spend.head()"
   ]
  },
  {
   "cell_type": "code",
   "execution_count": 135,
   "metadata": {},
   "outputs": [
    {
     "name": "stdout",
     "output_type": "stream",
     "text": [
      "<class 'pandas.core.frame.DataFrame'>\n",
      "RangeIndex: 2155 entries, 0 to 2154\n",
      "Data columns (total 5 columns):\n",
      "Id              2155 non-null int64\n",
      "CategoryName    2155 non-null object\n",
      "ProductName     2155 non-null object\n",
      "Discount        2155 non-null float64\n",
      "Quantity        2155 non-null int64\n",
      "dtypes: float64(1), int64(2), object(2)\n",
      "memory usage: 84.3+ KB\n"
     ]
    }
   ],
   "source": [
    "df_category_spend.info()"
   ]
  },
  {
   "cell_type": "code",
   "execution_count": 136,
   "metadata": {},
   "outputs": [
    {
     "data": {
      "text/plain": [
       "Beverages         404\n",
       "Dairy Products    366\n",
       "Confections       334\n",
       "Seafood           330\n",
       "Condiments        216\n",
       "Grains/Cereals    196\n",
       "Meat/Poultry      173\n",
       "Produce           136\n",
       "Name: CategoryName, dtype: int64"
      ]
     },
     "execution_count": 136,
     "metadata": {},
     "output_type": "execute_result"
    }
   ],
   "source": [
    "#how many categories of each\n",
    "df_category_spend.CategoryName.value_counts()"
   ]
  },
  {
   "cell_type": "code",
   "execution_count": 137,
   "metadata": {},
   "outputs": [
    {
     "data": {
      "text/plain": [
       "0.00    1317\n",
       "0.05     185\n",
       "0.10     173\n",
       "0.20     161\n",
       "0.15     157\n",
       "0.25     154\n",
       "0.03       3\n",
       "0.02       2\n",
       "0.01       1\n",
       "0.04       1\n",
       "0.06       1\n",
       "Name: Discount, dtype: int64"
      ]
     },
     "execution_count": 137,
     "metadata": {},
     "output_type": "execute_result"
    }
   ],
   "source": [
    "#investigating discount levels in dataframe\n",
    "df_category_spend.Discount.value_counts()"
   ]
  },
  {
   "cell_type": "markdown",
   "metadata": {},
   "source": [
    "Because the number of discounts for 0.01, 0.02, 0.03, 0.04 and 0.06 are so low and usually discounts come in magnitude of 0.05, they will be dropped from this analysis."
   ]
  },
  {
   "cell_type": "code",
   "execution_count": 138,
   "metadata": {},
   "outputs": [
    {
     "data": {
      "text/html": [
       "<div>\n",
       "<style scoped>\n",
       "    .dataframe tbody tr th:only-of-type {\n",
       "        vertical-align: middle;\n",
       "    }\n",
       "\n",
       "    .dataframe tbody tr th {\n",
       "        vertical-align: top;\n",
       "    }\n",
       "\n",
       "    .dataframe thead th {\n",
       "        text-align: right;\n",
       "    }\n",
       "</style>\n",
       "<table border=\"1\" class=\"dataframe\">\n",
       "  <thead>\n",
       "    <tr style=\"text-align: right;\">\n",
       "      <th></th>\n",
       "      <th>Id</th>\n",
       "      <th>CategoryName</th>\n",
       "      <th>ProductName</th>\n",
       "      <th>Discount</th>\n",
       "      <th>Quantity</th>\n",
       "    </tr>\n",
       "  </thead>\n",
       "  <tbody>\n",
       "    <tr>\n",
       "      <th>0</th>\n",
       "      <td>11</td>\n",
       "      <td>Dairy Products</td>\n",
       "      <td>Queso Cabrales</td>\n",
       "      <td>0.0</td>\n",
       "      <td>12</td>\n",
       "    </tr>\n",
       "    <tr>\n",
       "      <th>1</th>\n",
       "      <td>42</td>\n",
       "      <td>Grains/Cereals</td>\n",
       "      <td>Singaporean Hokkien Fried Mee</td>\n",
       "      <td>0.0</td>\n",
       "      <td>10</td>\n",
       "    </tr>\n",
       "    <tr>\n",
       "      <th>2</th>\n",
       "      <td>72</td>\n",
       "      <td>Dairy Products</td>\n",
       "      <td>Mozzarella di Giovanni</td>\n",
       "      <td>0.0</td>\n",
       "      <td>5</td>\n",
       "    </tr>\n",
       "    <tr>\n",
       "      <th>3</th>\n",
       "      <td>14</td>\n",
       "      <td>Produce</td>\n",
       "      <td>Tofu</td>\n",
       "      <td>0.0</td>\n",
       "      <td>9</td>\n",
       "    </tr>\n",
       "    <tr>\n",
       "      <th>4</th>\n",
       "      <td>51</td>\n",
       "      <td>Produce</td>\n",
       "      <td>Manjimup Dried Apples</td>\n",
       "      <td>0.0</td>\n",
       "      <td>40</td>\n",
       "    </tr>\n",
       "  </tbody>\n",
       "</table>\n",
       "</div>"
      ],
      "text/plain": [
       "   Id    CategoryName                    ProductName  Discount  Quantity\n",
       "0  11  Dairy Products                 Queso Cabrales       0.0        12\n",
       "1  42  Grains/Cereals  Singaporean Hokkien Fried Mee       0.0        10\n",
       "2  72  Dairy Products         Mozzarella di Giovanni       0.0         5\n",
       "3  14         Produce                           Tofu       0.0         9\n",
       "4  51         Produce          Manjimup Dried Apples       0.0        40"
      ]
     },
     "execution_count": 138,
     "metadata": {},
     "output_type": "execute_result"
    }
   ],
   "source": [
    "#removing small discounts\n",
    "df_category_disc = df_category_spend[df_category_spend.Discount.isin(['0.00', '0.05', '0.10', '0.15', '0.20', '0.25'])]\n",
    "df_category_disc.head()"
   ]
  },
  {
   "cell_type": "code",
   "execution_count": 139,
   "metadata": {},
   "outputs": [],
   "source": [
    "#Separate dataframe between discount and no discount\n",
    "query5 = 'Discount == 0'\n",
    "df_category_disc_none = df_category_disc.query(query5)\n",
    "query6 = 'Discount > 0'\n",
    "df_category_disc_spend = df_category_disc.query(query6)"
   ]
  },
  {
   "cell_type": "code",
   "execution_count": 142,
   "metadata": {},
   "outputs": [
    {
     "name": "stdout",
     "output_type": "stream",
     "text": [
      "1317\n",
      "830\n"
     ]
    }
   ],
   "source": [
    "print(len(df_category_disc_none))\n",
    "print(len(df_category_disc_spend))"
   ]
  },
  {
   "cell_type": "code",
   "execution_count": 144,
   "metadata": {},
   "outputs": [
    {
     "data": {
      "image/png": "[encoded data removed]",
      "text/plain": [
       "<Figure size 864x360 with 1 Axes>"
      ]
     },
     "metadata": {},
     "output_type": "display_data"
    }
   ],
   "source": [
    "#Visualizing the distribution\n",
    "sns.set_style('whitegrid')\n",
    "fig, ax = plt.subplots(figsize=(12, 5))\n",
    "ax = sns.boxenplot(data = df_category_disc, x = df_category_disc.CategoryName, y = df_category_disc.Quantity, palette = 'Set2')\n",
    "ax = sns.swarmplot(data = df_category_disc, x = df_category_disc.CategoryName, y = df_category_disc.Quantity, \n",
    "                   hue = df_category_disc.Discount, palette = 'Set2')\n",
    "ax.set_title('Discount vs. Order Quantity', fontweight = 'bold', fontsize = 13)\n",
    "ax.set_ylabel('Order Quantity')\n",
    "ax.set_xlabel('')\n",
    "ax.set_ylim(0)\n",
    "plt.xticks(rotation = 45, ha = 'right')\n",
    "plt.show()"
   ]
  },
  {
   "cell_type": "code",
   "execution_count": 146,
   "metadata": {},
   "outputs": [
    {
     "data": {
      "text/plain": [
       "<matplotlib.legend.Legend at 0x17479945a20>"
      ]
     },
     "execution_count": 146,
     "metadata": {},
     "output_type": "execute_result"
    },
    {
     "data": {
      "image/png": "[encoded data removed]",
      "text/plain": [
       "<Figure size 720x360 with 1 Axes>"
      ]
     },
     "metadata": {},
     "output_type": "display_data"
    }
   ],
   "source": [
    "ax = sns.distplot(df_category_disc_none.Quantity, label = 'No Discount')\n",
    "ax = sns.distplot(df_category_disc_spend.Quantity, label = 'Discount')\n",
    "ax.set_xlim(-2)\n",
    "ax.set_title('Distribution of Order Quantity', fontweight = 'bold', fontsize= 14)\n",
    "ax.legend(loc = 1)"
   ]
  },
  {
   "cell_type": "code",
   "execution_count": 149,
   "metadata": {},
   "outputs": [
    {
     "data": {
      "image/png": "[encoded data removed]",
      "text/plain": [
       "<Figure size 720x360 with 1 Axes>"
      ]
     },
     "metadata": {},
     "output_type": "display_data"
    }
   ],
   "source": [
    "stats.probplot(df_category_disc_none.Quantity, plot = plt),\n",
    "stats.probplot(df_category_disc_spend.Quantity, plot = plt),\n",
    "plt.show()"
   ]
  },
  {
   "cell_type": "markdown",
   "metadata": {},
   "source": [
    "Based on this and the graph above, it looks like the distribution of the order quantity is not a normal distribution. So, we will log transform the column before moving forward with hypothesis testing."
   ]
  },
  {
   "cell_type": "code",
   "execution_count": 159,
   "metadata": {},
   "outputs": [
    {
     "data": {
      "text/html": [
       "<div>\n",
       "<style scoped>\n",
       "    .dataframe tbody tr th:only-of-type {\n",
       "        vertical-align: middle;\n",
       "    }\n",
       "\n",
       "    .dataframe tbody tr th {\n",
       "        vertical-align: top;\n",
       "    }\n",
       "\n",
       "    .dataframe thead th {\n",
       "        text-align: right;\n",
       "    }\n",
       "</style>\n",
       "<table border=\"1\" class=\"dataframe\">\n",
       "  <thead>\n",
       "    <tr style=\"text-align: right;\">\n",
       "      <th></th>\n",
       "      <th>Id</th>\n",
       "      <th>CategoryName</th>\n",
       "      <th>ProductName</th>\n",
       "      <th>Discount</th>\n",
       "      <th>Quantity</th>\n",
       "      <th>LogOrderQuantity</th>\n",
       "    </tr>\n",
       "  </thead>\n",
       "  <tbody>\n",
       "    <tr>\n",
       "      <th>0</th>\n",
       "      <td>11</td>\n",
       "      <td>Dairy Products</td>\n",
       "      <td>Queso Cabrales</td>\n",
       "      <td>0.0</td>\n",
       "      <td>12</td>\n",
       "      <td>2.484907</td>\n",
       "    </tr>\n",
       "    <tr>\n",
       "      <th>1</th>\n",
       "      <td>42</td>\n",
       "      <td>Grains/Cereals</td>\n",
       "      <td>Singaporean Hokkien Fried Mee</td>\n",
       "      <td>0.0</td>\n",
       "      <td>10</td>\n",
       "      <td>2.302585</td>\n",
       "    </tr>\n",
       "    <tr>\n",
       "      <th>2</th>\n",
       "      <td>72</td>\n",
       "      <td>Dairy Products</td>\n",
       "      <td>Mozzarella di Giovanni</td>\n",
       "      <td>0.0</td>\n",
       "      <td>5</td>\n",
       "      <td>1.609438</td>\n",
       "    </tr>\n",
       "  </tbody>\n",
       "</table>\n",
       "</div>"
      ],
      "text/plain": [
       "   Id    CategoryName                    ProductName  Discount  Quantity  \\\n",
       "0  11  Dairy Products                 Queso Cabrales       0.0        12   \n",
       "1  42  Grains/Cereals  Singaporean Hokkien Fried Mee       0.0        10   \n",
       "2  72  Dairy Products         Mozzarella di Giovanni       0.0         5   \n",
       "\n",
       "   LogOrderQuantity  \n",
       "0          2.484907  \n",
       "1          2.302585  \n",
       "2          1.609438  "
      ]
     },
     "execution_count": 159,
     "metadata": {},
     "output_type": "execute_result"
    }
   ],
   "source": [
    "df_log_disc_category_spend = df_category_disc.copy()\n",
    "df_category_quant = np.log(df_log_disc_category_spend.Quantity)\n",
    "df_log_disc_category_spend['LogOrderQuantity'] = df_category_quant\n",
    "\n",
    "df_log_disc_category_spend.head(3)"
   ]
  },
  {
   "cell_type": "code",
   "execution_count": 161,
   "metadata": {},
   "outputs": [
    {
     "data": {
      "text/plain": [
       "Text(0, 0.5, '')"
      ]
     },
     "execution_count": 161,
     "metadata": {},
     "output_type": "execute_result"
    },
    {
     "data": {
      "image/png": "[encoded data removed]",
      "text/plain": [
       "<Figure size 864x360 with 2 Axes>"
      ]
     },
     "metadata": {},
     "output_type": "display_data"
    }
   ],
   "source": [
    "fig, axes = plt.subplots(1,2, figsize=(12,5))\n",
    "df_category_disc.groupby(['CategoryName', 'Discount'])['Quantity'].hist(ax = axes[0], alpha = 0.25)\n",
    "df_log_disc_category_spend.groupby(['CategoryName', 'Discount'])['LogOrderQuantity'].hist(ax = axes[1], alpha = 0.25)\n",
    "\n",
    "axes[0].set_title('Distribution of Order Quantity', fontweight = 'bold', fontsize = 13)\n",
    "axes[0].set_xlabel('Order Quantity')\n",
    "axes[0].set_ylabel('')\n",
    "\n",
    "axes[1].set_title('Distribution of Log Order Quantity', fontweight = 'bold', fontsize = 13)\n",
    "axes[1].set_xlabel('Log Order Quantity')\n",
    "axes[1].set_ylabel('')"
   ]
  },
  {
   "cell_type": "markdown",
   "metadata": {},
   "source": [
    "We can see that our Order Quantity looks more like it would pass the normality assumption in order to continue a hypothesis test. "
   ]
  },
  {
   "cell_type": "code",
   "execution_count": 166,
   "metadata": {},
   "outputs": [],
   "source": [
    "#separating the dataframe between no discount and discounts\n",
    "query = 'Discount == 0'\n",
    "df_log_disc_cat_none = df_log_disc_category_spend.query(query)\n",
    "\n",
    "query0 = 'Discount > 0'\n",
    "df_log_disc_cat_discount = df_log_disc_category_spend.query(query0)"
   ]
  },
  {
   "cell_type": "code",
   "execution_count": 170,
   "metadata": {},
   "outputs": [
    {
     "data": {
      "text/plain": [
       "Ttest_indResult(statistic=-6.920700463008245, pvalue=5.91313388186685e-12)"
      ]
     },
     "execution_count": 170,
     "metadata": {},
     "output_type": "execute_result"
    }
   ],
   "source": [
    "# two tailed Welch's t-test\n",
    "stats.ttest_ind(df_log_disc_cat_none.LogOrderQuantity, df_log_disc_cat_discount.LogOrderQuantity)"
   ]
  },
  {
   "cell_type": "markdown",
   "metadata": {},
   "source": [
    "Because our p-value < 0.05, we fail to reject the null hypothesis and can say that there is a statistically significant difference between the number of orders customers make between the different categories."
   ]
  },
  {
   "cell_type": "code",
   "execution_count": null,
   "metadata": {},
   "outputs": [],
   "source": []
  }
 ],
 "metadata": {
  "kernelspec": {
   "display_name": "Python 3",
   "language": "python",
   "name": "python3"
  },
  "language_info": {
   "codemirror_mode": {
    "name": "ipython",
    "version": 3
   },
   "file_extension": ".py",
   "mimetype": "text/x-python",
   "name": "python",
   "nbconvert_exporter": "python",
   "pygments_lexer": "ipython3",
   "version": "3.7.3"
  }
 },
 "nbformat": 4,
 "nbformat_minor": 2
}
