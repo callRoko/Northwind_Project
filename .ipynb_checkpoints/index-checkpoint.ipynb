{
 "cells": [
  {
   "cell_type": "markdown",
   "metadata": {},
   "source": [
    "# Northwind Database Project"
   ]
  },
  {
   "cell_type": "markdown",
   "metadata": {},
   "source": [
    "Name: Hazel Donaldson <br>\n",
    "Due Date: 8/29/2019 <br>"
   ]
  },
  {
   "cell_type": "markdown",
   "metadata": {},
   "source": [
    "# Project Overview:"
   ]
  },
  {
   "cell_type": "markdown",
   "metadata": {},
   "source": [
    "In this project, we will be exploring data provided to us by our client, Northwind, containing sales data for a range of different products. Our goal is to provide the company with several business recommendations through statistically analysis and hypothesis testing."
   ]
  },
  {
   "cell_type": "markdown",
   "metadata": {},
   "source": [
    "## 1. Obtain Data/Import Libraries"
   ]
  },
  {
   "cell_type": "code",
   "execution_count": 1,
   "metadata": {},
   "outputs": [],
   "source": [
    "#import libraries here\n",
    "import sqlite3\n",
    "import pandas as pd\n",
    "import numpy as np\n",
    "import matplotlib.pyplot as plt\n",
    "from matplotlib.dates import DateFormatter\n",
    "import matplotlib.dates as mdates\n",
    "from statsmodels.graphics.factorplots import interaction_plot\n",
    "import seaborn as sns\n",
    "import scipy.stats as stats\n",
    "import statsmodels.api as sm\n",
    "from statsmodels.formula.api import ols\n",
    "from statsmodels.stats.multicomp import pairwise_tukeyhsd\n",
    "from statsmodels.stats.multicomp import MultiComparison\n",
    "from statsmodels.stats.power import TTestIndPower, TTestPower\n",
    "import warnings\n",
    "warnings.filterwarnings('ignore')\n",
    "import scipy as sp"
   ]
  },
  {
   "cell_type": "code",
   "execution_count": 2,
   "metadata": {},
   "outputs": [],
   "source": [
    "#define functions\n",
    "\n",
    "#Cohen's d for effect size\n",
    "def cohen_d(group1, group2):\n",
    "               \n",
    "    diff = group1.mean() - group2.mean()\n",
    "    n1, n2 = len(group1), len(group2)\n",
    "    var1 = group1.var()\n",
    "    var2 = group2.var()\n",
    "    # Calculate the pooled threshold as shown earlier\n",
    "    pooled_var = (n1 * var1 + n2 * var2) / (n1 + n2)\n",
    "    # Calculate Cohen's d statistic\n",
    "    d = diff / np.sqrt(pooled_var)\n",
    "    return abs(d)\n",
    "#comparing average as discount boolean\n",
    "def print_results(a,b):\n",
    "    print(f\"Average with discount: {round(a,2)}\")\n",
    "    print(f\"Average without discount: {round(b, 2)}\")\n",
    "    print(f\"Effect Size: {round((a-b), 2)}\")\n",
    "    print(f\"Relative Effect Size: {round((a-b)/b, 2)}\")\n",
    "def results_printer_disc(a, b):\n",
    "    print(f'Avg at current discount level: {round(a, 2)}')\n",
    "    print(f'Effect Size: {round((a-b),2)}')\n",
    "    print(f'Relative effect size: {round((a-b)/b,2)}')\n",
    "    \n",
    "# Calculate variance ratio for 2 samples:    \n",
    "def variance_ratio(a,b):\n",
    "    return np.var(a)/np.var(b)\n",
    "def ttest_result(result, alpha):\n",
    "    \"\"\"after performing a t-test, use the p-value to tell us whether to reject or fail to reject the null hypothesis\"\"\"\n",
    "    if (result[1] > 0.05):\n",
    "               print(f\"Fail to reject null hypothesis.\\n Results are not statisitically significant with a p-value ={result[1]}\")\n",
    "    else:\n",
    "               print(f\"Reject the null hypothesis.\\n Results are statistically significant with a p-value ={result[1]}\")"
   ]
  },
  {
   "cell_type": "markdown",
   "metadata": {},
   "source": [
    "### Connecting Database"
   ]
  },
  {
   "cell_type": "code",
   "execution_count": 3,
   "metadata": {},
   "outputs": [],
   "source": [
    "#connect to database\n",
    "conn = sqlite3.connect('Northwind_small.sqlite')\n",
    "c = conn.cursor()"
   ]
  },
  {
   "cell_type": "code",
   "execution_count": null,
   "metadata": {},
   "outputs": [],
   "source": [
    "#create list of tables\n",
    "c.execute(\"\"\"SELECT name from sqlite_master WHERE type = 'table';\"\"\")\n",
    "tables = c.fetchall()\n",
    "tables = [i[0] for i in tables]"
   ]
  },
  {
   "cell_type": "code",
   "execution_count": null,
   "metadata": {},
   "outputs": [],
   "source": [
    "dfs = []\n",
    "for i in tables:\n",
    "    table = c.execute('select * from \"'+i+'\"').fetchall()\n",
    "    columns = c.execute('PRAGMA table_info (\"'+i+'\")').fetchall()\n",
    "    df = pd.DataFrame(table, columns=[i[1] for i in columns])\n",
    "    foo = i + \"_df\"\n",
    "    exec(foo + \"= df\")\n",
    "    dfs.append(foo)"
   ]
  },
  {
   "cell_type": "markdown",
   "metadata": {},
   "source": [
    "## Add screenshot of schema"
   ]
  },
  {
   "cell_type": "markdown",
   "metadata": {},
   "source": [
    "Below is an overview of the Northwind schema. Here I will do light exploration to familarize myself with the different tables that would of interest to us.\n"
   ]
  },
  {
   "cell_type": "code",
   "execution_count": 4,
   "metadata": {},
   "outputs": [
    {
     "data": {
      "text/html": [
       "<img src=\"https://raw.githubusercontent.com/learn-co-students/dsc-mod-3-project-online-ds-pt-041519/master/Northwind_ERD_updated.png\"/>"
      ],
      "text/plain": [
       "<IPython.core.display.Image object>"
      ]
     },
     "execution_count": 4,
     "metadata": {},
     "output_type": "execute_result"
    }
   ],
   "source": [
    "from IPython.display import Image\n",
    "from IPython.display import HTML\n",
    "Image(url = \"https://raw.githubusercontent.com/learn-co-students/dsc-mod-3-project-online-ds-pt-041519/master/Northwind_ERD_updated.png\")"
   ]
  },
  {
   "cell_type": "markdown",
   "metadata": {},
   "source": [
    "## Question # 1"
   ]
  },
  {
   "cell_type": "markdown",
   "metadata": {},
   "source": [
    "##  Do discounts have a statistically significant effect on the number of products customers order? If so, at what level(s) of discount?"
   ]
  },
  {
   "cell_type": "markdown",
   "metadata": {},
   "source": [
    "This question needs to be split into two different hypothesis tests.\n",
    "- For the first part, I will do a two-tailed t-test to compare discounts vs no discounts\n",
    "- For the second part, I will do an ANOVA/Tukey test to compare all the discount levels"
   ]
  },
  {
   "cell_type": "markdown",
   "metadata": {},
   "source": [
    "### Part 1:"
   ]
  },
  {
   "cell_type": "markdown",
   "metadata": {},
   "source": [
    "$H_0$: Discounts have no effect on the number of products customers order <br>\n",
    "$H_a$: Discounts can either increase or decrease the number of products customers order <br>\n",
    "$alpha$ : 0.05"
   ]
  },
  {
   "cell_type": "code",
   "execution_count": 5,
   "metadata": {},
   "outputs": [
    {
     "data": {
      "text/html": [
       "<div>\n",
       "<style scoped>\n",
       "    .dataframe tbody tr th:only-of-type {\n",
       "        vertical-align: middle;\n",
       "    }\n",
       "\n",
       "    .dataframe tbody tr th {\n",
       "        vertical-align: top;\n",
       "    }\n",
       "\n",
       "    .dataframe thead th {\n",
       "        text-align: right;\n",
       "    }\n",
       "</style>\n",
       "<table border=\"1\" class=\"dataframe\">\n",
       "  <thead>\n",
       "    <tr style=\"text-align: right;\">\n",
       "      <th></th>\n",
       "      <th>ProductId</th>\n",
       "      <th>UnitPrice</th>\n",
       "      <th>Quantity</th>\n",
       "      <th>Discount</th>\n",
       "    </tr>\n",
       "  </thead>\n",
       "  <tbody>\n",
       "    <tr>\n",
       "      <th>0</th>\n",
       "      <td>11</td>\n",
       "      <td>14.0</td>\n",
       "      <td>12</td>\n",
       "      <td>0.0</td>\n",
       "    </tr>\n",
       "    <tr>\n",
       "      <th>1</th>\n",
       "      <td>42</td>\n",
       "      <td>9.8</td>\n",
       "      <td>10</td>\n",
       "      <td>0.0</td>\n",
       "    </tr>\n",
       "    <tr>\n",
       "      <th>2</th>\n",
       "      <td>72</td>\n",
       "      <td>34.8</td>\n",
       "      <td>5</td>\n",
       "      <td>0.0</td>\n",
       "    </tr>\n",
       "    <tr>\n",
       "      <th>3</th>\n",
       "      <td>14</td>\n",
       "      <td>18.6</td>\n",
       "      <td>9</td>\n",
       "      <td>0.0</td>\n",
       "    </tr>\n",
       "    <tr>\n",
       "      <th>4</th>\n",
       "      <td>51</td>\n",
       "      <td>42.4</td>\n",
       "      <td>40</td>\n",
       "      <td>0.0</td>\n",
       "    </tr>\n",
       "  </tbody>\n",
       "</table>\n",
       "</div>"
      ],
      "text/plain": [
       "   ProductId  UnitPrice  Quantity  Discount\n",
       "0         11       14.0        12       0.0\n",
       "1         42        9.8        10       0.0\n",
       "2         72       34.8         5       0.0\n",
       "3         14       18.6         9       0.0\n",
       "4         51       42.4        40       0.0"
      ]
     },
     "execution_count": 5,
     "metadata": {},
     "output_type": "execute_result"
    }
   ],
   "source": [
    "c.execute(\"\"\"SELECT ProductId, UnitPrice, Quantity, Discount FROM OrderDetail\"\"\")\n",
    "discounts = pd.DataFrame(c.fetchall())\n",
    "discounts.columns = [column[0] for column in c.description]\n",
    "discounts.head()"
   ]
  },
  {
   "cell_type": "code",
   "execution_count": 6,
   "metadata": {},
   "outputs": [
    {
     "name": "stdout",
     "output_type": "stream",
     "text": [
      "<class 'pandas.core.frame.DataFrame'>\n",
      "RangeIndex: 2155 entries, 0 to 2154\n",
      "Data columns (total 4 columns):\n",
      "ProductId    2155 non-null int64\n",
      "UnitPrice    2155 non-null float64\n",
      "Quantity     2155 non-null int64\n",
      "Discount     2155 non-null float64\n",
      "dtypes: float64(2), int64(2)\n",
      "memory usage: 67.4 KB\n"
     ]
    }
   ],
   "source": [
    "discounts.info()"
   ]
  },
  {
   "cell_type": "code",
   "execution_count": 7,
   "metadata": {},
   "outputs": [
    {
     "data": {
      "text/plain": [
       "77"
      ]
     },
     "execution_count": 7,
     "metadata": {},
     "output_type": "execute_result"
    }
   ],
   "source": [
    "len(discounts.ProductId.unique())"
   ]
  },
  {
   "cell_type": "markdown",
   "metadata": {},
   "source": [
    "We have 77 unique products from 2155 rows of data. Now I will create a new column representing a boolean presence of discounts.  Check what kind of discount levels are in the dataframe and then create a visualization for the difference in discount vs. no discount."
   ]
  },
  {
   "cell_type": "code",
   "execution_count": 8,
   "metadata": {},
   "outputs": [
    {
     "data": {
      "text/html": [
       "<div>\n",
       "<style scoped>\n",
       "    .dataframe tbody tr th:only-of-type {\n",
       "        vertical-align: middle;\n",
       "    }\n",
       "\n",
       "    .dataframe tbody tr th {\n",
       "        vertical-align: top;\n",
       "    }\n",
       "\n",
       "    .dataframe thead th {\n",
       "        text-align: right;\n",
       "    }\n",
       "</style>\n",
       "<table border=\"1\" class=\"dataframe\">\n",
       "  <thead>\n",
       "    <tr style=\"text-align: right;\">\n",
       "      <th></th>\n",
       "      <th>ProductId</th>\n",
       "      <th>UnitPrice</th>\n",
       "      <th>Quantity</th>\n",
       "      <th>Discount</th>\n",
       "      <th>DiscBool</th>\n",
       "    </tr>\n",
       "  </thead>\n",
       "  <tbody>\n",
       "    <tr>\n",
       "      <th>0</th>\n",
       "      <td>11</td>\n",
       "      <td>14.0</td>\n",
       "      <td>12</td>\n",
       "      <td>0.0</td>\n",
       "      <td>0</td>\n",
       "    </tr>\n",
       "    <tr>\n",
       "      <th>1</th>\n",
       "      <td>42</td>\n",
       "      <td>9.8</td>\n",
       "      <td>10</td>\n",
       "      <td>0.0</td>\n",
       "      <td>0</td>\n",
       "    </tr>\n",
       "    <tr>\n",
       "      <th>2</th>\n",
       "      <td>72</td>\n",
       "      <td>34.8</td>\n",
       "      <td>5</td>\n",
       "      <td>0.0</td>\n",
       "      <td>0</td>\n",
       "    </tr>\n",
       "    <tr>\n",
       "      <th>3</th>\n",
       "      <td>14</td>\n",
       "      <td>18.6</td>\n",
       "      <td>9</td>\n",
       "      <td>0.0</td>\n",
       "      <td>0</td>\n",
       "    </tr>\n",
       "    <tr>\n",
       "      <th>4</th>\n",
       "      <td>51</td>\n",
       "      <td>42.4</td>\n",
       "      <td>40</td>\n",
       "      <td>0.0</td>\n",
       "      <td>0</td>\n",
       "    </tr>\n",
       "  </tbody>\n",
       "</table>\n",
       "</div>"
      ],
      "text/plain": [
       "   ProductId  UnitPrice  Quantity  Discount  DiscBool\n",
       "0         11       14.0        12       0.0         0\n",
       "1         42        9.8        10       0.0         0\n",
       "2         72       34.8         5       0.0         0\n",
       "3         14       18.6         9       0.0         0\n",
       "4         51       42.4        40       0.0         0"
      ]
     },
     "execution_count": 8,
     "metadata": {},
     "output_type": "execute_result"
    }
   ],
   "source": [
    "#looking for the presence of a discount\n",
    "discounts['DiscBool'] = discounts['Discount'].apply(lambda x: 0 if x == 0 else 1)\n",
    "discounts.head()"
   ]
  },
  {
   "cell_type": "code",
   "execution_count": 9,
   "metadata": {},
   "outputs": [
    {
     "data": {
      "text/plain": [
       "0.00    1317\n",
       "0.05     185\n",
       "0.10     173\n",
       "0.20     161\n",
       "0.15     157\n",
       "0.25     154\n",
       "0.03       3\n",
       "0.02       2\n",
       "0.01       1\n",
       "0.04       1\n",
       "0.06       1\n",
       "Name: Discount, dtype: int64"
      ]
     },
     "execution_count": 9,
     "metadata": {},
     "output_type": "execute_result"
    }
   ],
   "source": [
    "discounts.Discount.value_counts()"
   ]
  },
  {
   "cell_type": "markdown",
   "metadata": {},
   "source": [
    "The value count of the different discount levels avaiable show us that a bulk of the discount levels are all divisible by 0.05 and the ones that aren't will be removed from the dataframe."
   ]
  },
  {
   "cell_type": "code",
   "execution_count": 10,
   "metadata": {},
   "outputs": [
    {
     "data": {
      "text/html": [
       "<div>\n",
       "<style scoped>\n",
       "    .dataframe tbody tr th:only-of-type {\n",
       "        vertical-align: middle;\n",
       "    }\n",
       "\n",
       "    .dataframe tbody tr th {\n",
       "        vertical-align: top;\n",
       "    }\n",
       "\n",
       "    .dataframe thead th {\n",
       "        text-align: right;\n",
       "    }\n",
       "</style>\n",
       "<table border=\"1\" class=\"dataframe\">\n",
       "  <thead>\n",
       "    <tr style=\"text-align: right;\">\n",
       "      <th></th>\n",
       "      <th>ProductId</th>\n",
       "      <th>UnitPrice</th>\n",
       "      <th>Quantity</th>\n",
       "      <th>Discount</th>\n",
       "      <th>DiscBool</th>\n",
       "    </tr>\n",
       "  </thead>\n",
       "  <tbody>\n",
       "    <tr>\n",
       "      <th>0</th>\n",
       "      <td>11</td>\n",
       "      <td>14.0</td>\n",
       "      <td>12</td>\n",
       "      <td>0.0</td>\n",
       "      <td>0</td>\n",
       "    </tr>\n",
       "    <tr>\n",
       "      <th>1</th>\n",
       "      <td>42</td>\n",
       "      <td>9.8</td>\n",
       "      <td>10</td>\n",
       "      <td>0.0</td>\n",
       "      <td>0</td>\n",
       "    </tr>\n",
       "    <tr>\n",
       "      <th>2</th>\n",
       "      <td>72</td>\n",
       "      <td>34.8</td>\n",
       "      <td>5</td>\n",
       "      <td>0.0</td>\n",
       "      <td>0</td>\n",
       "    </tr>\n",
       "    <tr>\n",
       "      <th>3</th>\n",
       "      <td>14</td>\n",
       "      <td>18.6</td>\n",
       "      <td>9</td>\n",
       "      <td>0.0</td>\n",
       "      <td>0</td>\n",
       "    </tr>\n",
       "    <tr>\n",
       "      <th>4</th>\n",
       "      <td>51</td>\n",
       "      <td>42.4</td>\n",
       "      <td>40</td>\n",
       "      <td>0.0</td>\n",
       "      <td>0</td>\n",
       "    </tr>\n",
       "  </tbody>\n",
       "</table>\n",
       "</div>"
      ],
      "text/plain": [
       "   ProductId  UnitPrice  Quantity  Discount  DiscBool\n",
       "0         11       14.0        12       0.0         0\n",
       "1         42        9.8        10       0.0         0\n",
       "2         72       34.8         5       0.0         0\n",
       "3         14       18.6         9       0.0         0\n",
       "4         51       42.4        40       0.0         0"
      ]
     },
     "execution_count": 10,
     "metadata": {},
     "output_type": "execute_result"
    }
   ],
   "source": [
    "discounts = discounts[discounts.Discount.isin([0.00, 0.05, 0.10, 0.15, 0.20, 0.25])] \n",
    "discounts.head()"
   ]
  },
  {
   "cell_type": "code",
   "execution_count": 11,
   "metadata": {},
   "outputs": [
    {
     "data": {
      "image/png": "[encoded data removed]",
      "text/plain": [
       "<Figure size 864x360 with 2 Axes>"
      ]
     },
     "metadata": {
      "needs_background": "light"
     },
     "output_type": "display_data"
    }
   ],
   "source": [
    "# Comparing the Number of Orders and Average Order Size to DisBool\n",
    "fig, axes = plt.subplots(2, 1, figsize = (12, 5))\n",
    "sns.set_style('whitegrid')\n",
    "\n",
    "#Grouping DataFrame for visualization\n",
    "discounts.groupby(['DiscBool'])['Quantity'].count().plot(kind = 'barh', ax = axes[0], color = ['#a0b0f0', '#c9f9a0'])\n",
    "discounts.groupby(['DiscBool'])['Quantity'].mean().plot(kind = 'barh', ax = axes[1], color = ['#a0b0f0', '#c9f9a0'])\n",
    "# First plot labels\n",
    "axes[0].set_title('Number of Orders', fontsize = 13)\n",
    "axes[0].set_xlabel('Orders')\n",
    "axes[0].set_ylabel('')\n",
    "axes[0].set_yticklabels(['No Discount', 'Discount'])\n",
    "#Second plot labels\n",
    "axes[1].set_title('Average Order Size', fontsize = 13)\n",
    "axes[1].set_xlabel('Order Size')\n",
    "axes[1].set_ylabel('')\n",
    "axes[1].set_yticklabels(['No Discount', 'Discount'])\n",
    "fig.subplots_adjust(hspace = .75)\n",
    "fig.savefig('orders_numandsize.png', bbox_inches = 'tight')\n",
    "plt.show()"
   ]
  },
  {
   "cell_type": "code",
   "execution_count": 12,
   "metadata": {},
   "outputs": [
    {
     "name": "stdout",
     "output_type": "stream",
     "text": [
      "There are 487 more orders made where there is no discount.\n",
      "The average order size for discounted items was 5.638954908472158 items greater than the order size when there was no discount\n"
     ]
    }
   ],
   "source": [
    "print(f\"There are {discounts.groupby(['DiscBool'])['Quantity'].count()[0]-discounts.groupby(['DiscBool'])['Quantity'].count()[1]} more orders made where there is no discount.\")\n",
    "print(f\"The average order size for discounted items was {discounts.groupby(['DiscBool'])['Quantity'].mean()[1]-discounts.groupby(['DiscBool'])['Quantity'].mean()[0]} items greater than the order size when there was no discount\")"
   ]
  },
  {
   "cell_type": "markdown",
   "metadata": {},
   "source": [
    "As we can see non-discounted items account for the higher number of orders but discounted items have a larger average order size. We will investigate if this difference statisitcally significance."
   ]
  },
  {
   "cell_type": "code",
   "execution_count": 13,
   "metadata": {},
   "outputs": [],
   "source": [
    "# Separating dataframe between discounted and non-discounted order quantities:\n",
    "control = discounts[discounts['Discount']== 0]['Quantity'] #non discounted products\n",
    "experimental = discounts[discounts['Discount'] != 0]['Quantity'] #discounted products"
   ]
  },
  {
   "cell_type": "code",
   "execution_count": 14,
   "metadata": {},
   "outputs": [
    {
     "data": {
      "text/plain": [
       "<matplotlib.legend.Legend at 0x2382b9d6470>"
      ]
     },
     "execution_count": 14,
     "metadata": {},
     "output_type": "execute_result"
    },
    {
     "data": {
      "image/png": "[encoded data removed]",
      "text/plain": [
       "<Figure size 720x360 with 1 Axes>"
      ]
     },
     "metadata": {},
     "output_type": "display_data"
    }
   ],
   "source": [
    "sns.set(rc={'figure.figsize':(10, 5)})\n",
    "sns.set_style('whitegrid')\n",
    "\n",
    "ax = sns.distplot(experimental, label = 'Discount')\n",
    "ax = sns.distplot(control, label = 'No Discount')\n",
    "#ax = sns.kdeplot(gen_discount, label = 'Discount KDE')\n",
    "#ax = sns.kdeplot(gen_nodiscount, label = 'No Discount KDE')\n",
    "ax.set_xlim(-15, 145)\n",
    "ax.set_title('Distribution of Order Size', fontsize = 13)\n",
    "ax.legend()"
   ]
  },
  {
   "cell_type": "code",
   "execution_count": 15,
   "metadata": {},
   "outputs": [
    {
     "name": "stdout",
     "output_type": "stream",
     "text": [
      "Average with discount: 27.35\n",
      "Average without discount: 21.72\n",
      "Effect Size: 5.64\n",
      "Relative Effect Size: 0.26\n"
     ]
    }
   ],
   "source": [
    "#showing results from the print_result function\n",
    "a = experimental.mean()\n",
    "b = control.mean()\n",
    "print_results(a,b)"
   ]
  },
  {
   "cell_type": "markdown",
   "metadata": {},
   "source": [
    "The KDE plot confirms what we observed above that there are more non discounted items sold but the discounted items account for the higher average order quantity size. The KDE plot is positively skewed but for the most part looks like a normal distribution, which means we can move forward with a t-test. In statistics, the Welch's test is a two sample location test that is used to test the hypothesis that the two populations have equal means. "
   ]
  },
  {
   "cell_type": "code",
   "execution_count": 16,
   "metadata": {},
   "outputs": [
    {
     "name": "stdout",
     "output_type": "stream",
     "text": [
      "Reject the null hypothesis.\n",
      " Results are statistically significant with a p-value =1.7401995278127614e-11\n",
      "0.2997078720940889\n"
     ]
    }
   ],
   "source": [
    "#Welch's t-test and cohen's d\n",
    "result = stats.ttest_ind(experimental, control)\n",
    "d = cohen_d(experimental, control)\n",
    "ttest_result(result, 0.05)\n",
    "print(d)"
   ]
  },
  {
   "cell_type": "markdown",
   "metadata": {},
   "source": [
    "Because the p-value is less than 0.05, we can reject the null hypothesis and say that discounts do impact the number of quantity of orders made. The effect size or cohen's d value tells that this significance is a bit small to medium. Moving on to part 2..."
   ]
  },
  {
   "cell_type": "markdown",
   "metadata": {},
   "source": [
    "### Part 2:"
   ]
  },
  {
   "cell_type": "markdown",
   "metadata": {},
   "source": [
    "$H_0$ : The average number of orders is the same regardless of discount level <br>\n",
    "$H_a$ : The average number of orders is not the same the level of discount changes <br>\n",
    "$alpha$ : 0.05"
   ]
  },
  {
   "cell_type": "code",
   "execution_count": 17,
   "metadata": {},
   "outputs": [
    {
     "data": {
      "text/plain": [
       "0.00    1317\n",
       "0.05     185\n",
       "0.10     173\n",
       "0.20     161\n",
       "0.15     157\n",
       "0.25     154\n",
       "Name: Discount, dtype: int64"
      ]
     },
     "execution_count": 17,
     "metadata": {},
     "output_type": "execute_result"
    }
   ],
   "source": [
    "discounts.Discount.value_counts()"
   ]
  },
  {
   "cell_type": "code",
   "execution_count": 18,
   "metadata": {},
   "outputs": [
    {
     "data": {
      "text/html": [
       "<div>\n",
       "<style scoped>\n",
       "    .dataframe tbody tr th:only-of-type {\n",
       "        vertical-align: middle;\n",
       "    }\n",
       "\n",
       "    .dataframe tbody tr th {\n",
       "        vertical-align: top;\n",
       "    }\n",
       "\n",
       "    .dataframe thead th {\n",
       "        text-align: right;\n",
       "    }\n",
       "</style>\n",
       "<table border=\"1\" class=\"dataframe\">\n",
       "  <thead>\n",
       "    <tr style=\"text-align: right;\">\n",
       "      <th></th>\n",
       "      <th>ProductId</th>\n",
       "      <th>UnitPrice</th>\n",
       "      <th>Quantity</th>\n",
       "      <th>Discount</th>\n",
       "      <th>DiscBool</th>\n",
       "    </tr>\n",
       "  </thead>\n",
       "  <tbody>\n",
       "    <tr>\n",
       "      <th>6</th>\n",
       "      <td>51</td>\n",
       "      <td>42.4</td>\n",
       "      <td>35</td>\n",
       "      <td>0.15</td>\n",
       "      <td>1</td>\n",
       "    </tr>\n",
       "    <tr>\n",
       "      <th>7</th>\n",
       "      <td>65</td>\n",
       "      <td>16.8</td>\n",
       "      <td>15</td>\n",
       "      <td>0.15</td>\n",
       "      <td>1</td>\n",
       "    </tr>\n",
       "    <tr>\n",
       "      <th>8</th>\n",
       "      <td>22</td>\n",
       "      <td>16.8</td>\n",
       "      <td>6</td>\n",
       "      <td>0.05</td>\n",
       "      <td>1</td>\n",
       "    </tr>\n",
       "  </tbody>\n",
       "</table>\n",
       "</div>"
      ],
      "text/plain": [
       "   ProductId  UnitPrice  Quantity  Discount  DiscBool\n",
       "6         51       42.4        35      0.15         1\n",
       "7         65       16.8        15      0.15         1\n",
       "8         22       16.8         6      0.05         1"
      ]
     },
     "execution_count": 18,
     "metadata": {},
     "output_type": "execute_result"
    }
   ],
   "source": [
    "query = 'DiscBool != 0' #removing the non-discounted orders\n",
    "discounted = discounts.query(query)\n",
    "discounted.head(3)"
   ]
  },
  {
   "cell_type": "code",
   "execution_count": 19,
   "metadata": {},
   "outputs": [
    {
     "data": {
      "image/png": "[encoded data removed]",
      "text/plain": [
       "<Figure size 864x360 with 2 Axes>"
      ]
     },
     "metadata": {},
     "output_type": "display_data"
    }
   ],
   "source": [
    "#Viewing difference between discount levels against number of orders and average order size visually\n",
    "#fig, axes = plt.subplot(1, 2, figsize = (12,5))\n",
    "fig, axes = plt.subplots(2, 1, figsize=(12,5))\n",
    "sns.set_style('whitegrid')\n",
    "#Grouping dataframe\n",
    "discounted.groupby(['Discount'])['Quantity'].count().plot(kind = 'barh', ax = axes[0], color=['#E78AC3', '#A6D854', '#FFD92F', '#E5C494', '#B3B3B3', '#66C2A5'])\n",
    "discounted.groupby(['Discount'])['Quantity'].mean().plot(kind = 'barh', ax = axes[1], color=['#E78AC3', '#A6D854', '#FFD92F', '#E5C494', '#B3B3B3', '#66C2A5'])\n",
    "#Plot 1 labels\n",
    "axes[0].set_title('Number of Orders per Discount Level', fontweight = 'bold', fontsize = 13)\n",
    "axes[0].set_xlabel('Order Size', fontweight = 'semibold')\n",
    "axes[0].set_ylabel('')\n",
    "axes[0].set_yticklabels(['0.05', '0.10', '0.15', '0.20', '0.25'])\n",
    "\n",
    "#Plot 2 labels\n",
    "axes[1].set_title('Average Order Size by Discount Level', fontweight = 'bold', fontsize = 13)\n",
    "axes[1].set_xlabel('Average Order Size', fontweight = 'semibold')\n",
    "axes[1].set_ylabel('')\n",
    "axes[1].set_yticklabels(['0.05', '0.10', '0.15', '0.20', '0.25'])\n",
    "fig.subplots_adjust(hspace = .75);\n",
    "fig.savefig('discountlevels.png', bbox_inches = 'tight')"
   ]
  },
  {
   "cell_type": "markdown",
   "metadata": {},
   "source": [
    "In contrast to the bar graph above, we can see that the difference between the difference discount levels are much smaller for number of orders and average order size. We will investigate if this difference is significance."
   ]
  },
  {
   "cell_type": "code",
   "execution_count": 20,
   "metadata": {},
   "outputs": [
    {
     "data": {
      "text/html": [
       "<table class=\"simpletable\">\n",
       "<caption>OLS Regression Results</caption>\n",
       "<tr>\n",
       "  <th>Dep. Variable:</th>        <td>Quantity</td>     <th>  R-squared:         </th> <td>   0.003</td>\n",
       "</tr>\n",
       "<tr>\n",
       "  <th>Model:</th>                   <td>OLS</td>       <th>  Adj. R-squared:    </th> <td>  -0.002</td>\n",
       "</tr>\n",
       "<tr>\n",
       "  <th>Method:</th>             <td>Least Squares</td>  <th>  F-statistic:       </th> <td>  0.6741</td>\n",
       "</tr>\n",
       "<tr>\n",
       "  <th>Date:</th>             <td>Thu, 29 Aug 2019</td> <th>  Prob (F-statistic):</th>  <td> 0.610</td> \n",
       "</tr>\n",
       "<tr>\n",
       "  <th>Time:</th>                 <td>11:28:56</td>     <th>  Log-Likelihood:    </th> <td> -3691.7</td>\n",
       "</tr>\n",
       "<tr>\n",
       "  <th>No. Observations:</th>      <td>   830</td>      <th>  AIC:               </th> <td>   7393.</td>\n",
       "</tr>\n",
       "<tr>\n",
       "  <th>Df Residuals:</th>          <td>   825</td>      <th>  BIC:               </th> <td>   7417.</td>\n",
       "</tr>\n",
       "<tr>\n",
       "  <th>Df Model:</th>              <td>     4</td>      <th>                     </th>     <td> </td>   \n",
       "</tr>\n",
       "<tr>\n",
       "  <th>Covariance Type:</th>      <td>nonrobust</td>    <th>                     </th>     <td> </td>   \n",
       "</tr>\n",
       "</table>\n",
       "<table class=\"simpletable\">\n",
       "<tr>\n",
       "           <td></td>              <th>coef</th>     <th>std err</th>      <th>t</th>      <th>P>|t|</th>  <th>[0.025</th>    <th>0.975]</th>  \n",
       "</tr>\n",
       "<tr>\n",
       "  <th>Intercept</th>           <td>   28.0108</td> <td>    1.525</td> <td>   18.372</td> <td> 0.000</td> <td>   25.018</td> <td>   31.003</td>\n",
       "</tr>\n",
       "<tr>\n",
       "  <th>C(Discount)[T.0.1]</th>  <td>   -2.7738</td> <td>    2.193</td> <td>   -1.265</td> <td> 0.206</td> <td>   -7.079</td> <td>    1.531</td>\n",
       "</tr>\n",
       "<tr>\n",
       "  <th>C(Discount)[T.0.15]</th> <td>    0.3714</td> <td>    2.250</td> <td>    0.165</td> <td> 0.869</td> <td>   -4.045</td> <td>    4.788</td>\n",
       "</tr>\n",
       "<tr>\n",
       "  <th>C(Discount)[T.0.2]</th>  <td>   -0.9860</td> <td>    2.235</td> <td>   -0.441</td> <td> 0.659</td> <td>   -5.373</td> <td>    3.401</td>\n",
       "</tr>\n",
       "<tr>\n",
       "  <th>C(Discount)[T.0.25]</th> <td>    0.2294</td> <td>    2.262</td> <td>    0.101</td> <td> 0.919</td> <td>   -4.211</td> <td>    4.669</td>\n",
       "</tr>\n",
       "</table>\n",
       "<table class=\"simpletable\">\n",
       "<tr>\n",
       "  <th>Omnibus:</th>       <td>263.705</td> <th>  Durbin-Watson:     </th> <td>   1.667</td> \n",
       "</tr>\n",
       "<tr>\n",
       "  <th>Prob(Omnibus):</th> <td> 0.000</td>  <th>  Jarque-Bera (JB):  </th> <td> 751.622</td> \n",
       "</tr>\n",
       "<tr>\n",
       "  <th>Skew:</th>          <td> 1.598</td>  <th>  Prob(JB):          </th> <td>6.13e-164</td>\n",
       "</tr>\n",
       "<tr>\n",
       "  <th>Kurtosis:</th>      <td> 6.394</td>  <th>  Cond. No.          </th> <td>    5.56</td> \n",
       "</tr>\n",
       "</table><br/><br/>Warnings:<br/>[1] Standard Errors assume that the covariance matrix of the errors is correctly specified."
      ],
      "text/plain": [
       "<class 'statsmodels.iolib.summary.Summary'>\n",
       "\"\"\"\n",
       "                            OLS Regression Results                            \n",
       "==============================================================================\n",
       "Dep. Variable:               Quantity   R-squared:                       0.003\n",
       "Model:                            OLS   Adj. R-squared:                 -0.002\n",
       "Method:                 Least Squares   F-statistic:                    0.6741\n",
       "Date:                Thu, 29 Aug 2019   Prob (F-statistic):              0.610\n",
       "Time:                        11:28:56   Log-Likelihood:                -3691.7\n",
       "No. Observations:                 830   AIC:                             7393.\n",
       "Df Residuals:                     825   BIC:                             7417.\n",
       "Df Model:                           4                                         \n",
       "Covariance Type:            nonrobust                                         \n",
       "=======================================================================================\n",
       "                          coef    std err          t      P>|t|      [0.025      0.975]\n",
       "---------------------------------------------------------------------------------------\n",
       "Intercept              28.0108      1.525     18.372      0.000      25.018      31.003\n",
       "C(Discount)[T.0.1]     -2.7738      2.193     -1.265      0.206      -7.079       1.531\n",
       "C(Discount)[T.0.15]     0.3714      2.250      0.165      0.869      -4.045       4.788\n",
       "C(Discount)[T.0.2]     -0.9860      2.235     -0.441      0.659      -5.373       3.401\n",
       "C(Discount)[T.0.25]     0.2294      2.262      0.101      0.919      -4.211       4.669\n",
       "==============================================================================\n",
       "Omnibus:                      263.705   Durbin-Watson:                   1.667\n",
       "Prob(Omnibus):                  0.000   Jarque-Bera (JB):              751.622\n",
       "Skew:                           1.598   Prob(JB):                    6.13e-164\n",
       "Kurtosis:                       6.394   Cond. No.                         5.56\n",
       "==============================================================================\n",
       "\n",
       "Warnings:\n",
       "[1] Standard Errors assume that the covariance matrix of the errors is correctly specified.\n",
       "\"\"\""
      ]
     },
     "execution_count": 20,
     "metadata": {},
     "output_type": "execute_result"
    }
   ],
   "source": [
    "#fitting using statsmodels ols\n",
    "lm = ols('Quantity ~ C(Discount)', discounted).fit()\n",
    "lm.summary()"
   ]
  },
  {
   "cell_type": "code",
   "execution_count": 21,
   "metadata": {},
   "outputs": [
    {
     "data": {
      "text/html": [
       "<div>\n",
       "<style scoped>\n",
       "    .dataframe tbody tr th:only-of-type {\n",
       "        vertical-align: middle;\n",
       "    }\n",
       "\n",
       "    .dataframe tbody tr th {\n",
       "        vertical-align: top;\n",
       "    }\n",
       "\n",
       "    .dataframe thead th {\n",
       "        text-align: right;\n",
       "    }\n",
       "</style>\n",
       "<table border=\"1\" class=\"dataframe\">\n",
       "  <thead>\n",
       "    <tr style=\"text-align: right;\">\n",
       "      <th></th>\n",
       "      <th>sum_sq</th>\n",
       "      <th>df</th>\n",
       "      <th>F</th>\n",
       "      <th>PR(&gt;F)</th>\n",
       "    </tr>\n",
       "  </thead>\n",
       "  <tbody>\n",
       "    <tr>\n",
       "      <th>C(Discount)</th>\n",
       "      <td>1159.517551</td>\n",
       "      <td>4.0</td>\n",
       "      <td>0.674103</td>\n",
       "      <td>0.610041</td>\n",
       "    </tr>\n",
       "    <tr>\n",
       "      <th>Residual</th>\n",
       "      <td>354768.342690</td>\n",
       "      <td>825.0</td>\n",
       "      <td>NaN</td>\n",
       "      <td>NaN</td>\n",
       "    </tr>\n",
       "  </tbody>\n",
       "</table>\n",
       "</div>"
      ],
      "text/plain": [
       "                    sum_sq     df         F    PR(>F)\n",
       "C(Discount)    1159.517551    4.0  0.674103  0.610041\n",
       "Residual     354768.342690  825.0       NaN       NaN"
      ]
     },
     "execution_count": 21,
     "metadata": {},
     "output_type": "execute_result"
    }
   ],
   "source": [
    "#ANOVA analysis to test multiple comparisons test\n",
    "sm.stats.anova_lm(lm, typ = 2)"
   ]
  },
  {
   "cell_type": "markdown",
   "metadata": {},
   "source": [
    "We fail to reject the null hypothesis as the p-value is greater than 0.05. Turning each discount level into a dataframe for the Tukey test."
   ]
  },
  {
   "cell_type": "code",
   "execution_count": 22,
   "metadata": {},
   "outputs": [
    {
     "data": {
      "text/html": [
       "<div>\n",
       "<style scoped>\n",
       "    .dataframe tbody tr th:only-of-type {\n",
       "        vertical-align: middle;\n",
       "    }\n",
       "\n",
       "    .dataframe tbody tr th {\n",
       "        vertical-align: top;\n",
       "    }\n",
       "\n",
       "    .dataframe thead th {\n",
       "        text-align: right;\n",
       "    }\n",
       "</style>\n",
       "<table border=\"1\" class=\"dataframe\">\n",
       "  <thead>\n",
       "    <tr style=\"text-align: right;\">\n",
       "      <th></th>\n",
       "      <th>ProductId</th>\n",
       "      <th>UnitPrice</th>\n",
       "      <th>Quantity</th>\n",
       "      <th>Discount</th>\n",
       "      <th>DiscBool</th>\n",
       "    </tr>\n",
       "  </thead>\n",
       "  <tbody>\n",
       "    <tr>\n",
       "      <th>8</th>\n",
       "      <td>22</td>\n",
       "      <td>16.8</td>\n",
       "      <td>6</td>\n",
       "      <td>0.05</td>\n",
       "      <td>1</td>\n",
       "    </tr>\n",
       "    <tr>\n",
       "      <th>9</th>\n",
       "      <td>57</td>\n",
       "      <td>15.6</td>\n",
       "      <td>15</td>\n",
       "      <td>0.05</td>\n",
       "      <td>1</td>\n",
       "    </tr>\n",
       "    <tr>\n",
       "      <th>11</th>\n",
       "      <td>20</td>\n",
       "      <td>64.8</td>\n",
       "      <td>40</td>\n",
       "      <td>0.05</td>\n",
       "      <td>1</td>\n",
       "    </tr>\n",
       "    <tr>\n",
       "      <th>12</th>\n",
       "      <td>33</td>\n",
       "      <td>2.0</td>\n",
       "      <td>25</td>\n",
       "      <td>0.05</td>\n",
       "      <td>1</td>\n",
       "    </tr>\n",
       "    <tr>\n",
       "      <th>51</th>\n",
       "      <td>12</td>\n",
       "      <td>30.4</td>\n",
       "      <td>12</td>\n",
       "      <td>0.05</td>\n",
       "      <td>1</td>\n",
       "    </tr>\n",
       "  </tbody>\n",
       "</table>\n",
       "</div>"
      ],
      "text/plain": [
       "    ProductId  UnitPrice  Quantity  Discount  DiscBool\n",
       "8          22       16.8         6      0.05         1\n",
       "9          57       15.6        15      0.05         1\n",
       "11         20       64.8        40      0.05         1\n",
       "12         33        2.0        25      0.05         1\n",
       "51         12       30.4        12      0.05         1"
      ]
     },
     "execution_count": 22,
     "metadata": {},
     "output_type": "execute_result"
    }
   ],
   "source": [
    "disc_bool_05 = discounted[discounted.Discount.isin([0.05])]\n",
    "disc_bool_10 = discounted[discounted.Discount.isin([0.10])]\n",
    "disc_bool_15 = discounted[discounted.Discount.isin([0.15])]\n",
    "disc_bool_20 = discounted[discounted.Discount.isin([0.20])]\n",
    "disc_bool_25 = discounted[discounted.Discount.isin([0.25])]\n",
    "disc_bool_05.head() #sanity check"
   ]
  },
  {
   "cell_type": "code",
   "execution_count": 23,
   "metadata": {},
   "outputs": [
    {
     "data": {
      "text/html": [
       "<div>\n",
       "<style scoped>\n",
       "    .dataframe tbody tr th:only-of-type {\n",
       "        vertical-align: middle;\n",
       "    }\n",
       "\n",
       "    .dataframe tbody tr th {\n",
       "        vertical-align: top;\n",
       "    }\n",
       "\n",
       "    .dataframe thead th {\n",
       "        text-align: right;\n",
       "    }\n",
       "</style>\n",
       "<table border=\"1\" class=\"dataframe\">\n",
       "  <thead>\n",
       "    <tr style=\"text-align: right;\">\n",
       "      <th></th>\n",
       "      <th>ProductId</th>\n",
       "      <th>UnitPrice</th>\n",
       "      <th>Quantity</th>\n",
       "      <th>Discount</th>\n",
       "      <th>DiscBool</th>\n",
       "    </tr>\n",
       "  </thead>\n",
       "  <tbody>\n",
       "    <tr>\n",
       "      <th>6</th>\n",
       "      <td>51</td>\n",
       "      <td>42.4</td>\n",
       "      <td>35</td>\n",
       "      <td>0.15</td>\n",
       "      <td>1</td>\n",
       "    </tr>\n",
       "    <tr>\n",
       "      <th>7</th>\n",
       "      <td>65</td>\n",
       "      <td>16.8</td>\n",
       "      <td>15</td>\n",
       "      <td>0.15</td>\n",
       "      <td>1</td>\n",
       "    </tr>\n",
       "    <tr>\n",
       "      <th>8</th>\n",
       "      <td>22</td>\n",
       "      <td>16.8</td>\n",
       "      <td>6</td>\n",
       "      <td>0.05</td>\n",
       "      <td>1</td>\n",
       "    </tr>\n",
       "    <tr>\n",
       "      <th>9</th>\n",
       "      <td>57</td>\n",
       "      <td>15.6</td>\n",
       "      <td>15</td>\n",
       "      <td>0.05</td>\n",
       "      <td>1</td>\n",
       "    </tr>\n",
       "    <tr>\n",
       "      <th>11</th>\n",
       "      <td>20</td>\n",
       "      <td>64.8</td>\n",
       "      <td>40</td>\n",
       "      <td>0.05</td>\n",
       "      <td>1</td>\n",
       "    </tr>\n",
       "  </tbody>\n",
       "</table>\n",
       "</div>"
      ],
      "text/plain": [
       "    ProductId  UnitPrice  Quantity  Discount  DiscBool\n",
       "6          51       42.4        35      0.15         1\n",
       "7          65       16.8        15      0.15         1\n",
       "8          22       16.8         6      0.05         1\n",
       "9          57       15.6        15      0.05         1\n",
       "11         20       64.8        40      0.05         1"
      ]
     },
     "execution_count": 23,
     "metadata": {},
     "output_type": "execute_result"
    }
   ],
   "source": [
    "#Prepping for tukey test:\n",
    "values = [0.00, 0.05, 0.10, 0.15, 0.20, 0.25]\n",
    "discounted_tukey = discounted[discounted.Discount.isin(values)]\n",
    "discounted_tukey.head()"
   ]
  },
  {
   "cell_type": "code",
   "execution_count": 24,
   "metadata": {},
   "outputs": [
    {
     "name": "stdout",
     "output_type": "stream",
     "text": [
      "Multiple Comparison of Means - Tukey HSD,FWER=0.05\n",
      "============================================\n",
      "group1 group2 meandiff  lower  upper  reject\n",
      "--------------------------------------------\n",
      " 0.05   0.1   -2.7738  -8.7696 3.222  False \n",
      " 0.05   0.15   0.3714  -5.7803 6.523  False \n",
      " 0.05   0.2    -0.986  -7.0962 5.1242 False \n",
      " 0.05   0.25   0.2294  -5.9546 6.4134 False \n",
      " 0.1    0.15   3.1452  -3.1037 9.394  False \n",
      " 0.1    0.2    1.7879  -4.4202 7.9959 False \n",
      " 0.1    0.25   3.0033  -3.2774 9.2839 False \n",
      " 0.15   0.2   -1.3573   -7.716 5.0014 False \n",
      " 0.15   0.25  -0.1419  -6.5715 6.2877 False \n",
      " 0.2    0.25   1.2154  -5.1745 7.6054 False \n",
      "--------------------------------------------\n"
     ]
    }
   ],
   "source": [
    "#Tukey test\n",
    "tk = pairwise_tukeyhsd(discounted_tukey.Quantity, discounted_tukey.Discount, .05)\n",
    "print(tk)"
   ]
  },
  {
   "cell_type": "markdown",
   "metadata": {},
   "source": [
    "Reviewing the Tukey test, all comparisons fail to reject the null hypothesis. \n",
    "The results of our hypothesis test tells us that discounts do have a statistically significant effect on the order quantity. However the discount level doesn't have an impact."
   ]
  },
  {
   "cell_type": "markdown",
   "metadata": {},
   "source": [
    "# Question # 2"
   ]
  },
  {
   "cell_type": "markdown",
   "metadata": {},
   "source": [
    "## Do discounts have a statistically significant effect on revenue? Is so, at what discount level(s) increase revenue?"
   ]
  },
  {
   "cell_type": "markdown",
   "metadata": {},
   "source": [
    "- $H_0$: The average revenue is the same for orders with or without discounts <br>\n",
    "- $H_a$: The average revenue is greater for orders with discounts <br>\n",
    "- $alpha$ = 0.05 <br>"
   ]
  },
  {
   "cell_type": "markdown",
   "metadata": {},
   "source": [
    "### Part 1:"
   ]
  },
  {
   "cell_type": "code",
   "execution_count": 25,
   "metadata": {},
   "outputs": [
    {
     "name": "stdout",
     "output_type": "stream",
     "text": [
      "830\n"
     ]
    },
    {
     "data": {
      "text/html": [
       "<div>\n",
       "<style scoped>\n",
       "    .dataframe tbody tr th:only-of-type {\n",
       "        vertical-align: middle;\n",
       "    }\n",
       "\n",
       "    .dataframe tbody tr th {\n",
       "        vertical-align: top;\n",
       "    }\n",
       "\n",
       "    .dataframe thead th {\n",
       "        text-align: right;\n",
       "    }\n",
       "</style>\n",
       "<table border=\"1\" class=\"dataframe\">\n",
       "  <thead>\n",
       "    <tr style=\"text-align: right;\">\n",
       "      <th></th>\n",
       "      <th>OrderId</th>\n",
       "      <th>UnitPrice</th>\n",
       "      <th>Discount</th>\n",
       "      <th>Quantity</th>\n",
       "      <th>OrderPrice</th>\n",
       "    </tr>\n",
       "  </thead>\n",
       "  <tbody>\n",
       "    <tr>\n",
       "      <th>0</th>\n",
       "      <td>10248</td>\n",
       "      <td>14.0</td>\n",
       "      <td>0.00</td>\n",
       "      <td>12</td>\n",
       "      <td>440.00</td>\n",
       "    </tr>\n",
       "    <tr>\n",
       "      <th>1</th>\n",
       "      <td>10249</td>\n",
       "      <td>18.6</td>\n",
       "      <td>0.00</td>\n",
       "      <td>9</td>\n",
       "      <td>1863.40</td>\n",
       "    </tr>\n",
       "    <tr>\n",
       "      <th>2</th>\n",
       "      <td>10250</td>\n",
       "      <td>7.7</td>\n",
       "      <td>0.00</td>\n",
       "      <td>10</td>\n",
       "      <td>1552.60</td>\n",
       "    </tr>\n",
       "    <tr>\n",
       "      <th>3</th>\n",
       "      <td>10251</td>\n",
       "      <td>16.8</td>\n",
       "      <td>0.05</td>\n",
       "      <td>6</td>\n",
       "      <td>654.06</td>\n",
       "    </tr>\n",
       "    <tr>\n",
       "      <th>4</th>\n",
       "      <td>10252</td>\n",
       "      <td>64.8</td>\n",
       "      <td>0.05</td>\n",
       "      <td>40</td>\n",
       "      <td>3597.90</td>\n",
       "    </tr>\n",
       "  </tbody>\n",
       "</table>\n",
       "</div>"
      ],
      "text/plain": [
       "   OrderId  UnitPrice  Discount  Quantity  OrderPrice\n",
       "0    10248       14.0      0.00        12      440.00\n",
       "1    10249       18.6      0.00         9     1863.40\n",
       "2    10250        7.7      0.00        10     1552.60\n",
       "3    10251       16.8      0.05         6      654.06\n",
       "4    10252       64.8      0.05        40     3597.90"
      ]
     },
     "execution_count": 25,
     "metadata": {},
     "output_type": "execute_result"
    }
   ],
   "source": [
    "c.execute(\"\"\"SELECT od.OrderId, od.UnitPrice, od.Discount, od.Quantity,\n",
    "                    SUM(od.Quantity * od.UnitPrice * (1-od.Discount)) OrderPrice\n",
    "                    FROM OrderDetail od\n",
    "                    INNER JOIN Product p on od.ProductId = p.Id\n",
    "                    GROUP BY od.OrderId\"\"\")\n",
    "disc_spend = pd.DataFrame(c.fetchall())\n",
    "disc_spend.columns  =[column[0] for column in c.description]\n",
    "print(len(disc_spend))\n",
    "disc_spend.head()"
   ]
  },
  {
   "cell_type": "code",
   "execution_count": 26,
   "metadata": {},
   "outputs": [
    {
     "name": "stdout",
     "output_type": "stream",
     "text": [
      "<class 'pandas.core.frame.DataFrame'>\n",
      "RangeIndex: 830 entries, 0 to 829\n",
      "Data columns (total 5 columns):\n",
      "OrderId       830 non-null int64\n",
      "UnitPrice     830 non-null float64\n",
      "Discount      830 non-null float64\n",
      "Quantity      830 non-null int64\n",
      "OrderPrice    830 non-null float64\n",
      "dtypes: float64(3), int64(2)\n",
      "memory usage: 32.5 KB\n"
     ]
    }
   ],
   "source": [
    "disc_spend.info()"
   ]
  },
  {
   "cell_type": "code",
   "execution_count": 27,
   "metadata": {},
   "outputs": [
    {
     "data": {
      "text/html": [
       "<div>\n",
       "<style scoped>\n",
       "    .dataframe tbody tr th:only-of-type {\n",
       "        vertical-align: middle;\n",
       "    }\n",
       "\n",
       "    .dataframe tbody tr th {\n",
       "        vertical-align: top;\n",
       "    }\n",
       "\n",
       "    .dataframe thead th {\n",
       "        text-align: right;\n",
       "    }\n",
       "</style>\n",
       "<table border=\"1\" class=\"dataframe\">\n",
       "  <thead>\n",
       "    <tr style=\"text-align: right;\">\n",
       "      <th></th>\n",
       "      <th>OrderId</th>\n",
       "      <th>UnitPrice</th>\n",
       "      <th>Discount</th>\n",
       "      <th>Quantity</th>\n",
       "      <th>OrderPrice</th>\n",
       "      <th>DiscBool</th>\n",
       "    </tr>\n",
       "  </thead>\n",
       "  <tbody>\n",
       "    <tr>\n",
       "      <th>0</th>\n",
       "      <td>10248</td>\n",
       "      <td>14.0</td>\n",
       "      <td>0.00</td>\n",
       "      <td>12</td>\n",
       "      <td>440.00</td>\n",
       "      <td>0</td>\n",
       "    </tr>\n",
       "    <tr>\n",
       "      <th>1</th>\n",
       "      <td>10249</td>\n",
       "      <td>18.6</td>\n",
       "      <td>0.00</td>\n",
       "      <td>9</td>\n",
       "      <td>1863.40</td>\n",
       "      <td>0</td>\n",
       "    </tr>\n",
       "    <tr>\n",
       "      <th>2</th>\n",
       "      <td>10250</td>\n",
       "      <td>7.7</td>\n",
       "      <td>0.00</td>\n",
       "      <td>10</td>\n",
       "      <td>1552.60</td>\n",
       "      <td>0</td>\n",
       "    </tr>\n",
       "    <tr>\n",
       "      <th>3</th>\n",
       "      <td>10251</td>\n",
       "      <td>16.8</td>\n",
       "      <td>0.05</td>\n",
       "      <td>6</td>\n",
       "      <td>654.06</td>\n",
       "      <td>1</td>\n",
       "    </tr>\n",
       "    <tr>\n",
       "      <th>4</th>\n",
       "      <td>10252</td>\n",
       "      <td>64.8</td>\n",
       "      <td>0.05</td>\n",
       "      <td>40</td>\n",
       "      <td>3597.90</td>\n",
       "      <td>1</td>\n",
       "    </tr>\n",
       "  </tbody>\n",
       "</table>\n",
       "</div>"
      ],
      "text/plain": [
       "   OrderId  UnitPrice  Discount  Quantity  OrderPrice  DiscBool\n",
       "0    10248       14.0      0.00        12      440.00         0\n",
       "1    10249       18.6      0.00         9     1863.40         0\n",
       "2    10250        7.7      0.00        10     1552.60         0\n",
       "3    10251       16.8      0.05         6      654.06         1\n",
       "4    10252       64.8      0.05        40     3597.90         1"
      ]
     },
     "execution_count": 27,
     "metadata": {},
     "output_type": "execute_result"
    }
   ],
   "source": [
    "#identifying presence of discounts\n",
    "disc_spend['DiscBool'] = disc_spend.Discount.apply(lambda x:0 if x == 0 else 1 )\n",
    "disc_spend.head()"
   ]
  },
  {
   "cell_type": "code",
   "execution_count": 28,
   "metadata": {
    "scrolled": true
   },
   "outputs": [
    {
     "data": {
      "image/png": "[encoded data removed]",
      "text/plain": [
       "<Figure size 864x504 with 2 Axes>"
      ]
     },
     "metadata": {},
     "output_type": "display_data"
    }
   ],
   "source": [
    "sns.set_style('whitegrid')\n",
    "fig,axes = plt.subplots(2, 1, figsize=(12,7))\n",
    "disc_spend.groupby(['DiscBool'])['Quantity'].sum().plot(kind = 'barh', ax = axes[0], color = ['#a0b0f0', '#c9f9a0'])\n",
    "disc_spend.groupby(['DiscBool'])['Quantity'].mean().plot(kind = 'barh', ax = axes[1],color = ['#a0b0f0', '#c9f9a0'] )\n",
    "#plot 1:\n",
    "# Subplot 1 Labels:\n",
    "axes[0].set_title('Total Order Revenue', fontweight='bold', fontsize=13)\n",
    "axes[0].set_xlabel('Revenue ($)', fontweight='semibold')\n",
    "axes[0].set_ylabel('')\n",
    "axes[0].set_yticklabels(['No Discount', 'Discount'])\n",
    "\n",
    "#Subplot 2 Labels:\n",
    "axes[1].set_title('Average Order Cost', fontweight='bold', fontsize=13)\n",
    "axes[1].set_xlabel('Revenue ($)', fontweight='semibold')\n",
    "axes[1].set_ylabel('')\n",
    "axes[1].set_yticklabels(['No Discount', 'Discount'])\n",
    "fig.subplots_adjust(hspace=.75)\n",
    "fig.savefig('orderrev.png', bbox_inches = 'tight')"
   ]
  },
  {
   "cell_type": "markdown",
   "metadata": {},
   "source": [
    "Based on the visualization above, we can see that Northwind earns more total revenue on non-discounted items but the average order cost is higher for discounted items. We will investigate further if these differences are statistically significant."
   ]
  },
  {
   "cell_type": "code",
   "execution_count": 29,
   "metadata": {},
   "outputs": [
    {
     "data": {
      "text/html": [
       "<div>\n",
       "<style scoped>\n",
       "    .dataframe tbody tr th:only-of-type {\n",
       "        vertical-align: middle;\n",
       "    }\n",
       "\n",
       "    .dataframe tbody tr th {\n",
       "        vertical-align: top;\n",
       "    }\n",
       "\n",
       "    .dataframe thead th {\n",
       "        text-align: right;\n",
       "    }\n",
       "</style>\n",
       "<table border=\"1\" class=\"dataframe\">\n",
       "  <thead>\n",
       "    <tr style=\"text-align: right;\">\n",
       "      <th></th>\n",
       "      <th>OrderId</th>\n",
       "      <th>UnitPrice</th>\n",
       "      <th>Discount</th>\n",
       "      <th>Quantity</th>\n",
       "      <th>OrderPrice</th>\n",
       "      <th>DiscBool</th>\n",
       "    </tr>\n",
       "  </thead>\n",
       "  <tbody>\n",
       "    <tr>\n",
       "      <th>0</th>\n",
       "      <td>10248</td>\n",
       "      <td>14.0</td>\n",
       "      <td>0.0</td>\n",
       "      <td>12</td>\n",
       "      <td>440.0</td>\n",
       "      <td>0</td>\n",
       "    </tr>\n",
       "    <tr>\n",
       "      <th>1</th>\n",
       "      <td>10249</td>\n",
       "      <td>18.6</td>\n",
       "      <td>0.0</td>\n",
       "      <td>9</td>\n",
       "      <td>1863.4</td>\n",
       "      <td>0</td>\n",
       "    </tr>\n",
       "    <tr>\n",
       "      <th>2</th>\n",
       "      <td>10250</td>\n",
       "      <td>7.7</td>\n",
       "      <td>0.0</td>\n",
       "      <td>10</td>\n",
       "      <td>1552.6</td>\n",
       "      <td>0</td>\n",
       "    </tr>\n",
       "    <tr>\n",
       "      <th>5</th>\n",
       "      <td>10253</td>\n",
       "      <td>10.0</td>\n",
       "      <td>0.0</td>\n",
       "      <td>20</td>\n",
       "      <td>1444.8</td>\n",
       "      <td>0</td>\n",
       "    </tr>\n",
       "    <tr>\n",
       "      <th>7</th>\n",
       "      <td>10255</td>\n",
       "      <td>15.2</td>\n",
       "      <td>0.0</td>\n",
       "      <td>20</td>\n",
       "      <td>2490.5</td>\n",
       "      <td>0</td>\n",
       "    </tr>\n",
       "  </tbody>\n",
       "</table>\n",
       "</div>"
      ],
      "text/plain": [
       "   OrderId  UnitPrice  Discount  Quantity  OrderPrice  DiscBool\n",
       "0    10248       14.0       0.0        12       440.0         0\n",
       "1    10249       18.6       0.0         9      1863.4         0\n",
       "2    10250        7.7       0.0        10      1552.6         0\n",
       "5    10253       10.0       0.0        20      1444.8         0\n",
       "7    10255       15.2       0.0        20      2490.5         0"
      ]
     },
     "execution_count": 29,
     "metadata": {},
     "output_type": "execute_result"
    }
   ],
   "source": [
    "#separating the dataframe between discounted and non-discounted items:\n",
    "discounted = disc_spend[disc_spend['Discount']!= 0]\n",
    "not_discounted = disc_spend[disc_spend['Discount']== 0]\n",
    "#sanity check\n",
    "not_discounted.head()"
   ]
  },
  {
   "cell_type": "code",
   "execution_count": 30,
   "metadata": {},
   "outputs": [
    {
     "data": {
      "image/png": "[encoded data removed]",
      "text/plain": [
       "<Figure size 720x432 with 1 Axes>"
      ]
     },
     "metadata": {},
     "output_type": "display_data"
    }
   ],
   "source": [
    "plt.figure(figsize=(10,6))\n",
    "sns.distplot(discounted.OrderPrice, bins = 50, label = 'Discounted')\n",
    "sns.distplot(not_discounted.OrderPrice, bins = 50, label = 'Not Discounted')\n",
    "\n",
    "plt.axvline(discounted.OrderPrice.mean(), color = 'k', linestyle = '--')\n",
    "plt.axvline(not_discounted.OrderPrice.mean(), color = 'k', linestyle = '--')\n",
    "\n",
    "plt.title('Non discounted vs discounted Revenue', fontweight = 'bold')\n",
    "plt.xlabel('Distribution')\n",
    "plt.ylabel('Frequency')\n",
    "plt.legend()\n",
    "plt.show()"
   ]
  },
  {
   "cell_type": "code",
   "execution_count": 31,
   "metadata": {
    "scrolled": true
   },
   "outputs": [
    {
     "data": {
      "text/plain": [
       "Text(0.5, 0, 'Revenue -log transformed')"
      ]
     },
     "execution_count": 31,
     "metadata": {},
     "output_type": "execute_result"
    },
    {
     "data": {
      "image/png": "[encoded data removed]",
      "text/plain": [
       "<Figure size 864x288 with 2 Axes>"
      ]
     },
     "metadata": {},
     "output_type": "display_data"
    }
   ],
   "source": [
    "discounted_log = disc_spend.copy()\n",
    "discounted_log['LogOrderPrice'] = np.log(disc_spend['OrderPrice'])\n",
    "discount_log = discounted_log[discounted_log['DiscBool']== 1]\n",
    "no_discount_log = discounted_log[discounted_log['DiscBool']== 0]\n",
    "fig, (ax1, ax2) = plt.subplots(1,2, figsize=(12, 4))\n",
    "sns.distplot(discount_log.LogOrderPrice, color = 'seagreen', ax=ax1)\n",
    "sns.distplot(no_discount_log.LogOrderPrice, color = 'indianred', ax= ax2)\n",
    "ax1.set_title('Orders with discounts')\n",
    "ax2.set_title('Orders with no discount')\n",
    "ax1.set_xlabel('Revenue -log transformed')\n",
    "ax2.set_xlabel('Revenue -log transformed')"
   ]
  },
  {
   "cell_type": "code",
   "execution_count": 32,
   "metadata": {},
   "outputs": [
    {
     "name": "stdout",
     "output_type": "stream",
     "text": [
      "Reject the null hypothesis.\n",
      " Results are statistically significant with a p-value =0.0013692485593129766\n"
     ]
    }
   ],
   "source": [
    "result = stats.ttest_ind(discount_log.LogOrderPrice, no_discount_log.LogOrderPrice)\n",
    "#d = cohen_d(discounted.OrderPrice, not_discounted.OrderPrice)\n",
    "ttest_result(result, 0.05)\n",
    "#print(d)"
   ]
  },
  {
   "cell_type": "code",
   "execution_count": 33,
   "metadata": {},
   "outputs": [
    {
     "name": "stdout",
     "output_type": "stream",
     "text": [
      "Average with discount: 1676.43\n",
      "Average without discount: 1431.99\n",
      "Effect Size: 244.44\n",
      "Relative Effect Size: 0.17\n"
     ]
    }
   ],
   "source": [
    "a = discounted.OrderPrice.mean()\n",
    "b = not_discounted.OrderPrice.mean()\n",
    "print_results(a,b)"
   ]
  },
  {
   "cell_type": "markdown",
   "metadata": {},
   "source": [
    "Because the resulting p-value is less than 0.05, we  reject the null hypothesis that states that discounts have an effect on customer spending. "
   ]
  },
  {
   "cell_type": "markdown",
   "metadata": {},
   "source": [
    "### Part 2:"
   ]
  },
  {
   "cell_type": "markdown",
   "metadata": {},
   "source": [
    "- $H_0$: The order price is the same regardless of discount level\n",
    "- $H_a$ : The customer order price is not the same as the discount level changes\n",
    "- $alpha$ = 0.05"
   ]
  },
  {
   "cell_type": "code",
   "execution_count": 34,
   "metadata": {},
   "outputs": [
    {
     "data": {
      "text/html": [
       "<table class=\"simpletable\">\n",
       "<caption>OLS Regression Results</caption>\n",
       "<tr>\n",
       "  <th>Dep. Variable:</th>       <td>OrderPrice</td>    <th>  R-squared:         </th> <td>   0.009</td>\n",
       "</tr>\n",
       "<tr>\n",
       "  <th>Model:</th>                   <td>OLS</td>       <th>  Adj. R-squared:    </th> <td>  -0.004</td>\n",
       "</tr>\n",
       "<tr>\n",
       "  <th>Method:</th>             <td>Least Squares</td>  <th>  F-statistic:       </th> <td>  0.6774</td>\n",
       "</tr>\n",
       "<tr>\n",
       "  <th>Date:</th>             <td>Thu, 29 Aug 2019</td> <th>  Prob (F-statistic):</th>  <td> 0.608</td> \n",
       "</tr>\n",
       "<tr>\n",
       "  <th>Time:</th>                 <td>11:29:28</td>     <th>  Log-Likelihood:    </th> <td> -2840.4</td>\n",
       "</tr>\n",
       "<tr>\n",
       "  <th>No. Observations:</th>      <td>   316</td>      <th>  AIC:               </th> <td>   5691.</td>\n",
       "</tr>\n",
       "<tr>\n",
       "  <th>Df Residuals:</th>          <td>   311</td>      <th>  BIC:               </th> <td>   5710.</td>\n",
       "</tr>\n",
       "<tr>\n",
       "  <th>Df Model:</th>              <td>     4</td>      <th>                     </th>     <td> </td>   \n",
       "</tr>\n",
       "<tr>\n",
       "  <th>Covariance Type:</th>      <td>nonrobust</td>    <th>                     </th>     <td> </td>   \n",
       "</tr>\n",
       "</table>\n",
       "<table class=\"simpletable\">\n",
       "<tr>\n",
       "           <td></td>              <th>coef</th>     <th>std err</th>      <th>t</th>      <th>P>|t|</th>  <th>[0.025</th>    <th>0.975]</th>  \n",
       "</tr>\n",
       "<tr>\n",
       "  <th>Intercept</th>           <td> 1872.4499</td> <td>  222.678</td> <td>    8.409</td> <td> 0.000</td> <td> 1434.304</td> <td> 2310.596</td>\n",
       "</tr>\n",
       "<tr>\n",
       "  <th>C(Discount)[T.0.1]</th>  <td> -421.1493</td> <td>  333.418</td> <td>   -1.263</td> <td> 0.207</td> <td>-1077.190</td> <td>  234.891</td>\n",
       "</tr>\n",
       "<tr>\n",
       "  <th>C(Discount)[T.0.15]</th> <td> -185.7763</td> <td>  346.830</td> <td>   -0.536</td> <td> 0.593</td> <td> -868.206</td> <td>  496.653</td>\n",
       "</tr>\n",
       "<tr>\n",
       "  <th>C(Discount)[T.0.2]</th>  <td> -381.7965</td> <td>  327.773</td> <td>   -1.165</td> <td> 0.245</td> <td>-1026.730</td> <td>  263.137</td>\n",
       "</tr>\n",
       "<tr>\n",
       "  <th>C(Discount)[T.0.25]</th> <td>  -10.5489</td> <td>  341.423</td> <td>   -0.031</td> <td> 0.975</td> <td> -682.340</td> <td>  661.242</td>\n",
       "</tr>\n",
       "</table>\n",
       "<table class=\"simpletable\">\n",
       "<tr>\n",
       "  <th>Omnibus:</th>       <td>257.135</td> <th>  Durbin-Watson:     </th> <td>   1.910</td>\n",
       "</tr>\n",
       "<tr>\n",
       "  <th>Prob(Omnibus):</th> <td> 0.000</td>  <th>  Jarque-Bera (JB):  </th> <td>3886.484</td>\n",
       "</tr>\n",
       "<tr>\n",
       "  <th>Skew:</th>          <td> 3.358</td>  <th>  Prob(JB):          </th> <td>    0.00</td>\n",
       "</tr>\n",
       "<tr>\n",
       "  <th>Kurtosis:</th>      <td>18.813</td>  <th>  Cond. No.          </th> <td>    5.36</td>\n",
       "</tr>\n",
       "</table><br/><br/>Warnings:<br/>[1] Standard Errors assume that the covariance matrix of the errors is correctly specified."
      ],
      "text/plain": [
       "<class 'statsmodels.iolib.summary.Summary'>\n",
       "\"\"\"\n",
       "                            OLS Regression Results                            \n",
       "==============================================================================\n",
       "Dep. Variable:             OrderPrice   R-squared:                       0.009\n",
       "Model:                            OLS   Adj. R-squared:                 -0.004\n",
       "Method:                 Least Squares   F-statistic:                    0.6774\n",
       "Date:                Thu, 29 Aug 2019   Prob (F-statistic):              0.608\n",
       "Time:                        11:29:28   Log-Likelihood:                -2840.4\n",
       "No. Observations:                 316   AIC:                             5691.\n",
       "Df Residuals:                     311   BIC:                             5710.\n",
       "Df Model:                           4                                         \n",
       "Covariance Type:            nonrobust                                         \n",
       "=======================================================================================\n",
       "                          coef    std err          t      P>|t|      [0.025      0.975]\n",
       "---------------------------------------------------------------------------------------\n",
       "Intercept            1872.4499    222.678      8.409      0.000    1434.304    2310.596\n",
       "C(Discount)[T.0.1]   -421.1493    333.418     -1.263      0.207   -1077.190     234.891\n",
       "C(Discount)[T.0.15]  -185.7763    346.830     -0.536      0.593    -868.206     496.653\n",
       "C(Discount)[T.0.2]   -381.7965    327.773     -1.165      0.245   -1026.730     263.137\n",
       "C(Discount)[T.0.25]   -10.5489    341.423     -0.031      0.975    -682.340     661.242\n",
       "==============================================================================\n",
       "Omnibus:                      257.135   Durbin-Watson:                   1.910\n",
       "Prob(Omnibus):                  0.000   Jarque-Bera (JB):             3886.484\n",
       "Skew:                           3.358   Prob(JB):                         0.00\n",
       "Kurtosis:                      18.813   Cond. No.                         5.36\n",
       "==============================================================================\n",
       "\n",
       "Warnings:\n",
       "[1] Standard Errors assume that the covariance matrix of the errors is correctly specified.\n",
       "\"\"\""
      ]
     },
     "execution_count": 34,
     "metadata": {},
     "output_type": "execute_result"
    }
   ],
   "source": [
    "#ANOVA:\n",
    "lm = ols('OrderPrice ~ C(Discount)', discount_log).fit()\n",
    "lm.summary()"
   ]
  },
  {
   "cell_type": "code",
   "execution_count": 35,
   "metadata": {},
   "outputs": [
    {
     "data": {
      "text/html": [
       "<div>\n",
       "<style scoped>\n",
       "    .dataframe tbody tr th:only-of-type {\n",
       "        vertical-align: middle;\n",
       "    }\n",
       "\n",
       "    .dataframe tbody tr th {\n",
       "        vertical-align: top;\n",
       "    }\n",
       "\n",
       "    .dataframe thead th {\n",
       "        text-align: right;\n",
       "    }\n",
       "</style>\n",
       "<table border=\"1\" class=\"dataframe\">\n",
       "  <thead>\n",
       "    <tr style=\"text-align: right;\">\n",
       "      <th></th>\n",
       "      <th>sum_sq</th>\n",
       "      <th>df</th>\n",
       "      <th>F</th>\n",
       "      <th>PR(&gt;F)</th>\n",
       "    </tr>\n",
       "  </thead>\n",
       "  <tbody>\n",
       "    <tr>\n",
       "      <th>C(Discount)</th>\n",
       "      <td>1.034529e+07</td>\n",
       "      <td>4.0</td>\n",
       "      <td>0.677387</td>\n",
       "      <td>0.608083</td>\n",
       "    </tr>\n",
       "    <tr>\n",
       "      <th>Residual</th>\n",
       "      <td>1.187425e+09</td>\n",
       "      <td>311.0</td>\n",
       "      <td>NaN</td>\n",
       "      <td>NaN</td>\n",
       "    </tr>\n",
       "  </tbody>\n",
       "</table>\n",
       "</div>"
      ],
      "text/plain": [
       "                   sum_sq     df         F    PR(>F)\n",
       "C(Discount)  1.034529e+07    4.0  0.677387  0.608083\n",
       "Residual     1.187425e+09  311.0       NaN       NaN"
      ]
     },
     "execution_count": 35,
     "metadata": {},
     "output_type": "execute_result"
    }
   ],
   "source": [
    "sm.stats.anova_lm(lm, typ = 2)"
   ]
  },
  {
   "cell_type": "markdown",
   "metadata": {},
   "source": [
    "The ANOVA table gives us a p-value of 0.6 which is greater than 0.05, so we fail to reject the null hypothesis"
   ]
  },
  {
   "cell_type": "markdown",
   "metadata": {},
   "source": [
    "## Question 3"
   ]
  },
  {
   "cell_type": "markdown",
   "metadata": {},
   "source": [
    "## Does the average amount spent per order vary between customers of different regions?"
   ]
  },
  {
   "cell_type": "markdown",
   "metadata": {},
   "source": [
    "-$H_0$: The average order amount is the same across all customer regions <br>\n",
    "-$H_a$: The averagr order amount is different between the different customer regions <br>\n",
    "-$alpha$ =0.05 <br>"
   ]
  },
  {
   "cell_type": "code",
   "execution_count": 36,
   "metadata": {},
   "outputs": [
    {
     "data": {
      "text/html": [
       "<div>\n",
       "<style scoped>\n",
       "    .dataframe tbody tr th:only-of-type {\n",
       "        vertical-align: middle;\n",
       "    }\n",
       "\n",
       "    .dataframe tbody tr th {\n",
       "        vertical-align: top;\n",
       "    }\n",
       "\n",
       "    .dataframe thead th {\n",
       "        text-align: right;\n",
       "    }\n",
       "</style>\n",
       "<table border=\"1\" class=\"dataframe\">\n",
       "  <thead>\n",
       "    <tr style=\"text-align: right;\">\n",
       "      <th></th>\n",
       "      <th>Region</th>\n",
       "      <th>OrderId</th>\n",
       "      <th>Quantity</th>\n",
       "      <th>UnitPrice</th>\n",
       "      <th>Quantity</th>\n",
       "      <th>Discount</th>\n",
       "      <th>PriceperOrder</th>\n",
       "    </tr>\n",
       "  </thead>\n",
       "  <tbody>\n",
       "    <tr>\n",
       "      <th>0</th>\n",
       "      <td>Western Europe</td>\n",
       "      <td>10248</td>\n",
       "      <td>12</td>\n",
       "      <td>14.0</td>\n",
       "      <td>12</td>\n",
       "      <td>0.0</td>\n",
       "      <td>168.0</td>\n",
       "    </tr>\n",
       "    <tr>\n",
       "      <th>1</th>\n",
       "      <td>Western Europe</td>\n",
       "      <td>10248</td>\n",
       "      <td>10</td>\n",
       "      <td>9.8</td>\n",
       "      <td>10</td>\n",
       "      <td>0.0</td>\n",
       "      <td>98.0</td>\n",
       "    </tr>\n",
       "    <tr>\n",
       "      <th>2</th>\n",
       "      <td>Western Europe</td>\n",
       "      <td>10248</td>\n",
       "      <td>5</td>\n",
       "      <td>34.8</td>\n",
       "      <td>5</td>\n",
       "      <td>0.0</td>\n",
       "      <td>174.0</td>\n",
       "    </tr>\n",
       "    <tr>\n",
       "      <th>3</th>\n",
       "      <td>Western Europe</td>\n",
       "      <td>10249</td>\n",
       "      <td>9</td>\n",
       "      <td>18.6</td>\n",
       "      <td>9</td>\n",
       "      <td>0.0</td>\n",
       "      <td>167.4</td>\n",
       "    </tr>\n",
       "    <tr>\n",
       "      <th>4</th>\n",
       "      <td>Western Europe</td>\n",
       "      <td>10249</td>\n",
       "      <td>40</td>\n",
       "      <td>42.4</td>\n",
       "      <td>40</td>\n",
       "      <td>0.0</td>\n",
       "      <td>1696.0</td>\n",
       "    </tr>\n",
       "  </tbody>\n",
       "</table>\n",
       "</div>"
      ],
      "text/plain": [
       "           Region  OrderId  Quantity  UnitPrice  Quantity  Discount  \\\n",
       "0  Western Europe    10248        12       14.0        12       0.0   \n",
       "1  Western Europe    10248        10        9.8        10       0.0   \n",
       "2  Western Europe    10248         5       34.8         5       0.0   \n",
       "3  Western Europe    10249         9       18.6         9       0.0   \n",
       "4  Western Europe    10249        40       42.4        40       0.0   \n",
       "\n",
       "   PriceperOrder  \n",
       "0          168.0  \n",
       "1           98.0  \n",
       "2          174.0  \n",
       "3          167.4  \n",
       "4         1696.0  "
      ]
     },
     "execution_count": 36,
     "metadata": {},
     "output_type": "execute_result"
    }
   ],
   "source": [
    "c.execute(\"\"\"SELECT c.Region, od.OrderId, od.Quantity, od.UnitPrice, od.Quantity, od.Discount, \n",
    "(od.Quantity * od.UnitPrice * (1-od.Discount)) PriceperOrder FROM Customer c \n",
    "JOIN [Order] o on c.Id=o.CustomerId\n",
    "JOIN OrderDetail od on od.OrderId=o.Id\"\"\")\n",
    "customer_region = pd.DataFrame(c.fetchall())\n",
    "customer_region.columns = [column[0] for column in c.description]\n",
    "customer_region.head()"
   ]
  },
  {
   "cell_type": "code",
   "execution_count": 37,
   "metadata": {},
   "outputs": [
    {
     "data": {
      "text/html": [
       "<div>\n",
       "<style scoped>\n",
       "    .dataframe tbody tr th:only-of-type {\n",
       "        vertical-align: middle;\n",
       "    }\n",
       "\n",
       "    .dataframe tbody tr th {\n",
       "        vertical-align: top;\n",
       "    }\n",
       "\n",
       "    .dataframe thead th {\n",
       "        text-align: right;\n",
       "    }\n",
       "</style>\n",
       "<table border=\"1\" class=\"dataframe\">\n",
       "  <thead>\n",
       "    <tr style=\"text-align: right;\">\n",
       "      <th></th>\n",
       "      <th>Region</th>\n",
       "      <th>OrderId</th>\n",
       "      <th>PriceperOrder</th>\n",
       "    </tr>\n",
       "  </thead>\n",
       "  <tbody>\n",
       "    <tr>\n",
       "      <th>0</th>\n",
       "      <td>British Isles</td>\n",
       "      <td>10289</td>\n",
       "      <td>479.4</td>\n",
       "    </tr>\n",
       "    <tr>\n",
       "      <th>1</th>\n",
       "      <td>British Isles</td>\n",
       "      <td>10298</td>\n",
       "      <td>2645.0</td>\n",
       "    </tr>\n",
       "    <tr>\n",
       "      <th>2</th>\n",
       "      <td>British Isles</td>\n",
       "      <td>10309</td>\n",
       "      <td>1762.0</td>\n",
       "    </tr>\n",
       "    <tr>\n",
       "      <th>3</th>\n",
       "      <td>British Isles</td>\n",
       "      <td>10315</td>\n",
       "      <td>516.8</td>\n",
       "    </tr>\n",
       "    <tr>\n",
       "      <th>4</th>\n",
       "      <td>British Isles</td>\n",
       "      <td>10318</td>\n",
       "      <td>240.4</td>\n",
       "    </tr>\n",
       "  </tbody>\n",
       "</table>\n",
       "</div>"
      ],
      "text/plain": [
       "          Region  OrderId  PriceperOrder\n",
       "0  British Isles    10289          479.4\n",
       "1  British Isles    10298         2645.0\n",
       "2  British Isles    10309         1762.0\n",
       "3  British Isles    10315          516.8\n",
       "4  British Isles    10318          240.4"
      ]
     },
     "execution_count": 37,
     "metadata": {},
     "output_type": "execute_result"
    }
   ],
   "source": [
    "customer_region = customer_region.groupby(['Region', 'OrderId'])['PriceperOrder'].sum().reset_index()\n",
    "customer_region.head()"
   ]
  },
  {
   "cell_type": "code",
   "execution_count": 38,
   "metadata": {},
   "outputs": [
    {
     "data": {
      "text/html": [
       "<div>\n",
       "<style scoped>\n",
       "    .dataframe tbody tr th:only-of-type {\n",
       "        vertical-align: middle;\n",
       "    }\n",
       "\n",
       "    .dataframe tbody tr th {\n",
       "        vertical-align: top;\n",
       "    }\n",
       "\n",
       "    .dataframe thead th {\n",
       "        text-align: right;\n",
       "    }\n",
       "</style>\n",
       "<table border=\"1\" class=\"dataframe\">\n",
       "  <thead>\n",
       "    <tr style=\"text-align: right;\">\n",
       "      <th></th>\n",
       "      <th>OrderId</th>\n",
       "      <th>PriceperOrder</th>\n",
       "    </tr>\n",
       "    <tr>\n",
       "      <th>Region</th>\n",
       "      <th></th>\n",
       "      <th></th>\n",
       "    </tr>\n",
       "  </thead>\n",
       "  <tbody>\n",
       "    <tr>\n",
       "      <th>British Isles</th>\n",
       "      <td>75</td>\n",
       "      <td>75</td>\n",
       "    </tr>\n",
       "    <tr>\n",
       "      <th>Central America</th>\n",
       "      <td>21</td>\n",
       "      <td>21</td>\n",
       "    </tr>\n",
       "    <tr>\n",
       "      <th>Eastern Europe</th>\n",
       "      <td>7</td>\n",
       "      <td>7</td>\n",
       "    </tr>\n",
       "    <tr>\n",
       "      <th>North America</th>\n",
       "      <td>152</td>\n",
       "      <td>152</td>\n",
       "    </tr>\n",
       "    <tr>\n",
       "      <th>Northern Europe</th>\n",
       "      <td>55</td>\n",
       "      <td>55</td>\n",
       "    </tr>\n",
       "    <tr>\n",
       "      <th>Scandinavia</th>\n",
       "      <td>28</td>\n",
       "      <td>28</td>\n",
       "    </tr>\n",
       "    <tr>\n",
       "      <th>South America</th>\n",
       "      <td>127</td>\n",
       "      <td>127</td>\n",
       "    </tr>\n",
       "    <tr>\n",
       "      <th>Southern Europe</th>\n",
       "      <td>64</td>\n",
       "      <td>64</td>\n",
       "    </tr>\n",
       "    <tr>\n",
       "      <th>Western Europe</th>\n",
       "      <td>272</td>\n",
       "      <td>272</td>\n",
       "    </tr>\n",
       "  </tbody>\n",
       "</table>\n",
       "</div>"
      ],
      "text/plain": [
       "                 OrderId  PriceperOrder\n",
       "Region                                 \n",
       "British Isles         75             75\n",
       "Central America       21             21\n",
       "Eastern Europe         7              7\n",
       "North America        152            152\n",
       "Northern Europe       55             55\n",
       "Scandinavia           28             28\n",
       "South America        127            127\n",
       "Southern Europe       64             64\n",
       "Western Europe       272            272"
      ]
     },
     "execution_count": 38,
     "metadata": {},
     "output_type": "execute_result"
    }
   ],
   "source": [
    "#customer_region.drop('OrderId', axis = 1, inplace = True)\n",
    "customer_region.groupby('Region').count()"
   ]
  },
  {
   "cell_type": "markdown",
   "metadata": {},
   "source": [
    "Because I will be using ANOVA to test this hypothesis, we will ensure that the sample sizes are relatively the same size. Smaller groups will be put together that make geographical sense. "
   ]
  },
  {
   "cell_type": "code",
   "execution_count": 39,
   "metadata": {},
   "outputs": [],
   "source": [
    "#Combining E. & S. Europe:\n",
    "customer_region.loc[(customer_region.Region == 'Eastern Europe') | (customer_region.Region == 'Southern Europe'), 'Region'] = \"Southern and Eastern Europe\"\n",
    "#Combining Scandinavia & N.Europe:\n",
    "customer_region.loc[(customer_region.Region == 'Scandinavia') | (customer_region.Region == 'Northern Europe'), 'Region'] = \"Scandinavia and Eastern Europe\"\n",
    "#combining S & C. America:\n",
    "customer_region.loc[(customer_region.Region == 'South America') | (customer_region.Region == 'Central America'), 'Region'] = \"South and Central America\""
   ]
  },
  {
   "cell_type": "code",
   "execution_count": 40,
   "metadata": {},
   "outputs": [
    {
     "data": {
      "text/html": [
       "<div>\n",
       "<style scoped>\n",
       "    .dataframe tbody tr th:only-of-type {\n",
       "        vertical-align: middle;\n",
       "    }\n",
       "\n",
       "    .dataframe tbody tr th {\n",
       "        vertical-align: top;\n",
       "    }\n",
       "\n",
       "    .dataframe thead th {\n",
       "        text-align: right;\n",
       "    }\n",
       "</style>\n",
       "<table border=\"1\" class=\"dataframe\">\n",
       "  <thead>\n",
       "    <tr style=\"text-align: right;\">\n",
       "      <th></th>\n",
       "      <th>OrderId</th>\n",
       "      <th>PriceperOrder</th>\n",
       "    </tr>\n",
       "    <tr>\n",
       "      <th>Region</th>\n",
       "      <th></th>\n",
       "      <th></th>\n",
       "    </tr>\n",
       "  </thead>\n",
       "  <tbody>\n",
       "    <tr>\n",
       "      <th>British Isles</th>\n",
       "      <td>75</td>\n",
       "      <td>75</td>\n",
       "    </tr>\n",
       "    <tr>\n",
       "      <th>North America</th>\n",
       "      <td>152</td>\n",
       "      <td>152</td>\n",
       "    </tr>\n",
       "    <tr>\n",
       "      <th>Scandinavia and Eastern Europe</th>\n",
       "      <td>83</td>\n",
       "      <td>83</td>\n",
       "    </tr>\n",
       "    <tr>\n",
       "      <th>South and Central America</th>\n",
       "      <td>148</td>\n",
       "      <td>148</td>\n",
       "    </tr>\n",
       "    <tr>\n",
       "      <th>Southern and Eastern Europe</th>\n",
       "      <td>71</td>\n",
       "      <td>71</td>\n",
       "    </tr>\n",
       "    <tr>\n",
       "      <th>Western Europe</th>\n",
       "      <td>272</td>\n",
       "      <td>272</td>\n",
       "    </tr>\n",
       "  </tbody>\n",
       "</table>\n",
       "</div>"
      ],
      "text/plain": [
       "                                OrderId  PriceperOrder\n",
       "Region                                                \n",
       "British Isles                        75             75\n",
       "North America                       152            152\n",
       "Scandinavia and Eastern Europe       83             83\n",
       "South and Central America           148            148\n",
       "Southern and Eastern Europe          71             71\n",
       "Western Europe                      272            272"
      ]
     },
     "execution_count": 40,
     "metadata": {},
     "output_type": "execute_result"
    }
   ],
   "source": [
    "customer_region.groupby('Region').count() #confirming sample size"
   ]
  },
  {
   "cell_type": "code",
   "execution_count": 41,
   "metadata": {},
   "outputs": [
    {
     "data": {
      "image/png": "[encoded data removed]",
      "text/plain": [
       "<Figure size 576x576 with 3 Axes>"
      ]
     },
     "metadata": {},
     "output_type": "display_data"
    }
   ],
   "source": [
    "#Visualizing number of orders, total revenue per order and average revenue per order for each region\n",
    "fig, (ax1, ax2, ax3) = plt.subplots(3, 1, figsize=(8,8))\n",
    "customer_region.groupby(['Region'])['Region'].count().plot(kind = 'barh', ax = ax1)\n",
    "customer_region.groupby(['Region'])['PriceperOrder'].sum().plot(kind = 'barh', ax = ax2)\n",
    "customer_region.groupby(['Region'])['PriceperOrder'].mean().plot(kind = 'barh', ax = ax3)\n",
    "ax1.set_title('Total Number of Orders')\n",
    "ax1.set_ylabel('')\n",
    "ax2.set_title('Total Revenue ($)')\n",
    "ax2.set_ylabel('')\n",
    "ax3.set_title('Average revenue per Order')\n",
    "ax3.set_ylabel('')\n",
    "fig.subplots_adjust(hspace = 0.4);\n",
    "fig.savefig('region.png', bbox_inches = 'tight')"
   ]
  },
  {
   "cell_type": "markdown",
   "metadata": {},
   "source": [
    "The graphs shows us that Western Europe is the region with the greatest number of orders and greatest total revenue. However, North America is the greatest average revenue per order (with Western Europe being a close second). Southern and Eastern Europe have the lowest number of orders, total revenue and average revenue per order. We will investigate if these differences are statisitcal significant."
   ]
  },
  {
   "cell_type": "code",
   "execution_count": 42,
   "metadata": {},
   "outputs": [
    {
     "data": {
      "image/png": "[encoded data removed]",
      "text/plain": [
       "<Figure size 720x432 with 1 Axes>"
      ]
     },
     "metadata": {},
     "output_type": "display_data"
    }
   ],
   "source": [
    "plt.figure(figsize=(10,6))\n",
    "for region in set(customer_region.Region):\n",
    "    region_group = customer_region.loc[customer_region['Region']== region]\n",
    "    sns.distplot(region_group['PriceperOrder'], hist_kws=dict(alpha=0.2), label= region)\n",
    "    plt.legend()\n",
    "    "
   ]
  },
  {
   "cell_type": "markdown",
   "metadata": {},
   "source": [
    "Looking at the distribution above, we see that it is positively skewed with heavy tails. In order to perform an ANOVA test, the data should be normally distributed. Log transforming the data will be the best way to give results that are more normally distributed."
   ]
  },
  {
   "cell_type": "code",
   "execution_count": 43,
   "metadata": {},
   "outputs": [
    {
     "data": {
      "image/png": "[encoded data removed]",
      "text/plain": [
       "<Figure size 720x432 with 1 Axes>"
      ]
     },
     "metadata": {},
     "output_type": "display_data"
    }
   ],
   "source": [
    "customer_region_log = customer_region.copy()\n",
    "customer_region_log['LogPriceperOrder'] = np.log(customer_region['PriceperOrder'])\n",
    "plt.figure(figsize=(10,6))\n",
    "for region in set(customer_region_log.Region):\n",
    "    region_group = customer_region_log.loc[customer_region_log['Region']== region]\n",
    "    sns.distplot(region_group['LogPriceperOrder'], hist_kws=dict(alpha=0.2), label= region)\n",
    "    plt.legend() "
   ]
  },
  {
   "cell_type": "markdown",
   "metadata": {},
   "source": [
    "The data looks more normally distributed and we can move on to the ANOVA test:"
   ]
  },
  {
   "cell_type": "code",
   "execution_count": 44,
   "metadata": {},
   "outputs": [
    {
     "data": {
      "text/html": [
       "<div>\n",
       "<style scoped>\n",
       "    .dataframe tbody tr th:only-of-type {\n",
       "        vertical-align: middle;\n",
       "    }\n",
       "\n",
       "    .dataframe tbody tr th {\n",
       "        vertical-align: top;\n",
       "    }\n",
       "\n",
       "    .dataframe thead th {\n",
       "        text-align: right;\n",
       "    }\n",
       "</style>\n",
       "<table border=\"1\" class=\"dataframe\">\n",
       "  <thead>\n",
       "    <tr style=\"text-align: right;\">\n",
       "      <th></th>\n",
       "      <th>sum_sq</th>\n",
       "      <th>df</th>\n",
       "      <th>F</th>\n",
       "      <th>PR(&gt;F)</th>\n",
       "    </tr>\n",
       "  </thead>\n",
       "  <tbody>\n",
       "    <tr>\n",
       "      <th>C(Region)</th>\n",
       "      <td>77.999547</td>\n",
       "      <td>5.0</td>\n",
       "      <td>13.032374</td>\n",
       "      <td>3.285724e-12</td>\n",
       "    </tr>\n",
       "    <tr>\n",
       "      <th>Residual</th>\n",
       "      <td>951.624641</td>\n",
       "      <td>795.0</td>\n",
       "      <td>NaN</td>\n",
       "      <td>NaN</td>\n",
       "    </tr>\n",
       "  </tbody>\n",
       "</table>\n",
       "</div>"
      ],
      "text/plain": [
       "               sum_sq     df          F        PR(>F)\n",
       "C(Region)   77.999547    5.0  13.032374  3.285724e-12\n",
       "Residual   951.624641  795.0        NaN           NaN"
      ]
     },
     "execution_count": 44,
     "metadata": {},
     "output_type": "execute_result"
    }
   ],
   "source": [
    "lm = ols('LogPriceperOrder ~ C(Region)', customer_region_log).fit()\n",
    "sm.stats.anova_lm(lm, typ =2)"
   ]
  },
  {
   "cell_type": "code",
   "execution_count": 63,
   "metadata": {},
   "outputs": [],
   "source": [
    "# Difference between the average price of orders from Southern and Eastern European customers to those from North American customers\n",
    "#print(\"Absolute difference: \", float(round((customer_region.loc[customer_region.Region == 'North America']).mean() - (customer_region.loc[customer_region.Region == 'Southern and Eastern Europe']).mean(),2)))\n",
    "#print(\"Proportional difference: \", float(round(1 + ((customer_region.loc[customer_region.Region == 'North America']).mean() - (customer_region.loc[customer_region.Region == 'Southern and Eastern Europe']).mean()) / ((customer_region.loc[customer_region.Region == 'Southern and Eastern Europe']).mean()),2)))"
   ]
  },
  {
   "cell_type": "markdown",
   "metadata": {},
   "source": [
    "Because the p-value < 0.05, we can reject the null hypothesis and accept the alternative hypothesis. We conclude that there is a significant difference between the order revenue between the different regional customers, ie. customers from different parts of the world spend different amounts of money on their orders."
   ]
  },
  {
   "cell_type": "markdown",
   "metadata": {},
   "source": [
    "### Question 4"
   ]
  },
  {
   "cell_type": "markdown",
   "metadata": {},
   "source": [
    "### Relationship between freight costs and the different shipping companies?"
   ]
  },
  {
   "cell_type": "markdown",
   "metadata": {},
   "source": [
    "In order to answer this question, we need to acknowledge that are several limitations in the given dataset. Information about the weight of packages, distance of delivery, and delivery time are not avaiable to us. These results should be take as a grain of salt."
   ]
  },
  {
   "cell_type": "markdown",
   "metadata": {},
   "source": [
    "- $H_0$: The average freight cost is the same among all the shippers\n",
    "- $H_a$: The average freight cost is different among the different shippers\n",
    "- $alpha$ = 0.05"
   ]
  },
  {
   "cell_type": "code",
   "execution_count": 47,
   "metadata": {},
   "outputs": [
    {
     "data": {
      "text/html": [
       "<div>\n",
       "<style scoped>\n",
       "    .dataframe tbody tr th:only-of-type {\n",
       "        vertical-align: middle;\n",
       "    }\n",
       "\n",
       "    .dataframe tbody tr th {\n",
       "        vertical-align: top;\n",
       "    }\n",
       "\n",
       "    .dataframe thead th {\n",
       "        text-align: right;\n",
       "    }\n",
       "</style>\n",
       "<table border=\"1\" class=\"dataframe\">\n",
       "  <thead>\n",
       "    <tr style=\"text-align: right;\">\n",
       "      <th></th>\n",
       "      <th>Id</th>\n",
       "      <th>ShipVia</th>\n",
       "      <th>Freight</th>\n",
       "      <th>ShipRegion</th>\n",
       "      <th>RequiredDate</th>\n",
       "      <th>ShippedDate</th>\n",
       "      <th>OrderDate</th>\n",
       "    </tr>\n",
       "  </thead>\n",
       "  <tbody>\n",
       "    <tr>\n",
       "      <th>0</th>\n",
       "      <td>10248</td>\n",
       "      <td>3</td>\n",
       "      <td>32.38</td>\n",
       "      <td>Western Europe</td>\n",
       "      <td>2012-08-01</td>\n",
       "      <td>2012-07-16</td>\n",
       "      <td>2012-07-04</td>\n",
       "    </tr>\n",
       "    <tr>\n",
       "      <th>1</th>\n",
       "      <td>10249</td>\n",
       "      <td>1</td>\n",
       "      <td>11.61</td>\n",
       "      <td>Western Europe</td>\n",
       "      <td>2012-08-16</td>\n",
       "      <td>2012-07-10</td>\n",
       "      <td>2012-07-05</td>\n",
       "    </tr>\n",
       "    <tr>\n",
       "      <th>2</th>\n",
       "      <td>10250</td>\n",
       "      <td>2</td>\n",
       "      <td>65.83</td>\n",
       "      <td>South America</td>\n",
       "      <td>2012-08-05</td>\n",
       "      <td>2012-07-12</td>\n",
       "      <td>2012-07-08</td>\n",
       "    </tr>\n",
       "    <tr>\n",
       "      <th>3</th>\n",
       "      <td>10251</td>\n",
       "      <td>1</td>\n",
       "      <td>41.34</td>\n",
       "      <td>Western Europe</td>\n",
       "      <td>2012-08-05</td>\n",
       "      <td>2012-07-15</td>\n",
       "      <td>2012-07-08</td>\n",
       "    </tr>\n",
       "    <tr>\n",
       "      <th>4</th>\n",
       "      <td>10252</td>\n",
       "      <td>2</td>\n",
       "      <td>51.30</td>\n",
       "      <td>Western Europe</td>\n",
       "      <td>2012-08-06</td>\n",
       "      <td>2012-07-11</td>\n",
       "      <td>2012-07-09</td>\n",
       "    </tr>\n",
       "  </tbody>\n",
       "</table>\n",
       "</div>"
      ],
      "text/plain": [
       "      Id  ShipVia  Freight      ShipRegion RequiredDate ShippedDate  \\\n",
       "0  10248        3    32.38  Western Europe   2012-08-01  2012-07-16   \n",
       "1  10249        1    11.61  Western Europe   2012-08-16  2012-07-10   \n",
       "2  10250        2    65.83   South America   2012-08-05  2012-07-12   \n",
       "3  10251        1    41.34  Western Europe   2012-08-05  2012-07-15   \n",
       "4  10252        2    51.30  Western Europe   2012-08-06  2012-07-11   \n",
       "\n",
       "    OrderDate  \n",
       "0  2012-07-04  \n",
       "1  2012-07-05  \n",
       "2  2012-07-08  \n",
       "3  2012-07-08  \n",
       "4  2012-07-09  "
      ]
     },
     "execution_count": 47,
     "metadata": {},
     "output_type": "execute_result"
    }
   ],
   "source": [
    "c.execute('''SELECT Id , ShipVia, Freight, ShipRegion, RequiredDate, ShippedDate, OrderDate  FROM [Order];''')\n",
    "df_freight = pd.DataFrame(c.fetchall())\n",
    "df_freight.columns = [column[0] for column in c.description]\n",
    "df_freight.head()"
   ]
  },
  {
   "cell_type": "code",
   "execution_count": 48,
   "metadata": {},
   "outputs": [
    {
     "name": "stdout",
     "output_type": "stream",
     "text": [
      "<class 'pandas.core.frame.DataFrame'>\n",
      "RangeIndex: 830 entries, 0 to 829\n",
      "Data columns (total 7 columns):\n",
      "Id              830 non-null int64\n",
      "ShipVia         830 non-null int64\n",
      "Freight         830 non-null float64\n",
      "ShipRegion      830 non-null object\n",
      "RequiredDate    830 non-null object\n",
      "ShippedDate     809 non-null object\n",
      "OrderDate       830 non-null object\n",
      "dtypes: float64(1), int64(2), object(4)\n",
      "memory usage: 45.5+ KB\n"
     ]
    }
   ],
   "source": [
    "df_freight.info()"
   ]
  },
  {
   "cell_type": "code",
   "execution_count": 49,
   "metadata": {},
   "outputs": [
    {
     "name": "stdout",
     "output_type": "stream",
     "text": [
      "<class 'pandas.core.frame.DataFrame'>\n",
      "Int64Index: 809 entries, 0 to 821\n",
      "Data columns (total 7 columns):\n",
      "Id              809 non-null int64\n",
      "ShipVia         809 non-null int64\n",
      "Freight         809 non-null float64\n",
      "ShipRegion      809 non-null object\n",
      "RequiredDate    809 non-null object\n",
      "ShippedDate     809 non-null object\n",
      "OrderDate       809 non-null object\n",
      "dtypes: float64(1), int64(2), object(4)\n",
      "memory usage: 50.6+ KB\n"
     ]
    }
   ],
   "source": [
    "df_freight.dropna(inplace = True)\n",
    "df_freight.info()"
   ]
  },
  {
   "cell_type": "code",
   "execution_count": 50,
   "metadata": {},
   "outputs": [
    {
     "data": {
      "text/plain": [
       "2    315\n",
       "3    249\n",
       "1    245\n",
       "Name: ShipVia, dtype: int64"
      ]
     },
     "execution_count": 50,
     "metadata": {},
     "output_type": "execute_result"
    }
   ],
   "source": [
    "df_freight.ShipVia.value_counts()"
   ]
  },
  {
   "cell_type": "code",
   "execution_count": 51,
   "metadata": {},
   "outputs": [
    {
     "data": {
      "text/html": [
       "<div>\n",
       "<style scoped>\n",
       "    .dataframe tbody tr th:only-of-type {\n",
       "        vertical-align: middle;\n",
       "    }\n",
       "\n",
       "    .dataframe tbody tr th {\n",
       "        vertical-align: top;\n",
       "    }\n",
       "\n",
       "    .dataframe thead th {\n",
       "        text-align: right;\n",
       "    }\n",
       "</style>\n",
       "<table border=\"1\" class=\"dataframe\">\n",
       "  <thead>\n",
       "    <tr style=\"text-align: right;\">\n",
       "      <th></th>\n",
       "      <th>Id</th>\n",
       "      <th>CompanyName</th>\n",
       "      <th>Phone</th>\n",
       "    </tr>\n",
       "  </thead>\n",
       "  <tbody>\n",
       "    <tr>\n",
       "      <th>0</th>\n",
       "      <td>1</td>\n",
       "      <td>Speedy Express</td>\n",
       "      <td>(503) 555-9831</td>\n",
       "    </tr>\n",
       "    <tr>\n",
       "      <th>1</th>\n",
       "      <td>2</td>\n",
       "      <td>United Package</td>\n",
       "      <td>(503) 555-3199</td>\n",
       "    </tr>\n",
       "    <tr>\n",
       "      <th>2</th>\n",
       "      <td>3</td>\n",
       "      <td>Federal Shipping</td>\n",
       "      <td>(503) 555-9931</td>\n",
       "    </tr>\n",
       "  </tbody>\n",
       "</table>\n",
       "</div>"
      ],
      "text/plain": [
       "   Id       CompanyName           Phone\n",
       "0   1    Speedy Express  (503) 555-9831\n",
       "1   2    United Package  (503) 555-3199\n",
       "2   3  Federal Shipping  (503) 555-9931"
      ]
     },
     "execution_count": 51,
     "metadata": {},
     "output_type": "execute_result"
    }
   ],
   "source": [
    "c.execute(\"\"\"SELECT * FROM Shipper\"\"\")\n",
    "shippers_df = pd.DataFrame(c.fetchall())\n",
    "shippers_df.columns = [column[0] for column in c.description]\n",
    "shippers_df.head()"
   ]
  },
  {
   "cell_type": "code",
   "execution_count": 52,
   "metadata": {},
   "outputs": [
    {
     "data": {
      "image/png": "[encoded data removed]",
      "text/plain": [
       "<Figure size 720x576 with 1 Axes>"
      ]
     },
     "metadata": {},
     "output_type": "display_data"
    }
   ],
   "source": [
    "shippers = pd.DataFrame([])\n",
    "plt.figure(figsize=(10, 8))\n",
    "df_freight.Freight.plot.kde(label = 'All', linewidth = 4)\n",
    "for i in [1,2,3]:\n",
    "    x = df_freight[df_freight['ShipVia'] == i]\n",
    "    y = df_freight[df_freight['ShipVia'] != i]\n",
    "    x.Freight.plot.kde(label = shippers_df.CompanyName[i-1], alpha = .4)\n",
    "    results = stats.ttest_ind(x.Freight, y.Freight, equal_var = False)\n",
    "    shippers = shippers.append(pd.DataFrame({'Shipper': shippers_df.CompanyName[i-1], 'Coeffiecient': round(results[0], 3),\n",
    "                                            'P-value': round(results[1], 3)}, index = [0]), ignore_index = True)\n",
    "plt.title('KDE for Freight Cost', fontweight = 'bold')\n",
    "plt.xlabel('Average Cost per Order')\n",
    "plt.legend()\n",
    "plt.xlim(-150, 600)\n",
    "plt.show()"
   ]
  },
  {
   "cell_type": "code",
   "execution_count": 53,
   "metadata": {},
   "outputs": [
    {
     "data": {
      "text/html": [
       "<div>\n",
       "<style scoped>\n",
       "    .dataframe tbody tr th:only-of-type {\n",
       "        vertical-align: middle;\n",
       "    }\n",
       "\n",
       "    .dataframe tbody tr th {\n",
       "        vertical-align: top;\n",
       "    }\n",
       "\n",
       "    .dataframe thead th {\n",
       "        text-align: right;\n",
       "    }\n",
       "</style>\n",
       "<table border=\"1\" class=\"dataframe\">\n",
       "  <thead>\n",
       "    <tr style=\"text-align: right;\">\n",
       "      <th></th>\n",
       "      <th>Shipper</th>\n",
       "      <th>Coeffiecient</th>\n",
       "      <th>P-value</th>\n",
       "    </tr>\n",
       "  </thead>\n",
       "  <tbody>\n",
       "    <tr>\n",
       "      <th>0</th>\n",
       "      <td>Speedy Express</td>\n",
       "      <td>-2.655</td>\n",
       "      <td>0.008</td>\n",
       "    </tr>\n",
       "    <tr>\n",
       "      <th>1</th>\n",
       "      <td>United Package</td>\n",
       "      <td>1.517</td>\n",
       "      <td>0.130</td>\n",
       "    </tr>\n",
       "    <tr>\n",
       "      <th>2</th>\n",
       "      <td>Federal Shipping</td>\n",
       "      <td>0.433</td>\n",
       "      <td>0.665</td>\n",
       "    </tr>\n",
       "  </tbody>\n",
       "</table>\n",
       "</div>"
      ],
      "text/plain": [
       "            Shipper  Coeffiecient  P-value\n",
       "0    Speedy Express        -2.655    0.008\n",
       "1    United Package         1.517    0.130\n",
       "2  Federal Shipping         0.433    0.665"
      ]
     },
     "execution_count": 53,
     "metadata": {},
     "output_type": "execute_result"
    }
   ],
   "source": [
    "shippers"
   ]
  },
  {
   "cell_type": "markdown",
   "metadata": {},
   "source": [
    "Based on the above, Shipper Express has a p-value < 0.05 and thus the results are statitstically significance. However this is misleading because there are several variables that are unknown to us. Lets explore the same analysis for each region that products are shipped to."
   ]
  },
  {
   "cell_type": "code",
   "execution_count": 54,
   "metadata": {},
   "outputs": [
    {
     "name": "stdout",
     "output_type": "stream",
     "text": [
      "Western Europe\n",
      "            Shipper  Coefficient  P-value\n",
      "0    Speedy Express       -0.650    0.516\n",
      "1    United Package       -0.927    0.355\n",
      "2  Federal Shipping        1.488    0.140\n",
      "\n",
      "North America\n",
      "            Shipper  Coefficient  P-value\n",
      "0    Speedy Express       -2.215    0.028\n",
      "1    United Package        0.452    0.652\n",
      "2  Federal Shipping        0.812    0.419\n",
      "\n",
      "Southern Europe\n",
      "            Shipper  Coefficient  P-value\n",
      "0    Speedy Express       -1.393    0.169\n",
      "1    United Package        1.590    0.124\n",
      "2  Federal Shipping       -0.588    0.559\n",
      "\n",
      "British Isles\n",
      "            Shipper  Coefficient  P-value\n",
      "0    Speedy Express       -0.557    0.580\n",
      "1    United Package        1.327    0.192\n",
      "2  Federal Shipping       -1.365    0.176\n",
      "\n",
      "Scandinavia\n",
      "            Shipper  Coefficient  P-value\n",
      "0    Speedy Express       -0.771    0.451\n",
      "1    United Package        1.757    0.109\n",
      "2  Federal Shipping       -1.568    0.130\n",
      "\n",
      "Northern Europe\n",
      "            Shipper  Coefficient  P-value\n",
      "0    Speedy Express       -1.140    0.261\n",
      "1    United Package        2.277    0.030\n",
      "2  Federal Shipping       -1.507    0.141\n",
      "\n",
      "South America\n",
      "            Shipper  Coefficient  P-value\n",
      "0    Speedy Express       -0.959    0.340\n",
      "1    United Package        1.126    0.264\n",
      "2  Federal Shipping       -0.795    0.428\n",
      "\n"
     ]
    }
   ],
   "source": [
    "Regions=['Western Europe','North America','Southern Europe',\n",
    "         'British Isles','Scandinavia','Victoria',\n",
    "         'Northern Europe','Eastern Asia','NSW',\n",
    "         'South-East Asia','South America']\n",
    "for i in Regions:\n",
    "    shipper_region = pd.DataFrame([])\n",
    "    reg = df_freight[df_freight['ShipRegion']==i]\n",
    "    count = 0\n",
    "    for j in [1,2,3]:\n",
    "        x = reg[reg['ShipVia']==j]\n",
    "        y = reg[reg['ShipVia']!= j]\n",
    "        if x.shape[0] > 1 and y.shape[0] > 1:\n",
    "            count+= 1\n",
    "            results = stats.ttest_ind(x.Freight, y.Freight, equal_var = False)\n",
    "            shipper_region = shipper_region.append(pd.DataFrame({'Shipper': shippers_df.CompanyName[j-1],\n",
    "                                                                'Coefficient': round(results[0], 3),\n",
    "                                                                'P-value': round(results[1], 3)},index=[0]), ignore_index = True)\n",
    "        else:\n",
    "            None\n",
    "    if count == 3:\n",
    "        print(i)\n",
    "        print(shipper_region)\n",
    "        print('')"
   ]
  },
  {
   "cell_type": "markdown",
   "metadata": {},
   "source": [
    "We find that it is cheaper for Shipper Express to ship to North America and for United Package to ship to Northern Europe. Now we shall if there is a difference in how days it takes to ship products."
   ]
  },
  {
   "cell_type": "code",
   "execution_count": null,
   "metadata": {},
   "outputs": [],
   "source": []
  },
  {
   "cell_type": "markdown",
   "metadata": {},
   "source": [
    "## Do customers spend more on products on  particular days of the week?"
   ]
  },
  {
   "cell_type": "markdown",
   "metadata": {},
   "source": [
    "- $H_0$: Customers spend about the same amount for each day of the week\n",
    "- $H_a$: Customers spend different amounts on different days of the week \n",
    "- $alpha$ = 0.05"
   ]
  },
  {
   "cell_type": "code",
   "execution_count": 55,
   "metadata": {},
   "outputs": [
    {
     "data": {
      "text/html": [
       "<div>\n",
       "<style scoped>\n",
       "    .dataframe tbody tr th:only-of-type {\n",
       "        vertical-align: middle;\n",
       "    }\n",
       "\n",
       "    .dataframe tbody tr th {\n",
       "        vertical-align: top;\n",
       "    }\n",
       "\n",
       "    .dataframe thead th {\n",
       "        text-align: right;\n",
       "    }\n",
       "</style>\n",
       "<table border=\"1\" class=\"dataframe\">\n",
       "  <thead>\n",
       "    <tr style=\"text-align: right;\">\n",
       "      <th></th>\n",
       "      <th>OrderDate</th>\n",
       "      <th>Quantity</th>\n",
       "    </tr>\n",
       "  </thead>\n",
       "  <tbody>\n",
       "    <tr>\n",
       "      <th>0</th>\n",
       "      <td>2012-07-04</td>\n",
       "      <td>12</td>\n",
       "    </tr>\n",
       "    <tr>\n",
       "      <th>1</th>\n",
       "      <td>2012-07-04</td>\n",
       "      <td>10</td>\n",
       "    </tr>\n",
       "    <tr>\n",
       "      <th>2</th>\n",
       "      <td>2012-07-04</td>\n",
       "      <td>5</td>\n",
       "    </tr>\n",
       "    <tr>\n",
       "      <th>3</th>\n",
       "      <td>2012-07-05</td>\n",
       "      <td>9</td>\n",
       "    </tr>\n",
       "    <tr>\n",
       "      <th>4</th>\n",
       "      <td>2012-07-05</td>\n",
       "      <td>40</td>\n",
       "    </tr>\n",
       "  </tbody>\n",
       "</table>\n",
       "</div>"
      ],
      "text/plain": [
       "    OrderDate  Quantity\n",
       "0  2012-07-04        12\n",
       "1  2012-07-04        10\n",
       "2  2012-07-04         5\n",
       "3  2012-07-05         9\n",
       "4  2012-07-05        40"
      ]
     },
     "execution_count": 55,
     "metadata": {},
     "output_type": "execute_result"
    }
   ],
   "source": [
    "c.execute(\"\"\"SELECT o.OrderDate, od.Quantity FROM [Order] o \n",
    "JOIN OrderDetail od ON od.OrderId = o.Id\"\"\")\n",
    "product_day = pd.DataFrame(c.fetchall())\n",
    "product_day.columns = [column[0] for column in c.description]\n",
    "product_day.head()"
   ]
  },
  {
   "cell_type": "code",
   "execution_count": 56,
   "metadata": {},
   "outputs": [
    {
     "name": "stdout",
     "output_type": "stream",
     "text": [
      "<class 'pandas.core.frame.DataFrame'>\n",
      "RangeIndex: 2155 entries, 0 to 2154\n",
      "Data columns (total 2 columns):\n",
      "OrderDate    2155 non-null object\n",
      "Quantity     2155 non-null int64\n",
      "dtypes: int64(1), object(1)\n",
      "memory usage: 33.8+ KB\n"
     ]
    }
   ],
   "source": [
    "product_day.info()"
   ]
  },
  {
   "cell_type": "markdown",
   "metadata": {},
   "source": [
    "Order date needs to be converted from a full date to the day of the week."
   ]
  },
  {
   "cell_type": "code",
   "execution_count": 57,
   "metadata": {},
   "outputs": [],
   "source": [
    "product_day['OrderDate'] = pd.to_datetime(product_day.OrderDate)\n",
    "product_day['DayofWeek'] = product_day['OrderDate'].dt.weekday_name\n",
    "product_day['int_day_of_week'] = product_day['OrderDate'].dt.dayofweek"
   ]
  },
  {
   "cell_type": "code",
   "execution_count": 58,
   "metadata": {},
   "outputs": [
    {
     "data": {
      "text/html": [
       "<div>\n",
       "<style scoped>\n",
       "    .dataframe tbody tr th:only-of-type {\n",
       "        vertical-align: middle;\n",
       "    }\n",
       "\n",
       "    .dataframe tbody tr th {\n",
       "        vertical-align: top;\n",
       "    }\n",
       "\n",
       "    .dataframe thead th {\n",
       "        text-align: right;\n",
       "    }\n",
       "</style>\n",
       "<table border=\"1\" class=\"dataframe\">\n",
       "  <thead>\n",
       "    <tr style=\"text-align: right;\">\n",
       "      <th></th>\n",
       "      <th>OrderDate</th>\n",
       "      <th>Quantity</th>\n",
       "      <th>DayofWeek</th>\n",
       "      <th>int_day_of_week</th>\n",
       "    </tr>\n",
       "  </thead>\n",
       "  <tbody>\n",
       "    <tr>\n",
       "      <th>0</th>\n",
       "      <td>2012-07-04</td>\n",
       "      <td>12</td>\n",
       "      <td>Wednesday</td>\n",
       "      <td>2</td>\n",
       "    </tr>\n",
       "    <tr>\n",
       "      <th>1</th>\n",
       "      <td>2012-07-04</td>\n",
       "      <td>10</td>\n",
       "      <td>Wednesday</td>\n",
       "      <td>2</td>\n",
       "    </tr>\n",
       "    <tr>\n",
       "      <th>2</th>\n",
       "      <td>2012-07-04</td>\n",
       "      <td>5</td>\n",
       "      <td>Wednesday</td>\n",
       "      <td>2</td>\n",
       "    </tr>\n",
       "    <tr>\n",
       "      <th>3</th>\n",
       "      <td>2012-07-05</td>\n",
       "      <td>9</td>\n",
       "      <td>Thursday</td>\n",
       "      <td>3</td>\n",
       "    </tr>\n",
       "    <tr>\n",
       "      <th>4</th>\n",
       "      <td>2012-07-05</td>\n",
       "      <td>40</td>\n",
       "      <td>Thursday</td>\n",
       "      <td>3</td>\n",
       "    </tr>\n",
       "  </tbody>\n",
       "</table>\n",
       "</div>"
      ],
      "text/plain": [
       "   OrderDate  Quantity  DayofWeek  int_day_of_week\n",
       "0 2012-07-04        12  Wednesday                2\n",
       "1 2012-07-04        10  Wednesday                2\n",
       "2 2012-07-04         5  Wednesday                2\n",
       "3 2012-07-05         9   Thursday                3\n",
       "4 2012-07-05        40   Thursday                3"
      ]
     },
     "execution_count": 58,
     "metadata": {},
     "output_type": "execute_result"
    }
   ],
   "source": [
    "product_day.head()"
   ]
  },
  {
   "cell_type": "code",
   "execution_count": 59,
   "metadata": {},
   "outputs": [
    {
     "name": "stdout",
     "output_type": "stream",
     "text": [
      "The dates range from 2012-07-04 to 2014-05-06\n"
     ]
    }
   ],
   "source": [
    "#produce date range:\n",
    "print(f\"The dates range from {product_day.OrderDate.min().date()} to {product_day.OrderDate.max().date()}\")"
   ]
  },
  {
   "cell_type": "code",
   "execution_count": 60,
   "metadata": {},
   "outputs": [
    {
     "data": {
      "text/plain": [
       "(734716.0, 735354.0)"
      ]
     },
     "execution_count": 60,
     "metadata": {},
     "output_type": "execute_result"
    },
    {
     "data": {
      "image/png": "[encoded data removed]",
      "text/plain": [
       "<Figure size 1080x360 with 1 Axes>"
      ]
     },
     "metadata": {},
     "output_type": "display_data"
    }
   ],
   "source": [
    "per_month = product_day.set_index('OrderDate').groupby(pd.Grouper(freq='M'))['Quantity'].sum()\n",
    "\n",
    "fig, ax = plt.subplots(figsize=(15, 5))\n",
    "ax.plot(per_month.index, per_month.values, marker = 'x', color ='seagreen', linewidth = 3)\n",
    "ax.set_title('Number of order per month')\n",
    "ax.set_xlabel('Month')\n",
    "ax.set_ylabel('Number of orders')\n",
    "ax.grid(linestyle='--')\n",
    "ax.xaxis.set_major_formatter(DateFormatter('%b %Y'))\n",
    "#ax.axis.set_major_locator(mdates.MonthLocator())\n",
    "ax.set_xlim(left='2012-08-01', right ='2014-05-01')"
   ]
  },
  {
   "cell_type": "markdown",
   "metadata": {},
   "source": [
    "The graph above plots the number of orders over the 2 year period and will show a general upward trend "
   ]
  },
  {
   "cell_type": "code",
   "execution_count": 61,
   "metadata": {},
   "outputs": [
    {
     "data": {
      "image/png": "[encoded data removed]",
      "text/plain": [
       "<Figure size 576x432 with 2 Axes>"
      ]
     },
     "metadata": {},
     "output_type": "display_data"
    }
   ],
   "source": [
    "fig, (ax1, ax2) = plt.subplots(2,1, figsize=(8,6))\n",
    "product_day.sort_values(['int_day_of_week'], ascending = False).groupby(['DayofWeek'], sort = False)['DayofWeek'].count().plot('barh', ax=ax1)\n",
    "product_day.sort_values(['int_day_of_week'], ascending = False).groupby(['DayofWeek'], sort = False)['Quantity'].mean().plot('barh', ax=ax2)\n",
    "ax1.set_title('Total number of orders')\n",
    "ax1.set_ylabel('')\n",
    "ax2.set_title('Average number of items ordered')\n",
    "ax2.set_ylabel('')\n",
    "fig.subplots_adjust(hspace=.4)\n",
    "fig.savefig('daysofweek.png', bbox_inches = 'tight')"
   ]
  },
  {
   "cell_type": "code",
   "execution_count": 62,
   "metadata": {},
   "outputs": [
    {
     "name": "stdout",
     "output_type": "stream",
     "text": [
      "                            OLS Regression Results                            \n",
      "==============================================================================\n",
      "Dep. Variable:               Quantity   R-squared:                       0.001\n",
      "Model:                            OLS   Adj. R-squared:                 -0.001\n",
      "Method:                 Least Squares   F-statistic:                    0.4571\n",
      "Date:                Thu, 29 Aug 2019   Prob (F-statistic):              0.767\n",
      "Time:                        11:31:43   Log-Likelihood:                -9404.2\n",
      "No. Observations:                2155   AIC:                         1.882e+04\n",
      "Df Residuals:                    2150   BIC:                         1.885e+04\n",
      "Df Model:                           4                                         \n",
      "Covariance Type:            nonrobust                                         \n",
      "=============================================================================================\n",
      "                                coef    std err          t      P>|t|      [0.025      0.975]\n",
      "---------------------------------------------------------------------------------------------\n",
      "Intercept                    23.7553      0.923     25.732      0.000      21.945      25.566\n",
      "C(DayofWeek)[T.Sunday]        0.0768      1.312      0.059      0.953      -2.496       2.649\n",
      "C(DayofWeek)[T.Thursday]      0.8732      1.303      0.670      0.503      -1.683       3.429\n",
      "C(DayofWeek)[T.Tuesday]       0.2068      1.288      0.161      0.872      -2.319       2.733\n",
      "C(DayofWeek)[T.Wednesday]    -0.8585      1.297     -0.662      0.508      -3.403       1.686\n",
      "==============================================================================\n",
      "Omnibus:                      790.296   Durbin-Watson:                   1.617\n",
      "Prob(Omnibus):                  0.000   Jarque-Bera (JB):             3047.217\n",
      "Skew:                           1.784   Prob(JB):                         0.00\n",
      "Kurtosis:                       7.606   Cond. No.                         5.87\n",
      "==============================================================================\n",
      "\n",
      "Warnings:\n",
      "[1] Standard Errors assume that the covariance matrix of the errors is correctly specified.\n"
     ]
    },
    {
     "data": {
      "text/html": [
       "<div>\n",
       "<style scoped>\n",
       "    .dataframe tbody tr th:only-of-type {\n",
       "        vertical-align: middle;\n",
       "    }\n",
       "\n",
       "    .dataframe tbody tr th {\n",
       "        vertical-align: top;\n",
       "    }\n",
       "\n",
       "    .dataframe thead th {\n",
       "        text-align: right;\n",
       "    }\n",
       "</style>\n",
       "<table border=\"1\" class=\"dataframe\">\n",
       "  <thead>\n",
       "    <tr style=\"text-align: right;\">\n",
       "      <th></th>\n",
       "      <th>sum_sq</th>\n",
       "      <th>df</th>\n",
       "      <th>F</th>\n",
       "      <th>PR(&gt;F)</th>\n",
       "    </tr>\n",
       "  </thead>\n",
       "  <tbody>\n",
       "    <tr>\n",
       "      <th>C(DayofWeek)</th>\n",
       "      <td>662.192111</td>\n",
       "      <td>4.0</td>\n",
       "      <td>0.457058</td>\n",
       "      <td>0.7673</td>\n",
       "    </tr>\n",
       "    <tr>\n",
       "      <th>Residual</th>\n",
       "      <td>778737.444084</td>\n",
       "      <td>2150.0</td>\n",
       "      <td>NaN</td>\n",
       "      <td>NaN</td>\n",
       "    </tr>\n",
       "  </tbody>\n",
       "</table>\n",
       "</div>"
      ],
      "text/plain": [
       "                     sum_sq      df         F  PR(>F)\n",
       "C(DayofWeek)     662.192111     4.0  0.457058  0.7673\n",
       "Residual      778737.444084  2150.0       NaN     NaN"
      ]
     },
     "execution_count": 62,
     "metadata": {},
     "output_type": "execute_result"
    }
   ],
   "source": [
    "#ANOVA test\n",
    "lm = ols('Quantity ~C(DayofWeek)', product_day).fit()\n",
    "print(lm.summary())\n",
    "sm.stats.anova_lm(lm, typ =2)"
   ]
  },
  {
   "cell_type": "markdown",
   "metadata": {},
   "source": [
    "Because our p-value is 0.76, we fail to reject our null hypothesis and can say there is no difference what day of the week products are ordered."
   ]
  },
  {
   "cell_type": "markdown",
   "metadata": {},
   "source": [
    "## 5. Conclusions"
   ]
  },
  {
   "cell_type": "markdown",
   "metadata": {},
   "source": [
    "1. There is a statistically significant difference between number of items ordered between discounted items and non-discounted items. However there is no significant effect between the varying discount levels. Try keeping discount levels low (about 5% is optimal)\n",
    "2. There is a statistical significant difference in revenue for orders with or without discounts. On average, customers spend $143 more on orders with discounts than without discounts, which is a 7% increase\n",
    "3. There is a statistically significant difference in the average revenue per order from customers in different regions. By far, Western European customers spent the most and are the biggest contributors to Northwind's bottom line. If Northwind chooses to focus on bigger markets, it would need to stop marketing in Southern and Eastern Europe.\n",
    "4. In terms of freight cost, Speedy Express is the least expensive shipper and should be used whenever possible.\n",
    "5. Customers usually order their products at about the same rate every day of the week. May not need to staff different days with different sales representatives"
   ]
  }
 ],
 "metadata": {
  "kernelspec": {
   "display_name": "Python 3",
   "language": "python",
   "name": "python3"
  },
  "language_info": {
   "codemirror_mode": {
    "name": "ipython",
    "version": 3
   },
   "file_extension": ".py",
   "mimetype": "text/x-python",
   "name": "python",
   "nbconvert_exporter": "python",
   "pygments_lexer": "ipython3",
   "version": "3.7.3"
  }
 },
 "nbformat": 4,
 "nbformat_minor": 2
}
