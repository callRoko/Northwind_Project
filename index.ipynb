{
 "cells": [
  {
   "cell_type": "markdown",
   "metadata": {},
   "source": [
    "# Northwind Database Project"
   ]
  },
  {
   "cell_type": "markdown",
   "metadata": {},
   "source": [
    "Name: Hazel Donaldson <br>\n",
    "Due Date: 8/29/2019 <br>"
   ]
  },
  {
   "cell_type": "markdown",
   "metadata": {},
   "source": [
    "# Project Overview:"
   ]
  },
  {
   "cell_type": "markdown",
   "metadata": {},
   "source": [
    "In this project, we will be exploring data provided to us by our client, Northwind, containing sales data for a range of different products. Our goal is to provide the company with several business recommendations through statistically analysis and hypothesis testing."
   ]
  },
  {
   "cell_type": "markdown",
   "metadata": {},
   "source": [
    "## 1. Obtain Data/Import Libraries"
   ]
  },
  {
   "cell_type": "code",
   "execution_count": 1,
   "metadata": {},
   "outputs": [],
   "source": [
    "#import libraries here\n",
    "import sqlite3\n",
    "import sqlalchemy\n",
    "from sqlalchemy import create_engine\n",
    "from sqlalchemy.orm import Session, sessionmaker\n",
    "import pandas as pd\n",
    "import numpy as np\n",
    "import matplotlib.pyplot as plt\n",
    "import seaborn as sns\n",
    "import scipy.stats as stats\n",
    "import statsmodels.api as sm\n",
    "from statsmodels.formula.api import ols\n",
    "from statsmodels.stats.multicomp import pairwise_tukeyhsd\n",
    "from statsmodels.stats.multicomp import MultiComparison\n",
    "from statsmodels.stats.power import TTestIndPower, TTestPower\n",
    "from collections import Counter\n",
    "import itertools\n",
    "import warnings\n",
    "warnings.filterwarnings('ignore')\n",
    "import scipy as sp"
   ]
  },
  {
   "cell_type": "code",
   "execution_count": 2,
   "metadata": {},
   "outputs": [],
   "source": [
    "#define functions\n",
    "\n",
    "#population mean\n",
    "def calculate_mu(x):\n",
    "    mu = float(sum(x.values)/len(x))\n",
    "    return mu\n",
    "# Create tables from database\n",
    "def get_column_info(table):\n",
    "    cols_list = inspector.get_columns(table)\n",
    "    print('')\n",
    "    print('-----------------------------------------------------------------------')\n",
    "    print(f'Table Name: {table}, Primary Key: {inspector.get_primary_keys(table)}')\n",
    "    print('------------------------------------------------------------------------')\n",
    "    print('')\n",
    "    for column in cols_list:\n",
    "         print(f\"Column Name: {column['name']}, Column Type: {column['type']}\")\n",
    "\n",
    "#Cohen's d for effect size\n",
    "def cohen_d(group1, group2):\n",
    "               \n",
    "    diff = group1.mean() - group2.mean()\n",
    "    n1, n2 = len(group1), len(group2)\n",
    "    var1 = group1.var()\n",
    "    var2 = group2.var()\n",
    "    # Calculate the pooled threshold as shown earlier\n",
    "    pooled_var = (n1 * var1 + n2 * var2) / (n1 + n2)\n",
    "    # Calculate Cohen's d statistic\n",
    "    d = diff / np.sqrt(pooled_var)\n",
    "    return abs(d)\n",
    "#Generate ANOVA tables\n",
    "def ANOVA_test(df):\n",
    "            formula = 'Quantity ~ C(Discount)'\n",
    "            lm = ols(formula, df).fit()\n",
    "            table = sm.stats.anova_lm(lm, typ = 2)\n",
    "            print(table)\n",
    "#Distribution plot visualization\n",
    "def dist_visual(control, experimental):\n",
    "               plt.figure(figsize(10,6))\n",
    "               sns.distplot(experimental, bins = 50, label = 'Experimental')\n",
    "               sns.distplot(control, bins = 50, label = 'Control')\n",
    "               plt.axvline(x.control.mean(), color = 'k', linestyle = '--')\n",
    "               plt.axvline(x.experimental.mean(), color = 'k', linestyle = '--')\n",
    "               plt.title(\"Control and Experimental Sampling Distributions\", fontsize = 14)\n",
    "               plt.xlabel('Distributions')\n",
    "               plt.ylabel('Frequency')\n",
    "               plt.legend()\n",
    "               plt.show()\n",
    "#comparing average as discount boolean\n",
    "def print_results(a,b):\n",
    "    print(f\"Average with discount: {round(a,2)}\")\n",
    "    print(f\"Average without discount: {round(b, 2)}\")\n",
    "    print(f\"Effect Size: {round((a-b), 2)}\")\n",
    "    print(f\"Relative Effect Size: {round((a-b)/b, 2)}\")\n",
    "def results_printer_disc(a, b):\n",
    "    print(f'Avg at current discount level: {round(a, 2)}')\n",
    "    print(f'Effect Size: {round((a-b),2)}')\n",
    "    print(f'Relative effect size: {round((a-b)/b,2)}')\n",
    "    \n",
    "# Calculate variance ratio for 2 samples:    \n",
    "def variance_ratio(a,b):\n",
    "    return np.var(a)/np.var(b)"
   ]
  },
  {
   "cell_type": "markdown",
   "metadata": {},
   "source": [
    "### Connecting Database"
   ]
  },
  {
   "cell_type": "code",
   "execution_count": 16,
   "metadata": {},
   "outputs": [],
   "source": [
    "#connect to database\n",
    "conn = sqlite3.connect('Northwind_small.sqlite')\n",
    "c = conn.cursor()"
   ]
  },
  {
   "cell_type": "code",
   "execution_count": null,
   "metadata": {},
   "outputs": [],
   "source": [
    "c.execute(\"\"\"SELECT name from sqlite_master WHERE type = 'table';\"\"\")\n",
    "tables = c.fetchall()\n",
    "tables = [i[0] for i in tables]"
   ]
  },
  {
   "cell_type": "code",
   "execution_count": null,
   "metadata": {},
   "outputs": [],
   "source": [
    "#loop list of data into pandas dataframe\n",
    "dfs = []\n",
    "for i in tables:\n",
    "    table = c.execute('select * from \"'+ i +'\"').fetchall()\n",
    "    columns = c.execute('PRAGMA table_info(\"'+ i +'\")').fetchall()\n",
    "    df = pd.DataFrame(table, columns = [i[1] for i in columns])\n",
    "    foo = i +'_df' #TableName_df\n",
    "    exec(foo + \"=df\")\n",
    "    dfs.append(foo) #a list of all the tables"
   ]
  },
  {
   "cell_type": "code",
   "execution_count": null,
   "metadata": {},
   "outputs": [],
   "source": [
    "dfs"
   ]
  },
  {
   "cell_type": "code",
   "execution_count": null,
   "metadata": {},
   "outputs": [],
   "source": [
    "#alternative\n",
    "engine = create_engine('sqlite:///Northwind_small.sqlite', echo = True)\n",
    "Session = sessionmaker(bind=engine)\n",
    "session = Session()"
   ]
  },
  {
   "cell_type": "code",
   "execution_count": null,
   "metadata": {},
   "outputs": [],
   "source": [
    "from sqlalchemy import inspect\n",
    "inspector = inspect(engine)\n",
    "\n",
    "print(inspector.get_table_names())"
   ]
  },
  {
   "cell_type": "code",
   "execution_count": null,
   "metadata": {
    "scrolled": true
   },
   "outputs": [],
   "source": [
    "tables = inspector.get_table_names()\n",
    "for table in tables:\n",
    "    print(get_column_info(table))"
   ]
  },
  {
   "cell_type": "code",
   "execution_count": null,
   "metadata": {},
   "outputs": [],
   "source": [
    "#list of all tables\n",
    "cur.execute('''SELECT Quantity, Discount FROM OrderDetail ORDER BY Quantity DESC;''')\n",
    "df = pd.DataFrame(cur.fetchall())\n",
    "df.columns = [column[0] for column in cur.description]\n",
    "df.head()"
   ]
  },
  {
   "cell_type": "code",
   "execution_count": null,
   "metadata": {},
   "outputs": [],
   "source": [
    "#Converting the database tables into Pandas dataframes\n",
    "df_Category = pd.read_sql_query(\"SELECT * FROM Category\", engine)\n",
    "df_Customer = pd.read_sql_query(\"SELECT * FROM Customer\", engine)\n",
    "df_CustomerDemographic = pd.read_sql_query(\"SELECT * FROM CustomerDemographic\", engine)\n",
    "df_Employee = pd.read_sql_query(\"SELECT * FROM Employee\", engine)\n",
    "df_EmployeeTerritory = pd.read_sql_query(\"SELECT * FROM EmployeeTerritory\", engine)\n",
    "df_order = pd.read_sql_query(\"SELECT * FROM 'Order'\", engine)\n",
    "df_Product = pd.read_sql_query(\"SELECT * FROM Product\", engine)\n",
    "df_region = pd.read_sql_query(\"SELECT * FROM Region\", engine)\n",
    "df_Supplier = pd.read_sql_query(\"SELECT * FROM Supplier\", engine)\n",
    "df_Territory = pd.read_sql_query(\"SELECT * FROM Territory\", engine)\n",
    "df_OrderDetail = pd.read_sql_query(\"SELECT * FROM OrderDetail\", engine)\n",
    "df_Shipper = pd.read_sql_query(\"SELECT * FROM Shipper\", engine)\n",
    "df_customercustomerdemo = pd.read_sql_query(\"SELECT * FROM CustomerCustomerDemo\", engine)"
   ]
  },
  {
   "cell_type": "markdown",
   "metadata": {},
   "source": [
    "## Add screenshot of schema"
   ]
  },
  {
   "cell_type": "markdown",
   "metadata": {},
   "source": [
    "Below is an overview of the Northwind schema. Here I will do light exploration to familarize myself with the different tables that would of interest to us.\n"
   ]
  },
  {
   "cell_type": "markdown",
   "metadata": {},
   "source": [
    "https://raw.githubusercontent.com/learn-co-students/dsc-mod-3-project-online-ds-pt-041519/master/Northwind_ERD_updated.png"
   ]
  },
  {
   "cell_type": "markdown",
   "metadata": {},
   "source": [
    "### Category Table:"
   ]
  },
  {
   "cell_type": "code",
   "execution_count": null,
   "metadata": {},
   "outputs": [],
   "source": [
    "c.execute(\"\"\"SELECT * FROM Category\"\"\").fetchall()"
   ]
  },
  {
   "cell_type": "markdown",
   "metadata": {},
   "source": [
    "Based on this exploration, it looks like Nortwind is a food and beverage distribution. I may explore which categrory is doing the best in terms of sales. Now, we should get a better picture of the the products sold by Northwind."
   ]
  },
  {
   "cell_type": "markdown",
   "metadata": {},
   "source": [
    "## Product Table"
   ]
  },
  {
   "cell_type": "code",
   "execution_count": null,
   "metadata": {},
   "outputs": [],
   "source": [
    "c.execute(\"\"\"SELECT * FROM Product\"\"\").fetchall()"
   ]
  },
  {
   "cell_type": "markdown",
   "metadata": {},
   "source": [
    "As we can see above, Northwind distributed 77 products, some of which are discontinued. For now, I will ignore the presence of the discontinued products but include them in the analysis. If it is found that those products have a positive effect on sales, I will recommend that those products be restocked."
   ]
  },
  {
   "cell_type": "markdown",
   "metadata": {},
   "source": [
    "## Customer Table"
   ]
  },
  {
   "cell_type": "code",
   "execution_count": null,
   "metadata": {},
   "outputs": [],
   "source": [
    "c.execute(\"\"\"SELECT * FROM Customer\"\"\")\n",
    "customer = pd.DataFrame(c.fetchall())\n",
    "customer.columns = [column[0] for column in c.description]\n",
    "customer.head(3)"
   ]
  },
  {
   "cell_type": "code",
   "execution_count": null,
   "metadata": {},
   "outputs": [],
   "source": [
    "print(customer.info())"
   ]
  },
  {
   "cell_type": "code",
   "execution_count": null,
   "metadata": {},
   "outputs": [],
   "source": [
    "#Indentifying the names of Northwind's customers:\n",
    "customer.CompanyName.unique()"
   ]
  },
  {
   "cell_type": "code",
   "execution_count": null,
   "metadata": {},
   "outputs": [],
   "source": [
    "customer_demo = customer.groupby(['Region'])['CompanyName'].count()\n",
    "customer_demo"
   ]
  },
  {
   "cell_type": "code",
   "execution_count": null,
   "metadata": {},
   "outputs": [],
   "source": [
    "customer_country = customer.groupby(['Country'])['CompanyName'].count()\n",
    "customer_country"
   ]
  },
  {
   "cell_type": "markdown",
   "metadata": {},
   "source": [
    "Based on customer demographics, Northwind operates internationally with customers in 21 different countries. The USA, France, Germany and the UK being their biggest customers with 13, 11, 11, and 7 respectively. Regionally, Western Europe and North America are their biggest customers with 28 and 16 respectively. "
   ]
  },
  {
   "cell_type": "markdown",
   "metadata": {},
   "source": [
    "## Employee Table:"
   ]
  },
  {
   "cell_type": "code",
   "execution_count": null,
   "metadata": {},
   "outputs": [],
   "source": [
    "c.execute(\"\"\"SELECT * FROM Employee\"\"\").fetchall()"
   ]
  },
  {
   "cell_type": "markdown",
   "metadata": {},
   "source": [
    "Northwind had a total of nine employees who work mainly in the USA and offices in Seattle and London areas. In our EDA, we may choose to compare sales between the Seattle and London offices."
   ]
  },
  {
   "cell_type": "markdown",
   "metadata": {},
   "source": [
    "## Order, Order Detail Table"
   ]
  },
  {
   "cell_type": "code",
   "execution_count": null,
   "metadata": {},
   "outputs": [],
   "source": [
    "c.execute('''SELECT * FROM [Order]''')\n",
    "orders = pd.DataFrame(c.fetchall())\n",
    "orders.columns = [column[0] for column in c.description]\n",
    "orders.head()"
   ]
  },
  {
   "cell_type": "code",
   "execution_count": null,
   "metadata": {},
   "outputs": [],
   "source": [
    "print(df_order.info())"
   ]
  },
  {
   "cell_type": "code",
   "execution_count": null,
   "metadata": {},
   "outputs": [],
   "source": [
    "orders.ShipRegion.unique()"
   ]
  },
  {
   "cell_type": "code",
   "execution_count": null,
   "metadata": {},
   "outputs": [],
   "source": [
    "c.execute('''SELECT * FROM [OrderDetail]''')\n",
    "orderdetails = pd.DataFrame(c.fetchall())\n",
    "orderdetails.columns = [column[0] for column in c.description]\n",
    "orderdetails.head(3)"
   ]
  },
  {
   "cell_type": "code",
   "execution_count": null,
   "metadata": {},
   "outputs": [],
   "source": [
    "orderdetails.info()"
   ]
  },
  {
   "cell_type": "markdown",
   "metadata": {},
   "source": [
    "## Shipper, Supplier table"
   ]
  },
  {
   "cell_type": "code",
   "execution_count": null,
   "metadata": {},
   "outputs": [],
   "source": [
    "c.execute(\"\"\"SELECT * FROM Shipper\"\"\").fetchall()"
   ]
  },
  {
   "cell_type": "code",
   "execution_count": null,
   "metadata": {},
   "outputs": [],
   "source": [
    "c.execute(\"\"\"SELECT * FROM Supplier\"\"\").fetchall()"
   ]
  },
  {
   "cell_type": "markdown",
   "metadata": {},
   "source": [
    "## Question # 1"
   ]
  },
  {
   "cell_type": "markdown",
   "metadata": {},
   "source": [
    "##  Do discounts have a statistically significant effect on the number of products customers order? If so, at what level(s) of discount?"
   ]
  },
  {
   "cell_type": "markdown",
   "metadata": {},
   "source": [
    "This question needs to be split into two different tests.\n",
    "Usually, discounts increases order quantity, so it would be reasonable to perform one-tailed test with an alpha set at 0.025. If p < alpha, we can reject the null hypothesis."
   ]
  },
  {
   "cell_type": "markdown",
   "metadata": {},
   "source": [
    "### Part a:"
   ]
  },
  {
   "cell_type": "markdown",
   "metadata": {},
   "source": [
    "$H_0$: Discounts have no effect on the number of products customers order <br>\n",
    "$H_a$: Discounts have an effect on the number of products customers order <br>\n",
    "$alpha$ : 0.025"
   ]
  },
  {
   "cell_type": "code",
   "execution_count": null,
   "metadata": {},
   "outputs": [],
   "source": [
    "c.execute(\"\"\"SELECT ProductId, UnitPrice, Quantity, Discount FROM OrderDetail\"\"\")\n",
    "discounts = pd.DataFrame(c.fetchall())\n",
    "discounts.columns = [column[0] for column in c.description]\n",
    "discounts.head()"
   ]
  },
  {
   "cell_type": "code",
   "execution_count": null,
   "metadata": {},
   "outputs": [],
   "source": [
    "discounts.info()"
   ]
  },
  {
   "cell_type": "code",
   "execution_count": null,
   "metadata": {},
   "outputs": [],
   "source": [
    "#looking for the presence of a discount\n",
    "discounts['DiscBool'] = discounts['Discount'].apply(lambda x: 0 if x == 0 else 1)\n",
    "discounts.head()"
   ]
  },
  {
   "cell_type": "code",
   "execution_count": null,
   "metadata": {},
   "outputs": [],
   "source": [
    "discounts.Discount.value_counts()"
   ]
  },
  {
   "cell_type": "markdown",
   "metadata": {},
   "source": [
    "As we can see above, the number of orders for non-discounted items is low but the average order size is larger than the discounted items. In order to determine the size of the effect, we will test whether this difference is statistically significant."
   ]
  },
  {
   "cell_type": "code",
   "execution_count": null,
   "metadata": {},
   "outputs": [],
   "source": [
    "discounts = discounts[discounts.Discount.isin([0.00, 0.05, 0.10, 0.15, 0.20, 0.25])] \n",
    "discounts.head()"
   ]
  },
  {
   "cell_type": "code",
   "execution_count": null,
   "metadata": {},
   "outputs": [],
   "source": [
    "# Comparing the Number of Orders and Average Order Size to DisBool\n",
    "fig, axes = plt.subplots(2, 1, figsize = (12, 5))\n",
    "sns.set_style('whitegrid')\n",
    "\n",
    "#Grouping DataFrame for visualization\n",
    "discounts.groupby(['DiscBool'])['Quantity'].count().plot(kind = 'barh', ax = axes[0], color = ['#a0b0f0', '#c9f9a0'])\n",
    "discounts.groupby(['DiscBool'])['Quantity'].mean().plot(kind = 'barh', ax = axes[1], color = ['#a0b0f0', '#c9f9a0'])\n",
    "# First plot labels\n",
    "axes[0].set_title('Number of Orders', fontsize = 13)\n",
    "axes[0].set_xlabel('Orders')\n",
    "axes[0].set_ylabel('')\n",
    "axes[0].set_yticklabels(['No Discount', 'Discount'])\n",
    "#Second plot labels\n",
    "axes[1].set_title('Average Order Size', fontsize = 13)\n",
    "axes[1].set_xlabel('Order Size')\n",
    "axes[1].set_ylabel('')\n",
    "axes[1].set_yticklabels(['No Discount', 'Discount'])\n",
    "fig.subplots_adjust(hspace = .75)\n",
    "fig.savefig('orders_numandsize.png', bbox_inches = 'tight')\n",
    "plt.show()"
   ]
  },
  {
   "cell_type": "code",
   "execution_count": null,
   "metadata": {},
   "outputs": [],
   "source": [
    "print(f\"There are {discounts.groupby(['DiscBool'])['Quantity'].count()[0]-discounts.groupby(['DiscBool'])['Quantity'].count()[1]} more orders made where there is no discount.\")\n",
    "print(f\"The average order size for discounted items was {discounts.groupby(['DiscBool'])['Quantity'].mean()[1]-discounts.groupby(['DiscBool'])['Quantity'].mean()[0]} items greater than the order size when there was no discount\")"
   ]
  },
  {
   "cell_type": "markdown",
   "metadata": {},
   "source": [
    "As we can see, the discounted products have a higher number of orders while non discounted items have a larger order size. We shall investigate if these differences are statistically significant."
   ]
  },
  {
   "cell_type": "code",
   "execution_count": null,
   "metadata": {},
   "outputs": [],
   "source": [
    "# Separating dataframe between discounted and non-discounted order quantities:\n",
    "control = discounts[discounts['Discount']== 0]['Quantity']\n",
    "experimental = discounts[discounts['Discount'] != 0]['Quantity']"
   ]
  },
  {
   "cell_type": "code",
   "execution_count": null,
   "metadata": {},
   "outputs": [],
   "source": [
    "query = 'DiscBool != 0'\n",
    "discounted = discounts.query(query)\n",
    "discounted.head(3)"
   ]
  },
  {
   "cell_type": "code",
   "execution_count": null,
   "metadata": {},
   "outputs": [],
   "source": [
    "sns.set(rc={'figure.figsize':(10, 5)})\n",
    "sns.set_style('whitegrid')\n",
    "\n",
    "ax = sns.distplot(experimental, label = 'Discount')\n",
    "ax = sns.distplot(control, label = 'No Discount')\n",
    "#ax = sns.kdeplot(gen_discount, label = 'Discount KDE')\n",
    "#ax = sns.kdeplot(gen_nodiscount, label = 'No Discount KDE')\n",
    "ax.set_xlim(-15, 145)\n",
    "ax.set_title('Distribution of Order Size', fontsize = 13)\n",
    "ax.legend()"
   ]
  },
  {
   "cell_type": "markdown",
   "metadata": {},
   "source": [
    "The KDE plot shows us the while there is some postive skew present in the Order distribution size. However because of the sample size we can assume that the distribution is normal.\n",
    "Because our variables are independent, distributed normally and don't show homogeneity in variance, we will use the Welch's t-test to test test our hypothesis."
   ]
  },
  {
   "cell_type": "markdown",
   "metadata": {},
   "source": [
    "In statistics, the Welch's test is a two sample location test that is used to test the hypothesis that the two populations have equal means. \n",
    "At first, I created 2 distributions: a control distribution and an experimental distribution. The control distribution includes order quantities without any discounts and the experimental distribution includes order quantities with discounts at any level."
   ]
  },
  {
   "cell_type": "code",
   "execution_count": null,
   "metadata": {},
   "outputs": [],
   "source": [
    "a = experimental.mean()\n",
    "b = control.mean()\n",
    "print_results(a,b)"
   ]
  },
  {
   "cell_type": "code",
   "execution_count": null,
   "metadata": {},
   "outputs": [],
   "source": [
    "#Welch's t-test and cohen's d\n",
    "print(stats.ttest_ind(experimental, control))\n",
    "d = cohen_d(experimental, control)\n",
    "print(d)"
   ]
  },
  {
   "cell_type": "markdown",
   "metadata": {},
   "source": [
    "As we can see above, we have a p-value < 0.05 which means there is a statistical significance between number of orders between discounted and non discounted items. Therefore we can reject the null hypothesis. The cohen's d value is around 0.3, which is a medium effect.\n",
    "Because there is a significance between discounted and non discounted items, we can investigate which discount level has the highest significance."
   ]
  },
  {
   "cell_type": "markdown",
   "metadata": {},
   "source": [
    "### Part b:"
   ]
  },
  {
   "cell_type": "markdown",
   "metadata": {},
   "source": [
    "$H_0$ : The average number of orders is the same regardless of discount level <br>\n",
    "$H_a$ : The average number of orders is not the same the level of discount changes <br>\n",
    "$alpha$ : 0.05"
   ]
  },
  {
   "cell_type": "code",
   "execution_count": null,
   "metadata": {},
   "outputs": [],
   "source": [
    "#Viewing difference between discount levels against number of orders and average order size visually\n",
    "#fig, axes = plt.subplot(1, 2, figsize = (12,5))\n",
    "fig, axes = plt.subplots(2, 1, figsize=(12,5))\n",
    "sns.set_style('whitegrid')\n",
    "#Grouping dataframe\n",
    "discounts.groupby(['Discount'])['Quantity'].count().plot(kind = 'barh', ax = axes[0], color=['#E78AC3', '#A6D854', '#FFD92F', '#E5C494', '#B3B3B3', '#66C2A5'])\n",
    "discounts.groupby(['Discount'])['Quantity'].mean().plot(kind = 'barh', ax = axes[1], color=['#E78AC3', '#A6D854', '#FFD92F', '#E5C494', '#B3B3B3', '#66C2A5'])\n",
    "#Plot 1 labels\n",
    "axes[0].set_title('Number of Orders per Discount Level', fontweight = 'bold', fontsize = 13)\n",
    "axes[0].set_xlabel('Order Size', fontweight = 'semibold')\n",
    "axes[0].set_ylabel('')\n",
    "axes[0].set_yticklabels(['No Discount', '0.05', '0.10', '0.15', '0.20', '0.25'])\n",
    "\n",
    "#Plot 2 labels\n",
    "axes[1].set_title('Average Order Size by Discount Level', fontweight = 'bold', fontsize = 13)\n",
    "axes[1].set_xlabel('Average Order Size', fontweight = 'semibold')\n",
    "axes[1].set_ylabel('')\n",
    "axes[1].set_yticklabels(['No Discount', '0.05', '0.10', '0.15', '0.20', '0.25'])\n",
    "fig.subplots_adjust(hspace = .75);\n",
    "fig.savefig('discountlevels.png', bbox_inches = 'tight')"
   ]
  },
  {
   "cell_type": "markdown",
   "metadata": {},
   "source": [
    "In contrast to the first part, we observe a smaller difference in average order size between all the discount levels and a larger difference in the number of order sizes."
   ]
  },
  {
   "cell_type": "code",
   "execution_count": null,
   "metadata": {},
   "outputs": [],
   "source": [
    "#fitting using statsmodels ols\n",
    "lm = ols('Quantity ~ C(Discount)', discounted).fit()\n",
    "lm.summary()"
   ]
  },
  {
   "cell_type": "code",
   "execution_count": null,
   "metadata": {},
   "outputs": [],
   "source": [
    "#ANOVA analysis to test multiple comparisons test\n",
    "sm.stats.anova_lm(lm, typ = 2)"
   ]
  },
  {
   "cell_type": "markdown",
   "metadata": {},
   "source": [
    "We fail to reject the null hypothesis as the p-value is greater than 0.05. Turning each discount level into a dataframe for the Tukey test."
   ]
  },
  {
   "cell_type": "code",
   "execution_count": null,
   "metadata": {},
   "outputs": [],
   "source": [
    "disc_bool_05 = discounted[discounted.Discount.isin([0.05])]\n",
    "disc_bool_10 = discounted[discounted.Discount.isin([0.10])]\n",
    "disc_bool_15 = discounted[discounted.Discount.isin([0.15])]\n",
    "disc_bool_20 = discounted[discounted.Discount.isin([0.20])]\n",
    "disc_bool_25 = discounted[discounted.Discount.isin([0.25])]\n",
    "disc_bool_05.head() #sanity check"
   ]
  },
  {
   "cell_type": "code",
   "execution_count": null,
   "metadata": {},
   "outputs": [],
   "source": [
    "#Prepping for tukey test:\n",
    "values = [0.00, 0.05, 0.10, 0.15, 0.20, 0.25]\n",
    "discount_tukey = discounts[discounts.Discount.isin(values)]\n",
    "discount_tukey.head()"
   ]
  },
  {
   "cell_type": "code",
   "execution_count": null,
   "metadata": {},
   "outputs": [],
   "source": [
    "#Tukey test\n",
    "tk = pairwise_tukeyhsd(discount_tukey.Quantity, discount_tukey.Discount, .05)\n",
    "print(tk)"
   ]
  },
  {
   "cell_type": "markdown",
   "metadata": {},
   "source": [
    "Reviewing the Tukey test, we fail to reject the null hypothesis for the non-discounted items (control) and 0.10 discounted items (experimental) items. However, we reject the null hypothesis for non-discounted items and discounted items at 0.05, 0.15, 0.20 and 0.25. \n",
    "There is no statistically significant difference between the number of products ordered between the non-zero discounted level.\n",
    "\n",
    "So, in summary there is a statistically significant difference in order quantity based on the presence of a discount at any level, but there is no statistically significant difference between order quantity and at discount level 0.10. We can advise Northwind that customers will order more products when there is a discount, this is not a complete picture. We need to know whether discounts will have a positive effect on revenues. \n",
    "Essentially, we need to know whether customers spend more on products that are discounted and this level of spending will offset potential revenue losses from applying discounts. "
   ]
  },
  {
   "cell_type": "markdown",
   "metadata": {},
   "source": [
    "# Question # 2"
   ]
  },
  {
   "cell_type": "markdown",
   "metadata": {},
   "source": [
    "## Do discounts have a statistically significant effect on revenue? Is so, at what discount level(s) increase revenue?"
   ]
  },
  {
   "cell_type": "markdown",
   "metadata": {},
   "source": [
    "- $H_0$: The average revenue is the same for orders with or without discounts <br>\n",
    "- $H_a$: The average revenue is greater for orders with discounts <br>\n",
    "- $alpha$ = 0.05 <br>"
   ]
  },
  {
   "cell_type": "code",
   "execution_count": 52,
   "metadata": {},
   "outputs": [
    {
     "name": "stdout",
     "output_type": "stream",
     "text": [
      "830\n"
     ]
    },
    {
     "data": {
      "text/html": [
       "<div>\n",
       "<style scoped>\n",
       "    .dataframe tbody tr th:only-of-type {\n",
       "        vertical-align: middle;\n",
       "    }\n",
       "\n",
       "    .dataframe tbody tr th {\n",
       "        vertical-align: top;\n",
       "    }\n",
       "\n",
       "    .dataframe thead th {\n",
       "        text-align: right;\n",
       "    }\n",
       "</style>\n",
       "<table border=\"1\" class=\"dataframe\">\n",
       "  <thead>\n",
       "    <tr style=\"text-align: right;\">\n",
       "      <th></th>\n",
       "      <th>OrderId</th>\n",
       "      <th>UnitPrice</th>\n",
       "      <th>Discount</th>\n",
       "      <th>Quantity</th>\n",
       "      <th>OrderPrice</th>\n",
       "    </tr>\n",
       "  </thead>\n",
       "  <tbody>\n",
       "    <tr>\n",
       "      <th>0</th>\n",
       "      <td>10248</td>\n",
       "      <td>14.0</td>\n",
       "      <td>0.00</td>\n",
       "      <td>12</td>\n",
       "      <td>440.00</td>\n",
       "    </tr>\n",
       "    <tr>\n",
       "      <th>1</th>\n",
       "      <td>10249</td>\n",
       "      <td>18.6</td>\n",
       "      <td>0.00</td>\n",
       "      <td>9</td>\n",
       "      <td>1863.40</td>\n",
       "    </tr>\n",
       "    <tr>\n",
       "      <th>2</th>\n",
       "      <td>10250</td>\n",
       "      <td>7.7</td>\n",
       "      <td>0.00</td>\n",
       "      <td>10</td>\n",
       "      <td>1552.60</td>\n",
       "    </tr>\n",
       "    <tr>\n",
       "      <th>3</th>\n",
       "      <td>10251</td>\n",
       "      <td>16.8</td>\n",
       "      <td>0.05</td>\n",
       "      <td>6</td>\n",
       "      <td>654.06</td>\n",
       "    </tr>\n",
       "    <tr>\n",
       "      <th>4</th>\n",
       "      <td>10252</td>\n",
       "      <td>64.8</td>\n",
       "      <td>0.05</td>\n",
       "      <td>40</td>\n",
       "      <td>3597.90</td>\n",
       "    </tr>\n",
       "  </tbody>\n",
       "</table>\n",
       "</div>"
      ],
      "text/plain": [
       "   OrderId  UnitPrice  Discount  Quantity  OrderPrice\n",
       "0    10248       14.0      0.00        12      440.00\n",
       "1    10249       18.6      0.00         9     1863.40\n",
       "2    10250        7.7      0.00        10     1552.60\n",
       "3    10251       16.8      0.05         6      654.06\n",
       "4    10252       64.8      0.05        40     3597.90"
      ]
     },
     "execution_count": 52,
     "metadata": {},
     "output_type": "execute_result"
    }
   ],
   "source": [
    "c.execute(\"\"\"SELECT od.OrderId, od.UnitPrice, od.Discount, od.Quantity,\n",
    "                    SUM(od.Quantity * od.UnitPrice * (1-od.Discount)) OrderPrice\n",
    "                    FROM OrderDetail od\n",
    "                    INNER JOIN Product p on od.ProductId = p.Id\n",
    "                    GROUP BY od.OrderId\"\"\")\n",
    "disc_spend = pd.DataFrame(c.fetchall())\n",
    "disc_spend.columns  =[column[0] for column in c.description]\n",
    "print(len(disc_spend))\n",
    "disc_spend.head()"
   ]
  },
  {
   "cell_type": "code",
   "execution_count": 53,
   "metadata": {},
   "outputs": [
    {
     "name": "stdout",
     "output_type": "stream",
     "text": [
      "<class 'pandas.core.frame.DataFrame'>\n",
      "RangeIndex: 830 entries, 0 to 829\n",
      "Data columns (total 5 columns):\n",
      "OrderId       830 non-null int64\n",
      "UnitPrice     830 non-null float64\n",
      "Discount      830 non-null float64\n",
      "Quantity      830 non-null int64\n",
      "OrderPrice    830 non-null float64\n",
      "dtypes: float64(3), int64(2)\n",
      "memory usage: 32.5 KB\n"
     ]
    }
   ],
   "source": [
    "disc_spend.info()"
   ]
  },
  {
   "cell_type": "code",
   "execution_count": 54,
   "metadata": {},
   "outputs": [
    {
     "data": {
      "text/html": [
       "<div>\n",
       "<style scoped>\n",
       "    .dataframe tbody tr th:only-of-type {\n",
       "        vertical-align: middle;\n",
       "    }\n",
       "\n",
       "    .dataframe tbody tr th {\n",
       "        vertical-align: top;\n",
       "    }\n",
       "\n",
       "    .dataframe thead th {\n",
       "        text-align: right;\n",
       "    }\n",
       "</style>\n",
       "<table border=\"1\" class=\"dataframe\">\n",
       "  <thead>\n",
       "    <tr style=\"text-align: right;\">\n",
       "      <th></th>\n",
       "      <th>OrderId</th>\n",
       "      <th>UnitPrice</th>\n",
       "      <th>Discount</th>\n",
       "      <th>Quantity</th>\n",
       "      <th>OrderPrice</th>\n",
       "      <th>DiscBool</th>\n",
       "    </tr>\n",
       "  </thead>\n",
       "  <tbody>\n",
       "    <tr>\n",
       "      <th>0</th>\n",
       "      <td>10248</td>\n",
       "      <td>14.0</td>\n",
       "      <td>0.00</td>\n",
       "      <td>12</td>\n",
       "      <td>440.00</td>\n",
       "      <td>0</td>\n",
       "    </tr>\n",
       "    <tr>\n",
       "      <th>1</th>\n",
       "      <td>10249</td>\n",
       "      <td>18.6</td>\n",
       "      <td>0.00</td>\n",
       "      <td>9</td>\n",
       "      <td>1863.40</td>\n",
       "      <td>0</td>\n",
       "    </tr>\n",
       "    <tr>\n",
       "      <th>2</th>\n",
       "      <td>10250</td>\n",
       "      <td>7.7</td>\n",
       "      <td>0.00</td>\n",
       "      <td>10</td>\n",
       "      <td>1552.60</td>\n",
       "      <td>0</td>\n",
       "    </tr>\n",
       "    <tr>\n",
       "      <th>3</th>\n",
       "      <td>10251</td>\n",
       "      <td>16.8</td>\n",
       "      <td>0.05</td>\n",
       "      <td>6</td>\n",
       "      <td>654.06</td>\n",
       "      <td>1</td>\n",
       "    </tr>\n",
       "    <tr>\n",
       "      <th>4</th>\n",
       "      <td>10252</td>\n",
       "      <td>64.8</td>\n",
       "      <td>0.05</td>\n",
       "      <td>40</td>\n",
       "      <td>3597.90</td>\n",
       "      <td>1</td>\n",
       "    </tr>\n",
       "  </tbody>\n",
       "</table>\n",
       "</div>"
      ],
      "text/plain": [
       "   OrderId  UnitPrice  Discount  Quantity  OrderPrice  DiscBool\n",
       "0    10248       14.0      0.00        12      440.00         0\n",
       "1    10249       18.6      0.00         9     1863.40         0\n",
       "2    10250        7.7      0.00        10     1552.60         0\n",
       "3    10251       16.8      0.05         6      654.06         1\n",
       "4    10252       64.8      0.05        40     3597.90         1"
      ]
     },
     "execution_count": 54,
     "metadata": {},
     "output_type": "execute_result"
    }
   ],
   "source": [
    "#identifying presence of discounts\n",
    "disc_spend['DiscBool'] = disc_spend.Discount.apply(lambda x:0 if x == 0 else 1 )\n",
    "disc_spend.head()"
   ]
  },
  {
   "cell_type": "code",
   "execution_count": 55,
   "metadata": {},
   "outputs": [
    {
     "data": {
      "image/png": "[encoded data removed]",
      "text/plain": [
       "<Figure size 864x504 with 2 Axes>"
      ]
     },
     "metadata": {},
     "output_type": "display_data"
    }
   ],
   "source": [
    "sns.set_style('whitegrid')\n",
    "fig,axes = plt.subplots(2, 1, figsize=(12,7))\n",
    "disc_spend.groupby(['DiscBool'])['Quantity'].sum().plot(kind = 'barh', ax = axes[0])\n",
    "disc_spend.groupby(['DiscBool'])['Quantity'].mean().plot(kind = 'barh', ax = axes[1])\n",
    "#plot 1:\n",
    "# Subplot 1 Labels:\n",
    "axes[0].set_title('Total Order Revenue', fontweight='bold', fontsize=13)\n",
    "axes[0].set_xlabel('Revenue ($)', fontweight='semibold')\n",
    "axes[0].set_ylabel('')\n",
    "axes[0].set_yticklabels(['No Discount', 'Discount'])\n",
    "\n",
    "#Subplot 2 Labels:\n",
    "axes[1].set_title('Average Order Cost', fontweight='bold', fontsize=13)\n",
    "axes[1].set_xlabel('Revenue ($)', fontweight='semibold')\n",
    "axes[1].set_ylabel('')\n",
    "axes[1].set_yticklabels(['No Discount', 'Discount'])\n",
    "fig.subplots_adjust(hspace=.75)\n"
   ]
  },
  {
   "cell_type": "markdown",
   "metadata": {},
   "source": [
    "Based on the visualization above, we can see that Northwind earns more total revenue on non-discounted items but the average order cost is higher for discounted items. We will investigate further if these differences are statistically significant."
   ]
  },
  {
   "cell_type": "code",
   "execution_count": 56,
   "metadata": {},
   "outputs": [
    {
     "data": {
      "text/html": [
       "<div>\n",
       "<style scoped>\n",
       "    .dataframe tbody tr th:only-of-type {\n",
       "        vertical-align: middle;\n",
       "    }\n",
       "\n",
       "    .dataframe tbody tr th {\n",
       "        vertical-align: top;\n",
       "    }\n",
       "\n",
       "    .dataframe thead th {\n",
       "        text-align: right;\n",
       "    }\n",
       "</style>\n",
       "<table border=\"1\" class=\"dataframe\">\n",
       "  <thead>\n",
       "    <tr style=\"text-align: right;\">\n",
       "      <th></th>\n",
       "      <th>OrderId</th>\n",
       "      <th>UnitPrice</th>\n",
       "      <th>Discount</th>\n",
       "      <th>Quantity</th>\n",
       "      <th>OrderPrice</th>\n",
       "      <th>DiscBool</th>\n",
       "    </tr>\n",
       "  </thead>\n",
       "  <tbody>\n",
       "    <tr>\n",
       "      <th>0</th>\n",
       "      <td>10248</td>\n",
       "      <td>14.0</td>\n",
       "      <td>0.0</td>\n",
       "      <td>12</td>\n",
       "      <td>440.0</td>\n",
       "      <td>0</td>\n",
       "    </tr>\n",
       "    <tr>\n",
       "      <th>1</th>\n",
       "      <td>10249</td>\n",
       "      <td>18.6</td>\n",
       "      <td>0.0</td>\n",
       "      <td>9</td>\n",
       "      <td>1863.4</td>\n",
       "      <td>0</td>\n",
       "    </tr>\n",
       "    <tr>\n",
       "      <th>2</th>\n",
       "      <td>10250</td>\n",
       "      <td>7.7</td>\n",
       "      <td>0.0</td>\n",
       "      <td>10</td>\n",
       "      <td>1552.6</td>\n",
       "      <td>0</td>\n",
       "    </tr>\n",
       "    <tr>\n",
       "      <th>5</th>\n",
       "      <td>10253</td>\n",
       "      <td>10.0</td>\n",
       "      <td>0.0</td>\n",
       "      <td>20</td>\n",
       "      <td>1444.8</td>\n",
       "      <td>0</td>\n",
       "    </tr>\n",
       "    <tr>\n",
       "      <th>7</th>\n",
       "      <td>10255</td>\n",
       "      <td>15.2</td>\n",
       "      <td>0.0</td>\n",
       "      <td>20</td>\n",
       "      <td>2490.5</td>\n",
       "      <td>0</td>\n",
       "    </tr>\n",
       "  </tbody>\n",
       "</table>\n",
       "</div>"
      ],
      "text/plain": [
       "   OrderId  UnitPrice  Discount  Quantity  OrderPrice  DiscBool\n",
       "0    10248       14.0       0.0        12       440.0         0\n",
       "1    10249       18.6       0.0         9      1863.4         0\n",
       "2    10250        7.7       0.0        10      1552.6         0\n",
       "5    10253       10.0       0.0        20      1444.8         0\n",
       "7    10255       15.2       0.0        20      2490.5         0"
      ]
     },
     "execution_count": 56,
     "metadata": {},
     "output_type": "execute_result"
    }
   ],
   "source": [
    "#separating the dataframe between discounted and non-discounted items:\n",
    "discounted = disc_spend[disc_spend['Discount']!= 0]\n",
    "not_discounted = disc_spend[disc_spend['Discount']== 0]\n",
    "#sanity check\n",
    "not_discounted.head()"
   ]
  },
  {
   "cell_type": "code",
   "execution_count": 57,
   "metadata": {},
   "outputs": [
    {
     "data": {
      "image/png": "[encoded data removed]",
      "text/plain": [
       "<Figure size 720x432 with 1 Axes>"
      ]
     },
     "metadata": {},
     "output_type": "display_data"
    }
   ],
   "source": [
    "plt.figure(figsize=(10,6))\n",
    "sns.distplot(discounted.OrderPrice, bins = 50, label = 'Discounted')\n",
    "sns.distplot(not_discounted.OrderPrice, bins = 50, label = 'Not Discounted')\n",
    "\n",
    "plt.axvline(discounted.OrderPrice.mean(), color = 'k', linestyle = '--')\n",
    "plt.axvline(not_discounted.OrderPrice.mean(), color = 'k', linestyle = '--')\n",
    "\n",
    "plt.title('Non discounted vs discounted Revenue')\n",
    "plt.xlabel('Distribution')\n",
    "plt.ylabel('Frequency')\n",
    "plt.legend()\n",
    "plt.show()"
   ]
  },
  {
   "cell_type": "code",
   "execution_count": null,
   "metadata": {},
   "outputs": [],
   "source": [
    "#log transform?\n",
    "log_disc_spend = disc_spend.copy()\n",
    "log_order_price = np.log(log_disc_spend.OrderPrice)\n",
    "log_disc_spend['LogOrderPrice'] = log_order_price\n",
    "log_disc_spend.head(3)"
   ]
  },
  {
   "cell_type": "code",
   "execution_count": null,
   "metadata": {},
   "outputs": [],
   "source": [
    "log_discounted= log_disc_spend[log_disc_spend['Discount'] != 0]\n",
    "log_nodiscounted = log_disc_spend[log_disc_spend['Discount']== 0]"
   ]
  },
  {
   "cell_type": "code",
   "execution_count": null,
   "metadata": {},
   "outputs": [],
   "source": [
    "#two tailed t-test:\n",
    "stats.ttest_ind(log_discounted.LogOrderPrice, log_nodiscounted.LogOrderPrice)"
   ]
  },
  {
   "cell_type": "markdown",
   "metadata": {},
   "source": [
    "As we can see, the p-value is smaller than 0.05 so we  reject the null hypothesis that there is a difference in revenue between discounted and non-discounted items.\n",
    "No, we can check if there is a statistical difference between the amount of revenue brought in between the different discount levels."
   ]
  },
  {
   "cell_type": "code",
   "execution_count": null,
   "metadata": {},
   "outputs": [],
   "source": [
    "#visualize prices between different discount amounts:\n",
    "sns.set_style('whitegrid')\n",
    "fig, ax = plt.subplots(figsize=(10, 6))\n",
    "ax = sns.boxenplot(data = log_disc_spend, x = discounted.Discount, y = discounted.OrderPrice, palette = 'Set2')\n",
    "ax = sns.swarmplot(data = log_disc_spend, x = discounted.Discount, y = discounted.OrderPrice, hue = discounted.Discount,\n",
    "                  palette = 'Set2', alpha = .75)\n",
    "\n",
    "ax.set_title(\"Discount vs. Order Revenue\", fontweight = 'bold')\n",
    "ax.set_ylabel('Order Price')\n",
    "ax.set_ylim(0, 6250)\n",
    "ax.set_xlabel('Discount Level')\n",
    "ax.set_xticklabels(['No Discount', '0.05', '0.10', '0.15', '0.20', '0.25'])\n",
    "ax.legend()"
   ]
  },
  {
   "cell_type": "code",
   "execution_count": null,
   "metadata": {},
   "outputs": [],
   "source": [
    "#new dataframes for the varying discounts\n",
    "no_discount = log_disc_spend[log_disc_spend.Discount.isin([0])]\n",
    "disc_5p = log_disc_spend[log_disc_spend.Discount.isin([0.05])]\n",
    "disc_10p = log_disc_spend[log_disc_spend.Discount.isin([0.10])]\n",
    "disc_15p = log_disc_spend[log_disc_spend.Discount.isin([0.15])]\n",
    "disc_20p = log_disc_spend[log_disc_spend.Discount.isin([0.20])]\n",
    "disc_25p = log_disc_spend[log_disc_spend.Discount.isin([0.25])]"
   ]
  },
  {
   "cell_type": "code",
   "execution_count": null,
   "metadata": {},
   "outputs": [],
   "source": [
    "#viewing the sample sizes:\n",
    "print(f\"Num of order with no discount: {len(no_discount)}\")\n",
    "print(f\"Num of orders with 5% discount: {len(disc_5p)}\")\n",
    "print(f\"Num of orders with 10% discount: {len(disc_10p)}\")\n",
    "print(f\"Num of orders with 15% discount: {len(disc_15p)}\")\n",
    "print(f\"Num of orders with 20% discount: {len(disc_20p)}\")\n",
    "print(f\"Num of orders with 25% discount: {len(disc_25p)}\")"
   ]
  },
  {
   "cell_type": "markdown",
   "metadata": {},
   "source": [
    "Because the sample sizes are not equal, we can continue with ANOVA/Tukey tests"
   ]
  },
  {
   "cell_type": "code",
   "execution_count": null,
   "metadata": {},
   "outputs": [],
   "source": [
    "#ANOVA:\n",
    "lm = ols('LogOrderPrice ~ C(Discount)', log_disc_spend).fit()\n",
    "lm.summary()"
   ]
  },
  {
   "cell_type": "code",
   "execution_count": null,
   "metadata": {},
   "outputs": [],
   "source": [
    "sm.stats.anova_lm(lm, typ = 2)"
   ]
  },
  {
   "cell_type": "code",
   "execution_count": null,
   "metadata": {},
   "outputs": [],
   "source": [
    "tk2 = pairwise_tukeyhsd(log_disc_spend.LogOrderPrice, log_disc_spend.Discount, .05)\n",
    "print(tk2)"
   ]
  },
  {
   "cell_type": "code",
   "execution_count": null,
   "metadata": {},
   "outputs": [],
   "source": [
    "#effect size:\n",
    "d = cohen_d(no_discount.LogOrderPrice, disc_5p.LogOrderPrice)\n",
    "print(d)"
   ]
  },
  {
   "cell_type": "markdown",
   "metadata": {},
   "source": [
    "The results above show us that there is a statistically significance in order revenue between the following discount levels:\n",
    "    - 0 and 5%\n",
    " Between the discount levels, we can see that there is no statistically significance and we fail to reject the null hypothesis, which lends credence to the fact that discounts are lowering profits."
   ]
  },
  {
   "cell_type": "markdown",
   "metadata": {},
   "source": [
    "## Question 3"
   ]
  },
  {
   "cell_type": "markdown",
   "metadata": {},
   "source": [
    "##  Do discounts affect the quantity sold for certain products?"
   ]
  },
  {
   "cell_type": "markdown",
   "metadata": {},
   "source": [
    "- $H_0$: The average quantity ordered is the same for all discount levels <br>\n",
    "- $H_a$: The average quantity ordered is different for different discount levels <br>\n",
    "- $alpha$ = 0.05"
   ]
  },
  {
   "cell_type": "code",
   "execution_count": 9,
   "metadata": {},
   "outputs": [
    {
     "data": {
      "text/html": [
       "<div>\n",
       "<style scoped>\n",
       "    .dataframe tbody tr th:only-of-type {\n",
       "        vertical-align: middle;\n",
       "    }\n",
       "\n",
       "    .dataframe tbody tr th {\n",
       "        vertical-align: top;\n",
       "    }\n",
       "\n",
       "    .dataframe thead th {\n",
       "        text-align: right;\n",
       "    }\n",
       "</style>\n",
       "<table border=\"1\" class=\"dataframe\">\n",
       "  <thead>\n",
       "    <tr style=\"text-align: right;\">\n",
       "      <th></th>\n",
       "      <th>Id</th>\n",
       "      <th>CategoryName</th>\n",
       "      <th>ProductName</th>\n",
       "      <th>Discount</th>\n",
       "      <th>Quantity</th>\n",
       "    </tr>\n",
       "  </thead>\n",
       "  <tbody>\n",
       "    <tr>\n",
       "      <th>0</th>\n",
       "      <td>4</td>\n",
       "      <td>Dairy Products</td>\n",
       "      <td>Queso Cabrales</td>\n",
       "      <td>0.0</td>\n",
       "      <td>12</td>\n",
       "    </tr>\n",
       "    <tr>\n",
       "      <th>1</th>\n",
       "      <td>5</td>\n",
       "      <td>Grains/Cereals</td>\n",
       "      <td>Singaporean Hokkien Fried Mee</td>\n",
       "      <td>0.0</td>\n",
       "      <td>10</td>\n",
       "    </tr>\n",
       "    <tr>\n",
       "      <th>2</th>\n",
       "      <td>4</td>\n",
       "      <td>Dairy Products</td>\n",
       "      <td>Mozzarella di Giovanni</td>\n",
       "      <td>0.0</td>\n",
       "      <td>5</td>\n",
       "    </tr>\n",
       "    <tr>\n",
       "      <th>3</th>\n",
       "      <td>7</td>\n",
       "      <td>Produce</td>\n",
       "      <td>Tofu</td>\n",
       "      <td>0.0</td>\n",
       "      <td>9</td>\n",
       "    </tr>\n",
       "    <tr>\n",
       "      <th>4</th>\n",
       "      <td>7</td>\n",
       "      <td>Produce</td>\n",
       "      <td>Manjimup Dried Apples</td>\n",
       "      <td>0.0</td>\n",
       "      <td>40</td>\n",
       "    </tr>\n",
       "  </tbody>\n",
       "</table>\n",
       "</div>"
      ],
      "text/plain": [
       "   Id    CategoryName                    ProductName  Discount  Quantity\n",
       "0   4  Dairy Products                 Queso Cabrales       0.0        12\n",
       "1   5  Grains/Cereals  Singaporean Hokkien Fried Mee       0.0        10\n",
       "2   4  Dairy Products         Mozzarella di Giovanni       0.0         5\n",
       "3   7         Produce                           Tofu       0.0         9\n",
       "4   7         Produce          Manjimup Dried Apples       0.0        40"
      ]
     },
     "execution_count": 9,
     "metadata": {},
     "output_type": "execute_result"
    }
   ],
   "source": [
    "c.execute('''SELECT c.Id, c.CategoryName, p.ProductName, od.Discount, od.Quantity FROM Product p\n",
    "            INNER JOIN OrderDetail od on od.ProductId = p.Id\n",
    "            INNER JOIN Category c on p.CategoryId = c.Id''')\n",
    "category_spend = pd.DataFrame(c.fetchall())\n",
    "category_spend.columns = [column[0] for column in c.description]\n",
    "category_spend.head()"
   ]
  },
  {
   "cell_type": "code",
   "execution_count": 10,
   "metadata": {},
   "outputs": [
    {
     "name": "stdout",
     "output_type": "stream",
     "text": [
      "<class 'pandas.core.frame.DataFrame'>\n",
      "RangeIndex: 2155 entries, 0 to 2154\n",
      "Data columns (total 5 columns):\n",
      "Id              2155 non-null int64\n",
      "CategoryName    2155 non-null object\n",
      "ProductName     2155 non-null object\n",
      "Discount        2155 non-null float64\n",
      "Quantity        2155 non-null int64\n",
      "dtypes: float64(1), int64(2), object(2)\n",
      "memory usage: 84.3+ KB\n"
     ]
    }
   ],
   "source": [
    "category_spend.info()"
   ]
  },
  {
   "cell_type": "code",
   "execution_count": 11,
   "metadata": {},
   "outputs": [
    {
     "name": "stdout",
     "output_type": "stream",
     "text": [
      "8\n",
      "Beverages         404\n",
      "Dairy Products    366\n",
      "Confections       334\n",
      "Seafood           330\n",
      "Condiments        216\n",
      "Grains/Cereals    196\n",
      "Meat/Poultry      173\n",
      "Produce           136\n",
      "Name: CategoryName, dtype: int64\n"
     ]
    }
   ],
   "source": [
    "#how many categories of each\n",
    "print(len(category_spend.Id.unique()))\n",
    "print(category_spend.CategoryName.value_counts())"
   ]
  },
  {
   "cell_type": "code",
   "execution_count": 12,
   "metadata": {},
   "outputs": [],
   "source": [
    "values = [0.00, 0.05, 0.10, 0.15, 0.20, 0.25]\n",
    "category_spend = category_spend[category_spend.Discount.isin(values)]"
   ]
  },
  {
   "cell_type": "code",
   "execution_count": 13,
   "metadata": {},
   "outputs": [
    {
     "data": {
      "text/html": [
       "<div>\n",
       "<style scoped>\n",
       "    .dataframe tbody tr th:only-of-type {\n",
       "        vertical-align: middle;\n",
       "    }\n",
       "\n",
       "    .dataframe tbody tr th {\n",
       "        vertical-align: top;\n",
       "    }\n",
       "\n",
       "    .dataframe thead th {\n",
       "        text-align: right;\n",
       "    }\n",
       "</style>\n",
       "<table border=\"1\" class=\"dataframe\">\n",
       "  <thead>\n",
       "    <tr style=\"text-align: right;\">\n",
       "      <th></th>\n",
       "      <th>Category</th>\n",
       "      <th>Stat</th>\n",
       "      <th>P-value</th>\n",
       "    </tr>\n",
       "  </thead>\n",
       "  <tbody>\n",
       "    <tr>\n",
       "      <th>0</th>\n",
       "      <td>Grains/Cereals</td>\n",
       "      <td>3.484</td>\n",
       "      <td>0.001</td>\n",
       "    </tr>\n",
       "    <tr>\n",
       "      <th>0</th>\n",
       "      <td>Dairy Products</td>\n",
       "      <td>2.851</td>\n",
       "      <td>0.005</td>\n",
       "    </tr>\n",
       "    <tr>\n",
       "      <th>0</th>\n",
       "      <td>Produce</td>\n",
       "      <td>0.947</td>\n",
       "      <td>0.344</td>\n",
       "    </tr>\n",
       "    <tr>\n",
       "      <th>0</th>\n",
       "      <td>Produce</td>\n",
       "      <td>3.638</td>\n",
       "      <td>0.000</td>\n",
       "    </tr>\n",
       "    <tr>\n",
       "      <th>0</th>\n",
       "      <td>Seafood</td>\n",
       "      <td>0.726</td>\n",
       "      <td>0.469</td>\n",
       "    </tr>\n",
       "    <tr>\n",
       "      <th>0</th>\n",
       "      <td>Produce</td>\n",
       "      <td>2.343</td>\n",
       "      <td>0.021</td>\n",
       "    </tr>\n",
       "    <tr>\n",
       "      <th>0</th>\n",
       "      <td>Condiments</td>\n",
       "      <td>0.972</td>\n",
       "      <td>0.335</td>\n",
       "    </tr>\n",
       "    <tr>\n",
       "      <th>0</th>\n",
       "      <td>Grains/Cereals</td>\n",
       "      <td>2.349</td>\n",
       "      <td>0.020</td>\n",
       "    </tr>\n",
       "  </tbody>\n",
       "</table>\n",
       "</div>"
      ],
      "text/plain": [
       "         Category   Stat  P-value\n",
       "0  Grains/Cereals  3.484    0.001\n",
       "0  Dairy Products  2.851    0.005\n",
       "0         Produce  0.947    0.344\n",
       "0         Produce  3.638    0.000\n",
       "0         Seafood  0.726    0.469\n",
       "0         Produce  2.343    0.021\n",
       "0      Condiments  0.972    0.335\n",
       "0  Grains/Cereals  2.349    0.020"
      ]
     },
     "execution_count": 13,
     "metadata": {},
     "output_type": "execute_result"
    }
   ],
   "source": [
    "cats = [1, 2, 3, 4, 5, 6, 7, 8]\n",
    "cat_quantity = pd.DataFrame([])\n",
    "for i in cats:\n",
    "    c = category_spend[category_spend.Id == i]\n",
    "    disc = c[c['Discount']!= 0]\n",
    "    nodisc = c[c['Discount'] == 0]\n",
    "    results = stats.ttest_ind(disc.Quantity, nodisc.Quantity, equal_var = False)\n",
    "    cat_quantity = cat_quantity.append(pd.DataFrame({'Category': category_spend.CategoryName[i],\n",
    "                                                    'Stat': round(results[0], 3),\n",
    "                                                    'P-value': round(results[1], 3)},\n",
    "                                                    index = [0]), ignore_index = None)\n",
    "cat_quantity"
   ]
  },
  {
   "cell_type": "code",
   "execution_count": 14,
   "metadata": {},
   "outputs": [
    {
     "data": {
      "image/png": "[encoded data removed]",
      "text/plain": [
       "<Figure size 432x288 with 1 Axes>"
      ]
     },
     "metadata": {
      "needs_background": "light"
     },
     "output_type": "display_data"
    }
   ],
   "source": [
    "sns.set_color_codes = 'Set2'\n",
    "fig,ax = plt.subplots()\n",
    "sns.barplot(x = category_spend.CategoryName, y = category_spend.Quantity)\n",
    "ax.set_title('Order Quantity for each Category', fontweight = 'bold', fontsize = 13)\n",
    "ax.set_xlabel('')\n",
    "ax.set_ylabel('Order Quantity')\n",
    "plt.xticks(rotation = 45, ha = 'right', fontweight = 'semibold')\n",
    "plt.show()\n",
    "fig.savefig('categories_quantity', bbox_inches = 'tight')"
   ]
  },
  {
   "cell_type": "markdown",
   "metadata": {},
   "source": [
    "From above, we can see that grains/cereals, dairy products and produce have p-values < 0.05, so can reject the null hypothesis for those categories. In those cases, that the discounts increase average order quantity by 3.5, 2.7, 2.3 respectively."
   ]
  },
  {
   "cell_type": "code",
   "execution_count": 51,
   "metadata": {},
   "outputs": [
    {
     "data": {
      "text/html": [
       "<div>\n",
       "<style scoped>\n",
       "    .dataframe tbody tr th:only-of-type {\n",
       "        vertical-align: middle;\n",
       "    }\n",
       "\n",
       "    .dataframe tbody tr th {\n",
       "        vertical-align: top;\n",
       "    }\n",
       "\n",
       "    .dataframe thead th {\n",
       "        text-align: right;\n",
       "    }\n",
       "</style>\n",
       "<table border=\"1\" class=\"dataframe\">\n",
       "  <thead>\n",
       "    <tr style=\"text-align: right;\">\n",
       "      <th></th>\n",
       "      <th>Id</th>\n",
       "      <th>CategoryName</th>\n",
       "      <th>Description</th>\n",
       "    </tr>\n",
       "  </thead>\n",
       "  <tbody>\n",
       "    <tr>\n",
       "      <th>0</th>\n",
       "      <td>1</td>\n",
       "      <td>Beverages</td>\n",
       "      <td>Soft drinks, coffees, teas, beers, and ales</td>\n",
       "    </tr>\n",
       "    <tr>\n",
       "      <th>1</th>\n",
       "      <td>2</td>\n",
       "      <td>Condiments</td>\n",
       "      <td>Sweet and savory sauces, relishes, spreads, an...</td>\n",
       "    </tr>\n",
       "    <tr>\n",
       "      <th>2</th>\n",
       "      <td>3</td>\n",
       "      <td>Confections</td>\n",
       "      <td>Desserts, candies, and sweet breads</td>\n",
       "    </tr>\n",
       "    <tr>\n",
       "      <th>3</th>\n",
       "      <td>4</td>\n",
       "      <td>Dairy Products</td>\n",
       "      <td>Cheeses</td>\n",
       "    </tr>\n",
       "    <tr>\n",
       "      <th>4</th>\n",
       "      <td>5</td>\n",
       "      <td>Grains/Cereals</td>\n",
       "      <td>Breads, crackers, pasta, and cereal</td>\n",
       "    </tr>\n",
       "  </tbody>\n",
       "</table>\n",
       "</div>"
      ],
      "text/plain": [
       "   Id    CategoryName                                        Description\n",
       "0   1       Beverages        Soft drinks, coffees, teas, beers, and ales\n",
       "1   2      Condiments  Sweet and savory sauces, relishes, spreads, an...\n",
       "2   3     Confections                Desserts, candies, and sweet breads\n",
       "3   4  Dairy Products                                            Cheeses\n",
       "4   5  Grains/Cereals                Breads, crackers, pasta, and cereal"
      ]
     },
     "execution_count": 51,
     "metadata": {},
     "output_type": "execute_result"
    }
   ],
   "source": [
    "c.execute('''SELECT * FROM ''')\n",
    "cat = pd.DataFrame(c.fetchall())\n",
    "cat.columns = [column[0] for column in c.description]\n",
    "cat.head()"
   ]
  },
  {
   "cell_type": "code",
   "execution_count": null,
   "metadata": {},
   "outputs": [],
   "source": [
    "#Visualizing the distribution\n",
    "sns.set_style('whitegrid')\n",
    "fig, ax = plt.subplots(figsize=(12, 5))\n",
    "ax = sns.boxenplot(data = category_spend, x = category_spend.CategoryName, y = category_spend.Quantity, palette = 'Set2')\n",
    "ax = sns.swarmplot(data = category_spend, x = category_spend.CategoryName, y = category_spend.Quantity, \n",
    "                    hue = category_spend.Discount, palette = 'Set2')\n",
    "ax.set_title('Discount vs. Order Quantity', fontweight = 'bold', fontsize = 13)\n",
    "ax.set_ylabel('Order Quantity')\n",
    "ax.set_xlabel('')\n",
    "ax.set_ylim(0)\n",
    "plt.xticks(rotation = 45, ha = 'right')\n",
    "plt.show()"
   ]
  },
  {
   "cell_type": "markdown",
   "metadata": {},
   "source": [
    "## Question 4"
   ]
  },
  {
   "cell_type": "markdown",
   "metadata": {},
   "source": [
    "## Does the demand for produce change throughout the year?"
   ]
  },
  {
   "cell_type": "markdown",
   "metadata": {},
   "source": [
    "- $H_0$: There is no statistical difference in the demand of produce each month <br>\n",
    "- $H_a$: There is a statistical difference in the demand of produce each month <br>\n",
    "- $alpha$ = 0.05 <br>"
   ]
  },
  {
   "cell_type": "code",
   "execution_count": 4,
   "metadata": {},
   "outputs": [
    {
     "data": {
      "text/html": [
       "<div>\n",
       "<style scoped>\n",
       "    .dataframe tbody tr th:only-of-type {\n",
       "        vertical-align: middle;\n",
       "    }\n",
       "\n",
       "    .dataframe tbody tr th {\n",
       "        vertical-align: top;\n",
       "    }\n",
       "\n",
       "    .dataframe thead th {\n",
       "        text-align: right;\n",
       "    }\n",
       "</style>\n",
       "<table border=\"1\" class=\"dataframe\">\n",
       "  <thead>\n",
       "    <tr style=\"text-align: right;\">\n",
       "      <th></th>\n",
       "      <th>OrderDate</th>\n",
       "      <th>Quantity</th>\n",
       "      <th>Discount</th>\n",
       "      <th>CategoryId</th>\n",
       "    </tr>\n",
       "  </thead>\n",
       "  <tbody>\n",
       "    <tr>\n",
       "      <th>0</th>\n",
       "      <td>2012-07-05</td>\n",
       "      <td>9</td>\n",
       "      <td>0.00</td>\n",
       "      <td>7</td>\n",
       "    </tr>\n",
       "    <tr>\n",
       "      <th>1</th>\n",
       "      <td>2012-07-05</td>\n",
       "      <td>40</td>\n",
       "      <td>0.00</td>\n",
       "      <td>7</td>\n",
       "    </tr>\n",
       "    <tr>\n",
       "      <th>2</th>\n",
       "      <td>2012-07-08</td>\n",
       "      <td>35</td>\n",
       "      <td>0.15</td>\n",
       "      <td>7</td>\n",
       "    </tr>\n",
       "    <tr>\n",
       "      <th>3</th>\n",
       "      <td>2012-07-11</td>\n",
       "      <td>21</td>\n",
       "      <td>0.00</td>\n",
       "      <td>7</td>\n",
       "    </tr>\n",
       "    <tr>\n",
       "      <th>4</th>\n",
       "      <td>2012-07-22</td>\n",
       "      <td>15</td>\n",
       "      <td>0.00</td>\n",
       "      <td>7</td>\n",
       "    </tr>\n",
       "  </tbody>\n",
       "</table>\n",
       "</div>"
      ],
      "text/plain": [
       "    OrderDate  Quantity  Discount  CategoryId\n",
       "0  2012-07-05         9      0.00           7\n",
       "1  2012-07-05        40      0.00           7\n",
       "2  2012-07-08        35      0.15           7\n",
       "3  2012-07-11        21      0.00           7\n",
       "4  2012-07-22        15      0.00           7"
      ]
     },
     "execution_count": 4,
     "metadata": {},
     "output_type": "execute_result"
    }
   ],
   "source": [
    "c.execute('''SELECT o.OrderDate, od.Quantity, od.Discount, CategoryId FROM [Order] as o\n",
    "            JOIN OrderDetail as od on o.Id = od.OrderId\n",
    "            JOIN Product as p on p.Id = od.ProductId\n",
    "            WHERE P.CategoryId = 7''')\n",
    "produce_demand = pd.DataFrame(c.fetchall())\n",
    "produce_demand.columns = [column[0] for column in c.description]\n",
    "produce_demand.head()"
   ]
  },
  {
   "cell_type": "code",
   "execution_count": 5,
   "metadata": {},
   "outputs": [
    {
     "name": "stdout",
     "output_type": "stream",
     "text": [
      "<class 'pandas.core.frame.DataFrame'>\n",
      "RangeIndex: 136 entries, 0 to 135\n",
      "Data columns (total 4 columns):\n",
      "OrderDate     136 non-null object\n",
      "Quantity      136 non-null int64\n",
      "Discount      136 non-null float64\n",
      "CategoryId    136 non-null int64\n",
      "dtypes: float64(1), int64(2), object(1)\n",
      "memory usage: 4.3+ KB\n"
     ]
    }
   ],
   "source": [
    "produce_demand.info()"
   ]
  },
  {
   "cell_type": "code",
   "execution_count": 6,
   "metadata": {},
   "outputs": [],
   "source": [
    "#Group by Month:\n",
    "produce_demand.OrderDate = pd.to_datetime(produce_demand.OrderDate)\n",
    "produce_demand['Month'] = produce_demand.OrderDate.dt.month"
   ]
  },
  {
   "cell_type": "code",
   "execution_count": 7,
   "metadata": {},
   "outputs": [
    {
     "data": {
      "text/html": [
       "<div>\n",
       "<style scoped>\n",
       "    .dataframe tbody tr th:only-of-type {\n",
       "        vertical-align: middle;\n",
       "    }\n",
       "\n",
       "    .dataframe tbody tr th {\n",
       "        vertical-align: top;\n",
       "    }\n",
       "\n",
       "    .dataframe thead th {\n",
       "        text-align: right;\n",
       "    }\n",
       "</style>\n",
       "<table border=\"1\" class=\"dataframe\">\n",
       "  <thead>\n",
       "    <tr style=\"text-align: right;\">\n",
       "      <th></th>\n",
       "      <th>Quantity</th>\n",
       "      <th>Discount</th>\n",
       "      <th>CategoryId</th>\n",
       "    </tr>\n",
       "    <tr>\n",
       "      <th>Month</th>\n",
       "      <th></th>\n",
       "      <th></th>\n",
       "      <th></th>\n",
       "    </tr>\n",
       "  </thead>\n",
       "  <tbody>\n",
       "    <tr>\n",
       "      <th>1</th>\n",
       "      <td>16.545455</td>\n",
       "      <td>0.050000</td>\n",
       "      <td>7.0</td>\n",
       "    </tr>\n",
       "    <tr>\n",
       "      <th>2</th>\n",
       "      <td>15.555556</td>\n",
       "      <td>0.011111</td>\n",
       "      <td>7.0</td>\n",
       "    </tr>\n",
       "    <tr>\n",
       "      <th>3</th>\n",
       "      <td>21.500000</td>\n",
       "      <td>0.004545</td>\n",
       "      <td>7.0</td>\n",
       "    </tr>\n",
       "    <tr>\n",
       "      <th>4</th>\n",
       "      <td>29.105263</td>\n",
       "      <td>0.028947</td>\n",
       "      <td>7.0</td>\n",
       "    </tr>\n",
       "    <tr>\n",
       "      <th>5</th>\n",
       "      <td>12.888889</td>\n",
       "      <td>0.075556</td>\n",
       "      <td>7.0</td>\n",
       "    </tr>\n",
       "    <tr>\n",
       "      <th>6</th>\n",
       "      <td>21.285714</td>\n",
       "      <td>0.085714</td>\n",
       "      <td>7.0</td>\n",
       "    </tr>\n",
       "    <tr>\n",
       "      <th>7</th>\n",
       "      <td>26.375000</td>\n",
       "      <td>0.050000</td>\n",
       "      <td>7.0</td>\n",
       "    </tr>\n",
       "    <tr>\n",
       "      <th>8</th>\n",
       "      <td>15.666667</td>\n",
       "      <td>0.038889</td>\n",
       "      <td>7.0</td>\n",
       "    </tr>\n",
       "    <tr>\n",
       "      <th>9</th>\n",
       "      <td>17.500000</td>\n",
       "      <td>0.025000</td>\n",
       "      <td>7.0</td>\n",
       "    </tr>\n",
       "    <tr>\n",
       "      <th>10</th>\n",
       "      <td>33.250000</td>\n",
       "      <td>0.037500</td>\n",
       "      <td>7.0</td>\n",
       "    </tr>\n",
       "    <tr>\n",
       "      <th>11</th>\n",
       "      <td>16.000000</td>\n",
       "      <td>0.055556</td>\n",
       "      <td>7.0</td>\n",
       "    </tr>\n",
       "    <tr>\n",
       "      <th>12</th>\n",
       "      <td>26.842105</td>\n",
       "      <td>0.100000</td>\n",
       "      <td>7.0</td>\n",
       "    </tr>\n",
       "  </tbody>\n",
       "</table>\n",
       "</div>"
      ],
      "text/plain": [
       "        Quantity  Discount  CategoryId\n",
       "Month                                 \n",
       "1      16.545455  0.050000         7.0\n",
       "2      15.555556  0.011111         7.0\n",
       "3      21.500000  0.004545         7.0\n",
       "4      29.105263  0.028947         7.0\n",
       "5      12.888889  0.075556         7.0\n",
       "6      21.285714  0.085714         7.0\n",
       "7      26.375000  0.050000         7.0\n",
       "8      15.666667  0.038889         7.0\n",
       "9      17.500000  0.025000         7.0\n",
       "10     33.250000  0.037500         7.0\n",
       "11     16.000000  0.055556         7.0\n",
       "12     26.842105  0.100000         7.0"
      ]
     },
     "execution_count": 7,
     "metadata": {},
     "output_type": "execute_result"
    }
   ],
   "source": [
    "produce_demand.groupby('Month').mean()"
   ]
  },
  {
   "cell_type": "code",
   "execution_count": 8,
   "metadata": {},
   "outputs": [
    {
     "data": {
      "image/png": "[encoded data removed]",
      "text/plain": [
       "<Figure size 432x288 with 1 Axes>"
      ]
     },
     "metadata": {
      "needs_background": "light"
     },
     "output_type": "display_data"
    }
   ],
   "source": [
    "sns.set_color_codes = 'Set2'\n",
    "fig,ax = plt.subplots()\n",
    "sns.barplot(x = produce_demand.Month, y = produce_demand.Quantity)\n",
    "ax.set_title('Produce Demand by Month', fontweight = 'bold', fontsize = 13)\n",
    "ax.set_xlabel('')\n",
    "ax.set_ylabel('Order Quantity')\n",
    "plt.xticks(rotation = 45, ha = 'right', fontweight = 'semibold')\n",
    "plt.show()\n",
    "fig.savefig('producedemand.png', bbox_inches = 'tight')"
   ]
  },
  {
   "cell_type": "markdown",
   "metadata": {},
   "source": [
    "The graph above shows that there is a slight difference for the demand for produce every month. For example, there seems to be a huge difference in demand for produce in October compared to other months. We will investigate if this difference is statistically significant."
   ]
  },
  {
   "cell_type": "code",
   "execution_count": null,
   "metadata": {},
   "outputs": [],
   "source": [
    "#ANOVA \n",
    "formula = 'Quantity ~ C(Month)'\n",
    "lm = ols(formula, produce_demand).fit()\n",
    "table = sm.stats.anova_lm(lm, typ = 2)\n",
    "print(table)"
   ]
  },
  {
   "cell_type": "markdown",
   "metadata": {},
   "source": [
    "From the ANOVA test, we can see that our p-value > 0.05, so we fail to reject the null hypothesis and say that the demand for produce is the same throughout the year."
   ]
  },
  {
   "cell_type": "markdown",
   "metadata": {},
   "source": [
    "## Question 5"
   ]
  },
  {
   "cell_type": "markdown",
   "metadata": {},
   "source": [
    "## Is there difference between employee performance in the US and the UK?"
   ]
  },
  {
   "cell_type": "markdown",
   "metadata": {},
   "source": [
    "- $H_0$ : Employees perform at the same level regardless of employment <br>\n",
    "- $H_a$ : There is a  difference between the performance of the performance in the US and the UK employees <br>\n",
    "- $alpha$ = 0.05 <br>"
   ]
  },
  {
   "cell_type": "markdown",
   "metadata": {},
   "source": [
    "There is are several ways to measure employee performance which includes:\n",
    "- customer survey <br>\n",
    "- number of orders processed by each employee <br>\n",
    "- time it took to process each order <br>\n",
    "First, let's explore number of orders"
   ]
  },
  {
   "cell_type": "code",
   "execution_count": 32,
   "metadata": {},
   "outputs": [
    {
     "data": {
      "text/html": [
       "<div>\n",
       "<style scoped>\n",
       "    .dataframe tbody tr th:only-of-type {\n",
       "        vertical-align: middle;\n",
       "    }\n",
       "\n",
       "    .dataframe tbody tr th {\n",
       "        vertical-align: top;\n",
       "    }\n",
       "\n",
       "    .dataframe thead th {\n",
       "        text-align: right;\n",
       "    }\n",
       "</style>\n",
       "<table border=\"1\" class=\"dataframe\">\n",
       "  <thead>\n",
       "    <tr style=\"text-align: right;\">\n",
       "      <th></th>\n",
       "      <th>EmployeeId</th>\n",
       "      <th>Country</th>\n",
       "      <th>Total_Orders</th>\n",
       "    </tr>\n",
       "  </thead>\n",
       "  <tbody>\n",
       "    <tr>\n",
       "      <th>0</th>\n",
       "      <td>1</td>\n",
       "      <td>USA</td>\n",
       "      <td>123</td>\n",
       "    </tr>\n",
       "    <tr>\n",
       "      <th>1</th>\n",
       "      <td>2</td>\n",
       "      <td>USA</td>\n",
       "      <td>96</td>\n",
       "    </tr>\n",
       "    <tr>\n",
       "      <th>2</th>\n",
       "      <td>3</td>\n",
       "      <td>USA</td>\n",
       "      <td>127</td>\n",
       "    </tr>\n",
       "    <tr>\n",
       "      <th>3</th>\n",
       "      <td>4</td>\n",
       "      <td>USA</td>\n",
       "      <td>156</td>\n",
       "    </tr>\n",
       "    <tr>\n",
       "      <th>4</th>\n",
       "      <td>5</td>\n",
       "      <td>UK</td>\n",
       "      <td>42</td>\n",
       "    </tr>\n",
       "  </tbody>\n",
       "</table>\n",
       "</div>"
      ],
      "text/plain": [
       "   EmployeeId Country  Total_Orders\n",
       "0           1     USA           123\n",
       "1           2     USA            96\n",
       "2           3     USA           127\n",
       "3           4     USA           156\n",
       "4           5      UK            42"
      ]
     },
     "execution_count": 32,
     "metadata": {},
     "output_type": "execute_result"
    }
   ],
   "source": [
    "c.execute('''SELECT o.EmployeeId, e.Country, count(o.Id) as Total_Orders FROM [Order] as o \n",
    "        JOIN Employee as e on o.EmployeeId = e.Id\n",
    "        GROUP BY e.Id''')\n",
    "employee_orders = pd.DataFrame(c.fetchall())\n",
    "employee_orders.columns = [column[0] for column in c.description]\n",
    "employee_orders.head()"
   ]
  },
  {
   "cell_type": "code",
   "execution_count": 33,
   "metadata": {},
   "outputs": [
    {
     "name": "stdout",
     "output_type": "stream",
     "text": [
      "<class 'pandas.core.frame.DataFrame'>\n",
      "RangeIndex: 9 entries, 0 to 8\n",
      "Data columns (total 3 columns):\n",
      "EmployeeId      9 non-null int64\n",
      "Country         9 non-null object\n",
      "Total_Orders    9 non-null int64\n",
      "dtypes: int64(2), object(1)\n",
      "memory usage: 296.0+ bytes\n"
     ]
    }
   ],
   "source": [
    "employee_orders.info()"
   ]
  },
  {
   "cell_type": "code",
   "execution_count": 59,
   "metadata": {},
   "outputs": [
    {
     "data": {
      "image/png": "[encoded data removed]",
      "text/plain": [
       "<Figure size 432x288 with 1 Axes>"
      ]
     },
     "metadata": {},
     "output_type": "display_data"
    },
    {
     "data": {
      "text/plain": [
       "<Figure size 432x288 with 0 Axes>"
      ]
     },
     "metadata": {},
     "output_type": "display_data"
    }
   ],
   "source": [
    "sns.set_color_codes = 'Set2'\n",
    "fig,ax = plt.subplots()\n",
    "sns.barplot(x = employee_orders.Country, y = employee_orders.Total_Orders)\n",
    "ax.set_title('Total Orders by Country', fontweight = 'bold', fontsize = 13)\n",
    "ax.set_xlabel('')\n",
    "ax.set_ylabel('Total Orders')\n",
    "plt.xticks(rotation = 45, ha = 'right', fontweight = 'semibold')\n",
    "plt.show()\n",
    "plt.savefig('employee_orders', bbox_inches = 'tight')"
   ]
  },
  {
   "cell_type": "markdown",
   "metadata": {},
   "source": [
    "As we can from above there is a clear difference between the number of orders from the USA compared to the UK. Now we will investigate if this difference is statistically significant."
   ]
  },
  {
   "cell_type": "code",
   "execution_count": null,
   "metadata": {},
   "outputs": [],
   "source": [
    "#ANOVA test\n",
    "formula = 'Total_Orders ~ C(Country)'\n",
    "lm = ols(formula, employee_orders).fit()\n",
    "table = sm.stats.anova_lm(lm, typ = 2)\n",
    "print(table)"
   ]
  },
  {
   "cell_type": "code",
   "execution_count": null,
   "metadata": {},
   "outputs": [],
   "source": [
    "#Cohen's d function\n",
    "usa = employee_orders.Country == 'USA'\n",
    "uk = employee_orders.Country == 'UK'\n",
    "d = cohen_d(usa, uk)\n",
    "print(\"Cohen's d: \", d)"
   ]
  },
  {
   "cell_type": "markdown",
   "metadata": {},
   "source": [
    "From the ANOVA test, the p-value is less than 0.05 and we can reject the null hypothesis. However, looking at the effect size of that difference is only about 0.21, which is a small effect. It is possible that because the United States is the bigger country it's employees are able to cover more ground. Now,  we shall see if there is a difference between the time orders are processed."
   ]
  },
  {
   "cell_type": "markdown",
   "metadata": {},
   "source": [
    "### Time orders are processed between US employees vs UK employees?"
   ]
  },
  {
   "cell_type": "code",
   "execution_count": null,
   "metadata": {},
   "outputs": [],
   "source": [
    "order_time = pd.read_sql_query(\"\"\"SELECT o.Id, o.OrderDate, o.ShippedDate, e.Country FROM [Order] as o\n",
    "                            JOIN [Employee] as e on o.EmployeeId = e.Id\"\"\", engine)"
   ]
  },
  {
   "cell_type": "code",
   "execution_count": 38,
   "metadata": {},
   "outputs": [],
   "source": [
    "c.execute('''SELECT o.Id, o.OrderDate, o.ShippedDate, e.Country FROM [Order] as o\n",
    "            JOIN Employee as e on o.EmployeeId = e.Id''')\n",
    "order_time = pd.DataFrame(c.fetchall())\n",
    "order_time.columns = [column[0] for column in c.description]"
   ]
  },
  {
   "cell_type": "code",
   "execution_count": 39,
   "metadata": {},
   "outputs": [
    {
     "data": {
      "text/html": [
       "<div>\n",
       "<style scoped>\n",
       "    .dataframe tbody tr th:only-of-type {\n",
       "        vertical-align: middle;\n",
       "    }\n",
       "\n",
       "    .dataframe tbody tr th {\n",
       "        vertical-align: top;\n",
       "    }\n",
       "\n",
       "    .dataframe thead th {\n",
       "        text-align: right;\n",
       "    }\n",
       "</style>\n",
       "<table border=\"1\" class=\"dataframe\">\n",
       "  <thead>\n",
       "    <tr style=\"text-align: right;\">\n",
       "      <th></th>\n",
       "      <th>Id</th>\n",
       "      <th>OrderDate</th>\n",
       "      <th>ShippedDate</th>\n",
       "      <th>Country</th>\n",
       "    </tr>\n",
       "  </thead>\n",
       "  <tbody>\n",
       "    <tr>\n",
       "      <th>0</th>\n",
       "      <td>10248</td>\n",
       "      <td>2012-07-04</td>\n",
       "      <td>2012-07-16</td>\n",
       "      <td>UK</td>\n",
       "    </tr>\n",
       "    <tr>\n",
       "      <th>1</th>\n",
       "      <td>10249</td>\n",
       "      <td>2012-07-05</td>\n",
       "      <td>2012-07-10</td>\n",
       "      <td>UK</td>\n",
       "    </tr>\n",
       "    <tr>\n",
       "      <th>2</th>\n",
       "      <td>10250</td>\n",
       "      <td>2012-07-08</td>\n",
       "      <td>2012-07-12</td>\n",
       "      <td>USA</td>\n",
       "    </tr>\n",
       "    <tr>\n",
       "      <th>3</th>\n",
       "      <td>10251</td>\n",
       "      <td>2012-07-08</td>\n",
       "      <td>2012-07-15</td>\n",
       "      <td>USA</td>\n",
       "    </tr>\n",
       "    <tr>\n",
       "      <th>4</th>\n",
       "      <td>10252</td>\n",
       "      <td>2012-07-09</td>\n",
       "      <td>2012-07-11</td>\n",
       "      <td>USA</td>\n",
       "    </tr>\n",
       "  </tbody>\n",
       "</table>\n",
       "</div>"
      ],
      "text/plain": [
       "      Id   OrderDate ShippedDate Country\n",
       "0  10248  2012-07-04  2012-07-16      UK\n",
       "1  10249  2012-07-05  2012-07-10      UK\n",
       "2  10250  2012-07-08  2012-07-12     USA\n",
       "3  10251  2012-07-08  2012-07-15     USA\n",
       "4  10252  2012-07-09  2012-07-11     USA"
      ]
     },
     "execution_count": 39,
     "metadata": {},
     "output_type": "execute_result"
    }
   ],
   "source": [
    "order_time.head()"
   ]
  },
  {
   "cell_type": "code",
   "execution_count": 40,
   "metadata": {},
   "outputs": [
    {
     "data": {
      "text/html": [
       "<div>\n",
       "<style scoped>\n",
       "    .dataframe tbody tr th:only-of-type {\n",
       "        vertical-align: middle;\n",
       "    }\n",
       "\n",
       "    .dataframe tbody tr th {\n",
       "        vertical-align: top;\n",
       "    }\n",
       "\n",
       "    .dataframe thead th {\n",
       "        text-align: right;\n",
       "    }\n",
       "</style>\n",
       "<table border=\"1\" class=\"dataframe\">\n",
       "  <thead>\n",
       "    <tr style=\"text-align: right;\">\n",
       "      <th></th>\n",
       "      <th>Id</th>\n",
       "      <th>OrderDate</th>\n",
       "      <th>ShippedDate</th>\n",
       "      <th>Country</th>\n",
       "      <th>ProcessingTime</th>\n",
       "    </tr>\n",
       "  </thead>\n",
       "  <tbody>\n",
       "    <tr>\n",
       "      <th>0</th>\n",
       "      <td>10248</td>\n",
       "      <td>2012-07-04</td>\n",
       "      <td>2012-07-16</td>\n",
       "      <td>UK</td>\n",
       "      <td>12.0</td>\n",
       "    </tr>\n",
       "    <tr>\n",
       "      <th>1</th>\n",
       "      <td>10249</td>\n",
       "      <td>2012-07-05</td>\n",
       "      <td>2012-07-10</td>\n",
       "      <td>UK</td>\n",
       "      <td>5.0</td>\n",
       "    </tr>\n",
       "    <tr>\n",
       "      <th>2</th>\n",
       "      <td>10250</td>\n",
       "      <td>2012-07-08</td>\n",
       "      <td>2012-07-12</td>\n",
       "      <td>USA</td>\n",
       "      <td>4.0</td>\n",
       "    </tr>\n",
       "    <tr>\n",
       "      <th>3</th>\n",
       "      <td>10251</td>\n",
       "      <td>2012-07-08</td>\n",
       "      <td>2012-07-15</td>\n",
       "      <td>USA</td>\n",
       "      <td>7.0</td>\n",
       "    </tr>\n",
       "    <tr>\n",
       "      <th>4</th>\n",
       "      <td>10252</td>\n",
       "      <td>2012-07-09</td>\n",
       "      <td>2012-07-11</td>\n",
       "      <td>USA</td>\n",
       "      <td>2.0</td>\n",
       "    </tr>\n",
       "  </tbody>\n",
       "</table>\n",
       "</div>"
      ],
      "text/plain": [
       "      Id  OrderDate ShippedDate Country  ProcessingTime\n",
       "0  10248 2012-07-04  2012-07-16      UK            12.0\n",
       "1  10249 2012-07-05  2012-07-10      UK             5.0\n",
       "2  10250 2012-07-08  2012-07-12     USA             4.0\n",
       "3  10251 2012-07-08  2012-07-15     USA             7.0\n",
       "4  10252 2012-07-09  2012-07-11     USA             2.0"
      ]
     },
     "execution_count": 40,
     "metadata": {},
     "output_type": "execute_result"
    }
   ],
   "source": [
    "order_time.OrderDate = pd.to_datetime(order_time.OrderDate)\n",
    "order_time.ShippedDate = pd.to_datetime(order_time.ShippedDate)\n",
    "order_time['ProcessingTime'] = (order_time.ShippedDate - order_time.OrderDate).dt.days\n",
    "#print(order_time.dt.days)\n",
    "order_time.head()"
   ]
  },
  {
   "cell_type": "code",
   "execution_count": 41,
   "metadata": {},
   "outputs": [
    {
     "name": "stdout",
     "output_type": "stream",
     "text": [
      "<class 'pandas.core.frame.DataFrame'>\n",
      "RangeIndex: 830 entries, 0 to 829\n",
      "Data columns (total 5 columns):\n",
      "Id                830 non-null int64\n",
      "OrderDate         830 non-null datetime64[ns]\n",
      "ShippedDate       809 non-null datetime64[ns]\n",
      "Country           830 non-null object\n",
      "ProcessingTime    809 non-null float64\n",
      "dtypes: datetime64[ns](2), float64(1), int64(1), object(1)\n",
      "memory usage: 32.5+ KB\n"
     ]
    }
   ],
   "source": [
    "order_time.info()"
   ]
  },
  {
   "cell_type": "code",
   "execution_count": 42,
   "metadata": {},
   "outputs": [
    {
     "name": "stdout",
     "output_type": "stream",
     "text": [
      "<class 'pandas.core.frame.DataFrame'>\n",
      "Int64Index: 809 entries, 0 to 821\n",
      "Data columns (total 5 columns):\n",
      "Id                809 non-null int64\n",
      "OrderDate         809 non-null datetime64[ns]\n",
      "ShippedDate       809 non-null datetime64[ns]\n",
      "Country           809 non-null object\n",
      "ProcessingTime    809 non-null float64\n",
      "dtypes: datetime64[ns](2), float64(1), int64(1), object(1)\n",
      "memory usage: 37.9+ KB\n"
     ]
    }
   ],
   "source": [
    "order_time.dropna(inplace = True)\n",
    "order_time.info()"
   ]
  },
  {
   "cell_type": "code",
   "execution_count": 43,
   "metadata": {},
   "outputs": [
    {
     "name": "stdout",
     "output_type": "stream",
     "text": [
      "8.375634517766498 8.807339449541285\n",
      "Ttest_indResult(statistic=-0.7964601243449388, pvalue=0.42599888071882475)\n"
     ]
    }
   ],
   "source": [
    "usa = order_time[order_time.Country == 'USA']['ProcessingTime']\n",
    "uk = order_time[order_time.Country == 'UK']['ProcessingTime']\n",
    "print(usa.mean(), uk.mean())\n",
    "print(stats.ttest_ind(usa, uk)) # two tailed Welch's t-test"
   ]
  },
  {
   "cell_type": "markdown",
   "metadata": {},
   "source": [
    "Because the p-value is greater than 0.05, we fail to reject the null hypothesis and can say that there is no difference between the time orders are processed between US and UK employees. In order to investigate if the amount revenue each employee brings in, we would need more metrics than are avaiable to us like employee salary to make revenue analysis meaningful."
   ]
  },
  {
   "cell_type": "markdown",
   "metadata": {},
   "source": [
    "### Question 6"
   ]
  },
  {
   "cell_type": "markdown",
   "metadata": {},
   "source": [
    "### Relationship between freight costs and the different shipping companies?"
   ]
  },
  {
   "cell_type": "markdown",
   "metadata": {},
   "source": [
    "- $H_0$: The average freight cost is the same among all the shippers\n",
    "- $H_a$: The average freight cost is different among the different shippers\n",
    "- $alpha$ = 0.05"
   ]
  },
  {
   "cell_type": "code",
   "execution_count": 17,
   "metadata": {},
   "outputs": [
    {
     "data": {
      "text/html": [
       "<div>\n",
       "<style scoped>\n",
       "    .dataframe tbody tr th:only-of-type {\n",
       "        vertical-align: middle;\n",
       "    }\n",
       "\n",
       "    .dataframe tbody tr th {\n",
       "        vertical-align: top;\n",
       "    }\n",
       "\n",
       "    .dataframe thead th {\n",
       "        text-align: right;\n",
       "    }\n",
       "</style>\n",
       "<table border=\"1\" class=\"dataframe\">\n",
       "  <thead>\n",
       "    <tr style=\"text-align: right;\">\n",
       "      <th></th>\n",
       "      <th>Id</th>\n",
       "      <th>ShipVia</th>\n",
       "      <th>Freight</th>\n",
       "      <th>ShipRegion</th>\n",
       "      <th>RequiredDate</th>\n",
       "      <th>ShippedDate</th>\n",
       "      <th>OrderDate</th>\n",
       "    </tr>\n",
       "  </thead>\n",
       "  <tbody>\n",
       "    <tr>\n",
       "      <th>0</th>\n",
       "      <td>10248</td>\n",
       "      <td>3</td>\n",
       "      <td>32.38</td>\n",
       "      <td>Western Europe</td>\n",
       "      <td>2012-08-01</td>\n",
       "      <td>2012-07-16</td>\n",
       "      <td>2012-07-04</td>\n",
       "    </tr>\n",
       "    <tr>\n",
       "      <th>1</th>\n",
       "      <td>10249</td>\n",
       "      <td>1</td>\n",
       "      <td>11.61</td>\n",
       "      <td>Western Europe</td>\n",
       "      <td>2012-08-16</td>\n",
       "      <td>2012-07-10</td>\n",
       "      <td>2012-07-05</td>\n",
       "    </tr>\n",
       "    <tr>\n",
       "      <th>2</th>\n",
       "      <td>10250</td>\n",
       "      <td>2</td>\n",
       "      <td>65.83</td>\n",
       "      <td>South America</td>\n",
       "      <td>2012-08-05</td>\n",
       "      <td>2012-07-12</td>\n",
       "      <td>2012-07-08</td>\n",
       "    </tr>\n",
       "    <tr>\n",
       "      <th>3</th>\n",
       "      <td>10251</td>\n",
       "      <td>1</td>\n",
       "      <td>41.34</td>\n",
       "      <td>Western Europe</td>\n",
       "      <td>2012-08-05</td>\n",
       "      <td>2012-07-15</td>\n",
       "      <td>2012-07-08</td>\n",
       "    </tr>\n",
       "    <tr>\n",
       "      <th>4</th>\n",
       "      <td>10252</td>\n",
       "      <td>2</td>\n",
       "      <td>51.30</td>\n",
       "      <td>Western Europe</td>\n",
       "      <td>2012-08-06</td>\n",
       "      <td>2012-07-11</td>\n",
       "      <td>2012-07-09</td>\n",
       "    </tr>\n",
       "  </tbody>\n",
       "</table>\n",
       "</div>"
      ],
      "text/plain": [
       "      Id  ShipVia  Freight      ShipRegion RequiredDate ShippedDate  \\\n",
       "0  10248        3    32.38  Western Europe   2012-08-01  2012-07-16   \n",
       "1  10249        1    11.61  Western Europe   2012-08-16  2012-07-10   \n",
       "2  10250        2    65.83   South America   2012-08-05  2012-07-12   \n",
       "3  10251        1    41.34  Western Europe   2012-08-05  2012-07-15   \n",
       "4  10252        2    51.30  Western Europe   2012-08-06  2012-07-11   \n",
       "\n",
       "    OrderDate  \n",
       "0  2012-07-04  \n",
       "1  2012-07-05  \n",
       "2  2012-07-08  \n",
       "3  2012-07-08  \n",
       "4  2012-07-09  "
      ]
     },
     "execution_count": 17,
     "metadata": {},
     "output_type": "execute_result"
    }
   ],
   "source": [
    "c.execute('''SELECT Id , ShipVia, Freight, ShipRegion, RequiredDate, ShippedDate, OrderDate  FROM [Order];''')\n",
    "df_freight = pd.DataFrame(c.fetchall())\n",
    "df_freight.columns = [column[0] for column in c.description]\n",
    "df_freight.head()"
   ]
  },
  {
   "cell_type": "code",
   "execution_count": 18,
   "metadata": {},
   "outputs": [
    {
     "data": {
      "text/html": [
       "<div>\n",
       "<style scoped>\n",
       "    .dataframe tbody tr th:only-of-type {\n",
       "        vertical-align: middle;\n",
       "    }\n",
       "\n",
       "    .dataframe tbody tr th {\n",
       "        vertical-align: top;\n",
       "    }\n",
       "\n",
       "    .dataframe thead th {\n",
       "        text-align: right;\n",
       "    }\n",
       "</style>\n",
       "<table border=\"1\" class=\"dataframe\">\n",
       "  <thead>\n",
       "    <tr style=\"text-align: right;\">\n",
       "      <th></th>\n",
       "      <th>Id</th>\n",
       "      <th>CompanyName</th>\n",
       "      <th>Phone</th>\n",
       "    </tr>\n",
       "  </thead>\n",
       "  <tbody>\n",
       "    <tr>\n",
       "      <th>0</th>\n",
       "      <td>1</td>\n",
       "      <td>Speedy Express</td>\n",
       "      <td>(503) 555-9831</td>\n",
       "    </tr>\n",
       "    <tr>\n",
       "      <th>1</th>\n",
       "      <td>2</td>\n",
       "      <td>United Package</td>\n",
       "      <td>(503) 555-3199</td>\n",
       "    </tr>\n",
       "    <tr>\n",
       "      <th>2</th>\n",
       "      <td>3</td>\n",
       "      <td>Federal Shipping</td>\n",
       "      <td>(503) 555-9931</td>\n",
       "    </tr>\n",
       "  </tbody>\n",
       "</table>\n",
       "</div>"
      ],
      "text/plain": [
       "   Id       CompanyName           Phone\n",
       "0   1    Speedy Express  (503) 555-9831\n",
       "1   2    United Package  (503) 555-3199\n",
       "2   3  Federal Shipping  (503) 555-9931"
      ]
     },
     "execution_count": 18,
     "metadata": {},
     "output_type": "execute_result"
    }
   ],
   "source": [
    "c.execute(\"\"\"SELECT * FROM Shipper\"\"\")\n",
    "shipper_df = pd.DataFrame(c.fetchall())\n",
    "shipper_df.columns = [column[0] for column in c.description]\n",
    "shipper_df"
   ]
  },
  {
   "cell_type": "code",
   "execution_count": 19,
   "metadata": {},
   "outputs": [
    {
     "name": "stdout",
     "output_type": "stream",
     "text": [
      "<class 'pandas.core.frame.DataFrame'>\n",
      "RangeIndex: 830 entries, 0 to 829\n",
      "Data columns (total 7 columns):\n",
      "Id              830 non-null int64\n",
      "ShipVia         830 non-null int64\n",
      "Freight         830 non-null float64\n",
      "ShipRegion      830 non-null object\n",
      "RequiredDate    830 non-null object\n",
      "ShippedDate     809 non-null object\n",
      "OrderDate       830 non-null object\n",
      "dtypes: float64(1), int64(2), object(4)\n",
      "memory usage: 45.5+ KB\n"
     ]
    }
   ],
   "source": [
    "df_freight.info()"
   ]
  },
  {
   "cell_type": "code",
   "execution_count": 20,
   "metadata": {},
   "outputs": [
    {
     "data": {
      "text/plain": [
       "2    326\n",
       "3    255\n",
       "1    249\n",
       "Name: ShipVia, dtype: int64"
      ]
     },
     "execution_count": 20,
     "metadata": {},
     "output_type": "execute_result"
    }
   ],
   "source": [
    "df_freight.ShipVia.value_counts()"
   ]
  },
  {
   "cell_type": "code",
   "execution_count": 21,
   "metadata": {},
   "outputs": [
    {
     "data": {
      "image/png": "[encoded data removed]",
      "text/plain": [
       "<Figure size 720x576 with 1 Axes>"
      ]
     },
     "metadata": {
      "needs_background": "light"
     },
     "output_type": "display_data"
    }
   ],
   "source": [
    "shippers = pd.DataFrame([])\n",
    "plt.figure(figsize=(10, 8))\n",
    "df_freight.Freight.plot.kde(label = 'All', linewidth = 4)\n",
    "for i in [1,2,3]:\n",
    "    x = df_freight[df_freight['ShipVia'] == i]\n",
    "    y = df_freight[df_freight['ShipVia'] != i]\n",
    "    x.Freight.plot.kde(label = shipper_df.CompanyName[i-1], alpha = .4)\n",
    "    results = stats.ttest_ind(x.Freight, y.Freight, equal_var = False)\n",
    "    shippers = shippers.append(pd.DataFrame({'Shipper': shipper_df.CompanyName[i-1], 'Coeffiecient': round(results[0], 3),\n",
    "                                            'P-value': round(results[1], 3)}, index = [0]), ignore_index = True)\n",
    "plt.title('KDE for Freight Cost', fontweight = 'bold')\n",
    "plt.xlabel('Average Cost per Order')\n",
    "plt.legend()\n",
    "plt.xlim(-150, 600)\n",
    "plt.show()"
   ]
  },
  {
   "cell_type": "code",
   "execution_count": 22,
   "metadata": {},
   "outputs": [
    {
     "data": {
      "text/html": [
       "<div>\n",
       "<style scoped>\n",
       "    .dataframe tbody tr th:only-of-type {\n",
       "        vertical-align: middle;\n",
       "    }\n",
       "\n",
       "    .dataframe tbody tr th {\n",
       "        vertical-align: top;\n",
       "    }\n",
       "\n",
       "    .dataframe thead th {\n",
       "        text-align: right;\n",
       "    }\n",
       "</style>\n",
       "<table border=\"1\" class=\"dataframe\">\n",
       "  <thead>\n",
       "    <tr style=\"text-align: right;\">\n",
       "      <th></th>\n",
       "      <th>Shipper</th>\n",
       "      <th>Coeffiecient</th>\n",
       "      <th>P-value</th>\n",
       "    </tr>\n",
       "  </thead>\n",
       "  <tbody>\n",
       "    <tr>\n",
       "      <th>0</th>\n",
       "      <td>Speedy Express</td>\n",
       "      <td>-2.623</td>\n",
       "      <td>0.009</td>\n",
       "    </tr>\n",
       "    <tr>\n",
       "      <th>1</th>\n",
       "      <td>United Package</td>\n",
       "      <td>1.560</td>\n",
       "      <td>0.119</td>\n",
       "    </tr>\n",
       "    <tr>\n",
       "      <th>2</th>\n",
       "      <td>Federal Shipping</td>\n",
       "      <td>0.356</td>\n",
       "      <td>0.722</td>\n",
       "    </tr>\n",
       "  </tbody>\n",
       "</table>\n",
       "</div>"
      ],
      "text/plain": [
       "            Shipper  Coeffiecient  P-value\n",
       "0    Speedy Express        -2.623    0.009\n",
       "1    United Package         1.560    0.119\n",
       "2  Federal Shipping         0.356    0.722"
      ]
     },
     "execution_count": 22,
     "metadata": {},
     "output_type": "execute_result"
    }
   ],
   "source": [
    "shippers"
   ]
  },
  {
   "cell_type": "markdown",
   "metadata": {},
   "source": [
    "Based on the above, Shipper Express has a p-value < 0.05 and thus the results are statitstically significance. However this is misleading because there are several variables that are unknown to us. Lets explore the same analysis for each region that products are shipped to."
   ]
  },
  {
   "cell_type": "code",
   "execution_count": 23,
   "metadata": {},
   "outputs": [
    {
     "name": "stdout",
     "output_type": "stream",
     "text": [
      "Western Europe\n",
      "            Shipper  Coefficient  P-value\n",
      "0    Speedy Express       -0.566    0.572\n",
      "1    United Package       -0.862    0.390\n",
      "2  Federal Shipping        1.352    0.179\n",
      "\n",
      "North America\n",
      "            Shipper  Coefficient  P-value\n",
      "0    Speedy Express       -2.100    0.038\n",
      "1    United Package        0.443    0.659\n",
      "2  Federal Shipping        0.735    0.464\n",
      "\n",
      "Southern Europe\n",
      "            Shipper  Coefficient  P-value\n",
      "0    Speedy Express       -1.380    0.173\n",
      "1    United Package        1.574    0.127\n",
      "2  Federal Shipping       -0.576    0.568\n",
      "\n",
      "British Isles\n",
      "            Shipper  Coefficient  P-value\n",
      "0    Speedy Express       -0.557    0.580\n",
      "1    United Package        1.327    0.192\n",
      "2  Federal Shipping       -1.365    0.176\n",
      "\n",
      "Scandinavia\n",
      "            Shipper  Coefficient  P-value\n",
      "0    Speedy Express       -0.771    0.451\n",
      "1    United Package        1.757    0.109\n",
      "2  Federal Shipping       -1.568    0.130\n",
      "\n",
      "Northern Europe\n",
      "            Shipper  Coefficient  P-value\n",
      "0    Speedy Express       -1.055    0.297\n",
      "1    United Package        2.106    0.043\n",
      "2  Federal Shipping       -1.432    0.161\n",
      "\n",
      "South America\n",
      "            Shipper  Coefficient  P-value\n",
      "0    Speedy Express       -1.187    0.237\n",
      "1    United Package        1.330    0.188\n",
      "2  Federal Shipping       -0.849    0.398\n",
      "\n"
     ]
    }
   ],
   "source": [
    "Regions=['Western Europe','North America','Southern Europe',\n",
    "         'British Isles','Scandinavia','Victoria',\n",
    "         'Northern Europe','Eastern Asia','NSW',\n",
    "         'South-East Asia','South America']\n",
    "for i in Regions:\n",
    "    shipper_region = pd.DataFrame([])\n",
    "    reg = df_freight[df_freight['ShipRegion']==i]\n",
    "    count = 0\n",
    "    for j in [1,2,3]:\n",
    "        x = reg[reg['ShipVia']==j]\n",
    "        y = reg[reg['ShipVia']!= j]\n",
    "        if x.shape[0] > 1 and y.shape[0] > 1:\n",
    "            count+= 1\n",
    "            results = stats.ttest_ind(x.Freight, y.Freight, equal_var = False)\n",
    "            shipper_region = shipper_region.append(pd.DataFrame({'Shipper': shipper_df.CompanyName[j-1],\n",
    "                                                                'Coefficient': round(results[0], 3),\n",
    "                                                                'P-value': round(results[1], 3)},index=[0]), ignore_index = True)\n",
    "        else:\n",
    "            None\n",
    "    if count == 3:\n",
    "        print(i)\n",
    "        print(shipper_region)\n",
    "        print('')"
   ]
  },
  {
   "cell_type": "markdown",
   "metadata": {},
   "source": [
    "We find that it is cheaper for Shipper Express to ship to North America and for United Package to ship to Northern Europe. Now we shall if there is a difference in how days it takes to ship products."
   ]
  },
  {
   "cell_type": "code",
   "execution_count": 24,
   "metadata": {},
   "outputs": [
    {
     "data": {
      "text/html": [
       "<div>\n",
       "<style scoped>\n",
       "    .dataframe tbody tr th:only-of-type {\n",
       "        vertical-align: middle;\n",
       "    }\n",
       "\n",
       "    .dataframe tbody tr th {\n",
       "        vertical-align: top;\n",
       "    }\n",
       "\n",
       "    .dataframe thead th {\n",
       "        text-align: right;\n",
       "    }\n",
       "</style>\n",
       "<table border=\"1\" class=\"dataframe\">\n",
       "  <thead>\n",
       "    <tr style=\"text-align: right;\">\n",
       "      <th></th>\n",
       "      <th>Id</th>\n",
       "      <th>ShipVia</th>\n",
       "      <th>Freight</th>\n",
       "      <th>ShipRegion</th>\n",
       "      <th>RequiredDate</th>\n",
       "      <th>ShippedDate</th>\n",
       "      <th>OrderDate</th>\n",
       "    </tr>\n",
       "  </thead>\n",
       "  <tbody>\n",
       "    <tr>\n",
       "      <th>0</th>\n",
       "      <td>10248</td>\n",
       "      <td>3</td>\n",
       "      <td>32.38</td>\n",
       "      <td>Western Europe</td>\n",
       "      <td>2012-08-01</td>\n",
       "      <td>2012-07-16</td>\n",
       "      <td>2012-07-04</td>\n",
       "    </tr>\n",
       "    <tr>\n",
       "      <th>1</th>\n",
       "      <td>10249</td>\n",
       "      <td>1</td>\n",
       "      <td>11.61</td>\n",
       "      <td>Western Europe</td>\n",
       "      <td>2012-08-16</td>\n",
       "      <td>2012-07-10</td>\n",
       "      <td>2012-07-05</td>\n",
       "    </tr>\n",
       "    <tr>\n",
       "      <th>2</th>\n",
       "      <td>10250</td>\n",
       "      <td>2</td>\n",
       "      <td>65.83</td>\n",
       "      <td>South America</td>\n",
       "      <td>2012-08-05</td>\n",
       "      <td>2012-07-12</td>\n",
       "      <td>2012-07-08</td>\n",
       "    </tr>\n",
       "    <tr>\n",
       "      <th>3</th>\n",
       "      <td>10251</td>\n",
       "      <td>1</td>\n",
       "      <td>41.34</td>\n",
       "      <td>Western Europe</td>\n",
       "      <td>2012-08-05</td>\n",
       "      <td>2012-07-15</td>\n",
       "      <td>2012-07-08</td>\n",
       "    </tr>\n",
       "    <tr>\n",
       "      <th>4</th>\n",
       "      <td>10252</td>\n",
       "      <td>2</td>\n",
       "      <td>51.30</td>\n",
       "      <td>Western Europe</td>\n",
       "      <td>2012-08-06</td>\n",
       "      <td>2012-07-11</td>\n",
       "      <td>2012-07-09</td>\n",
       "    </tr>\n",
       "  </tbody>\n",
       "</table>\n",
       "</div>"
      ],
      "text/plain": [
       "      Id  ShipVia  Freight      ShipRegion RequiredDate ShippedDate  \\\n",
       "0  10248        3    32.38  Western Europe   2012-08-01  2012-07-16   \n",
       "1  10249        1    11.61  Western Europe   2012-08-16  2012-07-10   \n",
       "2  10250        2    65.83   South America   2012-08-05  2012-07-12   \n",
       "3  10251        1    41.34  Western Europe   2012-08-05  2012-07-15   \n",
       "4  10252        2    51.30  Western Europe   2012-08-06  2012-07-11   \n",
       "\n",
       "    OrderDate  \n",
       "0  2012-07-04  \n",
       "1  2012-07-05  \n",
       "2  2012-07-08  \n",
       "3  2012-07-08  \n",
       "4  2012-07-09  "
      ]
     },
     "execution_count": 24,
     "metadata": {},
     "output_type": "execute_result"
    }
   ],
   "source": [
    "df_freight.head()"
   ]
  },
  {
   "cell_type": "code",
   "execution_count": 25,
   "metadata": {},
   "outputs": [],
   "source": [
    "#convert datetimes:\n",
    "df_freight['RequiredDate'] = pd.to_datetime(df_freight['RequiredDate'])\n",
    "df_freight['ShippedDate'] = pd.to_datetime(df_freight['ShippedDate'])\n",
    "df_freight['OrderDate'] = pd.to_datetime(df_freight['OrderDate'])"
   ]
  },
  {
   "cell_type": "code",
   "execution_count": 26,
   "metadata": {},
   "outputs": [],
   "source": [
    "#making new columns\n",
    "df_freight['DaystoShip'] = df_freight['ShippedDate'] - df_freight['OrderDate']\n",
    "df_freight['DaysLate'] = df_freight['ShippedDate'] - df_freight['RequiredDate']"
   ]
  },
  {
   "cell_type": "code",
   "execution_count": 27,
   "metadata": {},
   "outputs": [
    {
     "data": {
      "text/plain": [
       "Timedelta('8 days 11:48:25.809641')"
      ]
     },
     "execution_count": 27,
     "metadata": {},
     "output_type": "execute_result"
    }
   ],
   "source": [
    "df_freight.DaystoShip.mean()"
   ]
  },
  {
   "cell_type": "code",
   "execution_count": 28,
   "metadata": {},
   "outputs": [],
   "source": [
    "shipvia1 = df_freight[df_freight['ShipVia'] == 1]['Freight']\n",
    "shipvia2 = df_freight[df_freight['ShipVia'] == 2]['Freight']\n",
    "shipvia3 = df_freight[df_freight['ShipVia'] == 3]['Freight']"
   ]
  },
  {
   "cell_type": "code",
   "execution_count": 29,
   "metadata": {},
   "outputs": [
    {
     "name": "stdout",
     "output_type": "stream",
     "text": [
      "65.00132530120482\n",
      "86.6406441717791\n",
      "80.44121568627443\n"
     ]
    }
   ],
   "source": [
    "#averages of shipvias:\n",
    "print(shipvia1.mean())\n",
    "print(shipvia2.mean())\n",
    "print(shipvia3.mean())"
   ]
  },
  {
   "cell_type": "code",
   "execution_count": 30,
   "metadata": {},
   "outputs": [
    {
     "data": {
      "text/plain": [
       "F_onewayResult(statistic=2.49781040377206, pvalue=0.08288539205995446)"
      ]
     },
     "execution_count": 30,
     "metadata": {},
     "output_type": "execute_result"
    }
   ],
   "source": [
    "#ANOVA test:\n",
    "sp.stats.f_oneway(shipvia1, shipvia2, shipvia3)"
   ]
  },
  {
   "cell_type": "markdown",
   "metadata": {},
   "source": [
    "Because the p-value > 0.05, we fail to reject the null hypothesis. So there isn't a statistical difference effect on ShipVia on the number of days to ship. I would recommend that Northwind keep using the 3 ShipVias because there is no difference between their days to ship."
   ]
  },
  {
   "cell_type": "code",
   "execution_count": null,
   "metadata": {},
   "outputs": [],
   "source": [
    "cohen_d(shipvia1, shipvia2)"
   ]
  },
  {
   "cell_type": "code",
   "execution_count": null,
   "metadata": {},
   "outputs": [],
   "source": [
    "cohen_d(shipvia1, shipvia3)"
   ]
  },
  {
   "cell_type": "code",
   "execution_count": null,
   "metadata": {},
   "outputs": [],
   "source": [
    "cohen_d(shipvia2, shipvia3)"
   ]
  },
  {
   "cell_type": "markdown",
   "metadata": {},
   "source": [
    "Small effect sizes but interesting to know."
   ]
  },
  {
   "cell_type": "markdown",
   "metadata": {},
   "source": [
    "## 5. Conclusions"
   ]
  },
  {
   "cell_type": "markdown",
   "metadata": {},
   "source": [
    "1: Do discounts have a statistically significant difference on the number of products orders? <br>\n",
    "     Discounts will cause an increase in the quantity of products ordered but the level of discount doesn't have an effect. <br>\n",
    "2: Do discounts affect revenues? <br>\n",
    "     Discounts do affect revenues but not at any specfic discount level <br>\n",
    "3: Do discounts affect the order quantities of certain product categories? <br>\n",
    "    The average order quantity increased for produce, dairy products and condiments <br>\n",
    "4: Is there a difference in employee performance between US and UK employees? <br>\n",
    "    US employees have a higher order number than UK employees but both US and UK employees process orders at the same rate <br>\n",
    "5: What is the relationship between freight costs and the different shipping companies <br>\n",
    "    Add in the answer here <br>"
   ]
  },
  {
   "cell_type": "markdown",
   "metadata": {},
   "source": [
    "## 6. Future Works"
   ]
  }
 ],
 "metadata": {
  "kernelspec": {
   "display_name": "Python 3",
   "language": "python",
   "name": "python3"
  },
  "language_info": {
   "codemirror_mode": {
    "name": "ipython",
    "version": 3
   },
   "file_extension": ".py",
   "mimetype": "text/x-python",
   "name": "python",
   "nbconvert_exporter": "python",
   "pygments_lexer": "ipython3",
   "version": "3.7.3"
  }
 },
 "nbformat": 4,
 "nbformat_minor": 2
}
